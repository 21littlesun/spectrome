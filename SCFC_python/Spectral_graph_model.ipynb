{
 "cells": [
  {
   "cell_type": "markdown",
   "metadata": {},
   "source": [
    "## SCFC Spectral Graph Model Code in Python"
   ]
  },
  {
   "cell_type": "code",
   "execution_count": 1,
   "metadata": {},
   "outputs": [],
   "source": [
    "import os, matplotlib.pyplot as mpl\n",
    "import numpy as np\n",
    "import nitime.algorithms as tsa\n",
    "from scipy.io import loadmat\n",
    "from scipy.signal import lfilter, firls, decimate"
   ]
  },
  {
   "cell_type": "code",
   "execution_count": 2,
   "metadata": {},
   "outputs": [],
   "source": [
    "cwd = os.getcwd()\n",
    "hcp_dir = os.path.join(cwd,'data','HCPconnectomes')\n",
    "\n",
    "def getHCPconn(conmat_in = 'mean80_fibercount.csv', dmat_in = 'mean80_fiberlength.csv'):\n",
    "    cdk_hcp = np.genfromtxt(os.path.join(hcp_dir, conmat_in), delimiter=',', skip_header = 1)\n",
    "    ddk_hcp = np.genfromtxt(os.path.join(hcp_dir, dmat_in), delimiter = ',', skip_header = 0)\n",
    "    permHCP = np.concatenate([np.arange(18,52), np.arange(52,86), np.arange(0,9), np.arange(9,18)])\n",
    "    Cdk_conn = cdk_hcp[permHCP,][:,permHCP]\n",
    "    Ddk_conn = ddk_hcp[permHCP,][:,permHCP]\n",
    "    return Cdk_conn, Ddk_conn, permHCP\n",
    "\n",
    "def Julia_order():\n",
    "    cortJulia_lh = np.array([0, 1, 2, 3, 4,\n",
    "                   6, 7, 8,\n",
    "                   10, 11, 12, 13, 14, 15,\n",
    "                   17, 16,\n",
    "                   18, 19, 20, 21, 22, 23, 24, 25, 26, 27, 28, 29, 30, 31,\n",
    "                   5, 32, 33, 9])\n",
    "    qsubcort_lh = np.array([0, 40, 36, 39, 38, 37, 35, 34, 0])\n",
    "    qsubcort_rh = qsubcort_lh + 34 + 1\n",
    "    cortJulia = np.concatenate([cortJulia_lh, 34 + cortJulia_lh])\n",
    "    cortJulia_rh = cortJulia_lh + 34 + 7\n",
    "    permJulia = np.concatenate([cortJulia_lh, cortJulia_rh, qsubcort_lh, qsubcort_rh])\n",
    "    emptyJulia = np.array([68, 77, 76, 85])\n",
    "    return permJulia, emptyJulia, cortJulia\n",
    "\n",
    "def getMEGdata(sub_name, cortJulia):\n",
    "    S = loadmat(os.path.join(MEGfolder,sub_name,'DK_timecourse_20.mat'))\n",
    "    MEGdata = S['DK_timecourse']\n",
    "    MEGdata = MEGdata[cortJulia,]\n",
    "    C = loadmat(os.path.join(MEGfolder,sub_name,'DK_coords_meg.mat'))\n",
    "    coords = C['DK_coords_meg']\n",
    "    coords = coords[cortJulia,]\n",
    "    del S, C\n",
    "    return MEGdata, coords\n",
    "\n",
    "def mag2db(y):\n",
    "    dby = 20*np.log10(y)\n",
    "    return dby\n",
    "\n",
    "def bi_symmetric_c(Cdk_conn, linds, rinds):\n",
    "    q = np.maximum(Cdk_conn[linds,:][:,linds], Cdk_conn[rinds,:][:,rinds])\n",
    "    q1 = np.maximum(Cdk_conn[linds,:][:,rinds], Cdk_conn[rinds,:][:,linds])\n",
    "    Cdk_conn[np.ix_(linds,linds)] = q\n",
    "    Cdk_conn[np.ix_(rinds,rinds)] = q\n",
    "    Cdk_conn[np.ix_(linds,rinds)] = q1\n",
    "    Cdk_conn[np.ix_(rinds,linds)] = q1\n",
    "    return Cdk_conn\n",
    "\n",
    "def reduce_extreme_dir(Cdk_conn, max_dir = 0.95, f=7):\n",
    "    thr = f*np.mean(Cdk_conn[Cdk_conn > 0])\n",
    "    C = np.minimum(Cdk_conn, thr)\n",
    "    C = max_dir * C + (1-max_dir) * C\n",
    "    return C\n",
    "\n",
    "# def getMEGspectra(use_allJuliaMEG = False):\n",
    "#    if use_allJuliaMEG:\n",
    "#        S = loadmat(os.path.join(MEGfolder,'allFMEGdata.mat'))\n",
    "#        FMEGdata = np.mean(S['allFMEGdata'], axis = 2)\n",
    "#    else:\n",
    "#        # Calculate spectra from source localized MEG\n",
    "#        for row in MEGdata:\n",
    "\n",
    "def NetworkTransferFunction(C, D, w, Pin = 1, tau_e = 0.012, tau_i = 0.003, alpha = 1, tau_syn = 0.002, speed = 5):\n",
    "    zero_thr = 5\n",
    "    use_smalleigs = True #otherwise uses full eig()\n",
    "    numsmalleigs = np.round(2/3*C.shape[0]) #2/3\n",
    "    \n",
    "    a = 0.5 # fraction of signal at a node that is recurrent excitatory\n",
    "    gei = 4 # excitatory-inhibitory synaptic conductance as a ratio of E-E synapse\n",
    "    gii = 1 # inhibitory-inhibitory synaptic conductance as a ratio of E-E synapse\n",
    "    \n",
    "    tauC = 0.5*tau_e\n",
    "            \n",
    "    rowdegree = np.transpose(np.sum(C,axis=1))\n",
    "    coldegree = np.sum(C,axis=0)\n",
    "    \n",
    "    qind = rowdegree + coldegree < 0.2*np.mean(rowdegree + coldegree)\n",
    "    rowdegree[qind] = np.inf\n",
    "    coldegree[qind] = np.inf\n",
    "    \n",
    "    nroi = C.shape[0]\n",
    "    if use_smalleigs is True:\n",
    "        K = numsmalleigs\n",
    "    else:\n",
    "        K = nroi\n",
    "\n",
    "    K = K.astype(int)\n",
    "    Tau = 0.001*D/speed\n",
    "    \n",
    "    Cc = np.real(C*np.exp(-1j*Tau*w)).astype(float)\n",
    "    L1 = 0.8*np.identity(nroi).astype(float)\n",
    "    L2 = np.divide(1,np.sqrt(rowdegree*coldegree)+np.spacing(1)) #diag(1./(sqrt(rowdegree.*coldegree)+eps));\n",
    "    L = L1 - np.matmul(np.diag(L2),Cc)\n",
    "    L = np.array(L,dtype=np.float64)\n",
    "\n",
    "    # try scipy.sparse.linalg.eigs next\n",
    "    if use_smalleigs is True:\n",
    "        d, v = np.linalg.eig(L)\n",
    "        eig_ind = np.argsort(np.real(d))\n",
    "        eig_vec = v[:,eig_ind]\n",
    "        eig_val = d[eig_ind]\n",
    "    else:\n",
    "        d, v = np.linalg.eig(L)\n",
    "        eig_ind = np.argsort(np.abs(d))\n",
    "        eig_vec = v[:,eig_ind]\n",
    "        eig_val = d[eig_ind]\n",
    "        \n",
    "    ev = np.transpose(eig_val[0:K.astype(int)])\n",
    "    Vv = eig_vec[:,0:K.astype(int)] #why is eigv 1 all the same numbers?\n",
    "\n",
    "    # Cortical model\n",
    "    He = np.divide(1/tau_e**2,np.real((1j*w+1/tau_e)**2))\n",
    "    Hi = np.divide(gii*1/tau_i**2,np.real((1j*w+1/tau_i)**2))\n",
    "\n",
    "    Hed = alpha/tau_e/(1j*w + alpha/tau_e*He)\n",
    "    Hid = alpha/tau_i/(1j*w + alpha/tau_i*Hi)\n",
    "\n",
    "    Heid = gei*He*Hi/(1+gei*He*Hi)\n",
    "    Htotal = a*Hed + (1-a)/2*Hid + (1-a)/2*Heid\n",
    "\n",
    "    q1 = 1/alpha*tauC*(1j*w + alpha/tauC*He*ev)\n",
    "    qthr = zero_thr*np.abs(q1[:]).max()\n",
    "    magq1 = np.maximum(np.abs(q1),qthr)\n",
    "    angq1 = np.angle(q1)\n",
    "    q1 = np.multiply(magq1,np.exp(1j*angq1))\n",
    "    freqresp = np.divide(Htotal,q1)\n",
    "\n",
    "    freqresp_out = 0\n",
    "    for k in range(1,K):\n",
    "        freqresp_out += freqresp[k] * Vv[:,k]\n",
    "    \n",
    "    FCmodel = np.matmul(np.matmul(Vv[:,1:K], np.diag(freqresp[1:K]**2)), np.transpose(Vv[:,1:K]))\n",
    "\n",
    "    den = np.sqrt(np.abs(freqresp_out))\n",
    "    FCmodel = np.matmul(np.matmul(np.diag(1/den), FCmodel), np.diag(1/den))\n",
    "    return freqresp, ev, Vv, freqresp_out, FCmodel"
   ]
  },
  {
   "cell_type": "code",
   "execution_count": 3,
   "metadata": {},
   "outputs": [],
   "source": [
    "# Subject name, data folder directories named after each subject\n",
    "# MEG folder directory, and grab Julia's cortical brain region orders\n",
    "sub_name = '8002.101'\n",
    "MEGfolder = '/home/axiezai/lab/spectral/data/'\n",
    "\n",
    "# Get structural connectivity matrix + distance between regions\n",
    "Cdk_conn, Ddk_conn, permHCP = getHCPconn()\n",
    "permJulia, emptyJulia, cortJulia = Julia_order()\n",
    "\n",
    "# Some other ordering that was in the original code:\n",
    "linds = np.concatenate([np.arange(0,34), np.arange(68,77)]) #matlab: [0:34, 68:77]\n",
    "rinds = np.concatenate([np.arange(34,68), np.arange(77,86)]) #matlab: [35:68 78:86]\n",
    "#permHCP in matlab: [19:52, 53:86, 1:9, 10:18]  # permutes 86 x 86 HCP conn matrix so that subcorts are at the end, as in previous work"
   ]
  },
  {
   "cell_type": "code",
   "execution_count": 4,
   "metadata": {},
   "outputs": [],
   "source": [
    "q = np.maximum(Cdk_conn[linds,:][:,linds], Cdk_conn[rinds,:][:,rinds])\n",
    "q1 = np.maximum(Cdk_conn[linds,:][:,rinds], Cdk_conn[rinds,:][:,linds])"
   ]
  },
  {
   "cell_type": "code",
   "execution_count": 5,
   "metadata": {},
   "outputs": [],
   "source": [
    "Cdk_conn = bi_symmetric_c(Cdk_conn, linds, rinds)\n",
    "C = reduce_extreme_dir(Cdk_conn)"
   ]
  },
  {
   "cell_type": "code",
   "execution_count": 6,
   "metadata": {},
   "outputs": [],
   "source": [
    "fs = 600 #sampling frequency\n",
    "fmin = 2 # 2Hz - 45Hz signal range, filter for this with hbp\n",
    "fmax = 45\n",
    "fvec = np.linspace(fmin,fmax,40)\n",
    "hbp = firls(101, np.array([0, 0.2*fmin, 0.9*fmin, fmax-2, fmax+5, 100])*2/fs,\n",
    "           desired = np.array([0, 0, 1, 1, 0, 0])) #for detrending, a bandpass\n",
    "lpf = np.array([1, 2, 5, 2, 1])\n",
    "lpf = lpf/np.sum(lpf)\n",
    "ind_del = hbp.size #number of coefficients in hbp. Delete that number in beginning of signal due to filtering"
   ]
  },
  {
   "cell_type": "code",
   "execution_count": null,
   "metadata": {},
   "outputs": [],
   "source": [
    "#Load MEG data\n",
    "MEGdata, coords = getMEGdata(sub_name,cortJulia)\n",
    "\n",
    "# Get multi-taper spectra\n",
    "FMEGdata = []\n",
    "for row in MEGdata:\n",
    "    q = lfilter(hbp, 1, row)\n",
    "    q = q[ind_del:-1]\n",
    "    ds_q = decimate(q, 2, axis = 0)\n",
    "    f, psd, nu = tsa.multi_taper_psd(ds_q, Fs = fs/2, NW = 3, BW = 3, adaptive = False, jackknife = False)\n",
    "    Fdata = np.convolve(psd, lpf, mode = 'same')\n",
    "    FMEGdata.append(Fdata)\n",
    "    \n",
    "FMEGdata=np.asarray(FMEGdata)\n",
    "assert FMEGdata.shape[0] == 68 #make sure we have 68 regions spectra"
   ]
  },
  {
   "cell_type": "code",
   "execution_count": null,
   "metadata": {},
   "outputs": [],
   "source": [
    "# plot between 2Hz and 45Hz, which was previously defined by fmin/fmax. Used for filtering\n",
    "ind_fmin = np.abs(f-fmin).argmin()\n",
    "ind_fmax = np.abs(f-fmax).argmin()\n",
    "frange = f[ind_fmin:ind_fmax]\n",
    "FMEGrange = FMEGdata[:,ind_fmin:ind_fmax]\n",
    "#fig1, ax1 = mpl.subplots(1, 1)\n",
    "# Plotting source localized MEG data\n",
    "mpl.figure(num=1,figsize=[6.5,3.8],dpi=300)\n",
    "mpl.xlabel('Frequency (Hz)')\n",
    "mpl.ylabel('Magnitude (dB)')\n",
    "for g in range(len(FMEGdata)):\n",
    "    mpl.plot(frange,mag2db(FMEGrange[g,:]))\n",
    "#mpl.show()"
   ]
  },
  {
   "cell_type": "markdown",
   "metadata": {},
   "source": [
    "### We got the source localized spectrums, now we start the section for actual spectral graph model.\n",
    "#### Define the Network Transfer Function and it's inputs"
   ]
  },
  {
   "cell_type": "code",
   "execution_count": null,
   "metadata": {},
   "outputs": [],
   "source": [
    "def NetworkTransferFunction(C, D, w, Pin = 1, tau_e = 0.012, tau_i = 0.003, alpha = 1, tau_syn = 0.002, speed = 5):\n",
    "    zero_thr = 5\n",
    "    use_smalleigs = True #otherwise uses full eig()\n",
    "    numsmalleigs = np.round(2/3*C.shape[0]) #2/3\n",
    "    \n",
    "    a = 0.5 # fraction of signal at a node that is recurrent excitatory\n",
    "    gei = 4 # excitatory-inhibitory synaptic conductance as a ratio of E-E synapse\n",
    "    gii = 1 # inhibitory-inhibitory synaptic conductance as a ratio of E-E synapse\n",
    "    \n",
    "    tauC = 0.5*tau_e\n",
    "            \n",
    "    rowdegree = np.transpose(np.sum(C,axis=1))\n",
    "    coldegree = np.sum(C,axis=0)\n",
    "    \n",
    "    qind = rowdegree + coldegree < 0.2*np.mean(rowdegree + coldegree)\n",
    "    rowdegree[qind] = np.inf\n",
    "    coldegree[qind] = np.inf\n",
    "    \n",
    "    nroi = C.shape[0]\n",
    "    if use_smalleigs is True:\n",
    "        K = numsmalleigs\n",
    "    else:\n",
    "        K = nroi\n",
    "\n",
    "    K = K.astype(int)\n",
    "    Tau = 0.001*D/speed\n",
    "    \n",
    "    Cc = np.real(C*np.exp(-1j*Tau*w)).astype(float)\n",
    "    L1 = 0.8*np.identity(nroi).astype(float)\n",
    "    L2 = np.divide(1,np.sqrt(rowdegree*coldegree)+np.spacing(1)) #diag(1./(sqrt(rowdegree.*coldegree)+eps));\n",
    "    L = L1 - np.matmul(np.diag(L2),Cc)\n",
    "    L = np.array(L,dtype=np.float64)\n",
    "\n",
    "    # try scipy.sparse.linalg.eigs next\n",
    "    if use_smalleigs is True:\n",
    "        d, v = np.linalg.eig(L)\n",
    "        eig_ind = np.argsort(np.real(d))\n",
    "        eig_vec = v[:,eig_ind]\n",
    "        eig_val = d[eig_ind]\n",
    "    else:\n",
    "        d, v = np.linalg.eig(L)\n",
    "        eig_ind = np.argsort(np.abs(d))\n",
    "        eig_vec = v[:,eig_ind]\n",
    "        eig_val = d[eig_ind]\n",
    "        \n",
    "    ev = np.transpose(eig_val[0:K.astype(int)])\n",
    "    Vv = eig_vec[:,0:K.astype(int)] #why is eigv 1 all the same numbers?\n",
    "\n",
    "    # Cortical model\n",
    "    He = np.divide(1/tau_e**2,np.real((1j*w+1/tau_e)**2))\n",
    "    Hi = np.divide(gii*1/tau_i**2,np.real((1j*w+1/tau_i)**2))\n",
    "\n",
    "    Hed = alpha/tau_e/(1j*w + alpha/tau_e*He)\n",
    "    Hid = alpha/tau_i/(1j*w + alpha/tau_i*Hi)\n",
    "\n",
    "    Heid = gei*He*Hi/(1+gei*He*Hi)\n",
    "    Htotal = a*Hed + (1-a)/2*Hid + (1-a)/2*Heid\n",
    "\n",
    "    q1 = 1/alpha*tauC*(1j*w + alpha/tauC*He*ev)\n",
    "    qthr = zero_thr*np.abs(q1[:]).max()\n",
    "    magq1 = np.maximum(np.abs(q1),qthr)\n",
    "    angq1 = np.angle(q1)\n",
    "    q1 = np.multiply(magq1,np.exp(1j*angq1))\n",
    "    freqresp = np.divide(Htotal,q1)\n",
    "\n",
    "    freqresp_out = 0\n",
    "    for k in range(1,K):\n",
    "        freqresp_out += freqresp[k] * Vv[:,k]\n",
    "    \n",
    "    FCmodel = np.matmul(np.matmul(Vv[:,1:K], np.diag(freqresp[1:K]**2)), np.transpose(Vv[:,1:K]))\n",
    "\n",
    "    den = np.sqrt(np.abs(freqresp_out))\n",
    "    FCmodel = np.matmul(np.matmul(np.diag(1/den), FCmodel), np.diag(1/den))\n",
    "    return freqresp, ev, Vv, freqresp_out, FCmodel"
   ]
  },
  {
   "cell_type": "code",
   "execution_count": 13,
   "metadata": {},
   "outputs": [
    {
     "data": {
      "text/plain": [
       "(57,)"
      ]
     },
     "execution_count": 13,
     "metadata": {},
     "output_type": "execute_result"
    }
   ],
   "source": [
    "# dummy run to get dims?!?!?\n",
    "freqresp, ev, Vv, freqresp_out, FCmodel = NetworkTransferFunction(C, Ddk_conn, w=0)\n",
    "ev.shape"
   ]
  },
  {
   "cell_type": "code",
   "execution_count": 26,
   "metadata": {},
   "outputs": [],
   "source": [
    "# Compute for all frequencies in fvec - this is the debug part in Ashish's SCFC_onJuliaMEG3.m\n",
    "freqresp = []\n",
    "evec = []\n",
    "Vvec =[]\n",
    "fqall = []\n",
    "\n",
    "for i in fvec:\n",
    "    w = 2*np.pi*i\n",
    "    fq, ev, Vv, _, _ = NetworkTransferFunction(C, Ddk_conn, w)\n",
    "    fqall.append(fq)\n",
    "    evec.append(ev)\n",
    "    Vvec.append(Vv)\n",
    "    \n",
    "fqall=np.asarray(fqall)\n",
    "evec = np.asarray(evec)\n",
    "Vvec = np.asarray(Vvec)\n",
    "np.moveaxis(Vvec,1,0).shape #86x40x57 just like matlab"
   ]
  },
  {
   "cell_type": "code",
   "execution_count": 69,
   "metadata": {},
   "outputs": [
    {
     "data": {
      "text/plain": [
       "Text(0.5,1,'Frequency Response of Each Eigen Vector')"
      ]
     },
     "execution_count": 69,
     "metadata": {},
     "output_type": "execute_result"
    },
    {
     "data": {
      "image/png": "[encoded data removed]",
      "text/plain": [
       "<Figure size 432x288 with 2 Axes>"
      ]
     },
     "metadata": {
      "needs_background": "light"
     },
     "output_type": "display_data"
    }
   ],
   "source": [
    "# Plotting eigen vector's frequency response\n",
    "ev_freqresp = np.abs(np.transpose(fqall))\n",
    "fig_ev, ax_ev = mpl.subplots()\n",
    "ax1 = ax_ev.imshow(mag2db(ev_freqresp), extent = [0, 40, 0, 57], aspect='auto')\n",
    "fig_ev.colorbar(ax1)\n",
    "ax_ev.set_title('Frequency Response of Each Eigen Vector')"
   ]
  },
  {
   "cell_type": "code",
   "execution_count": null,
   "metadata": {},
   "outputs": [],
   "source": []
  }
 ],
 "metadata": {
  "kernelspec": {
   "display_name": "Python (Spectral)",
   "language": "python",
   "name": "spectral"
  },
  "language_info": {
   "codemirror_mode": {
    "name": "ipython",
    "version": 3
   },
   "file_extension": ".py",
   "mimetype": "text/x-python",
   "name": "python",
   "nbconvert_exporter": "python",
   "pygments_lexer": "ipython3",
   "version": "3.6.6"
  }
 },
 "nbformat": 4,
 "nbformat_minor": 2
}
