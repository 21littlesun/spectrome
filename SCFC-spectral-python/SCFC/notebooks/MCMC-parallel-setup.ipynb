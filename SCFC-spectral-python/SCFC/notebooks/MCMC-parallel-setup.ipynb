{
 "cells": [
  {
   "cell_type": "markdown",
   "metadata": {},
   "source": [
    "<div style=\"text-align: right\"> 12/14/2018 </div> \n",
    "# Setting up parallelization of MCMC using emcee\n",
    "\n",
    "Here, I go through the steps to figure out how to set up parallel MCMC in a minimal way. This will all be placed in a script to be run on a cluster, but for now is set up here for explanatory purposes. It directly follows on from 'debug-MCMC'.\n",
    "\n",
    "First, import all the packages I am going to use."
   ]
  },
  {
   "cell_type": "code",
   "execution_count": 5,
   "metadata": {
    "collapsed": true
   },
   "outputs": [],
   "source": [
    "import sys, os\n",
    "sys.path.append(\"..\")\n",
    "\n",
    "from inverse import bayesian_funcs as bf\n",
    "from inverse import priors as pr\n",
    "from preprocess import preprocess as pp\n",
    "from preprocess import permute\n",
    "from brain import Brain\n",
    "from utils import path as pth\n",
    "from utils import functions\n",
    "\n",
    "#generic modules\n",
    "import matplotlib.pyplot as mpl\n",
    "%matplotlib inline\n",
    "from scipy.io import loadmat\n",
    "import numpy as np\n",
    "from scipy.stats import pearsonr, gamma, uniform\n",
    "import math\n",
    "import pandas as pd\n",
    "import emcee\n",
    "import time "
   ]
  },
  {
   "cell_type": "markdown",
   "metadata": {},
   "source": [
    "## Finding a set of simulated annealing parameters \n",
    "\n",
    "For now we just want to pull out a set of parameters that we found in the debug notebook. These were the optimal simulated annealing parameters from Bobby's work for patient 8008.101."
   ]
  },
  {
   "cell_type": "code",
   "execution_count": 6,
   "metadata": {
    "collapsed": true
   },
   "outputs": [],
   "source": [
    "param_start = [0.011934858833523522,\n",
    " 0.007416371455534797,\n",
    " 0.9670233044667013,\n",
    " 14.479055812222878,\n",
    " 3.9552727546221096,\n",
    " 1.7950301129315296,\n",
    " 0.008757838469754533]"
   ]
  },
  {
   "cell_type": "markdown",
   "metadata": {},
   "source": [
    "## Get the corresponding MEG spectrum for this patient directly from its correctly ordered dictionary file\n"
   ]
  },
  {
   "cell_type": "code",
   "execution_count": 7,
   "metadata": {
    "collapsed": true
   },
   "outputs": [],
   "source": [
    "filename = '/Users/Megan/RajLab/BRAIN/SCFC-spectral-python/SCFC/data/freqMEGdata_8008_101.h5'"
   ]
  },
  {
   "cell_type": "code",
   "execution_count": 8,
   "metadata": {
    "collapsed": true
   },
   "outputs": [],
   "source": [
    "FMEGdownsample = pth.read_hdf5(filename)"
   ]
  },
  {
   "cell_type": "code",
   "execution_count": 9,
   "metadata": {},
   "outputs": [],
   "source": [
    "#FMEGdownsample.keys()"
   ]
  },
  {
   "cell_type": "markdown",
   "metadata": {},
   "source": [
    "## Set up an instance of the brain class, and the vector of frequencies for which the calculation is made."
   ]
  },
  {
   "cell_type": "code",
   "execution_count": 10,
   "metadata": {
    "collapsed": true
   },
   "outputs": [],
   "source": [
    "fmin = 2 # 2Hz - 45Hz signal range\n",
    "fmax = 45\n",
    "fvec = np.linspace(fmin,fmax,40)\n",
    "newbrain = Brain.Brain()\n",
    "hcp_dir = pth.get_sibling_path('data') # connectome information is in /data/ dir\n",
    "newbrain.add_connectome(hcp_dir) # Use default files in /data/\n",
    "newbrain.reorder_connectome(newbrain.connectome, newbrain.distance_matrix)\n",
    "newbrain.bi_symmetric_c()\n",
    "newbrain.reduce_extreme_dir()"
   ]
  },
  {
   "cell_type": "markdown",
   "metadata": {},
   "source": [
    "(As a side note I am a bit concerned that the dictionary ordering has gone awry, so I'll be checking that elsewhere -- and will note here whether I think it is correct or not -- but for now I am ploughing on in the interests of not getting distracted by the boring stuff.)"
   ]
  },
  {
   "cell_type": "markdown",
   "metadata": {},
   "source": [
    "## Set up the functions required for MCMC (I haven't incorporated them properly in to their modules yet.. this is just to show what they are and how they work)\n",
    "\n",
    "In the final script obviously this will be dealt with elsewhere. \n",
    "\n",
    "First, the 'cost' function, here using the pearson r correlation. Alternative functions of this cost to be uesd in the likelihood calculation will be available as and when."
   ]
  },
  {
   "cell_type": "code",
   "execution_count": 11,
   "metadata": {
    "collapsed": true
   },
   "outputs": [],
   "source": [
    "def pearson_cost(data, freq_model):\n",
    "    \"\"\"pearson_cost_oneminus. A cost function based on the pearson r correlation. Designed to\n",
    "    be minimised in a fitting process. Uses '1-r' as a measure of data-model error.\n",
    "\n",
    "    Args:\n",
    "        data (dict): Data dictionary.\n",
    "        freq_model (array): frequency model data in corresponding order\n",
    "\n",
    "    Returns:\n",
    "        floats: mean error based on pearson r, and a list of values over regions.\n",
    "\n",
    "    \"\"\"\n",
    "    i = 0\n",
    "    err_list = []\n",
    "    for key in data.keys():\n",
    "        modregion = freq_model[i,:]\n",
    "        region = data[key]\n",
    "        region = [float(x) for x in region]#we need to do this to make sure things are in the correct form for scipy.stats\n",
    "        modregion = [float(x) for x in modregion]\n",
    "        err = pearsonr(region,modregion)[0]\n",
    "        err = 1 - err #to convert to an error to minimise.\n",
    "        err_list.append(err)\n",
    "        i += 1\n",
    "    err = np.mean(sum(err_list))\n",
    "    return err, err_list"
   ]
  },
  {
   "cell_type": "markdown",
   "metadata": {},
   "source": [
    "Then we define a likelihood function defined around this form of the error. As it stands, maximising it will maximise the likelihood of the parameters, or the probability of the data given the parameters."
   ]
  },
  {
   "cell_type": "code",
   "execution_count": 12,
   "metadata": {
    "collapsed": true
   },
   "outputs": [],
   "source": [
    "from forward import runforward as rf\n",
    "def ln_likelihood_pearson(theta, brain, fvec, FMEGdata):\n",
    "    tau_e, tau_i, alpha, speed, gei, gii, tauC = theta\n",
    "    #First need to convert parameter array to dictionary required by the run_forward func.\n",
    "    if type(theta) != dict:\n",
    "        parameters = {'tau_e':tau_e,\n",
    "                       'tau_i':tau_i,\n",
    "                       'alpha':alpha,\n",
    "                       'speed':speed,\n",
    "                       'gei':gei,\n",
    "                       'gii':gii,\n",
    "                       'tauC':tauC\n",
    "                       }\n",
    "    else:\n",
    "        parameters = theta\n",
    "\n",
    "    #first, run the ntf model for this setting of parameters\n",
    "    freq_model = rf.run_forward(brain, parameters, fvec)\n",
    "\n",
    "    #now calculate the pearson r based error\n",
    "    errors, list_errors = pearson_cost(FMEGdata, freq_model)\n",
    "\n",
    "    list_errors = np.asarray(list_errors)\n",
    "\n",
    "    #calculate the total lnlikelihood based on the errors of the pearson cost function (this has to change depending on the precise form of the function, obvs)\n",
    "    return -(np.sum(list_errors)) + 68*(1-np.log(math.e**2 - 1))"
   ]
  },
  {
   "cell_type": "markdown",
   "metadata": {},
   "source": [
    "### Check the likelihood runs as expected. (Ignore if you are confident this is fine/just want to go for it)"
   ]
  },
  {
   "cell_type": "code",
   "execution_count": 13,
   "metadata": {
    "collapsed": true
   },
   "outputs": [],
   "source": [
    "tau_e, tau_i, alpha, speed, gei, gii, tauC = param_start\n",
    "parameters = {'tau_e':tau_e,\n",
    "                       'tau_i':tau_i,\n",
    "                       'alpha':alpha,\n",
    "                       'speed':speed,\n",
    "                       'gei':gei,\n",
    "                       'gii':gii,\n",
    "                       'tauC':tauC\n",
    "                       }"
   ]
  },
  {
   "cell_type": "code",
   "execution_count": 14,
   "metadata": {},
   "outputs": [],
   "source": [
    "params = parameters #start with the set of parameters from simulated annealing, must be in dict form\n",
    "taue_run = np.linspace(0.001, 0.2, 100)\n",
    "trials = np.empty(len(taue_run)) \n",
    "for i in range(len(taue_run)):\n",
    "    params['tau_e'] = taue_run[i]\n",
    "    trials[i] = ln_likelihood_pearson(params, newbrain, fvec, FMEGdownsample)"
   ]
  },
  {
   "cell_type": "code",
   "execution_count": 16,
   "metadata": {},
   "outputs": [
    {
     "data": {
      "image/png": "[encoded data removed]",
      "text/plain": [
       "<matplotlib.figure.Figure at 0x1a1a3546a0>"
      ]
     },
     "metadata": {},
     "output_type": "display_data"
    }
   ],
   "source": [
    "fig3, ax3a = mpl.subplots(figsize = (6,4))\n",
    "mpl.plot(taue_run, trials, color = 'xkcd:light purple')\n",
    "\n",
    "mpl.grid(True)\n",
    "mpl.xlabel('tau_e')\n",
    "mpl.ylabel('Ln(Likelihood)')\n",
    "mpl.title('Likelihood using linear data -- vary tau_e only')\n",
    "ax3b = ax3a.twinx()\n",
    "\n",
    "fit_alpha_te = 2\n",
    "fit_loc_te = 0.004492887509221829\n",
    "fit_beta_te = 0.0032375996670863947\n",
    "ytaue = (taue_run - fit_loc_te)/fit_beta_te\n",
    "mpl.plot(taue_run, gamma.pdf(ytaue, fit_alpha_te),'--', lw=3, alpha=0.6, label='gamma pdf', color = 'xkcd:teal')\n",
    "mpl.ylabel('P(tau_e)')\n",
    "\n",
    "fig3.savefig(\"Patient_8008_101_Likelihood_tauevaryonly.pdf\", bbox_inches='tight')"
   ]
  },
  {
   "cell_type": "markdown",
   "metadata": {},
   "source": [
    "Looking at this I am slightly concerned that the prior distributions are too harsh, but that is another issue."
   ]
  },
  {
   "cell_type": "markdown",
   "metadata": {},
   "source": [
    "### Setting up prior distributions, using the fixed dictionary of distribution shape parameters"
   ]
  },
  {
   "cell_type": "code",
   "execution_count": 17,
   "metadata": {
    "collapsed": true
   },
   "outputs": [],
   "source": [
    "param_dists = {'tau_e':{'type':'gamma','alpha':2, 'loc':0.004492887509221829, 'scale':0.0032375996670863947},\n",
    "              'tau_i':{'type':'gamma','alpha':2.006014687419703, 'loc':0.004662441067103153, 'scale':0.0025497764353055712},\n",
    "              'alpha':{'type':'uniform','lower':0, 'upper':5},\n",
    "              'speed':{'type':'uniform','lower':0, 'upper':25},\n",
    "              'gei':{'type':'uniform','lower':0, 'upper':10},\n",
    "              'gii':{'type':'uniform','lower':0, 'upper':10},\n",
    "              'tauC':{'type':'gamma','alpha':2, 'loc':0.004211819821836749, 'scale':0.0029499360144432463}}"
   ]
  },
  {
   "cell_type": "code",
   "execution_count": 18,
   "metadata": {
    "collapsed": true
   },
   "outputs": [],
   "source": [
    "def lnprior_gamma(value, key, param_dists):\n",
    "    tau = value\n",
    "    x = (tau - param_dists[key]['loc'])/param_dists[key]['scale']\n",
    "    p = gamma.pdf(x, param_dists[key]['alpha'])\n",
    "    p = p.astype(float)\n",
    "    if p == 0:\n",
    "        return -np.inf #use the same as for outside uniform distribution bounds\n",
    "    return math.log(p)"
   ]
  },
  {
   "cell_type": "code",
   "execution_count": 19,
   "metadata": {
    "collapsed": true
   },
   "outputs": [],
   "source": [
    "def lnprior_uniform(value, key, param_dists):\n",
    "    if param_dists[key]['lower'] < value < param_dists[key]['upper']:\n",
    "        p = uniform.pdf(value, loc = param_dists[key]['lower'], scale = param_dists[key]['upper'])\n",
    "        return math.log(p)\n",
    "    return -np.inf"
   ]
  },
  {
   "cell_type": "code",
   "execution_count": 20,
   "metadata": {
    "collapsed": true
   },
   "outputs": [],
   "source": [
    "def lnpriors(theta, param_dists):\n",
    "    tau_e, tau_i, alpha, speed, gei, gii, tauC = theta\n",
    "    \n",
    "    lnp_taue = lnprior_gamma(tau_e, 'tau_e', param_dists)\n",
    "    lnp_taui = lnprior_gamma(tau_i, 'tau_i', param_dists)\n",
    "    lnp_alpha = lnprior_uniform(alpha, 'alpha', param_dists)\n",
    "    lnp_speed = lnprior_uniform(speed, 'speed', param_dists)\n",
    "    lnp_gei = lnprior_uniform(gei, 'gei', param_dists)\n",
    "    lnp_gii = lnprior_uniform(gii, 'gii', param_dists)\n",
    "    lnp_tauC = lnprior_gamma(tauC, 'tauC', param_dists)\n",
    "    \n",
    "    return lnp_taue + lnp_taui + lnp_alpha+lnp_speed+lnp_gei+lnp_gii+lnp_tauC"
   ]
  },
  {
   "cell_type": "markdown",
   "metadata": {
    "collapsed": true
   },
   "source": [
    "### Set up the overall 'ln(posterior probability) distribution for all parameters' function"
   ]
  },
  {
   "cell_type": "code",
   "execution_count": 21,
   "metadata": {
    "collapsed": true
   },
   "outputs": [],
   "source": [
    "def lnprobs(theta, param_dists, brain, fvec, data):\n",
    "    print(theta)\n",
    "    lnprior = lnpriors(theta, param_dists)\n",
    "    if not np.isfinite(lnprior):\n",
    "        return -np.inf\n",
    "    return lnprior + ln_likelihood_pearson(theta, brain, fvec, data)"
   ]
  },
  {
   "cell_type": "markdown",
   "metadata": {},
   "source": [
    "## How to do basic MCMC run with no parallelization (ignore if you are wanting to try running in parallel)\n",
    "\n",
    "First, set up your initial positions for each walker in the n-dimensional parameter space. Here I am deliberately setting up some of them to be off where they should be so we can hopefully see whether burn-in happens as it should.\n",
    "\n",
    "We also need to tell emcee the number of walkers we want to use, and the dimension of the parameter space we are walking through."
   ]
  },
  {
   "cell_type": "code",
   "execution_count": 22,
   "metadata": {
    "collapsed": true
   },
   "outputs": [],
   "source": [
    "ndim, nwalkers = 7, 16"
   ]
  },
  {
   "cell_type": "code",
   "execution_count": 23,
   "metadata": {},
   "outputs": [],
   "source": [
    "param_start_2 = [0.2,\n",
    " 0.2,\n",
    " 0.9670233044667013,\n",
    " 14.479055812222878,\n",
    " 3.9552727546221096,\n",
    " 1.7950301129315296,\n",
    " 0.2]\n",
    "\n",
    "pos = [np.transpose(param_start_2) + 1e-4*np.random.randn(ndim) for i in range(nwalkers)] #starting position in parameter space."
   ]
  },
  {
   "cell_type": "markdown",
   "metadata": {},
   "source": [
    "Initialise the sampler in the way we want it to be set up. We pass the walkers, dimensions, ln(probability) distribution function, and tell the sampler about the other fixed parameters that have to be passed to the function, including the instance of the brain class, the parameters of our prior distributions, the frequencies of calculation, and the data we are comparing to."
   ]
  },
  {
   "cell_type": "code",
   "execution_count": 24,
   "metadata": {
    "collapsed": true
   },
   "outputs": [],
   "source": [
    "sampler = emcee.EnsembleSampler(nwalkers, ndim, lnprobs, args=(param_dists, newbrain, fvec,FMEGdownsample))"
   ]
  },
  {
   "cell_type": "markdown",
   "metadata": {},
   "source": [
    "At this point, we are ready to run the sampler. Hold on to your hats -- if you've set up a long run with lots of walkers, this could take a while. That's why we're going to parallelise it and make sure we can save as we go. (Comment this if you want -- it was just to check the code was working)."
   ]
  },
  {
   "cell_type": "code",
   "execution_count": 25,
   "metadata": {},
   "outputs": [
    {
     "name": "stdout",
     "output_type": "stream",
     "text": [
      "[ 0.19992392  0.20005925  0.96720919 14.47897233  3.95535845  1.79500995\n",
      "  0.19995004]\n",
      "[ 0.20015553  0.19988628  0.96684016 14.47919648  3.95515245  1.79495418\n",
      "  0.20003598]\n",
      "[ 0.20001501  0.19996771  0.96702382 14.47898706  3.95518264  1.79509373\n",
      "  0.19993276]\n",
      "[ 0.19996387  0.20010002  0.96707496 14.47912488  3.95507587  1.7951411\n",
      "  0.19992719]\n",
      "[ 0.1999435   0.19977949  0.9669562  14.47899627  3.95532702  1.7950118\n",
      "  0.19990725]\n",
      "[ 0.19992959  0.20008768  0.96703393 14.47915871  3.95549582  1.79486214\n",
      "  0.19995938]\n",
      "[ 0.20003505  0.20009267  0.96703447 14.47890238  3.95525756  1.7950984\n",
      "  0.20008956]\n",
      "[ 0.19989109  0.19997954  0.96705363 14.47907683  3.95527615  1.79511142\n",
      "  0.1999816 ]\n",
      "[ 0.20012067  0.19998853  0.9670896  14.47909988  3.95521705  1.79514293\n",
      "  0.19998714]\n",
      "[ 0.20002947  0.19987893  0.96696586 14.47913589  3.95526017  1.79488591\n",
      "  0.19994306]\n",
      "[ 0.19992575  0.19985039  0.96694425 14.47896841  3.95525412  1.79502986\n",
      "  0.20004367]\n",
      "[ 0.20004604  0.19995576  0.96689301 14.47906053  3.95529167  1.79486387\n",
      "  0.20001194]\n",
      "[ 0.19990286  0.19998156  0.96698544 14.47913743  3.9552932   1.79508833\n",
      "  0.20009905]\n",
      "[ 0.20011137  0.19999095  0.96701387 14.47924541  3.955235    1.79497593\n",
      "  0.20001251]\n",
      "[ 0.19994919  0.19998432  0.96694643 14.47885594  3.95526521  1.79496137\n",
      "  0.19993805]\n",
      "[ 0.19992035  0.20000246  0.96712741 14.47922085  3.95529816  1.79492828\n",
      "  0.19989084]\n",
      "[ 0.19995666  0.20002635  0.96714258 14.47897762  3.95529527  1.79504006\n",
      "  0.19994383]\n",
      "[ 0.2003115   0.19980923  0.96664966 14.47918032  3.95505581  1.79497137\n",
      "  0.20013223]\n",
      "[ 0.2001202   0.20015964  0.96696547 14.47866595  3.95522741  1.7952247\n",
      "  0.20023709]\n",
      "[ 0.2001847   0.19998407  0.96707751 14.47906121  3.95519112  1.79521154\n",
      "  0.20001792]\n",
      "[ 0.20001778  0.19988743  0.96697328 14.4791309   3.95526152  1.79490497\n",
      "  0.19994632]\n",
      "[ 0.19995598  0.19989012  0.9669712  14.47897473  3.95522991  1.79505149\n",
      "  0.20000611]\n",
      "[ 0.20006979  0.19992886  0.96686427 14.4790405   3.95525004  1.79486423\n",
      "  0.20002266]\n",
      "[ 0.19994959  0.19999899  0.96694573 14.47884588  3.95526079  1.79495776\n",
      "  0.19994025]\n",
      "[ 0.20006721  0.20006296  0.96699486 14.47882771  3.95520486  1.79515872\n",
      "  0.20008378]\n",
      "[ 0.19982152  0.20004573  0.96717467 14.47954276  3.95493789  1.79506497\n",
      "  0.19964501]\n",
      "[ 0.19995979  0.19971446  0.96696716 14.47902182  3.95539389  1.79499523\n",
      "  0.19978212]\n",
      "[ 0.19992927  0.20006821  0.96702658 14.47914311  3.955476    1.79487589\n",
      "  0.19996629]\n",
      "[ 0.19985547  0.19996769  0.96711932 14.47921743  3.95528551  1.79520496\n",
      "  0.20000677]\n",
      "[ 0.19986902  0.20000928  0.96698903 14.47913935  3.95530253  1.79514233\n",
      "  0.20014402]\n",
      "[ 0.20019557  0.19996027  0.96692613 14.47936808  3.95517954  1.79496065\n",
      "  0.20004057]\n",
      "[ 0.1999221   0.19995315  0.96706801 14.47913899  3.95528388  1.79496122\n",
      "  0.1999404 ]\n",
      "[ 0.19989135  0.20037242  0.96742903 14.47892738  3.95532626  1.79502332\n",
      "  0.20010256]\n",
      "[ 0.19965997  0.20012178  0.96737665 14.47986958  3.95473477  1.7951956\n",
      "  0.19939927]\n",
      "[ 0.20023221  0.20047049  0.96696428 14.47841746  3.95511117  1.79538493\n",
      "  0.20055479]\n",
      "[ 0.19978865  0.20007921  0.96728575 14.47945416  3.95531535  1.79537143\n",
      "  0.1999717 ]\n",
      "[ 0.20023844  0.19990997  0.96689619 14.47911169  3.95513378  1.79510976\n",
      "  0.20006637]\n",
      "[ 0.19974646  0.20004418  0.96695981 14.47926721  3.95540317  1.79518313\n",
      "  0.20032138]\n",
      "[ 0.20010655  0.19986747  0.96694162 14.47923735  3.95526047  1.79497371\n",
      "  0.19994299]\n",
      "[ 0.19992141  0.19997248  0.9670913  14.47917108  3.95528948  1.7949483\n",
      "  0.19992097]\n",
      "[ 0.20063426  0.19964257  0.96625699 14.47901127  3.9548956   1.7947244\n",
      "  0.20023133]\n",
      "[ 0.20010982  0.19992658  0.96692961 14.4787514   3.95530223  1.79506652\n",
      "  0.20007522]\n",
      "[ 0.1999535   0.199697    0.96696723 14.47903578  3.95540042  1.79498623\n",
      "  0.19976428]\n",
      "[ 0.19995446  0.19986615  0.96675926 14.4792864   3.95557546  1.79477797\n",
      "  0.19987578]\n",
      "[ 0.2000627   0.19991344  0.96700133 14.47911214  3.95524257  1.79498748\n",
      "  0.19996559]\n",
      "[ 0.1998578   0.19991976  0.96705479 14.47919879  3.95512135  1.79507223\n",
      "  0.19987893]\n",
      "[ 0.20035308  0.19982782  0.96678056 14.47884187  3.95511586  1.79458482\n",
      "  0.19976094]\n",
      "[ 0.19984779  0.20004215  0.9670972  14.47920572  3.95507589  1.79504137\n",
      "  0.19975009]\n",
      "[ 0.19954302  0.19999509  0.96735017 14.48034581  3.95443581  1.79528268\n",
      "  0.19904379]\n",
      "[ 0.19984231  0.19953372  0.96699398 14.47923804  3.95547025  1.79492912\n",
      "  0.19954311]\n",
      "[ 0.19994991  0.19988433  0.96680835 14.47927766  3.95553848  1.79479801\n",
      "  0.19987779]\n",
      "[ 0.19986363  0.19994866  0.96715239 14.47916081  3.95535301  1.79495012\n",
      "  0.19987505]\n",
      "[ 0.20040009  0.19980688  0.96673849 14.47879089  3.95509925  1.79451931\n",
      "  0.19974339]\n",
      "[ 0.19975858  0.20003108  0.96695876 14.47924702  3.9553931   1.79517277\n",
      "  0.20030261]\n",
      "[ 0.19998445  0.20011317  0.96724817 14.4795398   3.95531619  1.79507435\n",
      "  0.19994876]\n",
      "[ 0.19987021  0.19986655  0.96694052 14.47896622  3.95530281  1.79483777\n",
      "  0.19976763]\n",
      "[ 0.1997375   0.20020576  0.9673942  14.47955385  3.95493298  1.79513787\n",
      "  0.19963494]\n",
      "[ 0.20035003  0.19975546  0.96658724 14.47906643  3.95506431  1.79480765\n",
      "  0.20009992]\n",
      "[ 0.20015581  0.19992101  0.96689548 14.47862202  3.95537254  1.79504898\n",
      "  0.20015892]\n",
      "[ 0.20017478  0.20038766  0.96703009 14.47867762  3.9551587   1.79531294\n",
      "  0.20041431]\n",
      "[ 0.19977293  0.20006616  0.96716431 14.47938451  3.95534808  1.79530127\n",
      "  0.20010199]\n",
      "[ 0.20028494  0.20002152  0.96712117 14.47909149  3.95515553  1.79533067\n",
      "  0.2000977 ]\n",
      "[ 0.19996908  0.19984641  0.96692545 14.47895219  3.95523997  1.79498322\n",
      "  0.20001624]\n",
      "[ 0.19988638  0.20013819  0.96749398 14.47915558  3.95502204  1.79507794\n",
      "  0.19990584]\n",
      "[ 0.19995277  0.19986535  0.9667574  14.4792874   3.95557761  1.79477513\n",
      "  0.19987464]\n",
      "[ 0.19995659  0.20103806  0.96744916 14.47801038  3.95525895  1.79583774\n",
      "  0.20077653]\n",
      "[ 0.19980894  0.19987297  0.96717544 14.47937245  3.95537392  1.7952042\n",
      "  0.19980966]\n",
      "[ 0.19995907  0.19993963  0.96706847 14.47898482  3.95535939  1.79498241\n",
      "  0.19996778]\n",
      "[ 0.20047923  0.19975135  0.96657575 14.47886538  3.95503042  1.79458863\n",
      "  0.19990831]\n",
      "[ 0.19959379  0.2001798   0.96698338 14.47948325  3.9555151   1.79532023\n",
      "  0.20053064]\n",
      "[ 0.19989632  0.20017806  0.96689048 14.47871182  3.9551461   1.79475228\n",
      "  0.19997777]\n",
      "[ 0.20004367  0.20009215  0.96734685 14.47913029  3.95507472  1.79517768\n",
      "  0.19998156]\n",
      "[ 0.19962233  0.20067147  0.96779418 14.47899955  3.95544631  1.79528983\n",
      "  0.20029249]\n",
      "[ 0.20051811  0.19988174  0.96646131 14.47883973  3.95495787  1.79491522\n",
      "  0.20032477]\n",
      "[ 0.20028522  0.19981671  0.96660803 14.47836575  3.95554088  1.79503507\n",
      "  0.20028047]\n",
      "[ 0.19936354  0.19992029  0.967275   14.48096797  3.95412937  1.79538971\n",
      "  0.19859318]\n",
      "[ 0.19984191  0.19953252  0.96699484 14.47923786  3.95546986  1.79492968\n",
      "  0.19954191]\n",
      "[ 0.20019148  0.20019575  0.9674318  14.47933549  3.95520121  1.79598925\n",
      "  0.20038529]\n",
      "[ 0.20006423  0.19975415  0.96672067 14.47876394  3.95513796  1.79501309\n",
      "  0.20014364]\n",
      "[ 0.20004641  0.20006754  0.96749969 14.48012202  3.9554358   1.79530083\n",
      "  0.19992836]\n",
      "[ 0.20056939  0.19983244  0.96630895 14.47876191  3.95491967  1.7947466\n",
      "  0.20031527]\n",
      "[ 0.19923883  0.19955828  0.96702479 14.48191657  3.95349473  1.79543784\n",
      "  0.19777426]\n",
      "[ 0.19996586  0.19979284  0.96672654 14.47942087  3.95567768  1.79478043\n",
      "  0.19985072]\n",
      "[ 0.19992448  0.20100284  0.9674823  14.47810541  3.95527695  1.79578511\n",
      "  0.20073003]\n",
      "[ 0.19980672  0.19986521  0.96718269 14.47938926  3.95537971  1.7952157\n",
      "  0.19980538]\n",
      "[ 0.19992263  0.19977193  0.96699546 14.47920024  3.9553302   1.79486706\n",
      "  0.19977299]\n",
      "[ 0.20004878  0.19978752  0.96678788 14.47879798  3.95512789  1.79501872\n",
      "  0.20012298]\n",
      "[ 0.19986849  0.20025443  0.96816403 14.48143055  3.95535751  1.79549884\n",
      "  0.19966602]\n",
      "[ 0.19948399  0.20051975  0.96793697 14.47940893  3.95552385  1.79506308\n",
      "  0.20009217]\n",
      "[ 0.20057258  0.19887183  0.96591159 14.47857315  3.95575113  1.79443759\n",
      "  0.19992236]\n",
      "[ 0.20000529  0.19952553  0.96698673 14.47851218  3.95600493  1.79479202\n",
      "  0.20002078]\n",
      "[ 0.20030573  0.2002939   0.96750577 14.47931952  3.9551482   1.79621896\n",
      "  0.20055749]\n",
      "[ 0.19991609  0.19970327  0.96685782 14.48009363  3.95443051  1.79490214\n",
      "  0.19892269]\n",
      "[ 0.19929825  0.20043462  0.96711037 14.47992838  3.95576662  1.79551607\n",
      "  0.20079544]\n",
      "[ 0.19991403  0.20012946  0.96607995 14.47698155  3.95501156  1.79427714\n",
      "  0.20017617]\n"
     ]
    },
    {
     "name": "stdout",
     "output_type": "stream",
     "text": [
      "[ 0.19968591  0.19995867  0.96734873 14.48001033  3.95454922  1.79518936\n",
      "  0.19924595]\n",
      "[ 0.20042562  0.19912874  0.96615744 14.47863623  3.95557627  1.79460063\n",
      "  0.19997864]\n",
      "[ 0.19916434  0.19953425  0.96705535 14.48217227  3.95327107  1.79550519\n",
      "  0.19756152]\n",
      "[ 0.19997363  0.19957969  0.96701797 14.47865201  3.95590526  1.79485956\n",
      "  0.19998644]\n",
      "[ 0.20004799  0.2011383   0.96735481 14.47773989  3.95520772  1.79598757\n",
      "  0.20090888]\n",
      "[ 0.20030636  0.19987982  0.96686111 14.47885412  3.95514269  1.79457495\n",
      "  0.19977908]\n",
      "[ 0.19947843  0.20027926  0.96703295 14.47965699  3.95561328  1.79539667\n",
      "  0.200634  ]\n",
      "[ 0.19990074  0.20016592  0.96668801 14.47827961  3.95511249  1.79463359\n",
      "  0.20002733]\n",
      "[ 0.19969982  0.2003151   0.96769937 14.47927304  3.95525469  1.79507105\n",
      "  0.19999223]\n",
      "[ 0.19947404  0.20050884  0.96794725 14.47943838  3.95552943  1.79504676\n",
      "  0.20007776]\n",
      "[ 0.20053692  0.19981866  0.9663476  14.47875592  3.9549734   1.79475276\n",
      "  0.20029734]\n",
      "[ 0.19985083  0.19996745  0.96688105 14.47958159  3.95566375  1.79484543\n",
      "  0.19983714]\n",
      "[ 0.19974544  0.19954189  0.96713898 14.47980815  3.95542339  1.79501967\n",
      "  0.19952513]\n",
      "[ 0.20129784  0.20015533  0.96789514 14.47871996  3.95453922  1.79691111\n",
      "  0.20032318]\n",
      "[ 0.19988544  0.19991209  0.96697906 14.47959995  3.95491092  1.79487252\n",
      "  0.19961736]\n",
      "[ 0.2001772   0.19946163  0.96746257 14.48052915  3.95523876  1.7957255\n",
      "  0.20007228]\n",
      "[ 0.19988995  0.20023607  0.96810019 14.48130429  3.95534698  1.79545357\n",
      "  0.19967156]\n",
      "[ 0.19944775  0.20004871  0.96715139 14.4807507   3.9538922   1.7956599\n",
      "  0.1986351 ]\n",
      "[ 0.19976236  0.1994421   0.96666847 14.48040795  3.95586837  1.79433296\n",
      "  0.19935626]\n",
      "[ 0.19977182  0.19952052  0.96709984 14.47976876  3.95543385  1.7950011\n",
      "  0.1995378 ]\n",
      "[ 0.20266347  0.20007702  0.96769625 14.47621318  3.9537557   1.79832491\n",
      "  0.20095524]\n",
      "[ 0.19969804  0.20018392  0.96742009 14.47952636  3.95519267  1.79495189\n",
      "  0.19982708]\n",
      "[ 0.20053616  0.19876046  0.96642199 14.47984517  3.95508485  1.79331849\n",
      "  0.19877417]\n",
      "[ 0.19906193  0.20055173  0.96750582 14.48105929  3.9560564   1.79599154\n",
      "  0.2010331 ]\n",
      "[ 0.19989332  0.20009375  0.9674561  14.47911551  3.95509233  1.79506057\n",
      "  0.19991226]\n",
      "[ 0.19982665  0.1999284   0.96744088 14.47957343  3.95538183  1.794473\n",
      "  0.19964498]\n",
      "[ 0.19998628  0.19970457  0.96663153 14.48012646  3.95429047  1.79505462\n",
      "  0.19919981]\n",
      "[ 0.20085454  0.19903435  0.96615225 14.47825491  3.95548205  1.7949618\n",
      "  0.20006164]\n",
      "[ 0.19993308  0.19983926  0.9672392  14.47888605  3.95549477  1.79496106\n",
      "  0.19994898]\n",
      "[ 0.19997629  0.20075997  0.96730366 14.47823004  3.95525883  1.79575819\n",
      "  0.20058095]\n",
      "[ 0.20031974  0.19918319  0.96704935 14.48025754  3.95517764  1.79476966\n",
      "  0.19955679]\n",
      "[ 0.20000075  0.20076834  0.9688372  14.48245149  3.95528839  1.79578627\n",
      "  0.19978383]\n",
      "[ 0.1999283   0.20012496  0.96535015 14.4758595   3.95500615  1.79386383\n",
      "  0.2003157 ]\n",
      "[ 0.19947388  0.20050876  0.96794698 14.47943747  3.9555295   1.79504654\n",
      "  0.20007785]\n",
      "[ 0.20078687  0.19987046  0.96621872 14.47813379  3.95528339  1.79461574\n",
      "  0.20079554]\n",
      "[ 0.19998309  0.199772    0.96681026 14.47961821  3.95576126  1.79546239\n",
      "  0.2005339 ]\n",
      "[ 0.19973025  0.19946889  0.96703791 14.47965082  3.95543143  1.79497404\n",
      "  0.19950973]\n",
      "[ 0.20067059  0.19995871  0.96718175 14.47864276  3.95458443  1.79584826\n",
      "  0.19999548]\n",
      "[ 0.20101358  0.19940166  0.96779884 14.47917231  3.95686361  1.79590742\n",
      "  0.20214558]\n",
      "[ 0.20007305  0.20072063  0.96420015 14.47189183  3.95425402  1.79345461\n",
      "  0.20115262]\n",
      "[ 0.20041007  0.20057623  0.96781212 14.4769676   3.956292    1.79476807\n",
      "  0.20160616]\n",
      "[ 0.19902084  0.19955083  0.96705978 14.48281166  3.95272325  1.79563988\n",
      "  0.19706749]\n",
      "[ 0.19997431  0.19957713  0.96701827 14.47864471  3.95591291  1.79485946\n",
      "  0.19998928]\n",
      "[ 0.19949095  0.19896686  0.96618925 14.48184958  3.95569085  1.79415063\n",
      "  0.19841347]\n",
      "[ 0.19993096  0.2014436   0.96752931 14.47766516  3.95516791  1.79613641\n",
      "  0.20103182]\n",
      "[ 0.20382805  0.19991939  0.9676047  14.47503593  3.95310805  1.79952191\n",
      "  0.2012756 ]\n",
      "[ 0.20055938  0.19879165  0.96648896 14.47981244  3.95517138  1.79344442\n",
      "  0.19893816]\n",
      "[ 0.19862367  0.2009227   0.96783673 14.48174491  3.95619681  1.7962433\n",
      "  0.20127061]\n",
      "[ 0.20014314  0.2008385   0.96907779 14.48326602  3.95522323  1.79598618\n",
      "  0.19970438]\n",
      "[ 0.20037044  0.1991707   0.96639184 14.47945789  3.95475372  1.79514081\n",
      "  0.19927118]\n",
      "[ 0.19972654  0.19867421  0.96575299 14.48136744  3.95717803  1.79340431\n",
      "  0.199088  ]\n",
      "[ 0.19960807  0.20077208  0.96736273 14.47949103  3.9543006   1.79596025\n",
      "  0.19962536]\n",
      "[ 0.20275381  0.19980129  0.96745612 14.47624572  3.95371712  1.79832969\n",
      "  0.20081268]\n",
      "[ 0.19919503  0.20022447  0.96647736 14.47986167  3.95371591  1.79423918\n",
      "  0.19807012]\n",
      "[ 0.19970942  0.20086253  0.96872354 14.48283183  3.95550113  1.79605957\n",
      "  0.20015144]\n",
      "[ 0.19995692  0.20067956  0.96492632 14.47335425  3.95450122  1.79376314\n",
      "  0.20094432]\n",
      "[ 0.20051249  0.20074307  0.96792877 14.47656333  3.95642166  1.79473703\n",
      "  0.20192203]\n",
      "[ 0.19892046  0.20031306  0.97140774 14.486407    3.9567076   1.79651692\n",
      "  0.19908513]\n",
      "[ 0.20179869  0.19964543  0.96605432 14.4770355   3.95627974  1.7948551\n",
      "  0.20252791]\n",
      "[ 0.19920071  0.19969459  0.96716456 14.48205823  3.9531692   1.79553101\n",
      "  0.19765285]\n",
      "[ 0.19982709  0.20005747  0.96715673 14.47898491  3.95526481  1.79530195\n",
      "  0.19984299]\n",
      "[ 0.19802931  0.1992819   0.96680264 14.48156639  3.95639582  1.79308629\n",
      "  0.19877675]\n",
      "[ 0.20149835  0.19810396  0.96767314 14.48169627  3.95729116  1.79703967\n",
      "  0.20236186]\n",
      "[ 0.20032148  0.19966912  0.96539203 14.47615831  3.95469971  1.79338159\n",
      "  0.19987673]\n",
      "[ 0.19899159  0.20090231  0.96813724 14.48211322  3.95596107  1.79618104\n",
      "  0.20089137]\n",
      "[ 0.19904968  0.20034797  0.97112536 14.48560804  3.95668439  1.79637245\n",
      "  0.19931539]\n",
      "[ 0.20352841  0.19894959  0.96508327 14.47446985  3.95632491  1.79409883\n",
      "  0.20321289]\n",
      "[ 0.20052484  0.19931343  0.9664012  14.47877068  3.95558768  1.79515119\n",
      "  0.20024031]\n",
      "[ 0.20054444  0.19959286  0.96699345 14.47615307  3.95782019  1.79439281\n",
      "  0.20173638]\n",
      "[ 0.19973274  0.20103137  0.96742705 14.47878602  3.95463549  1.79602827\n",
      "  0.20016843]\n",
      "[ 0.19732913  0.19909199  0.96662106 14.48068703  3.95898926  1.79128305\n",
      "  0.19998376]\n",
      "[ 0.20497648  0.20026804  0.96812318 14.47326309  3.95196845  1.80123485\n",
      "  0.20188813]\n",
      "[ 0.20035276  0.20097425  0.96965272 14.4840187   3.95555649  1.79637243\n",
      "  0.2000657 ]\n",
      "[ 0.19911155  0.19886203  0.96313074 14.47956274  3.94912279  1.79484734\n",
      "  0.19524425]\n",
      "[ 0.19972722  0.19893009  0.96593472 14.48108721  3.95690203  1.79368916\n",
      "  0.19920529]\n",
      "[ 0.20069582  0.20113535  0.96636179 14.47919781  3.94947444  1.79661685\n",
      "  0.19653093]\n",
      "[ 0.20103336  0.19791027  0.96826635 14.48335148  3.95751248  1.79771326\n",
      "  0.20216693]\n",
      "[ 0.20017136  0.19979158  0.96687834 14.47936426  3.95488082  1.79454888\n",
      "  0.19940724]\n",
      "[ 0.19802989  0.20086452  0.96805607 14.48332904  3.95703272  1.79635842\n",
      "  0.20186069]\n",
      "[ 0.20035565  0.20046256  0.96152033 14.46616645  3.95393722  1.79131728\n",
      "  0.20196996]\n",
      "[ 0.20083087  0.20082906  0.96723304 14.47459479  3.95636448  1.79438109\n",
      "  0.20248935]\n",
      "Serial took 62.3 seconds\n"
     ]
    }
   ],
   "source": [
    "start = time.time()\n",
    "sampler.run_mcmc(pos, 10);\n",
    "end = time.time()\n",
    "serial_time = end - start\n",
    "print(\"Serial took {0:.1f} seconds\".format(serial_time))"
   ]
  },
  {
   "cell_type": "markdown",
   "metadata": {},
   "source": [
    "Plot what you have."
   ]
  },
  {
   "cell_type": "code",
   "execution_count": null,
   "metadata": {},
   "outputs": [],
   "source": [
    "time = np.arange(1,10)\n",
    "for i in range(sampler.chain.shape[0]):\n",
    "    mpl.plot(time, sampler.chain[i,:9,0], linewidth = 0.1, color = 'black')\n",
    "\n",
    "ax3 = mpl.gca()\n",
    "ax3.set_xlabel('step')\n",
    "ax3.set_ylabel('tau_e')"
   ]
  },
  {
   "cell_type": "markdown",
   "metadata": {},
   "source": [
    "With so few points it is difficult to make any sensible judgement about what that means. But maybe things will make sense and calm down after a while (before we saw that with only 16 walkers it took something like 80 steps)."
   ]
  },
  {
   "cell_type": "markdown",
   "metadata": {},
   "source": [
    "# Trying out some parallel MCMC\n",
    "\n",
    "First, following the advice here: https://emcee.readthedocs.io/en/latest/tutorials/parallel/\n",
    "I am going to turn off potential automatic parallelization from NumPy (in case it is happening)."
   ]
  },
  {
   "cell_type": "code",
   "execution_count": 4,
   "metadata": {
    "collapsed": true
   },
   "outputs": [],
   "source": [
    "import os\n",
    "os.environ[\"OMP_NUM_THREADS\"] = \"1\""
   ]
  },
  {
   "cell_type": "code",
   "execution_count": 3,
   "metadata": {},
   "outputs": [
    {
     "name": "stdout",
     "output_type": "stream",
     "text": [
      "3.0rc2\n"
     ]
    }
   ],
   "source": [
    "import emcee\n",
    "print(emcee.__version__)"
   ]
  },
  {
   "cell_type": "markdown",
   "metadata": {},
   "source": [
    "Alright, we need to make sure we have the '3.0rc2' version of emcee. If you haven't got it, pip uninstall your old version of emcee, and reinstall from git using pip install git+git://github.com/dfm/emcee.git\n",
    "\n",
    "Now, we just are going to try out the sample code from the emcee docs: https://emcee.readthedocs.io/en/latest/tutorials/parallel/\n",
    "\n",
    "NOTE: this first example only deals with one machine, using multiple cores. To distribute on a cluster, you need to use the MPIPool from **schwimmbad** library (which you need to install first)."
   ]
  },
  {
   "cell_type": "code",
   "execution_count": 27,
   "metadata": {},
   "outputs": [
    {
     "name": "stderr",
     "output_type": "stream",
     "text": [
      "100%|██████████| 100/100 [00:21<00:00,  4.68it/s]"
     ]
    },
    {
     "name": "stdout",
     "output_type": "stream",
     "text": [
      "Serial took 21.4 seconds\n"
     ]
    },
    {
     "name": "stderr",
     "output_type": "stream",
     "text": [
      "\n"
     ]
    }
   ],
   "source": [
    "def log_prob(theta):\n",
    "    t = time.time() + np.random.uniform(0.005, 0.008)\n",
    "    while True:\n",
    "        if time.time() >= t:\n",
    "            break\n",
    "    return -0.5*np.sum(theta**2)\n",
    "\n",
    "np.random.seed(42)\n",
    "initial = np.random.randn(32, 5)\n",
    "nwalkers, ndim = initial.shape\n",
    "nsteps = 100\n",
    "\n",
    "sampler = emcee.EnsembleSampler(nwalkers, ndim, log_prob)\n",
    "start = time.time()\n",
    "sampler.run_mcmc(initial, nsteps, progress=True)\n",
    "end = time.time()\n",
    "serial_time = end - start\n",
    "print(\"Serial took {0:.1f} seconds\".format(serial_time))"
   ]
  },
  {
   "cell_type": "code",
   "execution_count": 28,
   "metadata": {},
   "outputs": [
    {
     "name": "stderr",
     "output_type": "stream",
     "text": [
      "100%|██████████| 100/100 [00:06<00:00, 14.72it/s]\n"
     ]
    },
    {
     "name": "stdout",
     "output_type": "stream",
     "text": [
      "Multiprocessing took 6.9 seconds\n",
      "3.1 times faster than serial\n"
     ]
    }
   ],
   "source": [
    "from multiprocessing import Pool\n",
    "\n",
    "with Pool() as pool:\n",
    "    sampler = emcee.EnsembleSampler(nwalkers, ndim, log_prob, pool=pool)\n",
    "    start = time.time()\n",
    "    sampler.run_mcmc(initial, nsteps, progress=True)\n",
    "    end = time.time()\n",
    "    multi_time = end - start\n",
    "    print(\"Multiprocessing took {0:.1f} seconds\".format(multi_time))\n",
    "    print(\"{0:.1f} times faster than serial\".format(serial_time / multi_time))"
   ]
  },
  {
   "cell_type": "code",
   "execution_count": 29,
   "metadata": {},
   "outputs": [
    {
     "name": "stdout",
     "output_type": "stream",
     "text": [
      "4 CPUs\n"
     ]
    }
   ],
   "source": [
    "from multiprocessing import cpu_count\n",
    "ncpu = cpu_count()\n",
    "print(\"{0} CPUs\".format(ncpu))"
   ]
  },
  {
   "cell_type": "markdown",
   "metadata": {},
   "source": [
    "## How you would go about setting this up to run on a cluster\n",
    "\n",
    "In this example from the emcee docs, it actually writes out a script (which you could just write elsewhere) and then executes it. "
   ]
  },
  {
   "cell_type": "code",
   "execution_count": 39,
   "metadata": {},
   "outputs": [
    {
     "ename": "SyntaxError",
     "evalue": "invalid syntax (<ipython-input-39-a91da9052fe9>, line 33)",
     "output_type": "error",
     "traceback": [
      "\u001b[0;36m  File \u001b[0;32m\"<ipython-input-39-a91da9052fe9>\"\u001b[0;36m, line \u001b[0;32m33\u001b[0m\n\u001b[0;31m    mpi_time = mpiexec -n {ncpu} python test_cluster_script.py\u001b[0m\n\u001b[0m                          ^\u001b[0m\n\u001b[0;31mSyntaxError\u001b[0m\u001b[0;31m:\u001b[0m invalid syntax\n"
     ]
    }
   ],
   "source": [
    "with open(\"test_cluster_script.py\", \"w\") as f:\n",
    "    f.write(\"\"\"\n",
    "import sys\n",
    "import time\n",
    "import emcee\n",
    "import numpy as np\n",
    "from schwimmbad import MPIPool\n",
    "\n",
    "def log_prob(theta):\n",
    "    t = time.time() + np.random.uniform(0.005, 0.008)\n",
    "    while True:\n",
    "        if time.time() >= t:\n",
    "            break\n",
    "    return -0.5*np.sum(theta**2)\n",
    "\n",
    "with MPIPool() as pool:\n",
    "    if not pool.is_master():\n",
    "        pool.wait()\n",
    "        sys.exit(0)\n",
    "\n",
    "    np.random.seed(42)\n",
    "    initial = np.random.randn(32, 5)\n",
    "    nwalkers, ndim = initial.shape\n",
    "    nsteps = 100\n",
    "\n",
    "    sampler = emcee.EnsembleSampler(nwalkers, ndim, log_prob, pool=pool)\n",
    "    start = time.time()\n",
    "    sampler.run_mcmc(initial, nsteps)\n",
    "    end = time.time()\n",
    "    print(end - start)\n",
    "\"\"\")\n",
    "\n",
    "mpi_time = !mpiexec -n {ncpu} python test_cluster_script.py\n",
    "mpi_time = float(mpi_time[0])\n",
    "print(\"MPI took {0:.1f} seconds\".format(mpi_time))\n",
    "print(\"{0:.1f} times faster than serial\".format(serial_time / mpi_time))"
   ]
  },
  {
   "cell_type": "markdown",
   "metadata": {},
   "source": [
    "Alright, the only way we can really do this properly is on the cluster!"
   ]
  },
  {
   "cell_type": "code",
   "execution_count": null,
   "metadata": {
    "collapsed": true
   },
   "outputs": [],
   "source": []
  }
 ],
 "metadata": {
  "kernelspec": {
   "display_name": "Python 3",
   "language": "python",
   "name": "python3"
  },
  "language_info": {
   "codemirror_mode": {
    "name": "ipython",
    "version": 3
   },
   "file_extension": ".py",
   "mimetype": "text/x-python",
   "name": "python",
   "nbconvert_exporter": "python",
   "pygments_lexer": "ipython3",
   "version": "3.6.3"
  }
 },
 "nbformat": 4,
 "nbformat_minor": 2
}
