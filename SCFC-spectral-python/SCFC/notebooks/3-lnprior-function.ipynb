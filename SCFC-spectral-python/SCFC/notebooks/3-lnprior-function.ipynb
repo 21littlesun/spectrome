{
 "cells": [
  {
   "cell_type": "markdown",
   "metadata": {},
   "source": [
    "# 3. Designing the ln(prior) function\n",
    "\n",
    "Following the exploration of the existing data we have on parameter values, we are going to design a function that takes the list of parameter values and returns ln(prior) for the whole set, or the sum over all the -ln(priors) for each individual parameter. \n",
    "\n",
    "To allow a variation in the form of the distribution and it's shape for each parameter, in addition to the list of parameter values itself (which are going to be randomly selected by the MCMC), we shall pass a dictionary of values for the parameter's distributions, param_dists.\n",
    "\n",
    "The functions here are now in **inverse/priors.py**.\n",
    "\n",
    "For an understanding of eg. the form of the ln(prior) function, go to the MCMC Hammer Example notebook."
   ]
  },
  {
   "cell_type": "code",
   "execution_count": 1,
   "metadata": {
    "collapsed": true
   },
   "outputs": [],
   "source": [
    "from scipy import stats\n",
    "import math\n",
    "import numpy as np"
   ]
  },
  {
   "cell_type": "markdown",
   "metadata": {},
   "source": [
    "For now I will define the dictionary by hand. Automated creation to be included in future. "
   ]
  },
  {
   "cell_type": "code",
   "execution_count": 2,
   "metadata": {
    "collapsed": true
   },
   "outputs": [],
   "source": [
    "param_dists = {'tau_e':{'type':'gamma','alpha':2, 'loc':0.004492887509221829, 'scale':0.0032375996670863947},\n",
    "    'tau_i':{'type':'gamma','alpha':2.006014687419703, 'loc':0.004662441067103153, 'scale':0.0025497764353055712},\n",
    "              'alpha':{'type':'uniform','lower':0, 'upper':5},\n",
    "              'speed':{'type':'uniform','lower':0, 'upper':25},\n",
    "              'gei':{'type':'uniform','lower':0, 'upper':10},\n",
    "              'gii':{'type':'uniform','lower':0, 'upper':10},\n",
    "              'tauC':{'type':'gamma','alpha':2, 'loc':0.004211819821836749, 'scale':0.0029499360144432463}}"
   ]
  },
  {
   "cell_type": "code",
   "execution_count": 3,
   "metadata": {},
   "outputs": [
    {
     "data": {
      "text/plain": [
       "2.006014687419703"
      ]
     },
     "execution_count": 3,
     "metadata": {},
     "output_type": "execute_result"
    }
   ],
   "source": [
    "param_dists['tau_i']['alpha']"
   ]
  },
  {
   "cell_type": "code",
   "execution_count": 4,
   "metadata": {
    "collapsed": true
   },
   "outputs": [],
   "source": [
    "def lnpriors_test(params, param_dists):\n",
    "    taui = params[0]\n",
    "    taui = (taui - param_dists['tau_i']['loc'])/param_dists['tau_i']['scale']\n",
    "    p = stats.gamma.pdf(taui, param_dists['tau_i']['alpha'])\n",
    "    return -math.log(p)"
   ]
  },
  {
   "cell_type": "code",
   "execution_count": 5,
   "metadata": {},
   "outputs": [
    {
     "data": {
      "text/plain": [
       "1.3526922972688127"
      ]
     },
     "execution_count": 5,
     "metadata": {},
     "output_type": "execute_result"
    }
   ],
   "source": [
    "params = [0.01, 0.01, 0.010]\n",
    "lnpriors_test(params, param_dists)"
   ]
  },
  {
   "cell_type": "code",
   "execution_count": 1,
   "metadata": {
    "collapsed": true
   },
   "outputs": [],
   "source": [
    "def lnprior_gamma(param, key, param_dists):\n",
    "    print(key)\n",
    "    tau = param\n",
    "    x = (tau - param_dists[key]['loc'])/param_dists[key]['scale']\n",
    "    print(x, type(x))\n",
    "    p = stats.gamma.pdf(x, param_dists[key]['alpha'])\n",
    "    p = p.astype(float)\n",
    "    print('p = ', p, type(p))\n",
    "    if p == 0:\n",
    "        return -np.inf #use the same as for outside uniform distribution bounds\n",
    "    return math.log(p)"
   ]
  },
  {
   "cell_type": "code",
   "execution_count": 25,
   "metadata": {
    "collapsed": true
   },
   "outputs": [],
   "source": [
    "def lnprior_uniform(param, key, param_dists):\n",
    "    print(key)\n",
    "    print(param)\n",
    "    if param_dists[key]['lower'] < param < param_dists[key]['upper']:\n",
    "        return 0.0\n",
    "    return -np.inf"
   ]
  },
  {
   "cell_type": "markdown",
   "metadata": {},
   "source": [
    "We now sum over the parameters, adding together the -ln(prior)."
   ]
  },
  {
   "cell_type": "code",
   "execution_count": 26,
   "metadata": {
    "collapsed": true
   },
   "outputs": [],
   "source": [
    "def lnpriors(params, param_dists):\n",
    "    i = 0\n",
    "    neg_lnprior = 0\n",
    "    priorlist = []\n",
    "    for key in param_dists.keys():\n",
    "        if param_dists[key]['type'] == 'gamma':\n",
    "            print(params[i], type(params[i]))\n",
    "            neg_lnp = lnprior_gamma(params[i], key, param_dists)\n",
    "        elif param_dists[key]['type'] == 'uniform':\n",
    "            print(params[i], type(params[i]))\n",
    "            neg_lnp = lnprior_uniform(params[i], key, param_dists)\n",
    "        priorlist.append(neg_lnp)\n",
    "        neg_lnprior += neg_lnp\n",
    "        i += 1\n",
    "    return neg_lnprior, priorlist"
   ]
  },
  {
   "cell_type": "markdown",
   "metadata": {},
   "source": [
    "Test using the default parameter set cast as a list:"
   ]
  },
  {
   "cell_type": "code",
   "execution_count": 27,
   "metadata": {
    "collapsed": true
   },
   "outputs": [],
   "source": [
    "params = []\n",
    "ntf_params = {'tau_e':0.012,\n",
    "                           'tau_i':0.003,\n",
    "                           'alpha':1.0,\n",
    "                           'speed':5.0,\n",
    "                           'gei':4.0,\n",
    "                           'gii':1.0,\n",
    "                           'tauC':0.006\n",
    "                           }\n",
    "for key, value in ntf_params.items():\n",
    "    temp = [key,value]\n",
    "    params.append(value)"
   ]
  },
  {
   "cell_type": "code",
   "execution_count": 28,
   "metadata": {},
   "outputs": [
    {
     "data": {
      "text/plain": [
       "[0.012, 0.003, 1.0, 5.0, 4.0, 1.0, 0.006]"
      ]
     },
     "execution_count": 28,
     "metadata": {},
     "output_type": "execute_result"
    }
   ],
   "source": [
    "params"
   ]
  },
  {
   "cell_type": "code",
   "execution_count": 29,
   "metadata": {},
   "outputs": [
    {
     "name": "stdout",
     "output_type": "stream",
     "text": [
      "0.012 <class 'float'>\n",
      "tau_e\n",
      "2.3187278424494124 <class 'float'>\n",
      "p =  0.22815976974510077 <class 'numpy.float64'>\n",
      "0.003 <class 'float'>\n",
      "tau_i\n",
      "-0.651994835344818 <class 'float'>\n",
      "p =  0.0 <class 'numpy.float64'>\n",
      "1.0 <class 'float'>\n",
      "alpha\n",
      "1.0\n",
      "5.0 <class 'float'>\n",
      "speed\n",
      "5.0\n",
      "4.0 <class 'float'>\n",
      "gei\n",
      "4.0\n",
      "1.0 <class 'float'>\n",
      "gii\n",
      "1.0\n",
      "0.006 <class 'float'>\n",
      "tauC\n",
      "0.6061759202261008 <class 'float'>\n",
      "p =  0.3306281470707985 <class 'numpy.float64'>\n"
     ]
    }
   ],
   "source": [
    "neg_lnprior, priorlist = lnpriors(params, param_dists)"
   ]
  },
  {
   "cell_type": "markdown",
   "metadata": {},
   "source": [
    "For now we will use these as a first pass on prior functions (ideally I want to make something a bit more flexible and less hard-coded)."
   ]
  },
  {
   "cell_type": "code",
   "execution_count": 30,
   "metadata": {},
   "outputs": [
    {
     "data": {
      "text/plain": [
       "-inf"
      ]
     },
     "execution_count": 30,
     "metadata": {},
     "output_type": "execute_result"
    }
   ],
   "source": [
    "neg_lnprior"
   ]
  },
  {
   "cell_type": "markdown",
   "metadata": {},
   "source": [
    "This is -inf because tau_i is outside the range that belongs to the chosen distribution. To check, let's change it to something within the distribution."
   ]
  },
  {
   "cell_type": "code",
   "execution_count": 31,
   "metadata": {
    "collapsed": true
   },
   "outputs": [],
   "source": [
    "params = []\n",
    "ntf_params = {'tau_e':0.012,\n",
    "                           'tau_i':0.006,\n",
    "                           'alpha':1.0,\n",
    "                           'speed':5.0,\n",
    "                           'gei':4.0,\n",
    "                           'gii':1.0,\n",
    "                           'tauC':0.006\n",
    "                           }\n",
    "for key, value in ntf_params.items():\n",
    "    temp = [key,value]\n",
    "    params.append(value)"
   ]
  },
  {
   "cell_type": "code",
   "execution_count": 32,
   "metadata": {},
   "outputs": [
    {
     "name": "stdout",
     "output_type": "stream",
     "text": [
      "0.012 <class 'float'>\n",
      "tau_e\n",
      "2.3187278424494124 <class 'float'>\n",
      "p =  0.22815976974510077 <class 'numpy.float64'>\n",
      "0.006 <class 'float'>\n",
      "tau_i\n",
      "0.5245789059684957 <class 'float'>\n",
      "p =  0.308456846520475 <class 'numpy.float64'>\n",
      "1.0 <class 'float'>\n",
      "alpha\n",
      "1.0\n",
      "5.0 <class 'float'>\n",
      "speed\n",
      "5.0\n",
      "4.0 <class 'float'>\n",
      "gei\n",
      "4.0\n",
      "1.0 <class 'float'>\n",
      "gii\n",
      "1.0\n",
      "0.006 <class 'float'>\n",
      "tauC\n",
      "0.6061759202261008 <class 'float'>\n",
      "p =  0.3306281470707985 <class 'numpy.float64'>\n"
     ]
    }
   ],
   "source": [
    "neg_lnprior, priorlist = lnpriors(params, param_dists)"
   ]
  },
  {
   "cell_type": "code",
   "execution_count": 33,
   "metadata": {},
   "outputs": [
    {
     "data": {
      "text/plain": [
       "3.760643435842928"
      ]
     },
     "execution_count": 33,
     "metadata": {},
     "output_type": "execute_result"
    }
   ],
   "source": [
    "neg_lnprior"
   ]
  },
  {
   "cell_type": "markdown",
   "metadata": {},
   "source": [
    "Let's change them again to make sure things are changing."
   ]
  },
  {
   "cell_type": "code",
   "execution_count": 37,
   "metadata": {
    "collapsed": true
   },
   "outputs": [],
   "source": [
    "params = []\n",
    "ntf_params = {'tau_e':0.008,\n",
    "                           'tau_i':0.008,\n",
    "                           'alpha':1.0,\n",
    "                           'speed':9.0,\n",
    "                           'gei':5.0,\n",
    "                           'gii':1.5,\n",
    "                           'tauC':0.006\n",
    "                           }\n",
    "for key, value in ntf_params.items():\n",
    "    temp = [key,value]\n",
    "    params.append(value)"
   ]
  },
  {
   "cell_type": "code",
   "execution_count": 38,
   "metadata": {},
   "outputs": [
    {
     "name": "stdout",
     "output_type": "stream",
     "text": [
      "0.008 <class 'float'>\n",
      "tau_e\n",
      "1.083244641526146 <class 'float'>\n",
      "p =  0.36667337757112467 <class 'numpy.float64'>\n",
      "0.008 <class 'float'>\n",
      "tau_i\n",
      "1.3089614001773715 <class 'float'>\n",
      "p =  0.3532205569009234 <class 'numpy.float64'>\n",
      "1.0 <class 'float'>\n",
      "alpha\n",
      "1.0\n",
      "9.0 <class 'float'>\n",
      "speed\n",
      "9.0\n",
      "5.0 <class 'float'>\n",
      "gei\n",
      "5.0\n",
      "1.5 <class 'float'>\n",
      "gii\n",
      "1.5\n",
      "0.006 <class 'float'>\n",
      "tauC\n",
      "0.6061759202261008 <class 'float'>\n",
      "p =  0.3306281470707985 <class 'numpy.float64'>\n"
     ]
    }
   ],
   "source": [
    "neg_lnprior, priorlist = lnpriors(params, param_dists)"
   ]
  },
  {
   "cell_type": "code",
   "execution_count": 39,
   "metadata": {},
   "outputs": [
    {
     "data": {
      "text/plain": [
       "3.1507073745035754"
      ]
     },
     "execution_count": 39,
     "metadata": {},
     "output_type": "execute_result"
    }
   ],
   "source": [
    "neg_lnprior"
   ]
  },
  {
   "cell_type": "code",
   "execution_count": null,
   "metadata": {
    "collapsed": true
   },
   "outputs": [],
   "source": []
  }
 ],
 "metadata": {
  "kernelspec": {
   "display_name": "Python 3",
   "language": "python",
   "name": "python3"
  },
  "language_info": {
   "codemirror_mode": {
    "name": "ipython",
    "version": 3
   },
   "file_extension": ".py",
   "mimetype": "text/x-python",
   "name": "python",
   "nbconvert_exporter": "python",
   "pygments_lexer": "ipython3",
   "version": "3.6.3"
  }
 },
 "nbformat": 4,
 "nbformat_minor": 2
}
