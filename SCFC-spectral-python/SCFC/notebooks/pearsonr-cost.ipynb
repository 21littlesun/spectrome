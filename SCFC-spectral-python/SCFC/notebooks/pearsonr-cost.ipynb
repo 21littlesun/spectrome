{
 "cells": [
  {
   "cell_type": "markdown",
   "metadata": {},
   "source": [
    "# Pearsonr cost function\n",
    "\n",
    "Going through a full cost function calculation to develop functions/check things are working. Functions will be placed in 'inverse/cost.py'\n",
    "\n",
    "First, quickly go through the process of importing and sorting data, re-ordering, down-sampling and running the model for the resulting frequencies. This is all included in the script ''."
   ]
  },
  {
   "cell_type": "code",
   "execution_count": 1,
   "metadata": {
    "collapsed": true
   },
   "outputs": [],
   "source": [
    "import sys, os\n",
    "sys.path.append(\"..\")\n",
    "\n",
    "#SCFC modules\n",
    "from forward import network_transfer as nt\n",
    "from utils import path as pth\n",
    "from utils import functions\n",
    "from brain import Brain\n",
    "from preprocess import permute\n",
    "\n",
    "#generic modules\n",
    "import matplotlib.pyplot as mpl\n",
    "%matplotlib inline\n",
    "import numpy as np\n",
    "import math\n",
    "from scipy.signal import detrend\n",
    "from scipy.stats import pearsonr"
   ]
  },
  {
   "cell_type": "code",
   "execution_count": 2,
   "metadata": {
    "collapsed": true
   },
   "outputs": [],
   "source": [
    "MEG_path = '/Users/Megan/RajLab/MEG-chang' #insert appropriate path here.\n",
    "directories = pth.walk_tree(MEG_path)\n",
    "data = 'DK_timecourse_20_filtered.h5'\n",
    "freqs = 'DK_timecourse_20_filterfreqs.h5'\n",
    "\n",
    "dir = directories[0]\n",
    "abspath = os.path.join(MEG_path,dir)\n",
    "data_path = os.path.join(abspath, data)\n",
    "FMEGdata = pth.read_hdf5(data_path)\n",
    "freq_path = os.path.join(abspath, freqs)\n",
    "f = pth.read_hdf5(freq_path)"
   ]
  }
 ],
 "metadata": {
  "kernelspec": {
   "display_name": "Python 3",
   "language": "python",
   "name": "python3"
  },
  "language_info": {
   "codemirror_mode": {
    "name": "ipython",
    "version": 3
   },
   "file_extension": ".py",
   "mimetype": "text/x-python",
   "name": "python",
   "nbconvert_exporter": "python",
   "pygments_lexer": "ipython3",
   "version": "3.6.3"
  }
 },
 "nbformat": 4,
 "nbformat_minor": 2
}
