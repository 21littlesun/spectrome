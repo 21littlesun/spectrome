{
 "cells": [
  {
   "cell_type": "markdown",
   "metadata": {},
   "source": [
    "# Running the spectral graph model using the classes branch. "
   ]
  },
  {
   "cell_type": "markdown",
   "metadata": {},
   "source": [
    "Trying out functionality to debug. "
   ]
  },
  {
   "cell_type": "markdown",
   "metadata": {},
   "source": [
    "### Import modules"
   ]
  },
  {
   "cell_type": "code",
   "execution_count": 1,
   "metadata": {},
   "outputs": [],
   "source": [
    "import sys,os\n",
    "sys.path.append(\"..\")\n",
    "\n",
    "#SCFC modules\n",
    "from forward import network_transfer as nt\n",
    "from utils import functions\n",
    "from brain import Brain\n",
    "from read import data_reader as dr\n",
    "from preprocess import permute as perm \n",
    "from utils import path as pth\n",
    "from preprocess import filters\n",
    "\n",
    "#generic modules\n",
    "import matplotlib.pyplot as mpl\n",
    "%matplotlib inline\n",
    "import numpy as np\n",
    "from scipy.signal import lfilter, firls, decimate\n",
    "import time"
   ]
  },
  {
   "cell_type": "markdown",
   "metadata": {},
   "source": [
    "### Create an instance of a brain and do basic operations."
   ]
  },
  {
   "cell_type": "code",
   "execution_count": 2,
   "metadata": {
    "collapsed": true
   },
   "outputs": [],
   "source": [
    "mybrain = Brain.Brain()"
   ]
  },
  {
   "cell_type": "code",
   "execution_count": 3,
   "metadata": {
    "collapsed": true
   },
   "outputs": [],
   "source": [
    "directory = pth.get_sibling_path('data')"
   ]
  },
  {
   "cell_type": "code",
   "execution_count": 4,
   "metadata": {
    "collapsed": true
   },
   "outputs": [],
   "source": [
    "mybrain.add_connectome(directory)"
   ]
  },
  {
   "cell_type": "code",
   "execution_count": 5,
   "metadata": {},
   "outputs": [
    {
     "data": {
      "text/plain": [
       "7396"
      ]
     },
     "execution_count": 5,
     "metadata": {},
     "output_type": "execute_result"
    }
   ],
   "source": [
    "mybrain.connectome.size"
   ]
  },
  {
   "cell_type": "markdown",
   "metadata": {},
   "source": [
    "Let's reorder the connectome moving the 18 subcortical regions to the end. The first 68 regions (86 - 18) are therefore the important ones!"
   ]
  },
  {
   "cell_type": "code",
   "execution_count": 15,
   "metadata": {
    "collapsed": true
   },
   "outputs": [],
   "source": [
    "mybrain.reorder_connectome(mybrain.connectome, mybrain.distance_matrix)"
   ]
  },
  {
   "cell_type": "code",
   "execution_count": 16,
   "metadata": {},
   "outputs": [
    {
     "data": {
      "text/plain": [
       "(86, 86)"
      ]
     },
     "execution_count": 16,
     "metadata": {},
     "output_type": "execute_result"
    }
   ],
   "source": [
    "mybrain.distance_matrix.shape"
   ]
  },
  {
   "cell_type": "markdown",
   "metadata": {},
   "source": [
    "This now reordered sequence of regions should be the same as in the `HCP_list` file. Let's save this ordering into the `ordering` attribute using `mybrain.add_ordering`"
   ]
  },
  {
   "cell_type": "code",
   "execution_count": 22,
   "metadata": {},
   "outputs": [],
   "source": [
    "label_path = pth.get_sibling_path('dictionaries')\n",
    "HCP_order = os.path.join(label_path, 'HCP_list.h5')\n",
    "mybrain.add_ordering(HCP_order)"
   ]
  },
  {
   "cell_type": "code",
   "execution_count": 23,
   "metadata": {},
   "outputs": [
    {
     "data": {
      "text/plain": [
       "['LHbankssts',\n",
       " 'LHcaudalanteriorcingulate',\n",
       " 'LHcaudalmiddlefrontal',\n",
       " 'LHcuneus',\n",
       " 'LHentorhinal',\n",
       " 'LHfusiform',\n",
       " 'LHinferiorparietal',\n",
       " 'LHinferiortemporal',\n",
       " 'LHisthmuscingulate',\n",
       " 'LHlateraloccipital',\n",
       " 'LHlateralorbitofrontal',\n",
       " 'LHlingual',\n",
       " 'LHmedialorbitofrontal',\n",
       " 'LHmiddletemporal',\n",
       " 'LHparahippocampal',\n",
       " 'LHparacentral',\n",
       " 'LHparsopercularis',\n",
       " 'LHparsorbitalis',\n",
       " 'LHparstriangularis',\n",
       " 'LHpericalcarine',\n",
       " 'LHpostcentral',\n",
       " 'LHposteriorcingulate',\n",
       " 'LHprecentral',\n",
       " 'LHprecuneus',\n",
       " 'LHrostralanteriorcingulate',\n",
       " 'LHrostralmiddlefrontal',\n",
       " 'LHsuperiorfrontal',\n",
       " 'LHsuperiorparietal',\n",
       " 'LHsuperiortemporal',\n",
       " 'LHsupramarginal',\n",
       " 'LHfrontalpole',\n",
       " 'LHtemporalpole',\n",
       " 'LHtransversetemporal',\n",
       " 'LHinsula',\n",
       " 'RHbankssts',\n",
       " 'RHcaudalanteriorcingulate',\n",
       " 'RHcaudalmiddlefrontal',\n",
       " 'RHcuneus',\n",
       " 'RHentorhinal',\n",
       " 'RHfusiform',\n",
       " 'RHinferiorparietal',\n",
       " 'RHinferiortemporal',\n",
       " 'RHisthmuscingulate',\n",
       " 'RHlateraloccipital',\n",
       " 'RHlateralorbitofrontal',\n",
       " 'RHlingual',\n",
       " 'RHmedialorbitofrontal',\n",
       " 'RHmiddletemporal',\n",
       " 'RHparahippocampal',\n",
       " 'RHparacentral',\n",
       " 'RHparsopercularis',\n",
       " 'RHparsorbitalis',\n",
       " 'RHparstriangularis',\n",
       " 'RHpericalcarine',\n",
       " 'RHpostcentral',\n",
       " 'RHposteriorcingulate',\n",
       " 'RHprecentral',\n",
       " 'RHprecuneus',\n",
       " 'RHrostralanteriorcingulate',\n",
       " 'RHrostralmiddlefrontal',\n",
       " 'RHsuperiorfrontal',\n",
       " 'RHsuperiorparietal',\n",
       " 'RHsuperiortemporal',\n",
       " 'RHsupramarginal',\n",
       " 'RHfrontalpole',\n",
       " 'RHtemporalpole',\n",
       " 'RHtransversetemporal',\n",
       " 'RHinsula',\n",
       " 'Left-Cerebellum-Cortex',\n",
       " 'Left-Thalamus-Proper',\n",
       " 'Left-Caudate',\n",
       " 'Left-Putamen',\n",
       " 'Left-Pallidum',\n",
       " 'Left-Hippocampus',\n",
       " 'Left-Amygdala',\n",
       " 'Left-Accumbens-area',\n",
       " 'Left-VentralDC',\n",
       " 'Right-Cerebellum-Cortex',\n",
       " 'Right-Thalamus-Proper',\n",
       " 'Right-Caudate',\n",
       " 'Right-Putamen',\n",
       " 'Right-Pallidum',\n",
       " 'Right-Hippocampus',\n",
       " 'Right-Amygdala',\n",
       " 'Right-Accumbens-area',\n",
       " 'Right-VentralDC']"
      ]
     },
     "execution_count": 23,
     "metadata": {},
     "output_type": "execute_result"
    }
   ],
   "source": [
    "mybrain.ordering"
   ]
  },
  {
   "cell_type": "code",
   "execution_count": 24,
   "metadata": {},
   "outputs": [
    {
     "data": {
      "text/plain": [
       "dict_keys(['connectome', 'reducedConnectome', 'distance_matrix', 'permutation', 'ordering', 'ntf_params'])"
      ]
     },
     "execution_count": 24,
     "metadata": {},
     "output_type": "execute_result"
    }
   ],
   "source": [
    "vars(mybrain).keys()"
   ]
  },
  {
   "cell_type": "markdown",
   "metadata": {},
   "source": [
    "Get the reduced form of the connectome using these mysterious functions. "
   ]
  },
  {
   "cell_type": "code",
   "execution_count": 25,
   "metadata": {},
   "outputs": [
    {
     "data": {
      "text/plain": [
       "array([0.  , 0.35, 6.35])"
      ]
     },
     "execution_count": 25,
     "metadata": {},
     "output_type": "execute_result"
    }
   ],
   "source": [
    "mybrain.connectome[0][:3]"
   ]
  },
  {
   "cell_type": "code",
   "execution_count": 26,
   "metadata": {
    "collapsed": true
   },
   "outputs": [],
   "source": [
    "mybrain.bi_symmetric_c()\n",
    "mybrain.reduce_extreme_dir()"
   ]
  },
  {
   "cell_type": "markdown",
   "metadata": {},
   "source": [
    "### Running the network transfer model on the brain class"
   ]
  },
  {
   "cell_type": "markdown",
   "metadata": {},
   "source": [
    "Do the calculation of the NTF for a single frequency."
   ]
  },
  {
   "cell_type": "code",
   "execution_count": null,
   "metadata": {
    "collapsed": true
   },
   "outputs": [],
   "source": [
    "fq, ev, Vv, freqresp_out, _ = nt.network_transfer_function(mybrain, \n",
    "                                                           parameters = mybrain.ntf_params, \n",
    "                                                           w=2*np.pi)"
   ]
  },
  {
   "cell_type": "markdown",
   "metadata": {},
   "source": [
    "OK, as before let's do it for a range of frequencies."
   ]
  },
  {
   "cell_type": "code",
   "execution_count": null,
   "metadata": {},
   "outputs": [],
   "source": [
    "fmin = 2 # 2Hz - 45Hz signal range\n",
    "fmax = 45\n",
    "fvec = np.linspace(fmin,fmax,40)\n",
    "\n",
    "evec = []\n",
    "Vvec =[]\n",
    "fqall = []\n",
    "freq_model = []\n",
    "\n",
    "start = time.time()\n",
    "for i in fvec:\n",
    "    w = 2*np.pi*i\n",
    "    fq, ev, Vv, freqresp_out, _ = nt.network_transfer_function(mybrain, mybrain.ntf_params, w)\n",
    "    fqall.append(fq)\n",
    "    evec.append(ev)\n",
    "    Vvec.append(Vv)\n",
    "    freq_model.append(freqresp_out)\n",
    "    \n",
    "fqall = np.asarray(fqall)\n",
    "evec = np.asarray(evec)\n",
    "Vvec = np.asarray(Vvec)\n",
    "freq_model = np.asarray(freq_model)\n",
    "freq_model = np.transpose(freq_model)\n",
    "stop = time.time()\n",
    "duration = stop - start\n",
    "\n",
    "print('Computation time = ', duration)\n",
    "# np.moveaxis(Vvec,1,0).shape #86x40x57 just like matlab"
   ]
  },
  {
   "cell_type": "markdown",
   "metadata": {},
   "source": [
    "### Plot magnitudes "
   ]
  },
  {
   "cell_type": "code",
   "execution_count": null,
   "metadata": {},
   "outputs": [],
   "source": [
    "fig = mpl.figure(num=5, figsize = (6,4))\n",
    "for g in range(len(freq_model)):\n",
    "    mpl.plot(fvec,functions.mag2db(np.abs(freq_model[g,:])))\n",
    "\n",
    "mpl.grid(True)\n",
    "mpl.xlabel('Frequency (Hz)')\n",
    "mpl.ylabel('Magnitude (dB)')\n",
    "#mpl.plot(fvec,mag2db(np.abs(freq_model)))"
   ]
  },
  {
   "cell_type": "markdown",
   "metadata": {},
   "source": [
    "### Adding some real data"
   ]
  },
  {
   "cell_type": "markdown",
   "metadata": {},
   "source": [
    "Now, we can import some real MEG data, and process it. Let's choose a random file."
   ]
  },
  {
   "cell_type": "code",
   "execution_count": null,
   "metadata": {
    "collapsed": true
   },
   "outputs": [],
   "source": [
    "filename = directory + '/MEG-chang/8002.101/DK_timecourse_20.h5'"
   ]
  },
  {
   "cell_type": "code",
   "execution_count": null,
   "metadata": {
    "collapsed": true
   },
   "outputs": [],
   "source": [
    "mybrain.add_MEG(filename)"
   ]
  },
  {
   "cell_type": "code",
   "execution_count": null,
   "metadata": {},
   "outputs": [],
   "source": [
    "label_path = pth.get_sibling_path('dictionaries')"
   ]
  },
  {
   "cell_type": "code",
   "execution_count": null,
   "metadata": {
    "collapsed": true
   },
   "outputs": [],
   "source": [
    "HCP_order = os.path.join(label_path, 'HCP_list.h5')"
   ]
  },
  {
   "cell_type": "code",
   "execution_count": null,
   "metadata": {
    "collapsed": true
   },
   "outputs": [],
   "source": [
    "mybrain.order_MEG(HCP_order)"
   ]
  },
  {
   "cell_type": "code",
   "execution_count": null,
   "metadata": {
    "collapsed": true
   },
   "outputs": [],
   "source": [
    "datakeys = list(mybrain.MEGdata.keys())"
   ]
  },
  {
   "cell_type": "markdown",
   "metadata": {},
   "source": [
    "Let's look at the order in the HCP file for comparison."
   ]
  },
  {
   "cell_type": "code",
   "execution_count": null,
   "metadata": {
    "collapsed": true
   },
   "outputs": [],
   "source": [
    "standardlist = pth.read_hdf5(HCP_order)"
   ]
  },
  {
   "cell_type": "code",
   "execution_count": null,
   "metadata": {},
   "outputs": [],
   "source": [
    "i=0\n",
    "while i < 68:\n",
    "    if datakeys[i] != standardlist[i]:\n",
    "        print('Mismatch occurred at ' + str2int(i) + '!')\n",
    "        i += 1\n",
    "    else:\n",
    "        i += 1\n",
    "    "
   ]
  },
  {
   "cell_type": "markdown",
   "metadata": {},
   "source": [
    "OK, so the matching seems to work. Let's plot the raw MEG data, so we can compare to the filtering. "
   ]
  },
  {
   "cell_type": "code",
   "execution_count": null,
   "metadata": {},
   "outputs": [],
   "source": [
    "fig1, axes1 = mpl.subplots(17,4,figsize=(15,25))\n",
    "ax1 = axes1.ravel()\n",
    "i = 0\n",
    "for key in list(mybrain.MEGdata.keys()):\n",
    "    ax1[i].plot(mybrain.MEGdata[key])\n",
    "    ax1[i].text(0,-8500, key)\n",
    "    ax1[i].set_ylim([-10000,10000])\n",
    "    i += 1"
   ]
  },
  {
   "cell_type": "markdown",
   "metadata": {},
   "source": [
    "OK, we need to apply the filter to this data so we get something a little more like what we would expect. The filter function returns the FFT'ed form (actually we're skipping the function here as it is behaving strangely -- will fix)"
   ]
  },
  {
   "cell_type": "code",
   "execution_count": null,
   "metadata": {
    "collapsed": true
   },
   "outputs": [],
   "source": [
    "fsampling=600\n",
    "fmin=2\n",
    "fmax=45\n",
    "regions =68\n",
    "fs = fsampling\n",
    "\n",
    "hbp = firls(101, np.array([0, 0.2*fmin, 0.9*fmin, fmax-2, fmax+5, 100])*2/fs, desired = np.array([0, 0, 1, 1, 0, 0])) #for detrending, a bandpass\n",
    "lpf = np.array([1, 2, 5, 2, 1])\n",
    "lpf = lpf/np.sum(lpf)\n",
    "ind_del = hbp.size "
   ]
  },
  {
   "cell_type": "code",
   "execution_count": null,
   "metadata": {
    "collapsed": true
   },
   "outputs": [],
   "source": [
    "FMEGdata = {}"
   ]
  },
  {
   "cell_type": "code",
   "execution_count": null,
   "metadata": {
    "collapsed": true
   },
   "outputs": [],
   "source": [
    "MEGdata = mybrain.MEGdata"
   ]
  },
  {
   "cell_type": "code",
   "execution_count": null,
   "metadata": {
    "collapsed": true
   },
   "outputs": [],
   "source": [
    "import nitime.algorithms as tsa"
   ]
  },
  {
   "cell_type": "code",
   "execution_count": null,
   "metadata": {},
   "outputs": [],
   "source": [
    "for key in list(MEGdata.keys()):\n",
    "        data = MEGdata[key]\n",
    "        data = data.astype(float)\n",
    "        row = np.asarray(data)\n",
    "        q = lfilter(hbp, 1, row)\n",
    "        q = q[ind_del:-1]\n",
    "        ds_q = decimate(q, 4, axis = 0)\n",
    "        f, psd, nu = tsa.multi_taper_psd(ds_q, Fs = fs/4, NW = 3, BW = 1, adaptive = False, jackknife = False)\n",
    "        Fdata = np.convolve(psd, lpf, mode = 'same')\n",
    "        FMEGdata[key] = Fdata"
   ]
  },
  {
   "cell_type": "markdown",
   "metadata": {},
   "source": [
    "Let's turn the output in to an array and then take the mean."
   ]
  },
  {
   "cell_type": "code",
   "execution_count": null,
   "metadata": {},
   "outputs": [],
   "source": [
    "length = len(FMEGdata['RHinsula'])\n",
    "length"
   ]
  },
  {
   "cell_type": "code",
   "execution_count": null,
   "metadata": {},
   "outputs": [],
   "source": [
    "FMEGarray = np.zeros((68, length))\n",
    "i = 0\n",
    "for key in list(FMEGdata.keys()):\n",
    "    FMEGarray[i,:] = FMEGdata[key]\n",
    "    i+=1"
   ]
  },
  {
   "cell_type": "code",
   "execution_count": null,
   "metadata": {
    "collapsed": true
   },
   "outputs": [],
   "source": [
    "meanfiltered = np.mean(FMEGarray, axis = 0)"
   ]
  },
  {
   "cell_type": "code",
   "execution_count": null,
   "metadata": {},
   "outputs": [],
   "source": [
    "meanfiltered.shape"
   ]
  },
  {
   "cell_type": "code",
   "execution_count": null,
   "metadata": {},
   "outputs": [],
   "source": [
    "mpl.plot(f[40:100], functions.mag2db(meanfiltered[40:100]))"
   ]
  },
  {
   "cell_type": "code",
   "execution_count": null,
   "metadata": {
    "collapsed": true
   },
   "outputs": [],
   "source": []
  }
 ],
 "metadata": {
  "kernelspec": {
   "display_name": "py36-brain",
   "language": "python",
   "name": "py36-brain"
  },
  "language_info": {
   "codemirror_mode": {
    "name": "ipython",
    "version": 3
   },
   "file_extension": ".py",
   "mimetype": "text/x-python",
   "name": "python",
   "nbconvert_exporter": "python",
   "pygments_lexer": "ipython3",
   "version": "3.6.5"
  }
 },
 "nbformat": 4,
 "nbformat_minor": 2
}
