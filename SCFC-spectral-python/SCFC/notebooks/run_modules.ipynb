{
 "cells": [
  {
   "cell_type": "markdown",
   "metadata": {},
   "source": [
    "# Running the spectral graph model using the classes branch. "
   ]
  },
  {
   "cell_type": "markdown",
   "metadata": {},
   "source": [
    "Trying out functionality to debug. "
   ]
  },
  {
   "cell_type": "markdown",
   "metadata": {},
   "source": [
    "### Import modules"
   ]
  },
  {
   "cell_type": "code",
   "execution_count": 1,
   "metadata": {},
   "outputs": [],
   "source": [
    "import sys\n",
    "sys.path.append(\"..\")\n",
    "\n",
    "#SCFC modules\n",
    "from forward import network_transfer as nt\n",
    "from utils import functions\n",
    "from brain import Brain\n",
    "from read import data_reader as dr\n",
    "from preprocess import permute as perm \n",
    "from utils import path as pth\n",
    "\n",
    "#generic modules\n",
    "import matplotlib.pyplot as mpl\n",
    "import numpy as np\n",
    "from scipy.signal import lfilter, firls, decimate\n",
    "import time"
   ]
  },
  {
   "cell_type": "markdown",
   "metadata": {},
   "source": [
    "### Create an instance of a brain and do basic operations."
   ]
  },
  {
   "cell_type": "code",
   "execution_count": 2,
   "metadata": {},
   "outputs": [],
   "source": [
    "mybrain = Brain.Brain()"
   ]
  },
  {
   "cell_type": "code",
   "execution_count": 3,
   "metadata": {},
   "outputs": [],
   "source": [
    "directory = pth.get_sibling_path('data')"
   ]
  },
  {
   "cell_type": "code",
   "execution_count": 4,
   "metadata": {},
   "outputs": [],
   "source": [
    "mybrain.add_connectome(directory)"
   ]
  },
  {
   "cell_type": "code",
   "execution_count": 5,
   "metadata": {},
   "outputs": [
    {
     "data": {
      "text/plain": [
       "7396"
      ]
     },
     "execution_count": 5,
     "metadata": {},
     "output_type": "execute_result"
    }
   ],
   "source": [
    "mybrain.connectome.size"
   ]
  },
  {
   "cell_type": "code",
   "execution_count": 6,
   "metadata": {},
   "outputs": [],
   "source": [
    "mybrain.reorder_connectome(mybrain.connectome, mybrain.distance_matrix)"
   ]
  },
  {
   "cell_type": "code",
   "execution_count": 12,
   "metadata": {},
   "outputs": [
    {
     "data": {
      "text/plain": [
       "(86, 86)"
      ]
     },
     "execution_count": 12,
     "metadata": {},
     "output_type": "execute_result"
    }
   ],
   "source": [
    "mybrain.distance_matrix.shape"
   ]
  },
  {
   "cell_type": "code",
   "execution_count": 9,
   "metadata": {},
   "outputs": [
    {
     "data": {
      "text/plain": [
       "dict_keys(['connectome', 'reducedConnectome', 'distance_matrix', 'permutation', 'ordering', 'ntf_params'])"
      ]
     },
     "execution_count": 9,
     "metadata": {},
     "output_type": "execute_result"
    }
   ],
   "source": [
    "vars(mybrain).keys()"
   ]
  },
  {
   "cell_type": "markdown",
   "metadata": {},
   "source": [
    "Get the reduced form of the connectome using these mysterious functions. "
   ]
  },
  {
   "cell_type": "code",
   "execution_count": 10,
   "metadata": {
    "collapsed": true
   },
   "outputs": [],
   "source": [
    "mybrain.bi_symmetric_c()\n",
    "mybrain.reduce_extreme_dir()"
   ]
  },
  {
   "cell_type": "markdown",
   "metadata": {},
   "source": [
    "### Running the network transfer model on the brain class"
   ]
  },
  {
   "cell_type": "markdown",
   "metadata": {},
   "source": [
    "Do the calculation of the NTF for a single frequency."
   ]
  },
  {
   "cell_type": "code",
   "execution_count": 15,
   "metadata": {},
   "outputs": [],
   "source": [
    "fq, ev, Vv, freqresp_out, _ = nt.network_transfer_function(mybrain, \n",
    "                                                           parameters = mybrain.ntf_params, \n",
    "                                                           w=2*np.pi)"
   ]
  },
  {
   "cell_type": "markdown",
   "metadata": {},
   "source": [
    "OK, as before let's do it for a range of frequencies."
   ]
  },
  {
   "cell_type": "code",
   "execution_count": 17,
   "metadata": {},
   "outputs": [
    {
     "name": "stdout",
     "output_type": "stream",
     "text": [
      "Computation time =  0.45694589614868164\n"
     ]
    }
   ],
   "source": [
    "fmin = 2 # 2Hz - 45Hz signal range\n",
    "fmax = 45\n",
    "fvec = np.linspace(fmin,fmax,40)\n",
    "\n",
    "evec = []\n",
    "Vvec =[]\n",
    "fqall = []\n",
    "freq_model = []\n",
    "\n",
    "start = time.time()\n",
    "for i in fvec:\n",
    "    w = 2*np.pi*i\n",
    "    fq, ev, Vv, freqresp_out, _ = nt.network_transfer_function(mybrain, mybrain.ntf_params, w)\n",
    "    fqall.append(fq)\n",
    "    evec.append(ev)\n",
    "    Vvec.append(Vv)\n",
    "    freq_model.append(freqresp_out)\n",
    "    \n",
    "fqall=np.asarray(fqall)\n",
    "evec = np.asarray(evec)\n",
    "Vvec = np.asarray(Vvec)\n",
    "freq_model = np.asarray(freq_model)\n",
    "freq_model = np.transpose(freq_model)\n",
    "stop = time.time()\n",
    "duration = stop - start\n",
    "\n",
    "print('Computation time = ', duration)\n",
    "# np.moveaxis(Vvec,1,0).shape #86x40x57 just like matlab"
   ]
  },
  {
   "cell_type": "code",
   "execution_count": null,
   "metadata": {
    "collapsed": true
   },
   "outputs": [],
   "source": []
  }
 ],
 "metadata": {
  "kernelspec": {
   "display_name": "Python 3",
   "language": "python",
   "name": "python3"
  },
  "language_info": {
   "codemirror_mode": {
    "name": "ipython",
    "version": 3
   },
   "file_extension": ".py",
   "mimetype": "text/x-python",
   "name": "python",
   "nbconvert_exporter": "python",
   "pygments_lexer": "ipython3",
   "version": "3.6.3"
  }
 },
 "nbformat": 4,
 "nbformat_minor": 2
}
