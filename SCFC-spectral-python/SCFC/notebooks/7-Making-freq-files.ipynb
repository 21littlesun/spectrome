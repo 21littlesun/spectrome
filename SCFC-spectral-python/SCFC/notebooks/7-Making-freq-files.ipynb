{
 "cells": [
  {
   "cell_type": "markdown",
   "metadata": {},
   "source": [
    "<div style=\"text-align: right\"> 12/17/2018 </div> \n",
    "# 7. Converting downsampled frequency matfile to a set of correctly (HCP)-ordered dictionaries\n",
    "\n",
    "The files will then be importable and will not require further processing. Uses basic utility functions written in to the BRAIN package. Once this is done, we don't need to do it again, ideally. I added the data to the gitlab (take it off there and add to .gitignore -- I just did this to make sure everyone has it.)"
   ]
  },
  {
   "cell_type": "code",
   "execution_count": 1,
   "metadata": {
    "collapsed": true
   },
   "outputs": [],
   "source": [
    "import sys, os\n",
    "sys.path.append(\"..\")\n",
    "\n",
    "from preprocess import preprocess as pp\n",
    "from preprocess import permute\n",
    "from utils import path as pth\n",
    "from utils import functions\n",
    "\n",
    "#generic modules\n",
    "import matplotlib.pyplot as mpl\n",
    "%matplotlib inline\n",
    "from scipy.io import loadmat\n",
    "import numpy as np\n",
    "from scipy import stats\n",
    "import math\n",
    "import pandas as pd"
   ]
  },
  {
   "cell_type": "code",
   "execution_count": 2,
   "metadata": {
    "collapsed": true
   },
   "outputs": [],
   "source": [
    "FMEG_path = '/Users/Megan/RajLab/BRAIN/SCFC-spectral-python/SCFC/data/freqMEGdata.mat' #insert appropriate path here.\n",
    "label_filepath = '/Users/Megan/RajLab/BRAIN/SCFC-spectral-python/SCFC/dictionaries/OrderingAlphabetical_68ROIs.txt'\n",
    "data = loadmat(FMEG_path)"
   ]
  },
  {
   "cell_type": "markdown",
   "metadata": {},
   "source": [
    "### Finding out how to best access the structure"
   ]
  },
  {
   "cell_type": "code",
   "execution_count": 3,
   "metadata": {},
   "outputs": [
    {
     "data": {
      "text/plain": [
       "(1, 39)"
      ]
     },
     "execution_count": 3,
     "metadata": {},
     "output_type": "execute_result"
    }
   ],
   "source": [
    "data['freqMEGdata'].shape"
   ]
  },
  {
   "cell_type": "code",
   "execution_count": 28,
   "metadata": {},
   "outputs": [
    {
     "name": "stdout",
     "output_type": "stream",
     "text": [
      "[[207.40555223 112.04169602  78.68421254 ...  41.9649025   36.62201405\n",
      "   28.79667679]\n",
      " [104.81741115 111.23873788  98.25091692 ...  21.61562307  13.51546009\n",
      "    5.91221225]\n",
      " [136.37605662 105.40663604 126.90454504 ...  18.85706211   8.29085297\n",
      "    3.71796781]\n",
      " ...\n",
      " [249.01677792 199.19023534 240.82173539 ...  17.9340072   10.85342461\n",
      "    6.82913285]\n",
      " [ 39.6609094   52.78331371  94.21488461 ...   9.23975365   5.00805492\n",
      "    3.27270123]\n",
      " [ 92.57309715 134.75379333 245.78013457 ...  20.93967675  14.36975514\n",
      "    9.50631562]]\n"
     ]
    }
   ],
   "source": [
    "print(data['freqMEGdata'][0][1][0]) #how to get the patient data as a 68x40 array"
   ]
  },
  {
   "cell_type": "code",
   "execution_count": 37,
   "metadata": {},
   "outputs": [
    {
     "data": {
      "text/plain": [
       "numpy.str_"
      ]
     },
     "execution_count": 37,
     "metadata": {},
     "output_type": "execute_result"
    }
   ],
   "source": [
    "type(data['freqMEGdata'][0][1][1][0]) #how to get the patient number as a string."
   ]
  },
  {
   "cell_type": "code",
   "execution_count": 41,
   "metadata": {},
   "outputs": [
    {
     "data": {
      "text/plain": [
       "'8008.101'"
      ]
     },
     "execution_count": 41,
     "metadata": {},
     "output_type": "execute_result"
    }
   ],
   "source": [
    "str(data['freqMEGdata'][0][1][1][0]).strip()"
   ]
  },
  {
   "cell_type": "markdown",
   "metadata": {},
   "source": [
    "Also, we need to know the ordering file name."
   ]
  },
  {
   "cell_type": "code",
   "execution_count": 31,
   "metadata": {
    "collapsed": true
   },
   "outputs": [],
   "source": [
    "orderfile = '/Users/Megan/RajLab/BRAIN/SCFC-spectral-python/SCFC/dictionaries/HCP_list.h5'"
   ]
  },
  {
   "cell_type": "markdown",
   "metadata": {},
   "source": [
    "### Set up the save-out path"
   ]
  },
  {
   "cell_type": "code",
   "execution_count": 24,
   "metadata": {
    "collapsed": true
   },
   "outputs": [],
   "source": [
    "toppath = pth.get_sibling_path('data')"
   ]
  },
  {
   "cell_type": "code",
   "execution_count": 29,
   "metadata": {},
   "outputs": [
    {
     "data": {
      "text/plain": [
       "'/Users/Megan/RajLab/BRAIN/SCFC-spectral-python/SCFC/data'"
      ]
     },
     "execution_count": 29,
     "metadata": {},
     "output_type": "execute_result"
    }
   ],
   "source": [
    "toppath"
   ]
  },
  {
   "cell_type": "code",
   "execution_count": 25,
   "metadata": {
    "collapsed": true
   },
   "outputs": [],
   "source": [
    "FMEGfilename = toppath + '/freqMEGdata.mat'"
   ]
  },
  {
   "cell_type": "code",
   "execution_count": 30,
   "metadata": {
    "collapsed": true
   },
   "outputs": [],
   "source": [
    "outname = toppath + '/downsampled_patients/freqMEGdata_'"
   ]
  },
  {
   "cell_type": "markdown",
   "metadata": {},
   "source": [
    "### Loop through the array and save out the data to individual files (for easier processing)."
   ]
  },
  {
   "cell_type": "code",
   "execution_count": 50,
   "metadata": {},
   "outputs": [
    {
     "name": "stdout",
     "output_type": "stream",
     "text": [
      "0\n",
      "8002.101\n",
      "/Users/Megan/RajLab/BRAIN/SCFC-spectral-python/SCFC/data/downsampled_patients/freqMEGdata_8002-101.h5\n",
      "1\n",
      "8008.101\n",
      "/Users/Megan/RajLab/BRAIN/SCFC-spectral-python/SCFC/data/downsampled_patients/freqMEGdata_8008-101.h5\n",
      "2\n",
      "8012.101\n",
      "/Users/Megan/RajLab/BRAIN/SCFC-spectral-python/SCFC/data/downsampled_patients/freqMEGdata_8012-101.h5\n",
      "3\n",
      "8027.101\n",
      "/Users/Megan/RajLab/BRAIN/SCFC-spectral-python/SCFC/data/downsampled_patients/freqMEGdata_8027-101.h5\n",
      "4\n",
      "8028.101\n",
      "/Users/Megan/RajLab/BRAIN/SCFC-spectral-python/SCFC/data/downsampled_patients/freqMEGdata_8028-101.h5\n",
      "5\n",
      "8033.101\n",
      "/Users/Megan/RajLab/BRAIN/SCFC-spectral-python/SCFC/data/downsampled_patients/freqMEGdata_8033-101.h5\n",
      "6\n",
      "8045.101\n",
      "/Users/Megan/RajLab/BRAIN/SCFC-spectral-python/SCFC/data/downsampled_patients/freqMEGdata_8045-101.h5\n",
      "7\n",
      "8047.101\n",
      "/Users/Megan/RajLab/BRAIN/SCFC-spectral-python/SCFC/data/downsampled_patients/freqMEGdata_8047-101.h5\n",
      "8\n",
      "8048.101\n",
      "/Users/Megan/RajLab/BRAIN/SCFC-spectral-python/SCFC/data/downsampled_patients/freqMEGdata_8048-101.h5\n",
      "9\n",
      "8051.101\n",
      "/Users/Megan/RajLab/BRAIN/SCFC-spectral-python/SCFC/data/downsampled_patients/freqMEGdata_8051-101.h5\n",
      "10\n",
      "8065.101\n",
      "/Users/Megan/RajLab/BRAIN/SCFC-spectral-python/SCFC/data/downsampled_patients/freqMEGdata_8065-101.h5\n",
      "11\n",
      "8067.101\n",
      "/Users/Megan/RajLab/BRAIN/SCFC-spectral-python/SCFC/data/downsampled_patients/freqMEGdata_8067-101.h5\n",
      "12\n",
      "8069.101\n",
      "/Users/Megan/RajLab/BRAIN/SCFC-spectral-python/SCFC/data/downsampled_patients/freqMEGdata_8069-101.h5\n",
      "13\n",
      "8072.101\n",
      "/Users/Megan/RajLab/BRAIN/SCFC-spectral-python/SCFC/data/downsampled_patients/freqMEGdata_8072-101.h5\n",
      "14\n",
      "8074.101\n",
      "/Users/Megan/RajLab/BRAIN/SCFC-spectral-python/SCFC/data/downsampled_patients/freqMEGdata_8074-101.h5\n",
      "15\n",
      "8076.101\n",
      "/Users/Megan/RajLab/BRAIN/SCFC-spectral-python/SCFC/data/downsampled_patients/freqMEGdata_8076-101.h5\n",
      "16\n",
      "8088.101\n",
      "/Users/Megan/RajLab/BRAIN/SCFC-spectral-python/SCFC/data/downsampled_patients/freqMEGdata_8088-101.h5\n",
      "17\n",
      "8089.101\n",
      "/Users/Megan/RajLab/BRAIN/SCFC-spectral-python/SCFC/data/downsampled_patients/freqMEGdata_8089-101.h5\n",
      "18\n",
      "8107.101\n",
      "/Users/Megan/RajLab/BRAIN/SCFC-spectral-python/SCFC/data/downsampled_patients/freqMEGdata_8107-101.h5\n",
      "19\n",
      "8109.101\n",
      "/Users/Megan/RajLab/BRAIN/SCFC-spectral-python/SCFC/data/downsampled_patients/freqMEGdata_8109-101.h5\n",
      "20\n",
      "8111.101\n",
      "/Users/Megan/RajLab/BRAIN/SCFC-spectral-python/SCFC/data/downsampled_patients/freqMEGdata_8111-101.h5\n",
      "21\n",
      "[]\n",
      "no patient number\n",
      "/Users/Megan/RajLab/BRAIN/SCFC-spectral-python/SCFC/data/downsampled_patients/freqMEGdata_patient-21.h5\n",
      "22\n",
      "[]\n",
      "no patient number\n",
      "/Users/Megan/RajLab/BRAIN/SCFC-spectral-python/SCFC/data/downsampled_patients/freqMEGdata_patient-22.h5\n",
      "23\n",
      "8125.101\n",
      "/Users/Megan/RajLab/BRAIN/SCFC-spectral-python/SCFC/data/downsampled_patients/freqMEGdata_8125-101.h5\n",
      "24\n",
      "8131.101\n",
      "/Users/Megan/RajLab/BRAIN/SCFC-spectral-python/SCFC/data/downsampled_patients/freqMEGdata_8131-101.h5\n",
      "25\n",
      "8132.101\n",
      "/Users/Megan/RajLab/BRAIN/SCFC-spectral-python/SCFC/data/downsampled_patients/freqMEGdata_8132-101.h5\n",
      "26\n",
      "8135.101\n",
      "/Users/Megan/RajLab/BRAIN/SCFC-spectral-python/SCFC/data/downsampled_patients/freqMEGdata_8135-101.h5\n",
      "27\n",
      "8161.101\n",
      "/Users/Megan/RajLab/BRAIN/SCFC-spectral-python/SCFC/data/downsampled_patients/freqMEGdata_8161-101.h5\n",
      "28\n",
      "[]\n",
      "no patient number\n",
      "/Users/Megan/RajLab/BRAIN/SCFC-spectral-python/SCFC/data/downsampled_patients/freqMEGdata_patient-28.h5\n",
      "29\n",
      "8166.101\n",
      "/Users/Megan/RajLab/BRAIN/SCFC-spectral-python/SCFC/data/downsampled_patients/freqMEGdata_8166-101.h5\n",
      "30\n",
      "8168.101\n",
      "/Users/Megan/RajLab/BRAIN/SCFC-spectral-python/SCFC/data/downsampled_patients/freqMEGdata_8168-101.h5\n",
      "31\n",
      "8186.101\n",
      "/Users/Megan/RajLab/BRAIN/SCFC-spectral-python/SCFC/data/downsampled_patients/freqMEGdata_8186-101.h5\n",
      "32\n",
      "8188.101\n",
      "/Users/Megan/RajLab/BRAIN/SCFC-spectral-python/SCFC/data/downsampled_patients/freqMEGdata_8188-101.h5\n",
      "33\n",
      "8231.101\n",
      "/Users/Megan/RajLab/BRAIN/SCFC-spectral-python/SCFC/data/downsampled_patients/freqMEGdata_8231-101.h5\n",
      "34\n",
      "8257.101\n",
      "/Users/Megan/RajLab/BRAIN/SCFC-spectral-python/SCFC/data/downsampled_patients/freqMEGdata_8257-101.h5\n",
      "35\n",
      "8273.101\n",
      "/Users/Megan/RajLab/BRAIN/SCFC-spectral-python/SCFC/data/downsampled_patients/freqMEGdata_8273-101.h5\n",
      "36\n",
      "8302.102\n",
      "/Users/Megan/RajLab/BRAIN/SCFC-spectral-python/SCFC/data/downsampled_patients/freqMEGdata_8302-102.h5\n",
      "37\n",
      "8321.101\n",
      "/Users/Megan/RajLab/BRAIN/SCFC-spectral-python/SCFC/data/downsampled_patients/freqMEGdata_8321-101.h5\n",
      "38\n",
      "8324.101\n",
      "/Users/Megan/RajLab/BRAIN/SCFC-spectral-python/SCFC/data/downsampled_patients/freqMEGdata_8324-101.h5\n"
     ]
    }
   ],
   "source": [
    "for i in range(39):\n",
    "    outdata = data['freqMEGdata'][0][i][0]\n",
    "    patnum = data['freqMEGdata'][0][i][1][0]\n",
    "    patnum = str(patnum)\n",
    "    print(i)\n",
    "    print(patnum)\n",
    "    \n",
    "    if '8' not in patnum:\n",
    "        print('no patient number')\n",
    "        fulloutname = outname + 'patient' + '-' + str(i) + '.h5'\n",
    "    else:\n",
    "        #get components of the filename\n",
    "        pat1, pat2 = patnum.split('.')\n",
    "        fulloutname = outname + pat1 + '-' + pat2 + '.h5'\n",
    "    \n",
    "    print(fulloutname)\n",
    "    \n",
    "    #make the data in to a dictionary and put it in the correct order to compare to the model. \n",
    "    outdict = pp.add_key_to_matdata(label_filepath, outdata)\n",
    "    out_dict = permute.order_dict(outdict, orderfile)\n",
    "    \n",
    "    #save out to hdf5 file\n",
    "    pth.save_hdf5(fulloutname, out_dict)"
   ]
  },
  {
   "cell_type": "code",
   "execution_count": null,
   "metadata": {
    "collapsed": true
   },
   "outputs": [],
   "source": []
  }
 ],
 "metadata": {
  "kernelspec": {
   "display_name": "Python 3",
   "language": "python",
   "name": "python3"
  },
  "language_info": {
   "codemirror_mode": {
    "name": "ipython",
    "version": 3
   },
   "file_extension": ".py",
   "mimetype": "text/x-python",
   "name": "python",
   "nbconvert_exporter": "python",
   "pygments_lexer": "ipython3",
   "version": "3.6.3"
  }
 },
 "nbformat": 4,
 "nbformat_minor": 2
}
