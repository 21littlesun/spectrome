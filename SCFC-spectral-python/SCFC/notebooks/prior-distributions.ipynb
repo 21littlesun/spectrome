{
 "cells": [
  {
   "cell_type": "markdown",
   "metadata": {},
   "source": [
    "# Finding appropriate prior distributions based on Bobby's simulated annealing."
   ]
  },
  {
   "cell_type": "markdown",
   "metadata": {},
   "source": [
    "In our inference, we don't wish to only include likelihoods... we would also like to have more informed priors. Let's look at the data.\n",
    "\n",
    "In this notebook I introduce some of the functions now included in the package, and discuss how to find prior distributions. I am not, at this point, saying the choices here are correct or final."
   ]
  },
  {
   "cell_type": "code",
   "execution_count": 1,
   "metadata": {
    "collapsed": true
   },
   "outputs": [],
   "source": [
    "import sys, os\n",
    "sys.path.append(\"..\")\n",
    "from utils import path as pth\n",
    "from scipy.io import loadmat\n",
    "import csv\n",
    "import numpy as np\n",
    "import pandas as pd"
   ]
  },
  {
   "cell_type": "markdown",
   "metadata": {},
   "source": [
    "Two sets of parameters were found; one uses the same standard HCP connectome for all calculations, the other used individual patient connectomes for each parameter search."
   ]
  },
  {
   "cell_type": "code",
   "execution_count": 2,
   "metadata": {
    "collapsed": true
   },
   "outputs": [],
   "source": [
    "HCP_params_path = '/Users/Megan/RajLab/BRAIN/SCFC-spectral-python/SCFC/data/SCFC_opparam_HCP.mat'\n",
    "IndConn_params_path = '/Users/Megan/RajLab/BRAIN/SCFC-spectral-python/SCFC/data/SCFC_opparam_individual.mat'"
   ]
  },
  {
   "cell_type": "code",
   "execution_count": 3,
   "metadata": {
    "collapsed": true
   },
   "outputs": [],
   "source": [
    "HCPdata = loadmat(HCP_params_path)"
   ]
  },
  {
   "cell_type": "code",
   "execution_count": 4,
   "metadata": {},
   "outputs": [
    {
     "data": {
      "text/plain": [
       "dict_keys(['__header__', '__version__', '__globals__', 'output'])"
      ]
     },
     "execution_count": 4,
     "metadata": {},
     "output_type": "execute_result"
    }
   ],
   "source": [
    "HCPdata.keys()"
   ]
  },
  {
   "cell_type": "code",
   "execution_count": 5,
   "metadata": {},
   "outputs": [
    {
     "data": {
      "text/plain": [
       "(1, 39)"
      ]
     },
     "execution_count": 5,
     "metadata": {},
     "output_type": "execute_result"
    }
   ],
   "source": [
    "HCPdata['output'].shape"
   ]
  },
  {
   "cell_type": "code",
   "execution_count": 6,
   "metadata": {
    "collapsed": true
   },
   "outputs": [],
   "source": [
    "df = pd.DataFrame(HCPdata['output'][0])"
   ]
  },
  {
   "cell_type": "code",
   "execution_count": 7,
   "metadata": {},
   "outputs": [
    {
     "data": {
      "text/html": [
       "<div>\n",
       "<style scoped>\n",
       "    .dataframe tbody tr th:only-of-type {\n",
       "        vertical-align: middle;\n",
       "    }\n",
       "\n",
       "    .dataframe tbody tr th {\n",
       "        vertical-align: top;\n",
       "    }\n",
       "\n",
       "    .dataframe thead th {\n",
       "        text-align: right;\n",
       "    }\n",
       "</style>\n",
       "<table border=\"1\" class=\"dataframe\">\n",
       "  <thead>\n",
       "    <tr style=\"text-align: right;\">\n",
       "      <th></th>\n",
       "      <th>subjname</th>\n",
       "      <th>param</th>\n",
       "      <th>feval</th>\n",
       "      <th>simannealmsg</th>\n",
       "      <th>cfevals</th>\n",
       "    </tr>\n",
       "  </thead>\n",
       "  <tbody>\n",
       "    <tr>\n",
       "      <th>0</th>\n",
       "      <td>[8002.101]</td>\n",
       "      <td>[[0.012], [0.005], [0.5], [5.0], [4.0], [1.0],...</td>\n",
       "      <td>[[-0.8170847971245495]]</td>\n",
       "      <td>[[[[[3500]], [[3648]], ['Optimization terminat...</td>\n",
       "      <td>[[-0.8170847971245495, -0.8170847971245495, -0...</td>\n",
       "    </tr>\n",
       "    <tr>\n",
       "      <th>1</th>\n",
       "      <td>[8008.101]</td>\n",
       "      <td>[[0.011934858833523522], [0.007416371455534797...</td>\n",
       "      <td>[[-0.8481458299887372]]</td>\n",
       "      <td>[[[[[6706]], [[6973]], ['Optimization terminat...</td>\n",
       "      <td>[[-0.7951157225528295, -0.7951157225528295, -0...</td>\n",
       "    </tr>\n",
       "    <tr>\n",
       "      <th>2</th>\n",
       "      <td>[8012.101]</td>\n",
       "      <td>[[0.015953676157214023], [0.008954110012403716...</td>\n",
       "      <td>[[-0.8778002599935318]]</td>\n",
       "      <td>[[[[[4013]], [[4175]], ['Optimization terminat...</td>\n",
       "      <td>[[-0.811164750246104, -0.811164750246104, -0.6...</td>\n",
       "    </tr>\n",
       "    <tr>\n",
       "      <th>3</th>\n",
       "      <td>[8027.101]</td>\n",
       "      <td>[[0.016012950820885972], [0.008461467268632639...</td>\n",
       "      <td>[[-0.777688477204027]]</td>\n",
       "      <td>[[[[[7279]], [[7609]], ['Optimization terminat...</td>\n",
       "      <td>[[-0.7238549961538402, -0.7238549961538402, -0...</td>\n",
       "    </tr>\n",
       "    <tr>\n",
       "      <th>4</th>\n",
       "      <td>[8028.101]</td>\n",
       "      <td>[[0.01565266891377659], [0.0061132652979348796...</td>\n",
       "      <td>[[-0.7898000029556442]]</td>\n",
       "      <td>[[[[[4912]], [[5123]], ['Optimization terminat...</td>\n",
       "      <td>[[-0.764841488328076, -0.764841488328076, -0.7...</td>\n",
       "    </tr>\n",
       "  </tbody>\n",
       "</table>\n",
       "</div>"
      ],
      "text/plain": [
       "     subjname                                              param  \\\n",
       "0  [8002.101]  [[0.012], [0.005], [0.5], [5.0], [4.0], [1.0],...   \n",
       "1  [8008.101]  [[0.011934858833523522], [0.007416371455534797...   \n",
       "2  [8012.101]  [[0.015953676157214023], [0.008954110012403716...   \n",
       "3  [8027.101]  [[0.016012950820885972], [0.008461467268632639...   \n",
       "4  [8028.101]  [[0.01565266891377659], [0.0061132652979348796...   \n",
       "\n",
       "                     feval                                       simannealmsg  \\\n",
       "0  [[-0.8170847971245495]]  [[[[[3500]], [[3648]], ['Optimization terminat...   \n",
       "1  [[-0.8481458299887372]]  [[[[[6706]], [[6973]], ['Optimization terminat...   \n",
       "2  [[-0.8778002599935318]]  [[[[[4013]], [[4175]], ['Optimization terminat...   \n",
       "3   [[-0.777688477204027]]  [[[[[7279]], [[7609]], ['Optimization terminat...   \n",
       "4  [[-0.7898000029556442]]  [[[[[4912]], [[5123]], ['Optimization terminat...   \n",
       "\n",
       "                                             cfevals  \n",
       "0  [[-0.8170847971245495, -0.8170847971245495, -0...  \n",
       "1  [[-0.7951157225528295, -0.7951157225528295, -0...  \n",
       "2  [[-0.811164750246104, -0.811164750246104, -0.6...  \n",
       "3  [[-0.7238549961538402, -0.7238549961538402, -0...  \n",
       "4  [[-0.764841488328076, -0.764841488328076, -0.7...  "
      ]
     },
     "execution_count": 7,
     "metadata": {},
     "output_type": "execute_result"
    }
   ],
   "source": [
    "df.head()"
   ]
  },
  {
   "cell_type": "markdown",
   "metadata": {},
   "source": [
    "For now, we care about collating the parameter values found for all the subjects, so let's find a way to separate that data out."
   ]
  },
  {
   "cell_type": "code",
   "execution_count": 8,
   "metadata": {},
   "outputs": [],
   "source": [
    "params = df['param'].values"
   ]
  },
  {
   "cell_type": "code",
   "execution_count": 10,
   "metadata": {
    "collapsed": true
   },
   "outputs": [],
   "source": [
    "subjects = df['subjname'].values"
   ]
  },
  {
   "cell_type": "code",
   "execution_count": 11,
   "metadata": {},
   "outputs": [
    {
     "data": {
      "text/plain": [
       "'8065.101'"
      ]
     },
     "execution_count": 11,
     "metadata": {},
     "output_type": "execute_result"
    }
   ],
   "source": [
    "str(subjects[10][0])"
   ]
  },
  {
   "cell_type": "code",
   "execution_count": 12,
   "metadata": {},
   "outputs": [
    {
     "data": {
      "text/plain": [
       "numpy.ndarray"
      ]
     },
     "execution_count": 12,
     "metadata": {},
     "output_type": "execute_result"
    }
   ],
   "source": [
    "type(params[0][0])"
   ]
  },
  {
   "cell_type": "markdown",
   "metadata": {},
   "source": [
    "Want to extract the parameters as arrays (we lose the patient data for now) and histogram them. They are in the order:\n",
    "\n",
    "- tau_e\n",
    "- tau_i\n",
    "- alpha\n",
    "- speed\n",
    "- gei\n",
    "- gii\n",
    "- tauC"
   ]
  },
  {
   "cell_type": "code",
   "execution_count": 13,
   "metadata": {},
   "outputs": [
    {
     "name": "stdout",
     "output_type": "stream",
     "text": [
      "[]\n",
      "Not all parameters available for subject[]\n",
      "[]\n",
      "Not all parameters available for subject[]\n",
      "[]\n",
      "Not all parameters available for subject[]\n"
     ]
    }
   ],
   "source": [
    "tau_e = []\n",
    "tau_i = []\n",
    "alpha = []\n",
    "speed = []\n",
    "gei = []\n",
    "gii = []\n",
    "tau_C = []\n",
    "i = 0\n",
    "for array in params:\n",
    "    if len(array) == 7:\n",
    "        tau_e.append(array[0][0])\n",
    "        tau_i.append(array[1][0])\n",
    "        alpha.append(array[2][0])\n",
    "        speed.append(array[3][0])\n",
    "        gei.append(array[4][0])\n",
    "        gii.append(array[5][0])\n",
    "        tau_C.append(array[6][0])\n",
    "        i += 1\n",
    "    else:\n",
    "        subject_name = str(subjects[i][0])\n",
    "        print(subjects[i][0])\n",
    "        print('Not all parameters available for subject'+ subject_name)\n",
    "        i += 1"
   ]
  },
  {
   "cell_type": "code",
   "execution_count": 14,
   "metadata": {},
   "outputs": [
    {
     "data": {
      "text/plain": [
       "36"
      ]
     },
     "execution_count": 14,
     "metadata": {},
     "output_type": "execute_result"
    }
   ],
   "source": [
    "len(tau_e)"
   ]
  },
  {
   "cell_type": "markdown",
   "metadata": {},
   "source": [
    "This is expected from the number of subjects we have."
   ]
  },
  {
   "cell_type": "code",
   "execution_count": 15,
   "metadata": {
    "collapsed": true
   },
   "outputs": [],
   "source": [
    "import matplotlib.pyplot as mpl\n",
    "%matplotlib inline"
   ]
  },
  {
   "cell_type": "code",
   "execution_count": 16,
   "metadata": {},
   "outputs": [
    {
     "data": {
      "text/plain": [
       "Text(0,0.5,'Frequency density')"
      ]
     },
     "execution_count": 16,
     "metadata": {},
     "output_type": "execute_result"
    },
    {
     "data": {
      "image/png": "[encoded data removed]",
      "text/plain": [
       "<matplotlib.figure.Figure at 0x180d469e80>"
      ]
     },
     "metadata": {},
     "output_type": "display_data"
    }
   ],
   "source": [
    "fig1 = mpl.figure(num=5, figsize = (6,4))\n",
    "mpl.hist(tau_e, 20)\n",
    "\n",
    "mpl.grid(True)\n",
    "mpl.xlabel('tau_e')\n",
    "mpl.ylabel('Frequency density')"
   ]
  },
  {
   "cell_type": "code",
   "execution_count": 17,
   "metadata": {},
   "outputs": [
    {
     "data": {
      "text/plain": [
       "Text(0,0.5,'Frequency density')"
      ]
     },
     "execution_count": 17,
     "metadata": {},
     "output_type": "execute_result"
    },
    {
     "data": {
      "image/png": "[encoded data removed]",
      "text/plain": [
       "<matplotlib.figure.Figure at 0x18124501d0>"
      ]
     },
     "metadata": {},
     "output_type": "display_data"
    }
   ],
   "source": [
    "fig2 = mpl.figure(num=5, figsize = (6,4))\n",
    "mpl.hist(tau_i, 20)\n",
    "\n",
    "mpl.grid(True)\n",
    "mpl.xlabel('tau_i')\n",
    "mpl.ylabel('Frequency density')"
   ]
  },
  {
   "cell_type": "code",
   "execution_count": 18,
   "metadata": {},
   "outputs": [
    {
     "data": {
      "text/plain": [
       "Text(0,0.5,'Frequency density')"
      ]
     },
     "execution_count": 18,
     "metadata": {},
     "output_type": "execute_result"
    },
    {
     "data": {
      "image/png": "[encoded data removed]",
      "text/plain": [
       "<matplotlib.figure.Figure at 0x181586d668>"
      ]
     },
     "metadata": {},
     "output_type": "display_data"
    }
   ],
   "source": [
    "fig3 = mpl.figure(num=5, figsize = (6,4))\n",
    "mpl.hist(alpha, 20)\n",
    "\n",
    "mpl.grid(True)\n",
    "mpl.xlabel('alpha')\n",
    "mpl.ylabel('Frequency density')"
   ]
  },
  {
   "cell_type": "markdown",
   "metadata": {},
   "source": [
    "Before we just plot everything, let's import the individual connectome data and see if there's a difference."
   ]
  },
  {
   "cell_type": "code",
   "execution_count": 19,
   "metadata": {
    "collapsed": true
   },
   "outputs": [],
   "source": [
    "Inddata = loadmat(IndConn_params_path)"
   ]
  },
  {
   "cell_type": "code",
   "execution_count": 20,
   "metadata": {
    "collapsed": true
   },
   "outputs": [],
   "source": [
    "Indf = pd.DataFrame(Inddata['output'][0])"
   ]
  },
  {
   "cell_type": "code",
   "execution_count": 21,
   "metadata": {},
   "outputs": [
    {
     "name": "stdout",
     "output_type": "stream",
     "text": [
      "[]\n",
      "Not all parameters available for subject[]\n",
      "[]\n",
      "Not all parameters available for subject[]\n",
      "[]\n",
      "Not all parameters available for subject[]\n"
     ]
    }
   ],
   "source": [
    "Indparams = df['param'].values\n",
    "\n",
    "Itau_e = []\n",
    "Itau_i = []\n",
    "Ialpha = []\n",
    "Ispeed = []\n",
    "Igei = []\n",
    "Igii = []\n",
    "Itau_C = []\n",
    "i = 0\n",
    "for array in Indparams:\n",
    "    if len(array) == 7:\n",
    "        Itau_e.append(array[0][0])\n",
    "        Itau_i.append(array[1][0])\n",
    "        Ialpha.append(array[2][0])\n",
    "        Ispeed.append(array[3][0])\n",
    "        Igei.append(array[4][0])\n",
    "        Igii.append(array[5][0])\n",
    "        Itau_C.append(array[6][0])\n",
    "        i += 1\n",
    "    else:\n",
    "        subject_name = str(subjects[i][0])\n",
    "        print(subjects[i][0])\n",
    "        print('Not all parameters available for subject'+ subject_name)\n",
    "        i += 1"
   ]
  },
  {
   "cell_type": "code",
   "execution_count": 22,
   "metadata": {},
   "outputs": [
    {
     "data": {
      "text/plain": [
       "Text(0,0.5,'Frequency density')"
      ]
     },
     "execution_count": 22,
     "metadata": {},
     "output_type": "execute_result"
    },
    {
     "data": {
      "image/png": "[encoded data removed]",
      "text/plain": [
       "<matplotlib.figure.Figure at 0x1815977908>"
      ]
     },
     "metadata": {},
     "output_type": "display_data"
    }
   ],
   "source": [
    "fig1 = mpl.figure(num=5, figsize = (6,4))\n",
    "mpl.hist(tau_e, 20, alpha = 0.5)\n",
    "mpl.hist(Itau_e, 20, alpha = 0.5)\n",
    "mpl.grid(True)\n",
    "mpl.xlabel('tau_e')\n",
    "mpl.ylabel('Frequency density')"
   ]
  },
  {
   "cell_type": "code",
   "execution_count": 23,
   "metadata": {},
   "outputs": [
    {
     "data": {
      "text/plain": [
       "Text(0,0.5,'Frequency density')"
      ]
     },
     "execution_count": 23,
     "metadata": {},
     "output_type": "execute_result"
    },
    {
     "data": {
      "image/png": "[encoded data removed]",
      "text/plain": [
       "<matplotlib.figure.Figure at 0x1815a4e048>"
      ]
     },
     "metadata": {},
     "output_type": "display_data"
    }
   ],
   "source": [
    "fig2 = mpl.figure(num=5, figsize = (6,4))\n",
    "mpl.hist(tau_i, 20)\n",
    "mpl.hist(Itau_i, 20, alpha = 0.5)\n",
    "mpl.grid(True)\n",
    "mpl.xlabel('tau_i')\n",
    "mpl.ylabel('Frequency density')"
   ]
  },
  {
   "cell_type": "markdown",
   "metadata": {},
   "source": [
    "It seems that individual connectivity has not made a difference to the prior distributions. Let's plot them all."
   ]
  },
  {
   "cell_type": "code",
   "execution_count": 24,
   "metadata": {
    "collapsed": true
   },
   "outputs": [],
   "source": [
    "param_array = [tau_e, tau_i,alpha,speed,gei,gii,tau_C]"
   ]
  },
  {
   "cell_type": "code",
   "execution_count": 25,
   "metadata": {
    "collapsed": true
   },
   "outputs": [],
   "source": [
    "param_name = ['tau_e', 'tau_i','alpha','speed','gei','gii','tau_C']"
   ]
  },
  {
   "cell_type": "markdown",
   "metadata": {},
   "source": [
    "Indicate the bounds used in simulated annealing."
   ]
  },
  {
   "cell_type": "code",
   "execution_count": 26,
   "metadata": {
    "collapsed": true
   },
   "outputs": [],
   "source": [
    "param_lower = [0.005,0.005,0.1,5,0.5,0.5,0.005]\n",
    "param_upper = [0.02,0.02,1,20,5,5,0.020]"
   ]
  },
  {
   "cell_type": "code",
   "execution_count": 27,
   "metadata": {},
   "outputs": [
    {
     "data": {
      "text/plain": [
       "True"
      ]
     },
     "execution_count": 27,
     "metadata": {},
     "output_type": "execute_result"
    }
   ],
   "source": [
    "param_array[0] == tau_e"
   ]
  },
  {
   "cell_type": "code",
   "execution_count": 28,
   "metadata": {},
   "outputs": [
    {
     "data": {
      "image/png": "[encoded data removed]",
      "text/plain": [
       "<matplotlib.figure.Figure at 0x1815c25160>"
      ]
     },
     "metadata": {},
     "output_type": "display_data"
    }
   ],
   "source": [
    "fig3, axes3 = mpl.subplots(4,2, figsize = (20,30))\n",
    "ax3 = axes3.ravel()\n",
    "fig3.suptitle('Prior distributions of NTF parameters, from simulated annealing on 36 patients', fontsize = 'xx-large', y = 0.9)\n",
    "i = 0\n",
    "\n",
    "\n",
    "for i in range(7):\n",
    "    mpl.sca(ax3[i])\n",
    "    mpl.hist(param_array[i], 20, alpha = 0.5)\n",
    "    ax3[i].grid(True)\n",
    "    ax3[i].set_ylabel('Frequency density', fontsize = 'large')\n",
    "    #ax3[i].text(0.9, 0.9,param_name[i],\n",
    "    # horizontalalignment='center',\n",
    "    # verticalalignment='center',\n",
    "    # transform = ax3[i].transAxes, fontsize = 'large')\n",
    "    ax3[i].set_xlabel(param_name[i], fontsize = 'large')\n",
    "    ax3[i].axvline(x=param_lower[i], color='r', linestyle='dashed', linewidth=2)\n",
    "    ax3[i].axvline(x=param_upper[i], color='r', linestyle='dashed', linewidth=2)\n",
    "    i += 1\n",
    "mpl.sca(ax3[7])\n",
    "ax3[7].set_visible(False)\n",
    "fig3.savefig(\"paramdistributions_HCPconn.pdf\", bbox_inches='tight')"
   ]
  },
  {
   "cell_type": "markdown",
   "metadata": {},
   "source": [
    "OK, even though it is not initially obvious which distributions should work, let's set up a piece of code to at least do some of the job."
   ]
  },
  {
   "cell_type": "markdown",
   "metadata": {},
   "source": [
    "# Systematically testing different distributions\n",
    "\n",
    "Let's start with a fairly nice parameter distibution: tau_i\n",
    "\n",
    "## tau_i distribution\n",
    "\n",
    "### Testing the normal distribution"
   ]
  },
  {
   "cell_type": "code",
   "execution_count": 30,
   "metadata": {
    "collapsed": true
   },
   "outputs": [],
   "source": [
    "from scipy import stats\n",
    "m_taui, s_taui = stats.norm.fit(tau_i)\n",
    "x = np.linspace(0, 0.04, 100)"
   ]
  },
  {
   "cell_type": "code",
   "execution_count": 31,
   "metadata": {},
   "outputs": [
    {
     "data": {
      "text/plain": [
       "Text(0,0.5,'Frequency density')"
      ]
     },
     "execution_count": 31,
     "metadata": {},
     "output_type": "execute_result"
    },
    {
     "data": {
      "image/png": "[encoded data removed]",
      "text/plain": [
       "<matplotlib.figure.Figure at 0x19179ddfd0>"
      ]
     },
     "metadata": {},
     "output_type": "display_data"
    }
   ],
   "source": [
    "pdf_taui = 0.05*stats.norm.pdf(x, m_taui, s_taui) # now get theoretical values in our interval  \n",
    "mpl.plot(x, pdf_taui, label=\"Norm\") # plot it\n",
    "mpl.hist(tau_i, 20)\n",
    "\n",
    "mpl.grid(True)\n",
    "mpl.xlabel('tau_i')\n",
    "mpl.ylabel('Frequency density')\n",
    "#mpl.title('Errors using linear data')"
   ]
  },
  {
   "cell_type": "markdown",
   "metadata": {},
   "source": [
    "Fitting to distributions is only useful if we can make some justification as to which is best. To this end, we look at Anderson Darling tests and KS statistics as possible avenues. "
   ]
  },
  {
   "cell_type": "markdown",
   "metadata": {},
   "source": [
    "### Statistical tests \n",
    "\n",
    "Here we are asking the question -- do we reject the null hypothesis that the samples are drawn from our specified distribution? "
   ]
  },
  {
   "cell_type": "code",
   "execution_count": 32,
   "metadata": {
    "collapsed": true
   },
   "outputs": [],
   "source": [
    "AD, crit_values, siglevels = stats.anderson(tau_i)"
   ]
  },
  {
   "cell_type": "code",
   "execution_count": 33,
   "metadata": {},
   "outputs": [
    {
     "data": {
      "text/plain": [
       "1.4411815708455435"
      ]
     },
     "execution_count": 33,
     "metadata": {},
     "output_type": "execute_result"
    }
   ],
   "source": [
    "AD"
   ]
  },
  {
   "cell_type": "code",
   "execution_count": 34,
   "metadata": {},
   "outputs": [
    {
     "data": {
      "text/plain": [
       "array([15. , 10. ,  5. ,  2.5,  1. ])"
      ]
     },
     "execution_count": 34,
     "metadata": {},
     "output_type": "execute_result"
    }
   ],
   "source": [
    "siglevels"
   ]
  },
  {
   "cell_type": "code",
   "execution_count": 35,
   "metadata": {},
   "outputs": [
    {
     "data": {
      "text/plain": [
       "array([0.528, 0.601, 0.721, 0.841, 1.   ])"
      ]
     },
     "execution_count": 35,
     "metadata": {},
     "output_type": "execute_result"
    }
   ],
   "source": [
    "crit_values"
   ]
  },
  {
   "cell_type": "markdown",
   "metadata": {},
   "source": [
    "For now, the AD statistic is confusing (although we will return to it) so let's look at the more obvious KS statistic.\n",
    "\n",
    "## KS Statistic\n",
    "\n",
    "Let's look at the data and a gamma distribution.\n",
    "\n",
    "### Gamma distribution"
   ]
  },
  {
   "cell_type": "code",
   "execution_count": 36,
   "metadata": {
    "collapsed": true
   },
   "outputs": [],
   "source": [
    "fit_alpha_taui, fit_loc_taui, fit_beta_taui=stats.gamma.fit(tau_i)"
   ]
  },
  {
   "cell_type": "code",
   "execution_count": 37,
   "metadata": {},
   "outputs": [
    {
     "name": "stdout",
     "output_type": "stream",
     "text": [
      "2.006014687419703 0.004662441067103153 0.0025497764353055712\n"
     ]
    }
   ],
   "source": [
    "print(fit_alpha_taui, fit_loc_taui, fit_beta_taui)"
   ]
  },
  {
   "cell_type": "code",
   "execution_count": 38,
   "metadata": {
    "scrolled": true
   },
   "outputs": [
    {
     "data": {
      "text/plain": [
       "Text(0,0.5,'Frequency density')"
      ]
     },
     "execution_count": 38,
     "metadata": {},
     "output_type": "execute_result"
    },
    {
     "data": {
      "image/png": "[encoded data removed]",
      "text/plain": [
       "<matplotlib.figure.Figure at 0x1a17b4df28>"
      ]
     },
     "metadata": {},
     "output_type": "display_data"
    }
   ],
   "source": [
    "x = np.linspace(0, 0.04, 100)\n",
    "y = (x - fit_loc_taui)/fit_beta_taui\n",
    "mpl.plot(x, 1*stats.gamma.pdf(y, fit_alpha_taui),'r-', lw=5, alpha=0.6, label='gamma pdf')\n",
    "#mpl.hist(tau_i, 20, normed = True)\n",
    "\n",
    "mpl.grid(True)\n",
    "mpl.xlabel('tau_i')\n",
    "mpl.ylabel('Frequency density')"
   ]
  },
  {
   "cell_type": "markdown",
   "metadata": {},
   "source": [
    "Just from the fit to the gamma distribution, it seems pretty reasonable that a gamma is correct. BUT we need to statistically test this to at least make sure this is not vague."
   ]
  },
  {
   "cell_type": "code",
   "execution_count": 39,
   "metadata": {},
   "outputs": [
    {
     "data": {
      "text/plain": [
       "KstestResult(statistic=0.10837113418565747, pvalue=0.7916616902177097)"
      ]
     },
     "execution_count": 39,
     "metadata": {},
     "output_type": "execute_result"
    }
   ],
   "source": [
    "stats.kstest(tau_i, 'gamma', args=(fit_alpha_taui, fit_loc_taui, fit_beta_taui))"
   ]
  },
  {
   "cell_type": "markdown",
   "metadata": {},
   "source": [
    "Before we make a judgement on this, let's do this test for the normal distribution that we fit to the same data."
   ]
  },
  {
   "cell_type": "code",
   "execution_count": 40,
   "metadata": {},
   "outputs": [
    {
     "data": {
      "text/plain": [
       "KstestResult(statistic=0.17962755469256486, pvalue=0.17326323026925827)"
      ]
     },
     "execution_count": 40,
     "metadata": {},
     "output_type": "execute_result"
    }
   ],
   "source": [
    "stats.kstest(tau_i, 'norm', args=(m_taui,s_taui))"
   ]
  },
  {
   "cell_type": "markdown",
   "metadata": {},
   "source": [
    "In short, a high KS statistic indicates that the tau_i and random samples of the specified distribution are drawn from different distributions. Looking at the p value: If the two samples were randomly sampled from identical populations, what is the probability that the two cumulative frequency distributions would be as far apart as observed?\n",
    "\n",
    "Therefore, this suggests (although we need a better way of looking at this) that the gamma distribution is better. This is because in the case of trying to identify the correct diistribution, we are looking for the case of *high* p values. Typically, when people are looking for an 'effect' using p values, they *want* (though should not actively seek -- the dangers of p-hacking!) small p values, as this indicates that the null hypothesis of the sample being drawn from an identical distribution to the one it is being tested against is false. \n",
    "\n",
    "The p value for the gamma distribution is high, which is very promising. To make sure we can pick the gamma distribution over all other reasonable shapes, let's test against some others.\n",
    "\n",
    "### Lognormal distribution"
   ]
  },
  {
   "cell_type": "code",
   "execution_count": 41,
   "metadata": {
    "collapsed": true
   },
   "outputs": [],
   "source": [
    "lognorm_s_taui, lognorm_loc_taui, lognorm_scale_taui=stats.lognorm.fit(tau_i)"
   ]
  },
  {
   "cell_type": "code",
   "execution_count": 42,
   "metadata": {},
   "outputs": [
    {
     "name": "stdout",
     "output_type": "stream",
     "text": [
      "0.5403597268900989 0.0033095491501141444 0.005617604852425967\n"
     ]
    }
   ],
   "source": [
    "print(lognorm_s_taui, lognorm_loc_taui, lognorm_scale_taui)"
   ]
  },
  {
   "cell_type": "code",
   "execution_count": 43,
   "metadata": {},
   "outputs": [
    {
     "data": {
      "text/plain": [
       "Text(0,0.5,'Frequency density')"
      ]
     },
     "execution_count": 43,
     "metadata": {},
     "output_type": "execute_result"
    },
    {
     "data": {
      "image/png": "[encoded data removed]",
      "text/plain": [
       "<matplotlib.figure.Figure at 0x1a17bb5390>"
      ]
     },
     "metadata": {},
     "output_type": "display_data"
    }
   ],
   "source": [
    "x = np.linspace(0, 0.04, 100)\n",
    "y = (x - lognorm_loc_taui)/lognorm_scale_taui\n",
    "mpl.plot(x, 6*stats.lognorm.pdf(y,lognorm_s_taui),'r-', lw=5, alpha=0.6, label='gamma pdf')\n",
    "mpl.hist(tau_i, 20, normed = False)\n",
    "\n",
    "mpl.grid(True)\n",
    "mpl.xlabel('tau_i')\n",
    "mpl.ylabel('Frequency density')"
   ]
  },
  {
   "cell_type": "code",
   "execution_count": 44,
   "metadata": {},
   "outputs": [
    {
     "data": {
      "text/plain": [
       "KstestResult(statistic=0.11560240666584065, pvalue=0.709580854782915)"
      ]
     },
     "execution_count": 44,
     "metadata": {},
     "output_type": "execute_result"
    }
   ],
   "source": [
    "stats.kstest(tau_i, 'lognorm', args=(lognorm_s_taui, lognorm_loc_taui, lognorm_scale_taui))"
   ]
  },
  {
   "cell_type": "markdown",
   "metadata": {},
   "source": [
    "Not quite as good as a gamma, but still pretty good.\n",
    "\n",
    "### Weibull distribution"
   ]
  },
  {
   "cell_type": "code",
   "execution_count": 45,
   "metadata": {
    "collapsed": true
   },
   "outputs": [],
   "source": [
    "W_c, W_loc, W_scale=stats.weibull_min.fit(tau_i)"
   ]
  },
  {
   "cell_type": "code",
   "execution_count": 46,
   "metadata": {},
   "outputs": [
    {
     "name": "stdout",
     "output_type": "stream",
     "text": [
      "0.20719791385736056 0.004999999999999999 1.2211959462436348\n"
     ]
    }
   ],
   "source": [
    "print(W_c, W_loc, W_scale)"
   ]
  },
  {
   "cell_type": "code",
   "execution_count": 47,
   "metadata": {},
   "outputs": [
    {
     "data": {
      "text/plain": [
       "Text(0,0.5,'Frequency density')"
      ]
     },
     "execution_count": 47,
     "metadata": {},
     "output_type": "execute_result"
    },
    {
     "data": {
      "image/png": "[encoded data removed]",
      "text/plain": [
       "<matplotlib.figure.Figure at 0x1a17c97b38>"
      ]
     },
     "metadata": {},
     "output_type": "display_data"
    }
   ],
   "source": [
    "x = np.linspace(0, 0.04, 100)\n",
    "y = (x - W_loc)/W_scale\n",
    "mpl.plot(x, 0.05*stats.weibull_min.pdf(y,W_c),'r-', lw=5, alpha=0.6, label='gamma pdf')\n",
    "mpl.hist(tau_i, 20, normed = False)\n",
    "\n",
    "mpl.grid(True)\n",
    "mpl.xlabel('tau_i')\n",
    "mpl.ylabel('Frequency density')"
   ]
  },
  {
   "cell_type": "code",
   "execution_count": 48,
   "metadata": {},
   "outputs": [
    {
     "data": {
      "text/plain": [
       "KstestResult(statistic=0.6795981004828637, pvalue=0.0)"
      ]
     },
     "execution_count": 48,
     "metadata": {},
     "output_type": "execute_result"
    }
   ],
   "source": [
    "stats.kstest(tau_i, 'weibull_min', args=(W_c, W_loc, W_scale))"
   ]
  },
  {
   "cell_type": "markdown",
   "metadata": {},
   "source": [
    "This is terrible, even worse than the normal distribution. The p value is low (effectively unreported) -- if you were testing the null hypothesis that the sample was drawn by chance from the Weibull distribution, even with p = 0.01, you would have to reject it. "
   ]
  },
  {
   "cell_type": "markdown",
   "metadata": {},
   "source": [
    "## Tau_e distribution\n",
    "\n",
    "We need to repeat this process for the other distributions. Function to be written to automate this process."
   ]
  },
  {
   "cell_type": "code",
   "execution_count": 49,
   "metadata": {},
   "outputs": [],
   "source": [
    "m_taue, s_taue = stats.norm.fit(tau_e)\n",
    "fit_alpha_te, fit_loc_te, fit_beta_te =stats.gamma.fit(tau_e)\n",
    "lognorm_s_te, lognorm_loc_te, lognorm_scale_te=stats.lognorm.fit(tau_e)\n",
    "W_c_te, W_loc_te, W_scale_te=stats.weibull_min.fit(tau_e)"
   ]
  },
  {
   "cell_type": "code",
   "execution_count": 50,
   "metadata": {},
   "outputs": [
    {
     "data": {
      "text/plain": [
       "KstestResult(statistic=0.7114349705704559, pvalue=0.0)"
      ]
     },
     "execution_count": 50,
     "metadata": {},
     "output_type": "execute_result"
    }
   ],
   "source": [
    "stats.kstest(tau_e, 'weibull_min', args=(W_c_te, W_loc_te, W_scale_te))"
   ]
  },
  {
   "cell_type": "code",
   "execution_count": 51,
   "metadata": {},
   "outputs": [
    {
     "data": {
      "text/plain": [
       "KstestResult(statistic=0.14203286032762258, pvalue=0.42663288363008633)"
      ]
     },
     "execution_count": 51,
     "metadata": {},
     "output_type": "execute_result"
    }
   ],
   "source": [
    "stats.kstest(tau_e, 'lognorm', args=(lognorm_s_te, lognorm_loc_te, lognorm_scale_te))"
   ]
  },
  {
   "cell_type": "code",
   "execution_count": 52,
   "metadata": {},
   "outputs": [
    {
     "data": {
      "text/plain": [
       "KstestResult(statistic=0.13775607855326982, pvalue=0.4664710017047442)"
      ]
     },
     "execution_count": 52,
     "metadata": {},
     "output_type": "execute_result"
    }
   ],
   "source": [
    "stats.kstest(tau_e, 'norm', args=(m_taue, s_taue))"
   ]
  },
  {
   "cell_type": "code",
   "execution_count": 53,
   "metadata": {},
   "outputs": [
    {
     "data": {
      "text/plain": [
       "KstestResult(statistic=0.1457493772993677, pvalue=0.39392554644150923)"
      ]
     },
     "execution_count": 53,
     "metadata": {},
     "output_type": "execute_result"
    }
   ],
   "source": [
    "stats.kstest(tau_e, 'gamma', args=(fit_alpha_te, fit_loc_te, fit_beta_te))"
   ]
  },
  {
   "cell_type": "code",
   "execution_count": 54,
   "metadata": {},
   "outputs": [
    {
     "data": {
      "text/plain": [
       "Text(0,0.5,'Frequency density')"
      ]
     },
     "execution_count": 54,
     "metadata": {},
     "output_type": "execute_result"
    },
    {
     "data": {
      "image/png": "[encoded data removed]",
      "text/plain": [
       "<matplotlib.figure.Figure at 0x1a17d699b0>"
      ]
     },
     "metadata": {},
     "output_type": "display_data"
    }
   ],
   "source": [
    "x = np.linspace(0, 0.05, 1000)\n",
    "y_lognorm = (x - lognorm_loc_te)/lognorm_scale_te\n",
    "y_gamma = (x - fit_loc_te)/fit_beta_te\n",
    "y_norm = 0.05*stats.norm.pdf(x, m_taue, s_taue) # now get theoretical values in our interval  \n",
    "mpl.plot(x, y_norm, label=\"Norm\") # plot it\n",
    "mpl.plot(x, 200*stats.gamma.pdf(y_gamma, fit_alpha_te),'r-', lw=5, alpha=0.6, label='gamma pdf')\n",
    "mpl.plot(x, 0.1*stats.lognorm.pdf(y_lognorm,lognorm_s_te),'g-', lw=5, alpha=0.6, label='lognorm pdf')\n",
    "mpl.hist(tau_e, 20, normed = False)\n",
    "\n",
    "mpl.grid(True)\n",
    "mpl.xlabel('tau_e')\n",
    "mpl.ylabel('Frequency density')"
   ]
  },
  {
   "cell_type": "code",
   "execution_count": 55,
   "metadata": {},
   "outputs": [
    {
     "data": {
      "text/plain": [
       "(368.60117869001476, -0.05550835495379294, 0.00018032146187529007)"
      ]
     },
     "execution_count": 55,
     "metadata": {},
     "output_type": "execute_result"
    }
   ],
   "source": [
    "fit_alpha_te, fit_loc_te, fit_beta_te"
   ]
  },
  {
   "cell_type": "markdown",
   "metadata": {},
   "source": [
    "In this case, by p values alone, we should argue for a normal distribution (although the similarity of these makes this dubious... more on that later, maybe). It is hard to justify that tau_e and tau_i are any different in the model, so they should probably be taken to follow the same form of distribution. However, the 'a' value we are finding is obviously a bit crazy, so we can perform the fit with a fixed parameter:"
   ]
  },
  {
   "cell_type": "code",
   "execution_count": 56,
   "metadata": {
    "collapsed": true
   },
   "outputs": [],
   "source": [
    "fit_alpha_te, fit_loc_te, fit_beta_te =stats.gamma.fit(tau_e, fa = 2)"
   ]
  },
  {
   "cell_type": "code",
   "execution_count": 57,
   "metadata": {},
   "outputs": [
    {
     "data": {
      "text/plain": [
       "(2, 0.004492887509221829, 0.0032375996670863947)"
      ]
     },
     "execution_count": 57,
     "metadata": {},
     "output_type": "execute_result"
    }
   ],
   "source": [
    "fit_alpha_te, fit_loc_te, fit_beta_te"
   ]
  },
  {
   "cell_type": "code",
   "execution_count": 58,
   "metadata": {},
   "outputs": [
    {
     "data": {
      "text/plain": [
       "KstestResult(statistic=0.22259356778402245, pvalue=0.04772736982546166)"
      ]
     },
     "execution_count": 58,
     "metadata": {},
     "output_type": "execute_result"
    }
   ],
   "source": [
    "stats.kstest(tau_e, 'gamma', args=(fit_alpha_te, fit_loc_te, fit_beta_te))"
   ]
  },
  {
   "cell_type": "code",
   "execution_count": 59,
   "metadata": {},
   "outputs": [
    {
     "data": {
      "text/plain": [
       "Text(0,0.5,'Frequency density')"
      ]
     },
     "execution_count": 59,
     "metadata": {},
     "output_type": "execute_result"
    },
    {
     "data": {
      "image/png": "[encoded data removed]",
      "text/plain": [
       "<matplotlib.figure.Figure at 0x1a17d692e8>"
      ]
     },
     "metadata": {},
     "output_type": "display_data"
    }
   ],
   "source": [
    "x = np.linspace(0, 0.04, 100)\n",
    "y = (x - fit_loc_te)/fit_beta_te\n",
    "mpl.plot(x, 1*stats.gamma.pdf(y, fit_alpha_te),'r-', lw=5, alpha=0.6, label='gamma pdf')\n",
    "#mpl.hist(tau_e, 20, normed = False)\n",
    "\n",
    "mpl.grid(True)\n",
    "mpl.xlabel('tau_e')\n",
    "mpl.ylabel('Frequency density')"
   ]
  },
  {
   "cell_type": "markdown",
   "metadata": {},
   "source": [
    "Right now, the p values don't make this very convincing, but we will use these values for now as we design an initial prior distribution and run initial tests, and change as required. "
   ]
  },
  {
   "cell_type": "markdown",
   "metadata": {},
   "source": [
    "## Tau_c distribution\n",
    "\n",
    "This should have the same requirement of the other time constants of not being physically realistic below 0, so we focus on the sort of distributions that are potentially useful there. "
   ]
  },
  {
   "cell_type": "code",
   "execution_count": 60,
   "metadata": {
    "collapsed": true
   },
   "outputs": [],
   "source": [
    "m, s = stats.norm.fit(tau_C)\n",
    "fit_alpha, fit_loc, fit_beta=stats.gamma.fit(tau_C)\n",
    "lognorm_s, lognorm_loc, lognorm_scale=stats.lognorm.fit(tau_C)\n",
    "W_c, W_loc, W_scale=stats.weibull_min.fit(tau_C)"
   ]
  },
  {
   "cell_type": "code",
   "execution_count": 61,
   "metadata": {},
   "outputs": [
    {
     "data": {
      "text/plain": [
       "KstestResult(statistic=0.7012768608838741, pvalue=0.0)"
      ]
     },
     "execution_count": 61,
     "metadata": {},
     "output_type": "execute_result"
    }
   ],
   "source": [
    "stats.kstest(tau_C, 'weibull_min', args=(W_c, W_loc, W_scale))"
   ]
  },
  {
   "cell_type": "code",
   "execution_count": 62,
   "metadata": {},
   "outputs": [
    {
     "data": {
      "text/plain": [
       "KstestResult(statistic=0.12488310587452045, pvalue=0.6004475489108183)"
      ]
     },
     "execution_count": 62,
     "metadata": {},
     "output_type": "execute_result"
    }
   ],
   "source": [
    "stats.kstest(tau_C, 'lognorm', args=(lognorm_s, lognorm_loc, lognorm_scale))"
   ]
  },
  {
   "cell_type": "code",
   "execution_count": 63,
   "metadata": {},
   "outputs": [
    {
     "data": {
      "text/plain": [
       "KstestResult(statistic=0.13479200973624755, pvalue=0.49546074386203753)"
      ]
     },
     "execution_count": 63,
     "metadata": {},
     "output_type": "execute_result"
    }
   ],
   "source": [
    "stats.kstest(tau_C, 'norm', args=(m,s))"
   ]
  },
  {
   "cell_type": "code",
   "execution_count": 64,
   "metadata": {},
   "outputs": [
    {
     "data": {
      "text/plain": [
       "KstestResult(statistic=0.2161940752130443, pvalue=0.05886882973204055)"
      ]
     },
     "execution_count": 64,
     "metadata": {},
     "output_type": "execute_result"
    }
   ],
   "source": [
    "stats.kstest(tau_C, 'gamma', args=(fit_alpha, fit_loc, fit_beta))"
   ]
  },
  {
   "cell_type": "code",
   "execution_count": 65,
   "metadata": {},
   "outputs": [
    {
     "data": {
      "text/plain": [
       "Text(0,0.5,'Frequency density')"
      ]
     },
     "execution_count": 65,
     "metadata": {},
     "output_type": "execute_result"
    },
    {
     "data": {
      "image/png": "[encoded data removed]",
      "text/plain": [
       "<matplotlib.figure.Figure at 0x1a18027cf8>"
      ]
     },
     "metadata": {},
     "output_type": "display_data"
    }
   ],
   "source": [
    "x = np.linspace(0, 0.05, 1000)\n",
    "y_lognorm = (x - lognorm_loc)/lognorm_scale\n",
    "y_gamma = (x - fit_loc)/fit_beta\n",
    "y_norm = 0.05*stats.norm.pdf(x, m, s) # now get theoretical values in our interval  \n",
    "mpl.plot(x, y_norm, label=\"Norm\") # plot it\n",
    "mpl.plot(x, 1*stats.gamma.pdf(y_gamma, fit_alpha),'r-', lw=5, alpha=0.6, label='gamma pdf')\n",
    "mpl.plot(x, 10*stats.lognorm.pdf(y_lognorm,lognorm_s),'g-', lw=5, alpha=0.6, label='lognorm pdf')\n",
    "mpl.hist(tau_C, 20, normed = False)\n",
    "\n",
    "mpl.grid(True)\n",
    "mpl.xlabel('tau_e')\n",
    "mpl.ylabel('Frequency density')"
   ]
  },
  {
   "cell_type": "code",
   "execution_count": 66,
   "metadata": {},
   "outputs": [
    {
     "name": "stdout",
     "output_type": "stream",
     "text": [
      "0.004225748046915246 0.004279317235655809\n"
     ]
    }
   ],
   "source": [
    "print(lognorm_loc, lognorm_scale)"
   ]
  },
  {
   "cell_type": "code",
   "execution_count": 67,
   "metadata": {},
   "outputs": [
    {
     "name": "stdout",
     "output_type": "stream",
     "text": [
      "0.5872988777931203\n"
     ]
    }
   ],
   "source": [
    "print(fit_alpha)"
   ]
  },
  {
   "cell_type": "markdown",
   "metadata": {},
   "source": [
    "The tau_C might make most sense to follow the others as a gamma distribution. However, here the challenge is that the bounds imposed on the values have caused a crowding at those bounds, which makes the rise of a gamma hard to fit. The gamma tries to fit (and does a reasonable job of capturing the long tail) but can't manage as well. \n",
    "\n",
    "We can try to impose a fixed value of alpha and see if that helps."
   ]
  },
  {
   "cell_type": "code",
   "execution_count": 68,
   "metadata": {
    "collapsed": true
   },
   "outputs": [],
   "source": [
    "fit_alpha, fit_loc, fit_beta=stats.gamma.fit(tau_C, fa = 2)"
   ]
  },
  {
   "cell_type": "code",
   "execution_count": 69,
   "metadata": {},
   "outputs": [
    {
     "name": "stdout",
     "output_type": "stream",
     "text": [
      "2 0.004211819821836749 0.0029499360144432463\n"
     ]
    }
   ],
   "source": [
    "print(fit_alpha, fit_loc, fit_beta)"
   ]
  },
  {
   "cell_type": "code",
   "execution_count": 70,
   "metadata": {},
   "outputs": [
    {
     "data": {
      "text/plain": [
       "KstestResult(statistic=0.1523227103852857, pvalue=0.34039450755469614)"
      ]
     },
     "execution_count": 70,
     "metadata": {},
     "output_type": "execute_result"
    }
   ],
   "source": [
    "stats.kstest(tau_C, 'gamma', args=(fit_alpha, fit_loc, fit_beta))"
   ]
  },
  {
   "cell_type": "code",
   "execution_count": 71,
   "metadata": {},
   "outputs": [
    {
     "data": {
      "text/plain": [
       "Text(0,0.5,'Frequency density')"
      ]
     },
     "execution_count": 71,
     "metadata": {},
     "output_type": "execute_result"
    },
    {
     "data": {
      "image/png": "[encoded data removed]",
      "text/plain": [
       "<matplotlib.figure.Figure at 0x1a18018470>"
      ]
     },
     "metadata": {},
     "output_type": "display_data"
    }
   ],
   "source": [
    "x = np.linspace(0, 0.04, 100)\n",
    "y = (x - fit_loc)/fit_beta\n",
    "mpl.plot(x, 14*stats.gamma.pdf(y, fit_alpha),'r-', lw=5, alpha=0.6, label='gamma pdf')\n",
    "mpl.hist(tau_C, 20, normed = False)\n",
    "\n",
    "mpl.grid(True)\n",
    "mpl.xlabel('tau_i')\n",
    "mpl.ylabel('Frequency density')"
   ]
  },
  {
   "cell_type": "markdown",
   "metadata": {},
   "source": [
    "The p value is not super high, but a)this looks a lot more sensible and b)typically to regret a null hypothesis (it doesn't come from the same distribution that we are comparing it to) we look for the p value to be less than p = 0.05 or similar. It isn't quite the same in the case of distribution finding, but we need to decide to prioritise having similar shaped distributions on physical argument grounds, or go with the most statistically justified. \n",
    "\n",
    "## Distributions for the other variables.\n",
    "\n",
    "Here, due in part to the values running in to bounds in some cases, and just the small amount of data available, we first examine whether these variables can be described by uniform distributions.\n",
    "\n",
    "### alpha"
   ]
  },
  {
   "cell_type": "code",
   "execution_count": null,
   "metadata": {
    "collapsed": true
   },
   "outputs": [],
   "source": [
    "loc, scale=stats.uniform.fit(alpha, floc = 0)"
   ]
  },
  {
   "cell_type": "code",
   "execution_count": null,
   "metadata": {
    "collapsed": true
   },
   "outputs": [],
   "source": [
    "scale"
   ]
  },
  {
   "cell_type": "markdown",
   "metadata": {},
   "source": [
    "We already know this is problematic because 'alpha' ran in to a boundary while fitting."
   ]
  },
  {
   "cell_type": "code",
   "execution_count": null,
   "metadata": {
    "collapsed": true
   },
   "outputs": [],
   "source": []
  },
  {
   "cell_type": "markdown",
   "metadata": {},
   "source": [
    "### speed"
   ]
  },
  {
   "cell_type": "code",
   "execution_count": null,
   "metadata": {
    "collapsed": true
   },
   "outputs": [],
   "source": [
    "speed_loc, speed_scale=stats.uniform.fit(speed, floc = 0)"
   ]
  },
  {
   "cell_type": "code",
   "execution_count": null,
   "metadata": {
    "collapsed": true
   },
   "outputs": [],
   "source": [
    "speed_scale"
   ]
  },
  {
   "cell_type": "markdown",
   "metadata": {},
   "source": [
    "Uniform fits don't help much here because they just recover the known bounds."
   ]
  },
  {
   "cell_type": "markdown",
   "metadata": {},
   "source": [
    "### gii\n",
    "\n",
    "This looks a bit like a gamma dist. Let's take a look."
   ]
  },
  {
   "cell_type": "code",
   "execution_count": null,
   "metadata": {
    "collapsed": true
   },
   "outputs": [],
   "source": [
    "m, s = stats.norm.fit(gii)\n",
    "fit_alpha, fit_loc, fit_beta=stats.gamma.fit(gii)\n",
    "lognorm_s, lognorm_loc, lognorm_scale=stats.lognorm.fit(gii)\n",
    "W_c, W_loc, W_scale=stats.weibull_min.fit(gii)"
   ]
  },
  {
   "cell_type": "code",
   "execution_count": null,
   "metadata": {
    "collapsed": true
   },
   "outputs": [],
   "source": [
    "stats.kstest(gii, 'weibull_min', args=(W_c, W_loc, W_scale))"
   ]
  },
  {
   "cell_type": "code",
   "execution_count": null,
   "metadata": {
    "collapsed": true
   },
   "outputs": [],
   "source": [
    "stats.kstest(gii, 'lognorm', args=(lognorm_s, lognorm_loc, lognorm_scale))"
   ]
  },
  {
   "cell_type": "code",
   "execution_count": null,
   "metadata": {
    "collapsed": true
   },
   "outputs": [],
   "source": [
    "stats.kstest(gii, 'norm', args=(m,s))"
   ]
  },
  {
   "cell_type": "code",
   "execution_count": null,
   "metadata": {
    "collapsed": true
   },
   "outputs": [],
   "source": [
    "stats.kstest(gii, 'gamma', args=(fit_alpha, fit_loc, fit_beta))"
   ]
  },
  {
   "cell_type": "markdown",
   "metadata": {},
   "source": [
    "Indeed, the most 'favoured' out of the distributions I am checking is the gamma. Let's plot that. "
   ]
  },
  {
   "cell_type": "code",
   "execution_count": null,
   "metadata": {
    "collapsed": true
   },
   "outputs": [],
   "source": [
    "x = np.linspace(0,10, 100)\n",
    "y = (x - fit_loc)/fit_beta\n",
    "mpl.plot(x, 2*gamma.pdf(y, fit_alpha),'r-', lw=5, alpha=0.6, label='gamma pdf')\n",
    "mpl.hist(gii, 20, normed = True)\n",
    "\n",
    "mpl.grid(True)\n",
    "mpl.xlabel('gii')\n",
    "mpl.ylabel('Frequency density')"
   ]
  },
  {
   "cell_type": "markdown",
   "metadata": {},
   "source": [
    "Yes, this doesn't seem *completely* unreasonable. However, because I am not making the same sort of claim about gei, I want to be consistent by using a uniform prior for both."
   ]
  },
  {
   "cell_type": "markdown",
   "metadata": {},
   "source": [
    "### The others\n",
    "\n",
    "The problem with the other parameters is that it looks slightly like they have run up against the bounds when they were being randomly sampled in the simulated annealing. For now, the most I want to do is assume uniform distributions, and hope to make a sufficiently large enough space to select from that decent posteriors can be found. "
   ]
  },
  {
   "cell_type": "code",
   "execution_count": null,
   "metadata": {
    "collapsed": true
   },
   "outputs": [],
   "source": []
  }
 ],
 "metadata": {
  "kernelspec": {
   "display_name": "Python 3",
   "language": "python",
   "name": "python3"
  },
  "language_info": {
   "codemirror_mode": {
    "name": "ipython",
    "version": 3
   },
   "file_extension": ".py",
   "mimetype": "text/x-python",
   "name": "python",
   "nbconvert_exporter": "python",
   "pygments_lexer": "ipython3",
   "version": "3.6.3"
  }
 },
 "nbformat": 4,
 "nbformat_minor": 2
}
