{
 "cells": [
  {
   "cell_type": "markdown",
   "metadata": {},
   "source": [
    "# Finding appropriate prior distributions based on Bobby's simulated annealing."
   ]
  },
  {
   "cell_type": "markdown",
   "metadata": {},
   "source": [
    "In our inference, we don't wish to only include likelihoods... we would also like to have more informed priors. Let's look at the data."
   ]
  },
  {
   "cell_type": "code",
   "execution_count": 2,
   "metadata": {
    "collapsed": true
   },
   "outputs": [],
   "source": [
    "import sys, os\n",
    "sys.path.append(\"..\")\n",
    "from utils import path as pth\n",
    "from scipy.io import loadmat\n",
    "import csv\n",
    "import numpy as np\n",
    "import pandas as pd"
   ]
  },
  {
   "cell_type": "markdown",
   "metadata": {},
   "source": [
    "Two sets of parameters were found; one uses the same standard HCP connectome for all calculations, the other used individual patient connectomes for each parameter search."
   ]
  },
  {
   "cell_type": "code",
   "execution_count": 3,
   "metadata": {
    "collapsed": true
   },
   "outputs": [],
   "source": [
    "HCP_params_path = '/Users/Megan/RajLab/BRAIN/SCFC-spectral-python/SCFC/data/SCFC_opparam_HCP.mat'\n",
    "IndConn_params_path = '/Users/Megan/RajLab/BRAIN/SCFC-spectral-python/SCFC/data/SCFC_opparam_individual.mat'"
   ]
  },
  {
   "cell_type": "code",
   "execution_count": 4,
   "metadata": {
    "collapsed": true
   },
   "outputs": [],
   "source": [
    "HCPdata = loadmat(HCP_params_path)"
   ]
  },
  {
   "cell_type": "code",
   "execution_count": 5,
   "metadata": {},
   "outputs": [
    {
     "data": {
      "text/plain": [
       "dict_keys(['__header__', '__version__', '__globals__', 'output'])"
      ]
     },
     "execution_count": 5,
     "metadata": {},
     "output_type": "execute_result"
    }
   ],
   "source": [
    "HCPdata.keys()"
   ]
  },
  {
   "cell_type": "code",
   "execution_count": 6,
   "metadata": {},
   "outputs": [
    {
     "data": {
      "text/plain": [
       "(1, 39)"
      ]
     },
     "execution_count": 6,
     "metadata": {},
     "output_type": "execute_result"
    }
   ],
   "source": [
    "HCPdata['output'].shape"
   ]
  },
  {
   "cell_type": "code",
   "execution_count": 7,
   "metadata": {},
   "outputs": [],
   "source": [
    "df = pd.DataFrame(HCPdata['output'][0])"
   ]
  },
  {
   "cell_type": "code",
   "execution_count": 8,
   "metadata": {},
   "outputs": [
    {
     "data": {
      "text/html": [
       "<div>\n",
       "<style scoped>\n",
       "    .dataframe tbody tr th:only-of-type {\n",
       "        vertical-align: middle;\n",
       "    }\n",
       "\n",
       "    .dataframe tbody tr th {\n",
       "        vertical-align: top;\n",
       "    }\n",
       "\n",
       "    .dataframe thead th {\n",
       "        text-align: right;\n",
       "    }\n",
       "</style>\n",
       "<table border=\"1\" class=\"dataframe\">\n",
       "  <thead>\n",
       "    <tr style=\"text-align: right;\">\n",
       "      <th></th>\n",
       "      <th>subjname</th>\n",
       "      <th>param</th>\n",
       "      <th>feval</th>\n",
       "      <th>simannealmsg</th>\n",
       "      <th>cfevals</th>\n",
       "    </tr>\n",
       "  </thead>\n",
       "  <tbody>\n",
       "    <tr>\n",
       "      <th>0</th>\n",
       "      <td>[8002.101]</td>\n",
       "      <td>[[0.012], [0.005], [0.5], [5.0], [4.0], [1.0],...</td>\n",
       "      <td>[[-0.8170847971245495]]</td>\n",
       "      <td>[[[[[3500]], [[3648]], ['Optimization terminat...</td>\n",
       "      <td>[[-0.8170847971245495, -0.8170847971245495, -0...</td>\n",
       "    </tr>\n",
       "    <tr>\n",
       "      <th>1</th>\n",
       "      <td>[8008.101]</td>\n",
       "      <td>[[0.011934858833523522], [0.007416371455534797...</td>\n",
       "      <td>[[-0.8481458299887372]]</td>\n",
       "      <td>[[[[[6706]], [[6973]], ['Optimization terminat...</td>\n",
       "      <td>[[-0.7951157225528295, -0.7951157225528295, -0...</td>\n",
       "    </tr>\n",
       "    <tr>\n",
       "      <th>2</th>\n",
       "      <td>[8012.101]</td>\n",
       "      <td>[[0.015953676157214023], [0.008954110012403716...</td>\n",
       "      <td>[[-0.8778002599935318]]</td>\n",
       "      <td>[[[[[4013]], [[4175]], ['Optimization terminat...</td>\n",
       "      <td>[[-0.811164750246104, -0.811164750246104, -0.6...</td>\n",
       "    </tr>\n",
       "    <tr>\n",
       "      <th>3</th>\n",
       "      <td>[8027.101]</td>\n",
       "      <td>[[0.016012950820885972], [0.008461467268632639...</td>\n",
       "      <td>[[-0.777688477204027]]</td>\n",
       "      <td>[[[[[7279]], [[7609]], ['Optimization terminat...</td>\n",
       "      <td>[[-0.7238549961538402, -0.7238549961538402, -0...</td>\n",
       "    </tr>\n",
       "    <tr>\n",
       "      <th>4</th>\n",
       "      <td>[8028.101]</td>\n",
       "      <td>[[0.01565266891377659], [0.0061132652979348796...</td>\n",
       "      <td>[[-0.7898000029556442]]</td>\n",
       "      <td>[[[[[4912]], [[5123]], ['Optimization terminat...</td>\n",
       "      <td>[[-0.764841488328076, -0.764841488328076, -0.7...</td>\n",
       "    </tr>\n",
       "  </tbody>\n",
       "</table>\n",
       "</div>"
      ],
      "text/plain": [
       "     subjname                                              param  \\\n",
       "0  [8002.101]  [[0.012], [0.005], [0.5], [5.0], [4.0], [1.0],...   \n",
       "1  [8008.101]  [[0.011934858833523522], [0.007416371455534797...   \n",
       "2  [8012.101]  [[0.015953676157214023], [0.008954110012403716...   \n",
       "3  [8027.101]  [[0.016012950820885972], [0.008461467268632639...   \n",
       "4  [8028.101]  [[0.01565266891377659], [0.0061132652979348796...   \n",
       "\n",
       "                     feval                                       simannealmsg  \\\n",
       "0  [[-0.8170847971245495]]  [[[[[3500]], [[3648]], ['Optimization terminat...   \n",
       "1  [[-0.8481458299887372]]  [[[[[6706]], [[6973]], ['Optimization terminat...   \n",
       "2  [[-0.8778002599935318]]  [[[[[4013]], [[4175]], ['Optimization terminat...   \n",
       "3   [[-0.777688477204027]]  [[[[[7279]], [[7609]], ['Optimization terminat...   \n",
       "4  [[-0.7898000029556442]]  [[[[[4912]], [[5123]], ['Optimization terminat...   \n",
       "\n",
       "                                             cfevals  \n",
       "0  [[-0.8170847971245495, -0.8170847971245495, -0...  \n",
       "1  [[-0.7951157225528295, -0.7951157225528295, -0...  \n",
       "2  [[-0.811164750246104, -0.811164750246104, -0.6...  \n",
       "3  [[-0.7238549961538402, -0.7238549961538402, -0...  \n",
       "4  [[-0.764841488328076, -0.764841488328076, -0.7...  "
      ]
     },
     "execution_count": 8,
     "metadata": {},
     "output_type": "execute_result"
    }
   ],
   "source": [
    "df.head()"
   ]
  },
  {
   "cell_type": "markdown",
   "metadata": {},
   "source": [
    "For now, we care about collating the parameter values found for all the subjects, so let's find a way to separate that data out."
   ]
  },
  {
   "cell_type": "code",
   "execution_count": 9,
   "metadata": {},
   "outputs": [],
   "source": [
    "params = df['param'].values"
   ]
  },
  {
   "cell_type": "code",
   "execution_count": 10,
   "metadata": {},
   "outputs": [],
   "source": [
    "subjects = df['subjname'].values"
   ]
  },
  {
   "cell_type": "code",
   "execution_count": 11,
   "metadata": {},
   "outputs": [
    {
     "data": {
      "text/plain": [
       "'8065.101'"
      ]
     },
     "execution_count": 11,
     "metadata": {},
     "output_type": "execute_result"
    }
   ],
   "source": [
    "str(subjects[10][0])"
   ]
  },
  {
   "cell_type": "code",
   "execution_count": 12,
   "metadata": {},
   "outputs": [
    {
     "data": {
      "text/plain": [
       "numpy.ndarray"
      ]
     },
     "execution_count": 12,
     "metadata": {},
     "output_type": "execute_result"
    }
   ],
   "source": [
    "type(params[0][0])"
   ]
  },
  {
   "cell_type": "markdown",
   "metadata": {},
   "source": [
    "Want to extract the parameters as arrays (we lose the patient data for now) and histogram them. They are in the order:\n",
    "\n",
    "- tau_e\n",
    "- tau_i\n",
    "- alpha\n",
    "- speed\n",
    "- gei\n",
    "- gii\n",
    "- tauC"
   ]
  },
  {
   "cell_type": "code",
   "execution_count": 13,
   "metadata": {},
   "outputs": [
    {
     "name": "stdout",
     "output_type": "stream",
     "text": [
      "[]\n",
      "Not all parameters available for subject[]\n",
      "[]\n",
      "Not all parameters available for subject[]\n",
      "[]\n",
      "Not all parameters available for subject[]\n"
     ]
    }
   ],
   "source": [
    "tau_e = []\n",
    "tau_i = []\n",
    "alpha = []\n",
    "speed = []\n",
    "gei = []\n",
    "gii = []\n",
    "tau_C = []\n",
    "i = 0\n",
    "for array in params:\n",
    "    if len(array) == 7:\n",
    "        tau_e.append(array[0][0])\n",
    "        tau_i.append(array[1][0])\n",
    "        alpha.append(array[2][0])\n",
    "        speed.append(array[3][0])\n",
    "        gei.append(array[4][0])\n",
    "        gii.append(array[5][0])\n",
    "        tau_C.append(array[6][0])\n",
    "        i += 1\n",
    "    else:\n",
    "        subject_name = str(subjects[i][0])\n",
    "        print(subjects[i][0])\n",
    "        print('Not all parameters available for subject'+ subject_name)\n",
    "        i += 1"
   ]
  },
  {
   "cell_type": "code",
   "execution_count": 14,
   "metadata": {},
   "outputs": [
    {
     "data": {
      "text/plain": [
       "36"
      ]
     },
     "execution_count": 14,
     "metadata": {},
     "output_type": "execute_result"
    }
   ],
   "source": [
    "len(tau_e)"
   ]
  },
  {
   "cell_type": "markdown",
   "metadata": {},
   "source": [
    "This is expected from the number of subjects we have."
   ]
  },
  {
   "cell_type": "code",
   "execution_count": 15,
   "metadata": {
    "collapsed": true
   },
   "outputs": [],
   "source": [
    "import matplotlib.pyplot as mpl\n",
    "%matplotlib inline"
   ]
  },
  {
   "cell_type": "code",
   "execution_count": 16,
   "metadata": {},
   "outputs": [
    {
     "data": {
      "text/plain": [
       "Text(0,0.5,'Magnitude (dB)')"
      ]
     },
     "execution_count": 16,
     "metadata": {},
     "output_type": "execute_result"
    },
    {
     "data": {
      "image/png": "[encoded data removed]",
      "text/plain": [
       "<matplotlib.figure.Figure at 0x1812bc6c50>"
      ]
     },
     "metadata": {},
     "output_type": "display_data"
    }
   ],
   "source": [
    "fig1 = mpl.figure(num=5, figsize = (6,4))\n",
    "mpl.hist(tau_e, 20)\n",
    "\n",
    "mpl.grid(True)\n",
    "mpl.xlabel('Frequency (Hz)')\n",
    "mpl.ylabel('Magnitude (dB)')"
   ]
  },
  {
   "cell_type": "code",
   "execution_count": 17,
   "metadata": {},
   "outputs": [
    {
     "data": {
      "text/plain": [
       "Text(0,0.5,'Magnitude (dB)')"
      ]
     },
     "execution_count": 17,
     "metadata": {},
     "output_type": "execute_result"
    },
    {
     "data": {
      "image/png": "[encoded data removed]",
      "text/plain": [
       "<matplotlib.figure.Figure at 0x1817bb1198>"
      ]
     },
     "metadata": {},
     "output_type": "display_data"
    }
   ],
   "source": [
    "fig2 = mpl.figure(num=5, figsize = (6,4))\n",
    "mpl.hist(tau_i, 20)\n",
    "\n",
    "mpl.grid(True)\n",
    "mpl.xlabel('Frequency (Hz)')\n",
    "mpl.ylabel('Magnitude (dB)')"
   ]
  },
  {
   "cell_type": "code",
   "execution_count": 18,
   "metadata": {},
   "outputs": [
    {
     "data": {
      "text/plain": [
       "Text(0,0.5,'Magnitude (dB)')"
      ]
     },
     "execution_count": 18,
     "metadata": {},
     "output_type": "execute_result"
    },
    {
     "data": {
      "image/png": "[encoded data removed]",
      "text/plain": [
       "<matplotlib.figure.Figure at 0x181afdb7b8>"
      ]
     },
     "metadata": {},
     "output_type": "display_data"
    }
   ],
   "source": [
    "fig3 = mpl.figure(num=5, figsize = (6,4))\n",
    "mpl.hist(alpha, 20)\n",
    "\n",
    "mpl.grid(True)\n",
    "mpl.xlabel('Frequency (Hz)')\n",
    "mpl.ylabel('Magnitude (dB)')"
   ]
  },
  {
   "cell_type": "markdown",
   "metadata": {},
   "source": [
    "Before we just plot everything, let's import the individual connectome data and see if there's a difference."
   ]
  },
  {
   "cell_type": "code",
   "execution_count": 19,
   "metadata": {
    "collapsed": true
   },
   "outputs": [],
   "source": [
    "Inddata = loadmat(IndConn_params_path)"
   ]
  },
  {
   "cell_type": "code",
   "execution_count": 20,
   "metadata": {
    "collapsed": true
   },
   "outputs": [],
   "source": [
    "Indf = pd.DataFrame(Inddata['output'][0])"
   ]
  },
  {
   "cell_type": "code",
   "execution_count": 21,
   "metadata": {},
   "outputs": [
    {
     "name": "stdout",
     "output_type": "stream",
     "text": [
      "[]\n",
      "Not all parameters available for subject[]\n",
      "[]\n",
      "Not all parameters available for subject[]\n",
      "[]\n",
      "Not all parameters available for subject[]\n"
     ]
    }
   ],
   "source": [
    "Indparams = df['param'].values\n",
    "\n",
    "Itau_e = []\n",
    "Itau_i = []\n",
    "Ialpha = []\n",
    "Ispeed = []\n",
    "Igei = []\n",
    "Igii = []\n",
    "Itau_C = []\n",
    "i = 0\n",
    "for array in Indparams:\n",
    "    if len(array) == 7:\n",
    "        Itau_e.append(array[0][0])\n",
    "        Itau_i.append(array[1][0])\n",
    "        Ialpha.append(array[2][0])\n",
    "        Ispeed.append(array[3][0])\n",
    "        Igei.append(array[4][0])\n",
    "        Igii.append(array[5][0])\n",
    "        Itau_C.append(array[6][0])\n",
    "        i += 1\n",
    "    else:\n",
    "        subject_name = str(subjects[i][0])\n",
    "        print(subjects[i][0])\n",
    "        print('Not all parameters available for subject'+ subject_name)\n",
    "        i += 1"
   ]
  },
  {
   "cell_type": "code",
   "execution_count": 22,
   "metadata": {},
   "outputs": [
    {
     "data": {
      "text/plain": [
       "Text(0,0.5,'Magnitude (dB)')"
      ]
     },
     "execution_count": 22,
     "metadata": {},
     "output_type": "execute_result"
    },
    {
     "data": {
      "image/png": "[encoded data removed]",
      "text/plain": [
       "<matplotlib.figure.Figure at 0x181b0e9f60>"
      ]
     },
     "metadata": {},
     "output_type": "display_data"
    }
   ],
   "source": [
    "fig1 = mpl.figure(num=5, figsize = (6,4))\n",
    "mpl.hist(tau_e, 20, alpha = 0.5)\n",
    "mpl.hist(Itau_e, 20, alpha = 0.5)\n",
    "mpl.grid(True)\n",
    "mpl.xlabel('Frequency (Hz)')\n",
    "mpl.ylabel('Magnitude (dB)')"
   ]
  },
  {
   "cell_type": "code",
   "execution_count": 23,
   "metadata": {},
   "outputs": [
    {
     "data": {
      "text/plain": [
       "Text(0,0.5,'Magnitude (dB)')"
      ]
     },
     "execution_count": 23,
     "metadata": {},
     "output_type": "execute_result"
    },
    {
     "data": {
      "image/png": "[encoded data removed]",
      "text/plain": [
       "<matplotlib.figure.Figure at 0x181b0e9860>"
      ]
     },
     "metadata": {},
     "output_type": "display_data"
    }
   ],
   "source": [
    "fig2 = mpl.figure(num=5, figsize = (6,4))\n",
    "mpl.hist(tau_i, 20)\n",
    "mpl.hist(Itau_i, 20, alpha = 0.5)\n",
    "mpl.grid(True)\n",
    "mpl.xlabel('Frequency (Hz)')\n",
    "mpl.ylabel('Magnitude (dB)')"
   ]
  },
  {
   "cell_type": "markdown",
   "metadata": {},
   "source": [
    "It seems that individual connectivity has not made a difference to the prior distributions. Let's plot them all."
   ]
  },
  {
   "cell_type": "code",
   "execution_count": 35,
   "metadata": {},
   "outputs": [],
   "source": [
    "param_array = [tau_e, tau_i,alpha,speed,gei,gii,tau_C]"
   ]
  },
  {
   "cell_type": "code",
   "execution_count": 42,
   "metadata": {
    "collapsed": true
   },
   "outputs": [],
   "source": [
    "param_name = ['tau_e', 'tau_i','alpha','speed','gei','gii','tau_C']"
   ]
  },
  {
   "cell_type": "markdown",
   "metadata": {},
   "source": [
    "Indicate the bounds used in simulated annealing."
   ]
  },
  {
   "cell_type": "code",
   "execution_count": 55,
   "metadata": {
    "collapsed": true
   },
   "outputs": [],
   "source": [
    "param_lower = [0.005,0.005,0.1,5,0.5,0.5,0.005]\n",
    "param_upper = [0.02,0.02,1,20,5,5,0.020]"
   ]
  },
  {
   "cell_type": "code",
   "execution_count": 34,
   "metadata": {},
   "outputs": [
    {
     "data": {
      "text/plain": [
       "True"
      ]
     },
     "execution_count": 34,
     "metadata": {},
     "output_type": "execute_result"
    }
   ],
   "source": [
    "param_array[0] == tau_e"
   ]
  },
  {
   "cell_type": "code",
   "execution_count": 57,
   "metadata": {},
   "outputs": [
    {
     "data": {
      "image/png": "[encoded data removed]",
      "text/plain": [
       "<matplotlib.figure.Figure at 0x181d7c80f0>"
      ]
     },
     "metadata": {},
     "output_type": "display_data"
    }
   ],
   "source": [
    "fig3, axes3 = mpl.subplots(4,2, figsize = (20,30))\n",
    "ax3 = axes3.ravel()\n",
    "fig3.suptitle('Prior distributions of NTF parameters, from simulated annealing on 36 patients', fontsize = 'xx-large', y = 0.9)\n",
    "i = 0\n",
    "\n",
    "\n",
    "for i in range(7):\n",
    "    mpl.sca(ax3[i])\n",
    "    mpl.hist(param_array[i], 20, alpha = 0.5)\n",
    "    ax3[i].grid(True)\n",
    "    ax3[i].set_ylabel('Frequency density', fontsize = 'large')\n",
    "    #ax3[i].text(0.9, 0.9,param_name[i],\n",
    "    # horizontalalignment='center',\n",
    "    # verticalalignment='center',\n",
    "    # transform = ax3[i].transAxes, fontsize = 'large')\n",
    "    ax3[i].set_xlabel(param_name[i], fontsize = 'large')\n",
    "    ax3[i].axvline(x=param_lower[i], color='r', linestyle='dashed', linewidth=2)\n",
    "    ax3[i].axvline(x=param_upper[i], color='r', linestyle='dashed', linewidth=2)\n",
    "    i += 1\n",
    "mpl.sca(ax3[7])\n",
    "ax3[7].set_visible(False)\n",
    "fig3.savefig(\"paramdistributions_HCPconn.pdf\", bbox_inches='tight')"
   ]
  },
  {
   "cell_type": "markdown",
   "metadata": {},
   "source": [
    "OK, even though it is not initially obvious which distributions should work, let's set up a piece of code to at least do some of the job."
   ]
  },
  {
   "cell_type": "code",
   "execution_count": 66,
   "metadata": {
    "collapsed": true
   },
   "outputs": [],
   "source": [
    "from scipy.stats import norm"
   ]
  },
  {
   "cell_type": "code",
   "execution_count": 71,
   "metadata": {},
   "outputs": [],
   "source": [
    "m, s = norm.fit(tau_e)"
   ]
  },
  {
   "cell_type": "code",
   "execution_count": 72,
   "metadata": {},
   "outputs": [],
   "source": [
    "x = np.linspace(0, 0.02, 100)"
   ]
  },
  {
   "cell_type": "code",
   "execution_count": 80,
   "metadata": {},
   "outputs": [
    {
     "data": {
      "text/plain": [
       "Text(0,0.5,'Magnitude (dB)')"
      ]
     },
     "execution_count": 80,
     "metadata": {},
     "output_type": "execute_result"
    },
    {
     "data": {
      "image/png": "[encoded data removed]",
      "text/plain": [
       "<matplotlib.figure.Figure at 0x181ceb07b8>"
      ]
     },
     "metadata": {},
     "output_type": "display_data"
    }
   ],
   "source": [
    "y = 0.05*(1 / (np.sqrt(2 * np.pi * np.power(s, 2)))) * \\\n",
    "    (np.power(np.e, -(np.power((x - m), 2) / (2 * np.power(s, 2)))))\n",
    "fig4 = mpl.figure(num=5, figsize = (6,4))\n",
    "mpl.plot(x,y)\n",
    "mpl.hist(param_array[0], 20, alpha = 0.5)\n",
    "mpl.grid(True)\n",
    "mpl.xlabel('Frequency (Hz)')\n",
    "mpl.ylabel('Magnitude (dB)')"
   ]
  },
  {
   "cell_type": "code",
   "execution_count": 77,
   "metadata": {
    "collapsed": true
   },
   "outputs": [],
   "source": [
    "from scipy.stats import gamma"
   ]
  },
  {
   "cell_type": "code",
   "execution_count": 78,
   "metadata": {
    "collapsed": true
   },
   "outputs": [],
   "source": [
    "a = gamma.fit(tau_e)"
   ]
  },
  {
   "cell_type": "code",
   "execution_count": 79,
   "metadata": {},
   "outputs": [
    {
     "ename": "ValueError",
     "evalue": "operands could not be broadcast together with shapes (3,) (100,) ",
     "output_type": "error",
     "traceback": [
      "\u001b[0;31m---------------------------------------------------------------------------\u001b[0m",
      "\u001b[0;31mValueError\u001b[0m                                Traceback (most recent call last)",
      "\u001b[0;32m<ipython-input-79-2d6e0e458cbc>\u001b[0m in \u001b[0;36m<module>\u001b[0;34m()\u001b[0m\n\u001b[0;32m----> 1\u001b[0;31m \u001b[0my\u001b[0m \u001b[0;34m=\u001b[0m \u001b[0mgamma\u001b[0m\u001b[0;34m.\u001b[0m\u001b[0mpdf\u001b[0m\u001b[0;34m(\u001b[0m\u001b[0mx\u001b[0m\u001b[0;34m,\u001b[0m\u001b[0ma\u001b[0m\u001b[0;34m)\u001b[0m\u001b[0;34m\u001b[0m\u001b[0m\n\u001b[0m\u001b[1;32m      2\u001b[0m \u001b[0mfig4\u001b[0m \u001b[0;34m=\u001b[0m \u001b[0mmpl\u001b[0m\u001b[0;34m.\u001b[0m\u001b[0mfigure\u001b[0m\u001b[0;34m(\u001b[0m\u001b[0mnum\u001b[0m\u001b[0;34m=\u001b[0m\u001b[0;36m5\u001b[0m\u001b[0;34m,\u001b[0m \u001b[0mfigsize\u001b[0m \u001b[0;34m=\u001b[0m \u001b[0;34m(\u001b[0m\u001b[0;36m6\u001b[0m\u001b[0;34m,\u001b[0m\u001b[0;36m4\u001b[0m\u001b[0;34m)\u001b[0m\u001b[0;34m)\u001b[0m\u001b[0;34m\u001b[0m\u001b[0m\n\u001b[1;32m      3\u001b[0m \u001b[0mmpl\u001b[0m\u001b[0;34m.\u001b[0m\u001b[0mplot\u001b[0m\u001b[0;34m(\u001b[0m\u001b[0mx\u001b[0m\u001b[0;34m,\u001b[0m\u001b[0my\u001b[0m\u001b[0;34m)\u001b[0m\u001b[0;34m\u001b[0m\u001b[0m\n\u001b[1;32m      4\u001b[0m \u001b[0mmpl\u001b[0m\u001b[0;34m.\u001b[0m\u001b[0mhist\u001b[0m\u001b[0;34m(\u001b[0m\u001b[0mparam_array\u001b[0m\u001b[0;34m[\u001b[0m\u001b[0;36m0\u001b[0m\u001b[0;34m]\u001b[0m\u001b[0;34m,\u001b[0m \u001b[0;36m20\u001b[0m\u001b[0;34m,\u001b[0m \u001b[0malpha\u001b[0m \u001b[0;34m=\u001b[0m \u001b[0;36m0.5\u001b[0m\u001b[0;34m)\u001b[0m\u001b[0;34m\u001b[0m\u001b[0m\n\u001b[1;32m      5\u001b[0m \u001b[0mmpl\u001b[0m\u001b[0;34m.\u001b[0m\u001b[0mgrid\u001b[0m\u001b[0;34m(\u001b[0m\u001b[0;32mTrue\u001b[0m\u001b[0;34m)\u001b[0m\u001b[0;34m\u001b[0m\u001b[0m\n",
      "\u001b[0;32m~/anaconda3/lib/python3.6/site-packages/scipy/stats/_distn_infrastructure.py\u001b[0m in \u001b[0;36mpdf\u001b[0;34m(self, x, *args, **kwds)\u001b[0m\n\u001b[1;32m   1650\u001b[0m         \u001b[0mcond0\u001b[0m \u001b[0;34m=\u001b[0m \u001b[0mself\u001b[0m\u001b[0;34m.\u001b[0m\u001b[0m_argcheck\u001b[0m\u001b[0;34m(\u001b[0m\u001b[0;34m*\u001b[0m\u001b[0margs\u001b[0m\u001b[0;34m)\u001b[0m \u001b[0;34m&\u001b[0m \u001b[0;34m(\u001b[0m\u001b[0mscale\u001b[0m \u001b[0;34m>\u001b[0m \u001b[0;36m0\u001b[0m\u001b[0;34m)\u001b[0m\u001b[0;34m\u001b[0m\u001b[0m\n\u001b[1;32m   1651\u001b[0m         \u001b[0mcond1\u001b[0m \u001b[0;34m=\u001b[0m \u001b[0mself\u001b[0m\u001b[0;34m.\u001b[0m\u001b[0m_support_mask\u001b[0m\u001b[0;34m(\u001b[0m\u001b[0mx\u001b[0m\u001b[0;34m)\u001b[0m \u001b[0;34m&\u001b[0m \u001b[0;34m(\u001b[0m\u001b[0mscale\u001b[0m \u001b[0;34m>\u001b[0m \u001b[0;36m0\u001b[0m\u001b[0;34m)\u001b[0m\u001b[0;34m\u001b[0m\u001b[0m\n\u001b[0;32m-> 1652\u001b[0;31m         \u001b[0mcond\u001b[0m \u001b[0;34m=\u001b[0m \u001b[0mcond0\u001b[0m \u001b[0;34m&\u001b[0m \u001b[0mcond1\u001b[0m\u001b[0;34m\u001b[0m\u001b[0m\n\u001b[0m\u001b[1;32m   1653\u001b[0m         \u001b[0moutput\u001b[0m \u001b[0;34m=\u001b[0m \u001b[0mzeros\u001b[0m\u001b[0;34m(\u001b[0m\u001b[0mshape\u001b[0m\u001b[0;34m(\u001b[0m\u001b[0mcond\u001b[0m\u001b[0;34m)\u001b[0m\u001b[0;34m,\u001b[0m \u001b[0mdtyp\u001b[0m\u001b[0;34m)\u001b[0m\u001b[0;34m\u001b[0m\u001b[0m\n\u001b[1;32m   1654\u001b[0m         \u001b[0mputmask\u001b[0m\u001b[0;34m(\u001b[0m\u001b[0moutput\u001b[0m\u001b[0;34m,\u001b[0m \u001b[0;34m(\u001b[0m\u001b[0;36m1\u001b[0m\u001b[0;34m-\u001b[0m\u001b[0mcond0\u001b[0m\u001b[0;34m)\u001b[0m\u001b[0;34m+\u001b[0m\u001b[0mnp\u001b[0m\u001b[0;34m.\u001b[0m\u001b[0misnan\u001b[0m\u001b[0;34m(\u001b[0m\u001b[0mx\u001b[0m\u001b[0;34m)\u001b[0m\u001b[0;34m,\u001b[0m \u001b[0mself\u001b[0m\u001b[0;34m.\u001b[0m\u001b[0mbadvalue\u001b[0m\u001b[0;34m)\u001b[0m\u001b[0;34m\u001b[0m\u001b[0m\n",
      "\u001b[0;31mValueError\u001b[0m: operands could not be broadcast together with shapes (3,) (100,) "
     ]
    }
   ],
   "source": [
    "y = gamma.pdf(x,a)\n",
    "fig5 = mpl.figure(num=5, figsize = (6,4))\n",
    "mpl.plot(x,y)\n",
    "mpl.hist(param_array[0], 20, alpha = 0.5)\n",
    "mpl.grid(True)\n",
    "mpl.xlabel('Frequency (Hz)')\n",
    "mpl.ylabel('Magnitude (dB)')"
   ]
  },
  {
   "cell_type": "code",
   "execution_count": null,
   "metadata": {
    "collapsed": true
   },
   "outputs": [],
   "source": []
  }
 ],
 "metadata": {
  "kernelspec": {
   "display_name": "Python 3",
   "language": "python",
   "name": "python3"
  },
  "language_info": {
   "codemirror_mode": {
    "name": "ipython",
    "version": 3
   },
   "file_extension": ".py",
   "mimetype": "text/x-python",
   "name": "python",
   "nbconvert_exporter": "python",
   "pygments_lexer": "ipython3",
   "version": "3.6.3"
  }
 },
 "nbformat": 4,
 "nbformat_minor": 2
}
