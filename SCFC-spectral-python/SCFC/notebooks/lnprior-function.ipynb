{
 "cells": [
  {
   "cell_type": "markdown",
   "metadata": {},
   "source": [
    "# Designing the ln(prior) function\n",
    "\n",
    "Following the exploration of the existing data we have on parameter values, we are going to design a function that takes the list of parameter values and returns -ln(prior) for the whole set, or the sum over all the -ln(priors) for each individual parameter. \n",
    "\n",
    "To allow a variation in the form of the distribution and it's shape for each parameter, in addition to the list of parameter values itself (which are going to be randomly selected by the MCMC), we shall pass a dictionary of values for the parameter's distributions, param_dists."
   ]
  },
  {
   "cell_type": "code",
   "execution_count": 1,
   "metadata": {
    "collapsed": true
   },
   "outputs": [],
   "source": [
    "from scipy import stats"
   ]
  },
  {
   "cell_type": "code",
   "execution_count": null,
   "metadata": {
    "collapsed": true
   },
   "outputs": [],
   "source": [
    "def lnpriors(params, param_dists):\n",
    "    "
   ]
  }
 ],
 "metadata": {
  "kernelspec": {
   "display_name": "Python 3",
   "language": "python",
   "name": "python3"
  },
  "language_info": {
   "codemirror_mode": {
    "name": "ipython",
    "version": 3
   },
   "file_extension": ".py",
   "mimetype": "text/x-python",
   "name": "python",
   "nbconvert_exporter": "python",
   "pygments_lexer": "ipython3",
   "version": "3.6.3"
  }
 },
 "nbformat": 4,
 "nbformat_minor": 2
}
