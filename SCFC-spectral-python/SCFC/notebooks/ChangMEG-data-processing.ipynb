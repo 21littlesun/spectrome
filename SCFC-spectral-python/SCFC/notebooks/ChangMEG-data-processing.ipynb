{
 "cells": [
  {
   "cell_type": "markdown",
   "metadata": {},
   "source": [
    "# Preprocessing data -- Chang MEG"
   ]
  },
  {
   "cell_type": "markdown",
   "metadata": {},
   "source": [
    "Description of the process applied to Chang's MEG data. This explains which scripts to use to process MEG and how the conversion to dictionaries is carried out, as well as the filtering and scripts that have been applied. \n",
    "\n",
    "**IMPORTANT: the convention we are using in the dicitonary is as follows -- for all cortical regions, the hemisphere is denoted as 'LH/RH' followed by the name of the region in lower case letters with no spaces eg. 'LHinsula'**\n",
    "\n",
    "## Preprocessing\n",
    "\n",
    "### Making dictionaries\n",
    "\n",
    "Data is converted in to dictionary form so that brain region labelling is not based solely upon order in a given file.\n",
    "\n",
    "In the 'preprocess' module there is a function 'add_key_data' that takes a mat file of data, and also a txt file of the names of the brain regions in the corresponding correct order, and puts them together to create a dictionary. Note that this can be copied and modified to accept csv files with the dictionary names etc. \n",
    "\n",
    "This function is run by the script 'scripts/makedictionaries_Chang_data.py' and the dictionaries of data are saved out to hdf5 files. In the folders of Chang's data there are also coordinate files which are similarly processed to be placed in dictionary form.\n",
    "\n",
    "These scripts can be modified to accept different input label files and different locations of data as required. \n",
    "\n",
    "### Filtering and performing transform to spectra\n",
    "\n",
    "So far, this is carrying forward the same filter that was applied previously. As this is a slow process, the script 'preprocess/filter_Chang_data.py' has been applied to all of the dictionaries created above. The output is saved as dictionaries in the hdf5 files. \n",
    "\n",
    "Parameters for the 'filters.filter_MEG' function have been unchanged, and are recorded here: fsampling=600, fmin=2, fmax=45, regions =68. Within this, the multi-taper psd function is thus: tsa.multi_taper_psd(ds_q, Fs = fs/4, NW = 3, BW = 1, adaptive = False, jackknife = False)\n",
    "\n",
    "Data is saved in files with the suffix '...filtered.h5' and the corresponding output frequencies are in '...filteredfreqs.h5'"
   ]
  },
  {
   "cell_type": "code",
   "execution_count": null,
   "metadata": {
    "collapsed": true
   },
   "outputs": [],
   "source": []
  }
 ],
 "metadata": {
  "kernelspec": {
   "display_name": "Python 3",
   "language": "python",
   "name": "python3"
  },
  "language_info": {
   "codemirror_mode": {
    "name": "ipython",
    "version": 3
   },
   "file_extension": ".py",
   "mimetype": "text/x-python",
   "name": "python",
   "nbconvert_exporter": "python",
   "pygments_lexer": "ipython3",
   "version": "3.6.3"
  }
 },
 "nbformat": 4,
 "nbformat_minor": 2
}
