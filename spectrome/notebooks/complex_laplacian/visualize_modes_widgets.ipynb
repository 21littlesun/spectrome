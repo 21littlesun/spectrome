{
 "cells": [
  {
   "cell_type": "markdown",
   "metadata": {},
   "source": [
    "## Visualizing eigen modes with ipywidgets and pysurfer"
   ]
  },
  {
   "cell_type": "code",
   "execution_count": 1,
   "metadata": {},
   "outputs": [],
   "source": [
    "# testing for visualization within the notebook cells, won't update with slider tho have to call test_plot3d()\n",
    "# from mayavi import mlab\n",
    "# mlab.init_notebook('x3d')\n",
    "# mlab.test_plot3d()"
   ]
  },
  {
   "cell_type": "code",
   "execution_count": 1,
   "metadata": {},
   "outputs": [],
   "source": [
    "from ipywidgets import interactive, widgets, fixed\n",
    "import sys\n",
    "sys.path.append(\"../..\")\n",
    "\n",
    "import numpy as np\n",
    "import pandas as pd\n",
    "from surfer import Brain as surfBrain\n",
    "import os\n",
    "import nibabel as nib\n",
    "\n",
    "from spectrome.brain import Brain\n",
    "from spectrome.utils import functions, path"
   ]
  },
  {
   "cell_type": "code",
   "execution_count": 2,
   "metadata": {},
   "outputs": [],
   "source": [
    "em_brain = Brain.Brain() # creates empty brain object\n",
    "hcp_dir = path.get_sibling_path('data') # grabs path to data folder one folder above (sibling)\n",
    "em_brain.add_connectome(hcp_dir) # adds connectivity matrix and distance matrix to brain object\n",
    "em_brain.reorder_connectome(em_brain.connectome, em_brain.distance_matrix) # <- talk to Pablo to see if this is necessary\n",
    "#em_brain.reorder_connectome(em_brain.connectome, em_brain.distance_matrix)\n",
    "em_brain.bi_symmetric_c()\n",
    "em_brain.reduce_extreme_dir()\n",
    "\n",
    "# Define frequency range of interest\n",
    "fmin = 2 # 2Hz - 45Hz signal range, filter for this with hbp\n",
    "fmax = 45\n",
    "fvec = np.linspace(fmin,fmax,40)"
   ]
  },
  {
   "cell_type": "code",
   "execution_count": 3,
   "metadata": {},
   "outputs": [],
   "source": [
    "# LaPlacian Function:\n",
    "def get_complex_laplacian(C, D, w, speed = 10, num_ev = 5):\n",
    "    \"\"\" Extract complex laplacian based on frequency \"omega\", returns number of eigen\n",
    "        vectors. This function sorts eigen vectors by ascending order, meaning the sorting\n",
    "        begins with the eigen vectors associated with smallest absolute value of eigen values. \n",
    "        \n",
    "        Args:\n",
    "        - C (array): connectome\n",
    "        - D (array): Distance matrix for C\n",
    "        - speed (int): default 10 m/s, transmission velocity\n",
    "        - omega (float): \n",
    "        - num_ev (int): number of eigen vectors you want as output\n",
    "        Output:\n",
    "        - L: complex laplacian\n",
    "        - Vvec: eigen vectors\n",
    "    \"\"\"\n",
    "    alpha = 1\n",
    "    nroi = C.shape[0]\n",
    "    rowdegree = np.transpose(np.sum(C,axis=1))\n",
    "    coldegree = np.sum(C,axis=0)\n",
    "    \n",
    "    qind = rowdegree + coldegree < 0.2*np.mean(rowdegree + coldegree)\n",
    "    rowdegree[qind] = np.inf\n",
    "    coldegree[qind] = np.inf\n",
    "    \n",
    "    Tau = 0.001*D/speed\n",
    "    Cc = C*np.exp(-1j*Tau*w)\n",
    "    \n",
    "    # Eigen decomposition\n",
    "    L1 = 0.8*np.identity(nroi)\n",
    "    L2 = np.divide(1,np.sqrt(np.multiply(rowdegree,coldegree))+np.spacing(1)) #diag(1./(sqrt(rowdegree.*coldegree)+eps));\n",
    "    L = L1 - np.matmul(np.diag(L2),Cc)\n",
    "    # how many eigs to pick?\n",
    "    use_smalleigs = False\n",
    "    numsmalleigs = np.round(2/3*C.shape[0]) #2/3\n",
    "    if use_smalleigs is True:\n",
    "        K = numsmalleigs\n",
    "        K = K.astype(int)\n",
    "    else:\n",
    "        K = nroi\n",
    "    # decomposition with linalg.eig    \n",
    "    d, v = np.linalg.eig(L)\n",
    "    # sorting in ascending & absolute value\n",
    "    eig_ind = np.argsort(np.abs(d))\n",
    "    eig_vec = v[:,eig_ind]\n",
    "    abseiv = np.abs(eig_vec[:,0])\n",
    "    sorted_Evals = d[eig_ind]\n",
    "    #abseval = np.abs(eig_val)\n",
    "    \n",
    "    ev = np.transpose(sorted_Evals[0:K])\n",
    "    Vv = eig_vec[0:K]\n",
    "    Vvec = np.asarray(Vv)\n",
    "    \n",
    "    selected_Evec = []\n",
    "    for k in np.arange(0, num_ev):\n",
    "        abs_Vvec = np.abs(Vvec[:,k])\n",
    "        selected_Evec.append(abs_Vvec)\n",
    "    \n",
    "    selected_Evec = np.asarray(selected_Evec)\n",
    "    return L, selected_Evec, sorted_Evals\n",
    "\n",
    "## function to normalize the eigen modes..?\n",
    "def normalize_eigs(selected_Evec):\n",
    "    norm_eigs = np.zeros(selected_Evec.shape)\n",
    "    nroi = selected_Evec.shape[0]\n",
    "    for i in np.arange(0,nroi):\n",
    "        vdata = np.maximum(selected_Evec[i,:], \n",
    "                   np.mean(selected_Evec[i,:])-np.std(selected_Evec[i,:]))\n",
    "        vdata = vdata - np.amin(vdata)\n",
    "        \n",
    "        vdata = np.minimum(vdata, np.mean(vdata)+np.std(vdata))\n",
    "        vdata = vdata/np.amax(vdata)\n",
    "        norm_eigs[i,:] = vdata\n",
    "        \n",
    "    return norm_eigs"
   ]
  },
  {
   "cell_type": "code",
   "execution_count": 4,
   "metadata": {},
   "outputs": [],
   "source": [
    "# Function to get eigen decomposition based on omega and speed\n",
    "# import matplotlib.pyplot as plt\n",
    "\n",
    "def eigmode_widget(C, D, fvec, num_ev, labels, f_in, speed, num_em):\n",
    "    freq_index = np.abs(fvec-f_in).argmin()\n",
    "    omega = 2*np.pi*fvec[freq_index]\n",
    "    L, selected_Evec, sorted_Evals = get_complex_laplacian(C, D, w = omega, speed = speed, num_ev = num_ev)\n",
    "    norm_eigs = normalize_eigs(selected_Evec)\n",
    "    \n",
    "    # Get our eigen modes (cortical only)\n",
    "    cortical_norm_eigs = norm_eigs[:,0:68]\n",
    "    lh_norm_eigs = cortical_norm_eigs[num_em-1,0:34]\n",
    "\n",
    "    # need to pad our left hemisphere eigen vector so that len(ev) = len(names)\n",
    "    #lh_norm_eigs[0,:]\n",
    "    lh_padded_eigs = np.insert(lh_norm_eigs, [0, 3], [0, 0])\n",
    "        \n",
    "    vtx_test_brain = lh_padded_eigs[labels]\n",
    "    brain.add_data(vtx_test_brain, hemi = 'lh', thresh = 0, colormap = \"jet\", remove_existing = True)\n",
    "    brain.update_text(text = \"Eig Number %s, frequency = %s, speed = %s\" %(num_em, f_in, speed), name = \"eiglabel\")\n",
    "    return norm_eigs"
   ]
  },
  {
   "cell_type": "code",
   "execution_count": 5,
   "metadata": {},
   "outputs": [],
   "source": [
    "%gui qt\n",
    "\n",
    "# set up Pysurfer variables\n",
    "subject_id = \"fsaverage\"\n",
    "hemi = \"lh\"\n",
    "surf = \"inflated\"\n",
    "\"\"\"\n",
    "Bring up the visualization.\n",
    "\"\"\"\n",
    "#brain = Brain(subject_id, hemi , surf, background=\"white\", views = ['lat','med'])\n",
    "brain = surfBrain(subject_id, hemi, surf, background = \"white\", title = \"Eigen Modes of Complex LaPlacian\")\n",
    "brain.add_text(x = 0.5, y = 0.9, text = \"Eig Number , frequency = , speed = \", name = \"eiglabel\")\n",
    "\n",
    "\"\"\"\n",
    "Read in the automatic parcellation of sulci and gyri.\n",
    "\"\"\"\n",
    "\n",
    "hemi_side = \"lh\"\n",
    "aparc_file = os.path.join(os.environ[\"SUBJECTS_DIR\"],\n",
    "                          subject_id, \"label\",\n",
    "                          hemi_side + \".aparc.annot\")\n",
    "labels, ctab, names = nib.freesurfer.read_annot(aparc_file)"
   ]
  },
  {
   "cell_type": "code",
   "execution_count": 6,
   "metadata": {
    "scrolled": true
   },
   "outputs": [
    {
     "data": {
      "application/vnd.jupyter.widget-view+json": {
       "model_id": "3b36973350f24cc987f7cf8947b5c0d4",
       "version_major": 2,
       "version_minor": 0
      },
      "text/plain": [
       "interactive(children=(IntSlider(value=10, continuous_update=False, description='Frequency', max=40, min=2), In…"
      ]
     },
     "metadata": {},
     "output_type": "display_data"
    }
   ],
   "source": [
    "#%matplotlib inline\n",
    "interactive(eigmode_widget, C = fixed(em_brain.reducedConnectome), D = fixed(em_brain.distance_matrix), fvec = fixed(fvec),\n",
    "            num_ev = fixed(10), labels = fixed(labels),\n",
    "            f_in = widgets.IntSlider(min=2,max=40,step=1,value=10, description = 'Frequency',continuous_update=False),\n",
    "            speed = widgets.IntSlider(min = 5, max = 50, step = 5, value = 10, description = 'Speed',continuous_update=False),\n",
    "            num_em = widgets.IntSlider(min = 1, max = 10, step = 1, value = 1, description = 'Eig Num',continuous_update=False))"
   ]
  },
  {
   "cell_type": "code",
   "execution_count": 6,
   "metadata": {},
   "outputs": [],
   "source": [
    "freq_index = np.abs(fvec-10).argmin()\n",
    "omega = 2*np.pi*fvec[freq_index]\n",
    "L, selected_Evec, sorted_Evals = get_complex_laplacian(em_brain.reducedConnectome, em_brain.distance_matrix, w = omega, speed = 10, num_ev = 10)\n",
    "norm_eigs = normalize_eigs(selected_Evec)"
   ]
  },
  {
   "cell_type": "code",
   "execution_count": 7,
   "metadata": {},
   "outputs": [
    {
     "data": {
      "text/plain": [
       "(10, 86)"
      ]
     },
     "execution_count": 7,
     "metadata": {},
     "output_type": "execute_result"
    }
   ],
   "source": [
    "norm_eigs.shape"
   ]
  },
  {
   "cell_type": "code",
   "execution_count": 8,
   "metadata": {},
   "outputs": [
    {
     "data": {
      "text/plain": [
       "<surfer.viz.Brain at 0x7fd2c55bbcf8>"
      ]
     },
     "execution_count": 8,
     "metadata": {},
     "output_type": "execute_result"
    }
   ],
   "source": [
    "brain.add_data"
   ]
  },
  {
   "cell_type": "code",
   "execution_count": null,
   "metadata": {},
   "outputs": [],
   "source": []
  }
 ],
 "metadata": {
  "kernelspec": {
   "display_name": "Python (Spectral)",
   "language": "python",
   "name": "spectral"
  },
  "language_info": {
   "codemirror_mode": {
    "name": "ipython",
    "version": 3
   },
   "file_extension": ".py",
   "mimetype": "text/x-python",
   "name": "python",
   "nbconvert_exporter": "python",
   "pygments_lexer": "ipython3",
   "version": "3.6.8"
  }
 },
 "nbformat": 4,
 "nbformat_minor": 2
}
