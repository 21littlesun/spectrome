{
 "cells": [
  {
   "cell_type": "code",
   "execution_count": 1,
   "metadata": {},
   "outputs": [],
   "source": [
    "%%capture --no-display\n",
    "\n",
    "import os\n",
    "import h5py\n",
    "import numpy as np\n",
    "import pandas as pd\n",
    "import matplotlib.pyplot as plt\n",
    "from scipy import stats\n",
    "\n",
    "# spectrome imports\n",
    "from spectrome.brain import Brain\n",
    "from spectrome.utils import functions, path\n",
    "from spectrome.forward import eigenmode, get_complex_laplacian\n",
    "\n",
    "# widget imports:\n",
    "import nibabel as nib\n",
    "from surfer import Brain as SB\n",
    "from ipywidgets import interactive, widgets, fixed"
   ]
  },
  {
   "cell_type": "markdown",
   "metadata": {},
   "source": [
    "## Examing and rendering brains for best eigenmode matches"
   ]
  },
  {
   "cell_type": "code",
   "execution_count": 2,
   "metadata": {},
   "outputs": [],
   "source": [
    "%matplotlib inline\n",
    "\n",
    "# House keeping\n",
    "plt.style.use('seaborn')\n",
    "data_dir = '../../data/'\n",
    "hcp_dir = \"../../data\"\n",
    "\n",
    "# Load Pablo's Yeo 2017 canonical network maps\n",
    "com_dk = np.load(\n",
    "    \"../../data/com_dk.npy\",\n",
    "    allow_pickle = True\n",
    ").item()\n",
    "DK_df_normalized = pd.read_csv(\n",
    "    \"../../data/DK_dictionary_normalized.csv\"\n",
    ").set_index(\"Unnamed: 0\")\n",
    "\n",
    "# binarize:\n",
    "ub, lb = 1, 0 #define binary boundaries\n",
    "\n",
    "DKfc_binarized = pd.DataFrame(\n",
    "    [], index=DK_df_normalized.index, columns=DK_df_normalized.columns\n",
    ")\n",
    "for name in DK_df_normalized.index:\n",
    "    u = np.mean(np.nan_to_num(DK_df_normalized.loc[name].values))\n",
    "    s = np.std(np.nan_to_num(DK_df_normalized.loc[name].values))\n",
    "    threshold = u - s * 0.1\n",
    "    DKfc_binarized.loc[name] = np.where(\n",
    "        DK_df_normalized.loc[name].values > threshold, ub, lb\n",
    "    )"
   ]
  },
  {
   "cell_type": "markdown",
   "metadata": {},
   "source": [
    "### Loading Basin Hopping results:\n",
    "Start with Default network DICE:"
   ]
  },
  {
   "cell_type": "code",
   "execution_count": 8,
   "metadata": {},
   "outputs": [
    {
     "data": {
      "text/html": [
       "<style  type=\"text/css\" >\n",
       "    #T_eb636abc_c8f3_11e9_8e11_00215cf14861row3_col0 {\n",
       "            background-color:  yellow;\n",
       "        }</style>  \n",
       "<table id=\"T_eb636abc_c8f3_11e9_8e11_00215cf14861\" > \n",
       "<thead>    <tr> \n",
       "        <th class=\"blank level0\" ></th> \n",
       "        <th class=\"col_heading level0 col0\" >Fun</th> \n",
       "        <th class=\"col_heading level0 col1\" >x</th> \n",
       "    </tr></thead> \n",
       "<tbody>    <tr> \n",
       "        <th id=\"T_eb636abc_c8f3_11e9_8e11_00215cf14861level0_row0\" class=\"row_heading level0 row0\" >0</th> \n",
       "        <td id=\"T_eb636abc_c8f3_11e9_8e11_00215cf14861row0_col0\" class=\"data row0 col0\" >0.429</td> \n",
       "        <td id=\"T_eb636abc_c8f3_11e9_8e11_00215cf14861row0_col1\" class=\"data row0 col1\" >[14.518  0.065  7.521]</td> \n",
       "    </tr>    <tr> \n",
       "        <th id=\"T_eb636abc_c8f3_11e9_8e11_00215cf14861level0_row1\" class=\"row_heading level0 row1\" >1</th> \n",
       "        <td id=\"T_eb636abc_c8f3_11e9_8e11_00215cf14861row1_col0\" class=\"data row1 col0\" >0.429</td> \n",
       "        <td id=\"T_eb636abc_c8f3_11e9_8e11_00215cf14861row1_col1\" class=\"data row1 col1\" >[18.36   2.665  9.609]</td> \n",
       "    </tr>    <tr> \n",
       "        <th id=\"T_eb636abc_c8f3_11e9_8e11_00215cf14861level0_row2\" class=\"row_heading level0 row2\" >2</th> \n",
       "        <td id=\"T_eb636abc_c8f3_11e9_8e11_00215cf14861row2_col0\" class=\"data row2 col0\" >0.429</td> \n",
       "        <td id=\"T_eb636abc_c8f3_11e9_8e11_00215cf14861row2_col1\" class=\"data row2 col1\" >[39.97   3.606 20.652]</td> \n",
       "    </tr>    <tr> \n",
       "        <th id=\"T_eb636abc_c8f3_11e9_8e11_00215cf14861level0_row3\" class=\"row_heading level0 row3\" >3</th> \n",
       "        <td id=\"T_eb636abc_c8f3_11e9_8e11_00215cf14861row3_col0\" class=\"data row3 col0\" >0.333</td> \n",
       "        <td id=\"T_eb636abc_c8f3_11e9_8e11_00215cf14861row3_col1\" class=\"data row3 col1\" >[31.995  4.647  3.533]</td> \n",
       "    </tr>    <tr> \n",
       "        <th id=\"T_eb636abc_c8f3_11e9_8e11_00215cf14861level0_row4\" class=\"row_heading level0 row4\" >4</th> \n",
       "        <td id=\"T_eb636abc_c8f3_11e9_8e11_00215cf14861row4_col0\" class=\"data row4 col0\" >0.429</td> \n",
       "        <td id=\"T_eb636abc_c8f3_11e9_8e11_00215cf14861row4_col1\" class=\"data row4 col1\" >[18.726  0.653  9.67 ]</td> \n",
       "    </tr>    <tr> \n",
       "        <th id=\"T_eb636abc_c8f3_11e9_8e11_00215cf14861level0_row5\" class=\"row_heading level0 row5\" >5</th> \n",
       "        <td id=\"T_eb636abc_c8f3_11e9_8e11_00215cf14861row5_col0\" class=\"data row5 col0\" >0.429</td> \n",
       "        <td id=\"T_eb636abc_c8f3_11e9_8e11_00215cf14861row5_col1\" class=\"data row5 col1\" >[10.536  1.905  5.471]</td> \n",
       "    </tr>    <tr> \n",
       "        <th id=\"T_eb636abc_c8f3_11e9_8e11_00215cf14861level0_row6\" class=\"row_heading level0 row6\" >6</th> \n",
       "        <td id=\"T_eb636abc_c8f3_11e9_8e11_00215cf14861row6_col0\" class=\"data row6 col0\" >0.423</td> \n",
       "        <td id=\"T_eb636abc_c8f3_11e9_8e11_00215cf14861row6_col1\" class=\"data row6 col1\" >[9.028 4.418 2.394]</td> \n",
       "    </tr>    <tr> \n",
       "        <th id=\"T_eb636abc_c8f3_11e9_8e11_00215cf14861level0_row7\" class=\"row_heading level0 row7\" >7</th> \n",
       "        <td id=\"T_eb636abc_c8f3_11e9_8e11_00215cf14861row7_col0\" class=\"data row7 col0\" >0.429</td> \n",
       "        <td id=\"T_eb636abc_c8f3_11e9_8e11_00215cf14861row7_col1\" class=\"data row7 col1\" >[19.589  3.572 10.166]</td> \n",
       "    </tr>    <tr> \n",
       "        <th id=\"T_eb636abc_c8f3_11e9_8e11_00215cf14861level0_row8\" class=\"row_heading level0 row8\" >8</th> \n",
       "        <td id=\"T_eb636abc_c8f3_11e9_8e11_00215cf14861row8_col0\" class=\"data row8 col0\" >0.412</td> \n",
       "        <td id=\"T_eb636abc_c8f3_11e9_8e11_00215cf14861row8_col1\" class=\"data row8 col1\" >[30.949  2.997  7.966]</td> \n",
       "    </tr>    <tr> \n",
       "        <th id=\"T_eb636abc_c8f3_11e9_8e11_00215cf14861level0_row9\" class=\"row_heading level0 row9\" >9</th> \n",
       "        <td id=\"T_eb636abc_c8f3_11e9_8e11_00215cf14861row9_col0\" class=\"data row9 col0\" >0.412</td> \n",
       "        <td id=\"T_eb636abc_c8f3_11e9_8e11_00215cf14861row9_col1\" class=\"data row9 col1\" >[44.552  1.022 11.485]</td> \n",
       "    </tr></tbody> \n",
       "</table> "
      ],
      "text/plain": [
       "<pandas.io.formats.style.Styler at 0x7fdb6193f208>"
      ]
     },
     "execution_count": 8,
     "metadata": {},
     "output_type": "execute_result"
    }
   ],
   "source": [
    "colnames = ['Fun','x']\n",
    "indnames = [0,1,2,3,4,5,6,7,8,9]\n",
    "nruns = 10\n",
    "default_evals = pd.DataFrame(columns = colnames, index = indnames)\n",
    "\n",
    "for i in np.arange(0,nruns):\n",
    "    h5_path = path.get_file_path('laplacian_networks/Default{}_BH_dice.h5'.format(i))\n",
    "    bh_default = path.read_hdf5(h5_path)\n",
    "    default_evals.at[i,'Fun'] = bh_default['fun']\n",
    "    default_evals.at[i,'x'] = np.round(bh_default['x'],3)\n",
    "    \n",
    "default_evals.style.apply(functions.highlight_min, subset=pd.IndexSlice[:,'Fun'])"
   ]
  },
  {
   "cell_type": "markdown",
   "metadata": {},
   "source": [
    "Pearson's correlation:"
   ]
  },
  {
   "cell_type": "code",
   "execution_count": 16,
   "metadata": {
    "collapsed": true,
    "jupyter": {
     "outputs_hidden": true,
     "source_hidden": true
    }
   },
   "outputs": [
    {
     "ename": "OSError",
     "evalue": "``/home/axiezai/lab/brain-scfc/spectrome/spectrome/data/laplacian_networks/Default0_BH_corr.h5`` does not exist",
     "output_type": "error",
     "traceback": [
      "\u001b[0;31m---------------------------------------------------------------------------\u001b[0m",
      "\u001b[0;31mOSError\u001b[0m                                   Traceback (most recent call last)",
      "\u001b[0;32m<ipython-input-16-33f8236d93e8>\u001b[0m in \u001b[0;36m<module>\u001b[0;34m\u001b[0m\n\u001b[1;32m      3\u001b[0m \u001b[0;32mfor\u001b[0m \u001b[0mi\u001b[0m \u001b[0;32min\u001b[0m \u001b[0mnp\u001b[0m\u001b[0;34m.\u001b[0m\u001b[0marange\u001b[0m\u001b[0;34m(\u001b[0m\u001b[0;36m0\u001b[0m\u001b[0;34m,\u001b[0m\u001b[0mnruns\u001b[0m\u001b[0;34m)\u001b[0m\u001b[0;34m:\u001b[0m\u001b[0;34m\u001b[0m\u001b[0;34m\u001b[0m\u001b[0m\n\u001b[1;32m      4\u001b[0m     \u001b[0mh5_path\u001b[0m \u001b[0;34m=\u001b[0m \u001b[0mpath\u001b[0m\u001b[0;34m.\u001b[0m\u001b[0mget_file_path\u001b[0m\u001b[0;34m(\u001b[0m\u001b[0;34m'laplacian_networks/Default{}_BH_corr.h5'\u001b[0m\u001b[0;34m.\u001b[0m\u001b[0mformat\u001b[0m\u001b[0;34m(\u001b[0m\u001b[0mi\u001b[0m\u001b[0;34m)\u001b[0m\u001b[0;34m)\u001b[0m\u001b[0;34m\u001b[0m\u001b[0;34m\u001b[0m\u001b[0m\n\u001b[0;32m----> 5\u001b[0;31m     \u001b[0mbh_default\u001b[0m \u001b[0;34m=\u001b[0m \u001b[0mpath\u001b[0m\u001b[0;34m.\u001b[0m\u001b[0mread_hdf5\u001b[0m\u001b[0;34m(\u001b[0m\u001b[0mh5_path\u001b[0m\u001b[0;34m)\u001b[0m\u001b[0;34m\u001b[0m\u001b[0;34m\u001b[0m\u001b[0m\n\u001b[0m\u001b[1;32m      6\u001b[0m     \u001b[0mdefault_corrs\u001b[0m\u001b[0;34m.\u001b[0m\u001b[0mat\u001b[0m\u001b[0;34m[\u001b[0m\u001b[0mi\u001b[0m\u001b[0;34m,\u001b[0m\u001b[0;34m'Fun'\u001b[0m\u001b[0;34m]\u001b[0m \u001b[0;34m=\u001b[0m \u001b[0mbh_default\u001b[0m\u001b[0;34m[\u001b[0m\u001b[0;34m'fun'\u001b[0m\u001b[0;34m]\u001b[0m\u001b[0;34m\u001b[0m\u001b[0;34m\u001b[0m\u001b[0m\n\u001b[1;32m      7\u001b[0m     \u001b[0mdefault_corrs\u001b[0m\u001b[0;34m.\u001b[0m\u001b[0mat\u001b[0m\u001b[0;34m[\u001b[0m\u001b[0mi\u001b[0m\u001b[0;34m,\u001b[0m\u001b[0;34m'x'\u001b[0m\u001b[0;34m]\u001b[0m \u001b[0;34m=\u001b[0m \u001b[0mnp\u001b[0m\u001b[0;34m.\u001b[0m\u001b[0mround\u001b[0m\u001b[0;34m(\u001b[0m\u001b[0mbh_default\u001b[0m\u001b[0;34m[\u001b[0m\u001b[0;34m'x'\u001b[0m\u001b[0;34m]\u001b[0m\u001b[0;34m,\u001b[0m\u001b[0;36m3\u001b[0m\u001b[0;34m)\u001b[0m\u001b[0;34m\u001b[0m\u001b[0;34m\u001b[0m\u001b[0m\n",
      "\u001b[0;32m~/lab/brain-scfc/spectrome/spectrome/utils/path.py\u001b[0m in \u001b[0;36mread_hdf5\u001b[0;34m(path)\u001b[0m\n\u001b[1;32m     85\u001b[0m     \"\"\"\n\u001b[1;32m     86\u001b[0m \u001b[0;34m\u001b[0m\u001b[0m\n\u001b[0;32m---> 87\u001b[0;31m     \u001b[0mdict\u001b[0m \u001b[0;34m=\u001b[0m \u001b[0mdd\u001b[0m\u001b[0;34m.\u001b[0m\u001b[0mio\u001b[0m\u001b[0;34m.\u001b[0m\u001b[0mload\u001b[0m\u001b[0;34m(\u001b[0m\u001b[0mpath\u001b[0m\u001b[0;34m)\u001b[0m\u001b[0;34m\u001b[0m\u001b[0;34m\u001b[0m\u001b[0m\n\u001b[0m\u001b[1;32m     88\u001b[0m     \u001b[0;32mreturn\u001b[0m \u001b[0mdict\u001b[0m\u001b[0;34m\u001b[0m\u001b[0;34m\u001b[0m\u001b[0m\n\u001b[1;32m     89\u001b[0m \u001b[0;34m\u001b[0m\u001b[0m\n",
      "\u001b[0;32m~/miniconda3/envs/spectral/lib/python3.6/site-packages/deepdish/io/hdf5io.py\u001b[0m in \u001b[0;36mload\u001b[0;34m(path, group, sel, unpack)\u001b[0m\n\u001b[1;32m    618\u001b[0m \u001b[0;34m\u001b[0m\u001b[0m\n\u001b[1;32m    619\u001b[0m     \"\"\"\n\u001b[0;32m--> 620\u001b[0;31m     \u001b[0;32mwith\u001b[0m \u001b[0mtables\u001b[0m\u001b[0;34m.\u001b[0m\u001b[0mopen_file\u001b[0m\u001b[0;34m(\u001b[0m\u001b[0mpath\u001b[0m\u001b[0;34m,\u001b[0m \u001b[0mmode\u001b[0m\u001b[0;34m=\u001b[0m\u001b[0;34m'r'\u001b[0m\u001b[0;34m)\u001b[0m \u001b[0;32mas\u001b[0m \u001b[0mh5file\u001b[0m\u001b[0;34m:\u001b[0m\u001b[0;34m\u001b[0m\u001b[0;34m\u001b[0m\u001b[0m\n\u001b[0m\u001b[1;32m    621\u001b[0m         \u001b[0mpathtable\u001b[0m \u001b[0;34m=\u001b[0m \u001b[0;34m{\u001b[0m\u001b[0;34m}\u001b[0m  \u001b[0;31m# dict to keep track of objects already loaded\u001b[0m\u001b[0;34m\u001b[0m\u001b[0;34m\u001b[0m\u001b[0m\n\u001b[1;32m    622\u001b[0m         \u001b[0;32mif\u001b[0m \u001b[0mgroup\u001b[0m \u001b[0;32mis\u001b[0m \u001b[0;32mnot\u001b[0m \u001b[0;32mNone\u001b[0m\u001b[0;34m:\u001b[0m\u001b[0;34m\u001b[0m\u001b[0;34m\u001b[0m\u001b[0m\n",
      "\u001b[0;32m~/miniconda3/envs/spectral/lib/python3.6/site-packages/tables/file.py\u001b[0m in \u001b[0;36mopen_file\u001b[0;34m(filename, mode, title, root_uep, filters, **kwargs)\u001b[0m\n\u001b[1;32m    318\u001b[0m \u001b[0;34m\u001b[0m\u001b[0m\n\u001b[1;32m    319\u001b[0m     \u001b[0;31m# Finally, create the File instance, and return it\u001b[0m\u001b[0;34m\u001b[0m\u001b[0;34m\u001b[0m\u001b[0;34m\u001b[0m\u001b[0m\n\u001b[0;32m--> 320\u001b[0;31m     \u001b[0;32mreturn\u001b[0m \u001b[0mFile\u001b[0m\u001b[0;34m(\u001b[0m\u001b[0mfilename\u001b[0m\u001b[0;34m,\u001b[0m \u001b[0mmode\u001b[0m\u001b[0;34m,\u001b[0m \u001b[0mtitle\u001b[0m\u001b[0;34m,\u001b[0m \u001b[0mroot_uep\u001b[0m\u001b[0;34m,\u001b[0m \u001b[0mfilters\u001b[0m\u001b[0;34m,\u001b[0m \u001b[0;34m**\u001b[0m\u001b[0mkwargs\u001b[0m\u001b[0;34m)\u001b[0m\u001b[0;34m\u001b[0m\u001b[0;34m\u001b[0m\u001b[0m\n\u001b[0m\u001b[1;32m    321\u001b[0m \u001b[0;34m\u001b[0m\u001b[0m\n\u001b[1;32m    322\u001b[0m \u001b[0;34m\u001b[0m\u001b[0m\n",
      "\u001b[0;32m~/miniconda3/envs/spectral/lib/python3.6/site-packages/tables/file.py\u001b[0m in \u001b[0;36m__init__\u001b[0;34m(self, filename, mode, title, root_uep, filters, **kwargs)\u001b[0m\n\u001b[1;32m    782\u001b[0m \u001b[0;34m\u001b[0m\u001b[0m\n\u001b[1;32m    783\u001b[0m         \u001b[0;31m# Now, it is time to initialize the File extension\u001b[0m\u001b[0;34m\u001b[0m\u001b[0;34m\u001b[0m\u001b[0;34m\u001b[0m\u001b[0m\n\u001b[0;32m--> 784\u001b[0;31m         \u001b[0mself\u001b[0m\u001b[0;34m.\u001b[0m\u001b[0m_g_new\u001b[0m\u001b[0;34m(\u001b[0m\u001b[0mfilename\u001b[0m\u001b[0;34m,\u001b[0m \u001b[0mmode\u001b[0m\u001b[0;34m,\u001b[0m \u001b[0;34m**\u001b[0m\u001b[0mparams\u001b[0m\u001b[0;34m)\u001b[0m\u001b[0;34m\u001b[0m\u001b[0;34m\u001b[0m\u001b[0m\n\u001b[0m\u001b[1;32m    785\u001b[0m \u001b[0;34m\u001b[0m\u001b[0m\n\u001b[1;32m    786\u001b[0m         \u001b[0;31m# Check filters and set PyTables format version for new files.\u001b[0m\u001b[0;34m\u001b[0m\u001b[0;34m\u001b[0m\u001b[0;34m\u001b[0m\u001b[0m\n",
      "\u001b[0;32mtables/hdf5extension.pyx\u001b[0m in \u001b[0;36mtables.hdf5extension.File._g_new\u001b[0;34m()\u001b[0m\n",
      "\u001b[0;32m~/miniconda3/envs/spectral/lib/python3.6/site-packages/tables/utils.py\u001b[0m in \u001b[0;36mcheck_file_access\u001b[0;34m(filename, mode)\u001b[0m\n\u001b[1;32m    155\u001b[0m         \u001b[0;31m# The file should be readable.\u001b[0m\u001b[0;34m\u001b[0m\u001b[0;34m\u001b[0m\u001b[0;34m\u001b[0m\u001b[0m\n\u001b[1;32m    156\u001b[0m         \u001b[0;32mif\u001b[0m \u001b[0;32mnot\u001b[0m \u001b[0mos\u001b[0m\u001b[0;34m.\u001b[0m\u001b[0maccess\u001b[0m\u001b[0;34m(\u001b[0m\u001b[0mfilename\u001b[0m\u001b[0;34m,\u001b[0m \u001b[0mos\u001b[0m\u001b[0;34m.\u001b[0m\u001b[0mF_OK\u001b[0m\u001b[0;34m)\u001b[0m\u001b[0;34m:\u001b[0m\u001b[0;34m\u001b[0m\u001b[0;34m\u001b[0m\u001b[0m\n\u001b[0;32m--> 157\u001b[0;31m             \u001b[0;32mraise\u001b[0m \u001b[0mIOError\u001b[0m\u001b[0;34m(\u001b[0m\u001b[0;34m\"``%s`` does not exist\"\u001b[0m \u001b[0;34m%\u001b[0m \u001b[0;34m(\u001b[0m\u001b[0mfilename\u001b[0m\u001b[0;34m,\u001b[0m\u001b[0;34m)\u001b[0m\u001b[0;34m)\u001b[0m\u001b[0;34m\u001b[0m\u001b[0;34m\u001b[0m\u001b[0m\n\u001b[0m\u001b[1;32m    158\u001b[0m         \u001b[0;32mif\u001b[0m \u001b[0;32mnot\u001b[0m \u001b[0mos\u001b[0m\u001b[0;34m.\u001b[0m\u001b[0mpath\u001b[0m\u001b[0;34m.\u001b[0m\u001b[0misfile\u001b[0m\u001b[0;34m(\u001b[0m\u001b[0mfilename\u001b[0m\u001b[0;34m)\u001b[0m\u001b[0;34m:\u001b[0m\u001b[0;34m\u001b[0m\u001b[0;34m\u001b[0m\u001b[0m\n\u001b[1;32m    159\u001b[0m             \u001b[0;32mraise\u001b[0m \u001b[0mIOError\u001b[0m\u001b[0;34m(\u001b[0m\u001b[0;34m\"``%s`` is not a regular file\"\u001b[0m \u001b[0;34m%\u001b[0m \u001b[0;34m(\u001b[0m\u001b[0mfilename\u001b[0m\u001b[0;34m,\u001b[0m\u001b[0;34m)\u001b[0m\u001b[0;34m)\u001b[0m\u001b[0;34m\u001b[0m\u001b[0;34m\u001b[0m\u001b[0m\n",
      "\u001b[0;31mOSError\u001b[0m: ``/home/axiezai/lab/brain-scfc/spectrome/spectrome/data/laplacian_networks/Default0_BH_corr.h5`` does not exist"
     ]
    }
   ],
   "source": [
    "default_corrs = pd.DataFrame(columns = colnames, index = indnames)\n",
    "\n",
    "for i in np.arange(0,nruns):\n",
    "    h5_path = path.get_file_path('laplacian_networks/Default{}_BH_corr.h5'.format(i))\n",
    "    bh_default = path.read_hdf5(h5_path)\n",
    "    default_corrs.at[i,'Fun'] = bh_default['fun']\n",
    "    default_corrs.at[i,'x'] = np.round(bh_default['x'],3)\n",
    "    \n",
    "default_corrs.style.apply(functions.highlight_max, subset=pd.IndexSlice[:,'Fun'])"
   ]
  },
  {
   "cell_type": "markdown",
   "metadata": {},
   "source": [
    "Dorsal Attention:"
   ]
  },
  {
   "cell_type": "code",
   "execution_count": 9,
   "metadata": {},
   "outputs": [
    {
     "data": {
      "text/html": [
       "<style  type=\"text/css\" >\n",
       "    #T_f3634c50_c8f3_11e9_8e11_00215cf14861row6_col0 {\n",
       "            background-color:  yellow;\n",
       "        }</style>  \n",
       "<table id=\"T_f3634c50_c8f3_11e9_8e11_00215cf14861\" > \n",
       "<thead>    <tr> \n",
       "        <th class=\"blank level0\" ></th> \n",
       "        <th class=\"col_heading level0 col0\" >Fun</th> \n",
       "        <th class=\"col_heading level0 col1\" >x</th> \n",
       "    </tr></thead> \n",
       "<tbody>    <tr> \n",
       "        <th id=\"T_f3634c50_c8f3_11e9_8e11_00215cf14861level0_row0\" class=\"row_heading level0 row0\" >0</th> \n",
       "        <td id=\"T_f3634c50_c8f3_11e9_8e11_00215cf14861row0_col0\" class=\"data row0 col0\" >0.5</td> \n",
       "        <td id=\"T_f3634c50_c8f3_11e9_8e11_00215cf14861row0_col1\" class=\"data row0 col1\" >[ 3.417  3.583 13.725]</td> \n",
       "    </tr>    <tr> \n",
       "        <th id=\"T_f3634c50_c8f3_11e9_8e11_00215cf14861level0_row1\" class=\"row_heading level0 row1\" >1</th> \n",
       "        <td id=\"T_f3634c50_c8f3_11e9_8e11_00215cf14861row1_col0\" class=\"data row1 col0\" >0.5</td> \n",
       "        <td id=\"T_f3634c50_c8f3_11e9_8e11_00215cf14861row1_col1\" class=\"data row1 col1\" >[ 3.205  4.271 12.878]</td> \n",
       "    </tr>    <tr> \n",
       "        <th id=\"T_f3634c50_c8f3_11e9_8e11_00215cf14861level0_row2\" class=\"row_heading level0 row2\" >2</th> \n",
       "        <td id=\"T_f3634c50_c8f3_11e9_8e11_00215cf14861row2_col0\" class=\"data row2 col0\" >0.511</td> \n",
       "        <td id=\"T_f3634c50_c8f3_11e9_8e11_00215cf14861row2_col1\" class=\"data row2 col1\" >[ 3.269  0.794 12.562]</td> \n",
       "    </tr>    <tr> \n",
       "        <th id=\"T_f3634c50_c8f3_11e9_8e11_00215cf14861level0_row3\" class=\"row_heading level0 row3\" >3</th> \n",
       "        <td id=\"T_f3634c50_c8f3_11e9_8e11_00215cf14861row3_col0\" class=\"data row3 col0\" >0.512</td> \n",
       "        <td id=\"T_f3634c50_c8f3_11e9_8e11_00215cf14861row3_col1\" class=\"data row3 col1\" >[30.25   3.727  7.232]</td> \n",
       "    </tr>    <tr> \n",
       "        <th id=\"T_f3634c50_c8f3_11e9_8e11_00215cf14861level0_row4\" class=\"row_heading level0 row4\" >4</th> \n",
       "        <td id=\"T_f3634c50_c8f3_11e9_8e11_00215cf14861row4_col0\" class=\"data row4 col0\" >0.463</td> \n",
       "        <td id=\"T_f3634c50_c8f3_11e9_8e11_00215cf14861row4_col1\" class=\"data row4 col1\" >[18.826  3.725  7.445]</td> \n",
       "    </tr>    <tr> \n",
       "        <th id=\"T_f3634c50_c8f3_11e9_8e11_00215cf14861level0_row5\" class=\"row_heading level0 row5\" >5</th> \n",
       "        <td id=\"T_f3634c50_c8f3_11e9_8e11_00215cf14861row5_col0\" class=\"data row5 col0\" >0.535</td> \n",
       "        <td id=\"T_f3634c50_c8f3_11e9_8e11_00215cf14861row5_col1\" class=\"data row5 col1\" >[2.963 4.318 7.989]</td> \n",
       "    </tr>    <tr> \n",
       "        <th id=\"T_f3634c50_c8f3_11e9_8e11_00215cf14861level0_row6\" class=\"row_heading level0 row6\" >6</th> \n",
       "        <td id=\"T_f3634c50_c8f3_11e9_8e11_00215cf14861row6_col0\" class=\"data row6 col0\" >0.349</td> \n",
       "        <td id=\"T_f3634c50_c8f3_11e9_8e11_00215cf14861row6_col1\" class=\"data row6 col1\" >[11.34   2.549  0.885]</td> \n",
       "    </tr>    <tr> \n",
       "        <th id=\"T_f3634c50_c8f3_11e9_8e11_00215cf14861level0_row7\" class=\"row_heading level0 row7\" >7</th> \n",
       "        <td id=\"T_f3634c50_c8f3_11e9_8e11_00215cf14861row7_col0\" class=\"data row7 col0\" >0.5</td> \n",
       "        <td id=\"T_f3634c50_c8f3_11e9_8e11_00215cf14861row7_col1\" class=\"data row7 col1\" >[ 3.972  1.314 15.954]</td> \n",
       "    </tr>    <tr> \n",
       "        <th id=\"T_f3634c50_c8f3_11e9_8e11_00215cf14861level0_row8\" class=\"row_heading level0 row8\" >8</th> \n",
       "        <td id=\"T_f3634c50_c8f3_11e9_8e11_00215cf14861row8_col0\" class=\"data row8 col0\" >0.463</td> \n",
       "        <td id=\"T_f3634c50_c8f3_11e9_8e11_00215cf14861row8_col1\" class=\"data row8 col1\" >[23.91   1.652  9.462]</td> \n",
       "    </tr>    <tr> \n",
       "        <th id=\"T_f3634c50_c8f3_11e9_8e11_00215cf14861level0_row9\" class=\"row_heading level0 row9\" >9</th> \n",
       "        <td id=\"T_f3634c50_c8f3_11e9_8e11_00215cf14861row9_col0\" class=\"data row9 col0\" >0.463</td> \n",
       "        <td id=\"T_f3634c50_c8f3_11e9_8e11_00215cf14861row9_col1\" class=\"data row9 col1\" >[24.623  0.028  9.768]</td> \n",
       "    </tr></tbody> \n",
       "</table> "
      ],
      "text/plain": [
       "<pandas.io.formats.style.Styler at 0x7fdb61921978>"
      ]
     },
     "execution_count": 9,
     "metadata": {},
     "output_type": "execute_result"
    }
   ],
   "source": [
    "dorsal_evals = pd.DataFrame(columns = colnames, index = indnames)\n",
    "\n",
    "for i in np.arange(0,nruns):\n",
    "    h5_path = path.get_file_path('laplacian_networks/Dorsal_Attention{}_BH_dice.h5'.format(i))\n",
    "    bh_dorsal = path.read_hdf5(h5_path)\n",
    "    dorsal_evals.at[i,'Fun'] = bh_dorsal['fun']\n",
    "    dorsal_evals.at[i,'x'] = np.round(bh_dorsal['x'],3)\n",
    "\n",
    "dorsal_evals.style.apply(functions.highlight_min, subset=pd.IndexSlice[:,'Fun'])"
   ]
  },
  {
   "cell_type": "code",
   "execution_count": null,
   "metadata": {
    "jupyter": {
     "source_hidden": true
    }
   },
   "outputs": [],
   "source": [
    "# Draw:\n",
    "h5_path = path.get_file_path('Dorsal_Attention3_BH_dice.h5')\n",
    "bh_dorsal = path.read_hdf5(h5_path)\n",
    "d3 = [bh_dorsal['LinRegResults'][i]['r2score'] for i in range(len(bh_dorsal['LinRegResults']))]\n",
    "\n",
    "h5_path = path.get_file_path('Dorsal_Attention4_BH_dice.h5')\n",
    "bh_dorsal = path.read_hdf5(h5_path)\n",
    "d4 = [bh_dorsal['LinRegResults'][i]['r2score'] for i in range(len(bh_dorsal['LinRegResults']))]\n",
    "\n",
    "print(d3)\n",
    "print(d4) # pick d4 cuz 0.0513 vs 0.0518"
   ]
  },
  {
   "cell_type": "markdown",
   "metadata": {},
   "source": [
    "Frontoparietal:"
   ]
  },
  {
   "cell_type": "code",
   "execution_count": 11,
   "metadata": {},
   "outputs": [
    {
     "data": {
      "text/html": [
       "<style  type=\"text/css\" >\n",
       "    #T_0a02fa1e_c8f4_11e9_8e11_00215cf14861row3_col0 {\n",
       "            background-color:  yellow;\n",
       "        }    #T_0a02fa1e_c8f4_11e9_8e11_00215cf14861row4_col0 {\n",
       "            background-color:  yellow;\n",
       "        }    #T_0a02fa1e_c8f4_11e9_8e11_00215cf14861row5_col0 {\n",
       "            background-color:  yellow;\n",
       "        }    #T_0a02fa1e_c8f4_11e9_8e11_00215cf14861row6_col0 {\n",
       "            background-color:  yellow;\n",
       "        }    #T_0a02fa1e_c8f4_11e9_8e11_00215cf14861row8_col0 {\n",
       "            background-color:  yellow;\n",
       "        }    #T_0a02fa1e_c8f4_11e9_8e11_00215cf14861row9_col0 {\n",
       "            background-color:  yellow;\n",
       "        }</style>  \n",
       "<table id=\"T_0a02fa1e_c8f4_11e9_8e11_00215cf14861\" > \n",
       "<thead>    <tr> \n",
       "        <th class=\"blank level0\" ></th> \n",
       "        <th class=\"col_heading level0 col0\" >Fun</th> \n",
       "        <th class=\"col_heading level0 col1\" >x</th> \n",
       "    </tr></thead> \n",
       "<tbody>    <tr> \n",
       "        <th id=\"T_0a02fa1e_c8f4_11e9_8e11_00215cf14861level0_row0\" class=\"row_heading level0 row0\" >0</th> \n",
       "        <td id=\"T_0a02fa1e_c8f4_11e9_8e11_00215cf14861row0_col0\" class=\"data row0 col0\" >0.529</td> \n",
       "        <td id=\"T_0a02fa1e_c8f4_11e9_8e11_00215cf14861row0_col1\" class=\"data row0 col1\" >[ 1.873  1.47  12.451]</td> \n",
       "    </tr>    <tr> \n",
       "        <th id=\"T_0a02fa1e_c8f4_11e9_8e11_00215cf14861level0_row1\" class=\"row_heading level0 row1\" >1</th> \n",
       "        <td id=\"T_0a02fa1e_c8f4_11e9_8e11_00215cf14861row1_col0\" class=\"data row1 col0\" >0.509</td> \n",
       "        <td id=\"T_0a02fa1e_c8f4_11e9_8e11_00215cf14861row1_col1\" class=\"data row1 col1\" >[10.252  3.341 13.877]</td> \n",
       "    </tr>    <tr> \n",
       "        <th id=\"T_0a02fa1e_c8f4_11e9_8e11_00215cf14861level0_row2\" class=\"row_heading level0 row2\" >2</th> \n",
       "        <td id=\"T_0a02fa1e_c8f4_11e9_8e11_00215cf14861row2_col0\" class=\"data row2 col0\" >0.48</td> \n",
       "        <td id=\"T_0a02fa1e_c8f4_11e9_8e11_00215cf14861row2_col1\" class=\"data row2 col1\" >[26.222  2.08  16.311]</td> \n",
       "    </tr>    <tr> \n",
       "        <th id=\"T_0a02fa1e_c8f4_11e9_8e11_00215cf14861level0_row3\" class=\"row_heading level0 row3\" >3</th> \n",
       "        <td id=\"T_0a02fa1e_c8f4_11e9_8e11_00215cf14861row3_col0\" class=\"data row3 col0\" >0.358</td> \n",
       "        <td id=\"T_0a02fa1e_c8f4_11e9_8e11_00215cf14861row3_col1\" class=\"data row3 col1\" >[28.37   0.875  4.315]</td> \n",
       "    </tr>    <tr> \n",
       "        <th id=\"T_0a02fa1e_c8f4_11e9_8e11_00215cf14861level0_row4\" class=\"row_heading level0 row4\" >4</th> \n",
       "        <td id=\"T_0a02fa1e_c8f4_11e9_8e11_00215cf14861row4_col0\" class=\"data row4 col0\" >0.358</td> \n",
       "        <td id=\"T_0a02fa1e_c8f4_11e9_8e11_00215cf14861row4_col1\" class=\"data row4 col1\" >[19.234  0.924  2.873]</td> \n",
       "    </tr>    <tr> \n",
       "        <th id=\"T_0a02fa1e_c8f4_11e9_8e11_00215cf14861level0_row5\" class=\"row_heading level0 row5\" >5</th> \n",
       "        <td id=\"T_0a02fa1e_c8f4_11e9_8e11_00215cf14861row5_col0\" class=\"data row5 col0\" >0.358</td> \n",
       "        <td id=\"T_0a02fa1e_c8f4_11e9_8e11_00215cf14861row5_col1\" class=\"data row5 col1\" >[9.917 3.661 1.501]</td> \n",
       "    </tr>    <tr> \n",
       "        <th id=\"T_0a02fa1e_c8f4_11e9_8e11_00215cf14861level0_row6\" class=\"row_heading level0 row6\" >6</th> \n",
       "        <td id=\"T_0a02fa1e_c8f4_11e9_8e11_00215cf14861row6_col0\" class=\"data row6 col0\" >0.358</td> \n",
       "        <td id=\"T_0a02fa1e_c8f4_11e9_8e11_00215cf14861row6_col1\" class=\"data row6 col1\" >[7.98  3.116 1.222]</td> \n",
       "    </tr>    <tr> \n",
       "        <th id=\"T_0a02fa1e_c8f4_11e9_8e11_00215cf14861level0_row7\" class=\"row_heading level0 row7\" >7</th> \n",
       "        <td id=\"T_0a02fa1e_c8f4_11e9_8e11_00215cf14861row7_col0\" class=\"data row7 col0\" >0.509</td> \n",
       "        <td id=\"T_0a02fa1e_c8f4_11e9_8e11_00215cf14861row7_col1\" class=\"data row7 col1\" >[10.108  4.704 13.219]</td> \n",
       "    </tr>    <tr> \n",
       "        <th id=\"T_0a02fa1e_c8f4_11e9_8e11_00215cf14861level0_row8\" class=\"row_heading level0 row8\" >8</th> \n",
       "        <td id=\"T_0a02fa1e_c8f4_11e9_8e11_00215cf14861row8_col0\" class=\"data row8 col0\" >0.358</td> \n",
       "        <td id=\"T_0a02fa1e_c8f4_11e9_8e11_00215cf14861row8_col1\" class=\"data row8 col1\" >[31.966  0.496  4.901]</td> \n",
       "    </tr>    <tr> \n",
       "        <th id=\"T_0a02fa1e_c8f4_11e9_8e11_00215cf14861level0_row9\" class=\"row_heading level0 row9\" >9</th> \n",
       "        <td id=\"T_0a02fa1e_c8f4_11e9_8e11_00215cf14861row9_col0\" class=\"data row9 col0\" >0.358</td> \n",
       "        <td id=\"T_0a02fa1e_c8f4_11e9_8e11_00215cf14861row9_col1\" class=\"data row9 col1\" >[42.628  2.022  6.524]</td> \n",
       "    </tr></tbody> \n",
       "</table> "
      ],
      "text/plain": [
       "<pandas.io.formats.style.Styler at 0x7fdb61921dd8>"
      ]
     },
     "execution_count": 11,
     "metadata": {},
     "output_type": "execute_result"
    }
   ],
   "source": [
    "front_evals = pd.DataFrame(columns = colnames, index = indnames)\n",
    "\n",
    "for i in np.arange(0,nruns):\n",
    "    h5_path = path.get_file_path('laplacian_networks/Frontoparietal{}_BH_dice.h5'.format(i))\n",
    "    bh_front = path.read_hdf5(h5_path)\n",
    "    front_evals.at[i,'Fun'] = bh_front['fun']\n",
    "    front_evals.at[i,'x'] = np.round(bh_front['x'],3)\n",
    "\n",
    "front_evals.style.apply(functions.highlight_min, subset=pd.IndexSlice[:,'Fun'])"
   ]
  },
  {
   "cell_type": "code",
   "execution_count": 18,
   "metadata": {},
   "outputs": [
    {
     "name": "stdout",
     "output_type": "stream",
     "text": [
      "[0.2641511865641083, 0.17441148803014958, 0.15853525486978576, 0.15204726064036575, 0.1434572928361772, 0.14479961961930404, 0.14146496603491654, 0.14012187425621717, 0.12694382157452608, 0.11569391153811058]\n",
      "[0.2675843692136821, 0.20549565207760284, 0.16125349262179772, 0.148579723565352, 0.14442172011174026, 0.14269310576999134, 0.14367197910122076, 0.14120150707688947, 0.1271264609341885, 0.11606237458415795]\n",
      "[0.2651708641441938, 0.1750238115801092, 0.1623313585662436, 0.15257959919202524, 0.1437297807056653, 0.14497338265319776, 0.14204892302162855, 0.14040385813753717, 0.12661522303029232, 0.11579985784627608]\n",
      "[0.2626174006158982, 0.20658040854650447, 0.1614461109087316, 0.15109128578950556, 0.15125986229709218, 0.14563667216794363, 0.1438902165076005, 0.13966477088397455, 0.12663690775165204, 0.11791984537561376]\n",
      "[0.2623793235640616, 0.20641263677322727, 0.1613375217065548, 0.15092650301777633, 0.15113033965827988, 0.14544469366244211, 0.14377133918021467, 0.13958164402358575, 0.12657671770365722, 0.11786454700174687]\n",
      "[0.2628013920146396, 0.20670880230316335, 0.16152759097933098, 0.1512160667654054, 0.1513572331751184, 0.145784402813899, 0.1439806172242775, 0.13972718136253556, 0.12668155475893852, 0.11795990543179045]\n"
     ]
    }
   ],
   "source": [
    "# Draw:\n",
    "h5_path = path.get_file_path('laplacian_networks/Frontoparietal3_BH_dice.h5')\n",
    "bh_front = path.read_hdf5(h5_path)\n",
    "f3 = [bh_front['LinRegResults'][i]['r2score'] for i in range(len(bh_front['LinRegResults']))]\n",
    "\n",
    "h5_path = path.get_file_path('laplacian_networks/Frontoparietal4_BH_dice.h5')\n",
    "bh_front = path.read_hdf5(h5_path)\n",
    "f4 = [bh_front['LinRegResults'][i]['r2score'] for i in range(len(bh_front['LinRegResults']))]\n",
    "\n",
    "h5_path = path.get_file_path('laplacian_networks/Frontoparietal5_BH_dice.h5')\n",
    "bh_front = path.read_hdf5(h5_path)\n",
    "f5 = [bh_front['LinRegResults'][i]['r2score'] for i in range(len(bh_front['LinRegResults']))]\n",
    "\n",
    "h5_path = path.get_file_path('laplacian_networks/Frontoparietal6_BH_dice.h5')\n",
    "bh_front = path.read_hdf5(h5_path)\n",
    "f6 = [bh_front['LinRegResults'][i]['r2score'] for i in range(len(bh_front['LinRegResults']))]\n",
    "\n",
    "h5_path = path.get_file_path('laplacian_networks/Frontoparietal8_BH_dice.h5')\n",
    "bh_front = path.read_hdf5(h5_path)\n",
    "f8 = [bh_front['LinRegResults'][i]['r2score'] for i in range(len(bh_front['LinRegResults']))]\n",
    "\n",
    "h5_path = path.get_file_path('laplacian_networks/Frontoparietal9_BH_dice.h5')\n",
    "bh_front = path.read_hdf5(h5_path)\n",
    "f9 = [bh_front['LinRegResults'][i]['r2score'] for i in range(len(bh_front['LinRegResults']))]\n",
    "\n",
    "print(f3) # this one?\n",
    "print(f4)\n",
    "print(f5)\n",
    "print(f6)\n",
    "print(f8)\n",
    "print(f9)"
   ]
  },
  {
   "cell_type": "code",
   "execution_count": 12,
   "metadata": {},
   "outputs": [
    {
     "data": {
      "text/html": [
       "<style  type=\"text/css\" >\n",
       "    #T_6edbe734_c8f4_11e9_8e11_00215cf14861row0_col0 {\n",
       "            background-color:  yellow;\n",
       "        }    #T_6edbe734_c8f4_11e9_8e11_00215cf14861row1_col0 {\n",
       "            background-color:  yellow;\n",
       "        }    #T_6edbe734_c8f4_11e9_8e11_00215cf14861row2_col0 {\n",
       "            background-color:  yellow;\n",
       "        }    #T_6edbe734_c8f4_11e9_8e11_00215cf14861row4_col0 {\n",
       "            background-color:  yellow;\n",
       "        }    #T_6edbe734_c8f4_11e9_8e11_00215cf14861row5_col0 {\n",
       "            background-color:  yellow;\n",
       "        }    #T_6edbe734_c8f4_11e9_8e11_00215cf14861row7_col0 {\n",
       "            background-color:  yellow;\n",
       "        }</style>  \n",
       "<table id=\"T_6edbe734_c8f4_11e9_8e11_00215cf14861\" > \n",
       "<thead>    <tr> \n",
       "        <th class=\"blank level0\" ></th> \n",
       "        <th class=\"col_heading level0 col0\" >Fun</th> \n",
       "        <th class=\"col_heading level0 col1\" >x</th> \n",
       "    </tr></thead> \n",
       "<tbody>    <tr> \n",
       "        <th id=\"T_6edbe734_c8f4_11e9_8e11_00215cf14861level0_row0\" class=\"row_heading level0 row0\" >0</th> \n",
       "        <td id=\"T_6edbe734_c8f4_11e9_8e11_00215cf14861row0_col0\" class=\"data row0 col0\" >0.227</td> \n",
       "        <td id=\"T_6edbe734_c8f4_11e9_8e11_00215cf14861row0_col1\" class=\"data row0 col1\" >[ 2.   0.5 10. ]</td> \n",
       "    </tr>    <tr> \n",
       "        <th id=\"T_6edbe734_c8f4_11e9_8e11_00215cf14861level0_row1\" class=\"row_heading level0 row1\" >1</th> \n",
       "        <td id=\"T_6edbe734_c8f4_11e9_8e11_00215cf14861row1_col0\" class=\"data row1 col0\" >0.227</td> \n",
       "        <td id=\"T_6edbe734_c8f4_11e9_8e11_00215cf14861row1_col1\" class=\"data row1 col1\" >[10.119  3.805 28.879]</td> \n",
       "    </tr>    <tr> \n",
       "        <th id=\"T_6edbe734_c8f4_11e9_8e11_00215cf14861level0_row2\" class=\"row_heading level0 row2\" >2</th> \n",
       "        <td id=\"T_6edbe734_c8f4_11e9_8e11_00215cf14861row2_col0\" class=\"data row2 col0\" >0.227</td> \n",
       "        <td id=\"T_6edbe734_c8f4_11e9_8e11_00215cf14861row2_col1\" class=\"data row2 col1\" >[ 9.196  4.961 28.141]</td> \n",
       "    </tr>    <tr> \n",
       "        <th id=\"T_6edbe734_c8f4_11e9_8e11_00215cf14861level0_row3\" class=\"row_heading level0 row3\" >3</th> \n",
       "        <td id=\"T_6edbe734_c8f4_11e9_8e11_00215cf14861row3_col0\" class=\"data row3 col0\" >0.297</td> \n",
       "        <td id=\"T_6edbe734_c8f4_11e9_8e11_00215cf14861row3_col1\" class=\"data row3 col1\" >[28.571  2.324  5.326]</td> \n",
       "    </tr>    <tr> \n",
       "        <th id=\"T_6edbe734_c8f4_11e9_8e11_00215cf14861level0_row4\" class=\"row_heading level0 row4\" >4</th> \n",
       "        <td id=\"T_6edbe734_c8f4_11e9_8e11_00215cf14861row4_col0\" class=\"data row4 col0\" >0.227</td> \n",
       "        <td id=\"T_6edbe734_c8f4_11e9_8e11_00215cf14861row4_col1\" class=\"data row4 col1\" >[ 9.334  1.699 29.211]</td> \n",
       "    </tr>    <tr> \n",
       "        <th id=\"T_6edbe734_c8f4_11e9_8e11_00215cf14861level0_row5\" class=\"row_heading level0 row5\" >5</th> \n",
       "        <td id=\"T_6edbe734_c8f4_11e9_8e11_00215cf14861row5_col0\" class=\"data row5 col0\" >0.227</td> \n",
       "        <td id=\"T_6edbe734_c8f4_11e9_8e11_00215cf14861row5_col1\" class=\"data row5 col1\" >[1.873 3.97  7.451]</td> \n",
       "    </tr>    <tr> \n",
       "        <th id=\"T_6edbe734_c8f4_11e9_8e11_00215cf14861level0_row6\" class=\"row_heading level0 row6\" >6</th> \n",
       "        <td id=\"T_6edbe734_c8f4_11e9_8e11_00215cf14861row6_col0\" class=\"data row6 col0\" >0.289</td> \n",
       "        <td id=\"T_6edbe734_c8f4_11e9_8e11_00215cf14861row6_col1\" class=\"data row6 col1\" >[8.504 4.602 0.596]</td> \n",
       "    </tr>    <tr> \n",
       "        <th id=\"T_6edbe734_c8f4_11e9_8e11_00215cf14861level0_row7\" class=\"row_heading level0 row7\" >7</th> \n",
       "        <td id=\"T_6edbe734_c8f4_11e9_8e11_00215cf14861row7_col0\" class=\"data row7 col0\" >0.227</td> \n",
       "        <td id=\"T_6edbe734_c8f4_11e9_8e11_00215cf14861row7_col1\" class=\"data row7 col1\" >[ 9.839  4.918 27.948]</td> \n",
       "    </tr>    <tr> \n",
       "        <th id=\"T_6edbe734_c8f4_11e9_8e11_00215cf14861level0_row8\" class=\"row_heading level0 row8\" >8</th> \n",
       "        <td id=\"T_6edbe734_c8f4_11e9_8e11_00215cf14861row8_col0\" class=\"data row8 col0\" >0.297</td> \n",
       "        <td id=\"T_6edbe734_c8f4_11e9_8e11_00215cf14861row8_col1\" class=\"data row8 col1\" >[43.962  1.558  8.209]</td> \n",
       "    </tr>    <tr> \n",
       "        <th id=\"T_6edbe734_c8f4_11e9_8e11_00215cf14861level0_row9\" class=\"row_heading level0 row9\" >9</th> \n",
       "        <td id=\"T_6edbe734_c8f4_11e9_8e11_00215cf14861row9_col0\" class=\"data row9 col0\" >0.297</td> \n",
       "        <td id=\"T_6edbe734_c8f4_11e9_8e11_00215cf14861row9_col1\" class=\"data row9 col1\" >[33.201  0.314  6.216]</td> \n",
       "    </tr></tbody> \n",
       "</table> "
      ],
      "text/plain": [
       "<pandas.io.formats.style.Styler at 0x7fdb61952358>"
      ]
     },
     "execution_count": 12,
     "metadata": {},
     "output_type": "execute_result"
    }
   ],
   "source": [
    "limbic_evals = pd.DataFrame(columns = colnames, index = indnames)\n",
    "\n",
    "for i in np.arange(0,nruns):\n",
    "    h5_path = path.get_file_path('laplacian_networks/Limbic{}_BH_dice.h5'.format(i))\n",
    "    bh_limbic = path.read_hdf5(h5_path)\n",
    "    limbic_evals.at[i,'Fun'] = bh_limbic['fun']\n",
    "    limbic_evals.at[i,'x'] = np.round(bh_limbic['x'],3)\n",
    "\n",
    "limbic_evals.style.apply(functions.highlight_min, subset=pd.IndexSlice[:,'Fun']) # in case of a draw, take lowest reconstruction error"
   ]
  },
  {
   "cell_type": "code",
   "execution_count": 19,
   "metadata": {},
   "outputs": [
    {
     "name": "stdout",
     "output_type": "stream",
     "text": [
      "[0.35578124965830793, 0.27924564705559973, 0.2453467139600074, 0.23055763844925672, 0.23137690502834796, 0.2212411731303625, 0.2096352004175837, 0.19029575743465318, 0.19805877047083267, 0.19824313067889046]\n",
      "[0.35302106048186654, 0.26149132937113073, 0.23950495704129726, 0.22618278593919675, 0.22124155303343174, 0.22376619865417238, 0.2189154741390746, 0.1985618298904307, 0.18859220084162256, 0.19632651565566717]\n",
      "[0.35355782356019283, 0.26138647719480956, 0.24117582609053403, 0.22988042538270317, 0.23105530701889426, 0.22399845588674133, 0.20014625614613185, 0.19719528318874988, 0.18785224558534588, 0.19557920554399563]\n",
      "[0.35371566344964045, 0.2613569231144722, 0.24148240373118282, 0.2299497500429323, 0.2310954407995766, 0.22387633700005133, 0.20005824960855143, 0.20798412197549088, 0.19793034503897178, 0.19833404531310736]\n",
      "[0.3550153735640663, 0.26113647778112326, 0.24395392528501475, 0.23040732996369723, 0.23133377258436377, 0.22250609179520683, 0.19904912759982502, 0.20676931631676218, 0.19799127202115716, 0.19825986720465893]\n",
      "[0.3529820039422319, 0.2614992650960561, 0.23956383583758817, 0.22638380101163336, 0.22134685049278657, 0.22385640407168825, 0.21902495356917415, 0.19865559071079533, 0.18865254550978303, 0.19638563754564745]\n"
     ]
    }
   ],
   "source": [
    "# Draw:\n",
    "h5_path = path.get_file_path('laplacian_networks/Limbic0_BH_dice.h5')\n",
    "bh_limbic = path.read_hdf5(h5_path)\n",
    "l0 = [bh_limbic['LinRegResults'][i]['r2score'] for i in range(len(bh_limbic['LinRegResults']))]\n",
    "\n",
    "h5_path = path.get_file_path('laplacian_networks/Limbic1_BH_dice.h5')\n",
    "bh_limbic = path.read_hdf5(h5_path)\n",
    "l1 = [bh_limbic['LinRegResults'][i]['r2score'] for i in range(len(bh_limbic['LinRegResults']))]\n",
    "\n",
    "h5_path = path.get_file_path('laplacian_networks/Limbic2_BH_dice.h5')\n",
    "bh_limbic = path.read_hdf5(h5_path)\n",
    "l2 = [bh_limbic['LinRegResults'][i]['r2score'] for i in range(len(bh_limbic['LinRegResults']))]\n",
    "\n",
    "h5_path = path.get_file_path('laplacian_networks/Limbic4_BH_dice.h5')\n",
    "bh_limbic = path.read_hdf5(h5_path)\n",
    "l4 = [bh_limbic['LinRegResults'][i]['r2score'] for i in range(len(bh_limbic['LinRegResults']))]\n",
    "\n",
    "h5_path = path.get_file_path('laplacian_networks/Limbic5_BH_dice.h5')\n",
    "bh_limbic = path.read_hdf5(h5_path)\n",
    "l5 = [bh_limbic['LinRegResults'][i]['r2score'] for i in range(len(bh_limbic['LinRegResults']))]\n",
    "\n",
    "h5_path = path.get_file_path('laplacian_networks/Limbic7_BH_dice.h5')\n",
    "bh_limbic = path.read_hdf5(h5_path)\n",
    "l7 = [bh_limbic['LinRegResults'][i]['r2score'] for i in range(len(bh_limbic['LinRegResults']))]\n",
    "\n",
    "print(l0)\n",
    "print(l1)\n",
    "print(l2) # take l2 0.195579\n",
    "print(l4)\n",
    "print(l5)\n",
    "print(l7)"
   ]
  },
  {
   "cell_type": "markdown",
   "metadata": {},
   "source": [
    "Somatomotor:"
   ]
  },
  {
   "cell_type": "code",
   "execution_count": 13,
   "metadata": {},
   "outputs": [
    {
     "data": {
      "text/html": [
       "<style  type=\"text/css\" >\n",
       "    #T_7b2deb2c_c8f4_11e9_8e11_00215cf14861row3_col0 {\n",
       "            background-color:  yellow;\n",
       "        }</style>  \n",
       "<table id=\"T_7b2deb2c_c8f4_11e9_8e11_00215cf14861\" > \n",
       "<thead>    <tr> \n",
       "        <th class=\"blank level0\" ></th> \n",
       "        <th class=\"col_heading level0 col0\" >Fun</th> \n",
       "        <th class=\"col_heading level0 col1\" >x</th> \n",
       "    </tr></thead> \n",
       "<tbody>    <tr> \n",
       "        <th id=\"T_7b2deb2c_c8f4_11e9_8e11_00215cf14861level0_row0\" class=\"row_heading level0 row0\" >0</th> \n",
       "        <td id=\"T_7b2deb2c_c8f4_11e9_8e11_00215cf14861row0_col0\" class=\"data row0 col0\" >0.455</td> \n",
       "        <td id=\"T_7b2deb2c_c8f4_11e9_8e11_00215cf14861row0_col1\" class=\"data row0 col1\" >[ 2.   0.5 10. ]</td> \n",
       "    </tr>    <tr> \n",
       "        <th id=\"T_7b2deb2c_c8f4_11e9_8e11_00215cf14861level0_row1\" class=\"row_heading level0 row1\" >1</th> \n",
       "        <td id=\"T_7b2deb2c_c8f4_11e9_8e11_00215cf14861row1_col0\" class=\"data row1 col0\" >0.455</td> \n",
       "        <td id=\"T_7b2deb2c_c8f4_11e9_8e11_00215cf14861row1_col1\" class=\"data row1 col1\" >[ 3.862  4.281 20.055]</td> \n",
       "    </tr>    <tr> \n",
       "        <th id=\"T_7b2deb2c_c8f4_11e9_8e11_00215cf14861level0_row2\" class=\"row_heading level0 row2\" >2</th> \n",
       "        <td id=\"T_7b2deb2c_c8f4_11e9_8e11_00215cf14861row2_col0\" class=\"data row2 col0\" >0.458</td> \n",
       "        <td id=\"T_7b2deb2c_c8f4_11e9_8e11_00215cf14861row2_col1\" class=\"data row2 col1\" >[14.891  3.285 24.898]</td> \n",
       "    </tr>    <tr> \n",
       "        <th id=\"T_7b2deb2c_c8f4_11e9_8e11_00215cf14861level0_row3\" class=\"row_heading level0 row3\" >3</th> \n",
       "        <td id=\"T_7b2deb2c_c8f4_11e9_8e11_00215cf14861row3_col0\" class=\"data row3 col0\" >0.405</td> \n",
       "        <td id=\"T_7b2deb2c_c8f4_11e9_8e11_00215cf14861row3_col1\" class=\"data row3 col1\" >[27.524  2.784  3.23 ]</td> \n",
       "    </tr>    <tr> \n",
       "        <th id=\"T_7b2deb2c_c8f4_11e9_8e11_00215cf14861level0_row4\" class=\"row_heading level0 row4\" >4</th> \n",
       "        <td id=\"T_7b2deb2c_c8f4_11e9_8e11_00215cf14861row4_col0\" class=\"data row4 col0\" >0.458</td> \n",
       "        <td id=\"T_7b2deb2c_c8f4_11e9_8e11_00215cf14861row4_col1\" class=\"data row4 col1\" >[10.467  1.716 15.523]</td> \n",
       "    </tr>    <tr> \n",
       "        <th id=\"T_7b2deb2c_c8f4_11e9_8e11_00215cf14861level0_row5\" class=\"row_heading level0 row5\" >5</th> \n",
       "        <td id=\"T_7b2deb2c_c8f4_11e9_8e11_00215cf14861row5_col0\" class=\"data row5 col0\" >0.458</td> \n",
       "        <td id=\"T_7b2deb2c_c8f4_11e9_8e11_00215cf14861row5_col1\" class=\"data row5 col1\" >[4.434 0.974 6.277]</td> \n",
       "    </tr>    <tr> \n",
       "        <th id=\"T_7b2deb2c_c8f4_11e9_8e11_00215cf14861level0_row6\" class=\"row_heading level0 row6\" >6</th> \n",
       "        <td id=\"T_7b2deb2c_c8f4_11e9_8e11_00215cf14861row6_col0\" class=\"data row6 col0\" >0.455</td> \n",
       "        <td id=\"T_7b2deb2c_c8f4_11e9_8e11_00215cf14861row6_col1\" class=\"data row6 col1\" >[ 1.396  3.113 12.539]</td> \n",
       "    </tr>    <tr> \n",
       "        <th id=\"T_7b2deb2c_c8f4_11e9_8e11_00215cf14861level0_row7\" class=\"row_heading level0 row7\" >7</th> \n",
       "        <td id=\"T_7b2deb2c_c8f4_11e9_8e11_00215cf14861row7_col0\" class=\"data row7 col0\" >0.455</td> \n",
       "        <td id=\"T_7b2deb2c_c8f4_11e9_8e11_00215cf14861row7_col1\" class=\"data row7 col1\" >[ 3.634  1.027 17.551]</td> \n",
       "    </tr>    <tr> \n",
       "        <th id=\"T_7b2deb2c_c8f4_11e9_8e11_00215cf14861level0_row8\" class=\"row_heading level0 row8\" >8</th> \n",
       "        <td id=\"T_7b2deb2c_c8f4_11e9_8e11_00215cf14861row8_col0\" class=\"data row8 col0\" >0.458</td> \n",
       "        <td id=\"T_7b2deb2c_c8f4_11e9_8e11_00215cf14861row8_col1\" class=\"data row8 col1\" >[18.008  0.694 25.644]</td> \n",
       "    </tr>    <tr> \n",
       "        <th id=\"T_7b2deb2c_c8f4_11e9_8e11_00215cf14861level0_row9\" class=\"row_heading level0 row9\" >9</th> \n",
       "        <td id=\"T_7b2deb2c_c8f4_11e9_8e11_00215cf14861row9_col0\" class=\"data row9 col0\" >0.455</td> \n",
       "        <td id=\"T_7b2deb2c_c8f4_11e9_8e11_00215cf14861row9_col1\" class=\"data row9 col1\" >[ 3.857  4.058 19.624]</td> \n",
       "    </tr></tbody> \n",
       "</table> "
      ],
      "text/plain": [
       "<pandas.io.formats.style.Styler at 0x7fdbec5ce630>"
      ]
     },
     "execution_count": 13,
     "metadata": {},
     "output_type": "execute_result"
    }
   ],
   "source": [
    "motor_evals = pd.DataFrame(columns = colnames, index = indnames)\n",
    "\n",
    "for i in np.arange(0,nruns):\n",
    "    h5_path = path.get_file_path('laplacian_networks/Somatomotor{}_BH_dice.h5'.format(i))\n",
    "    bh_motor = path.read_hdf5(h5_path)\n",
    "    motor_evals.at[i,'Fun'] = bh_motor['fun']\n",
    "    motor_evals.at[i,'x'] = np.round(bh_motor['x'],3)\n",
    "\n",
    "motor_evals.style.apply(functions.highlight_min, subset=pd.IndexSlice[:,'Fun']) # in case of a draw, take lowest reconstruction error"
   ]
  },
  {
   "cell_type": "markdown",
   "metadata": {},
   "source": [
    "Ventral Attention:"
   ]
  },
  {
   "cell_type": "code",
   "execution_count": 14,
   "metadata": {},
   "outputs": [
    {
     "data": {
      "text/html": [
       "<style  type=\"text/css\" >\n",
       "    #T_c0ffce4a_c8f4_11e9_8e11_00215cf14861row0_col0 {\n",
       "            background-color:  yellow;\n",
       "        }    #T_c0ffce4a_c8f4_11e9_8e11_00215cf14861row1_col0 {\n",
       "            background-color:  yellow;\n",
       "        }    #T_c0ffce4a_c8f4_11e9_8e11_00215cf14861row3_col0 {\n",
       "            background-color:  yellow;\n",
       "        }    #T_c0ffce4a_c8f4_11e9_8e11_00215cf14861row5_col0 {\n",
       "            background-color:  yellow;\n",
       "        }    #T_c0ffce4a_c8f4_11e9_8e11_00215cf14861row6_col0 {\n",
       "            background-color:  yellow;\n",
       "        }</style>  \n",
       "<table id=\"T_c0ffce4a_c8f4_11e9_8e11_00215cf14861\" > \n",
       "<thead>    <tr> \n",
       "        <th class=\"blank level0\" ></th> \n",
       "        <th class=\"col_heading level0 col0\" >Fun</th> \n",
       "        <th class=\"col_heading level0 col1\" >x</th> \n",
       "    </tr></thead> \n",
       "<tbody>    <tr> \n",
       "        <th id=\"T_c0ffce4a_c8f4_11e9_8e11_00215cf14861level0_row0\" class=\"row_heading level0 row0\" >0</th> \n",
       "        <td id=\"T_c0ffce4a_c8f4_11e9_8e11_00215cf14861row0_col0\" class=\"data row0 col0\" >0.417</td> \n",
       "        <td id=\"T_c0ffce4a_c8f4_11e9_8e11_00215cf14861row0_col1\" class=\"data row0 col1\" >[31.374  3.196  2.034]</td> \n",
       "    </tr>    <tr> \n",
       "        <th id=\"T_c0ffce4a_c8f4_11e9_8e11_00215cf14861level0_row1\" class=\"row_heading level0 row1\" >1</th> \n",
       "        <td id=\"T_c0ffce4a_c8f4_11e9_8e11_00215cf14861row1_col0\" class=\"data row1 col0\" >0.417</td> \n",
       "        <td id=\"T_c0ffce4a_c8f4_11e9_8e11_00215cf14861row1_col1\" class=\"data row1 col1\" >[38.031  0.337  2.483]</td> \n",
       "    </tr>    <tr> \n",
       "        <th id=\"T_c0ffce4a_c8f4_11e9_8e11_00215cf14861level0_row2\" class=\"row_heading level0 row2\" >2</th> \n",
       "        <td id=\"T_c0ffce4a_c8f4_11e9_8e11_00215cf14861row2_col0\" class=\"data row2 col0\" >0.435</td> \n",
       "        <td id=\"T_c0ffce4a_c8f4_11e9_8e11_00215cf14861row2_col1\" class=\"data row2 col1\" >[8.156 0.593 0.387]</td> \n",
       "    </tr>    <tr> \n",
       "        <th id=\"T_c0ffce4a_c8f4_11e9_8e11_00215cf14861level0_row3\" class=\"row_heading level0 row3\" >3</th> \n",
       "        <td id=\"T_c0ffce4a_c8f4_11e9_8e11_00215cf14861row3_col0\" class=\"data row3 col0\" >0.417</td> \n",
       "        <td id=\"T_c0ffce4a_c8f4_11e9_8e11_00215cf14861row3_col1\" class=\"data row3 col1\" >[35.1    3.189  2.287]</td> \n",
       "    </tr>    <tr> \n",
       "        <th id=\"T_c0ffce4a_c8f4_11e9_8e11_00215cf14861level0_row4\" class=\"row_heading level0 row4\" >4</th> \n",
       "        <td id=\"T_c0ffce4a_c8f4_11e9_8e11_00215cf14861row4_col0\" class=\"data row4 col0\" >0.429</td> \n",
       "        <td id=\"T_c0ffce4a_c8f4_11e9_8e11_00215cf14861row4_col1\" class=\"data row4 col1\" >[15.867  4.673  1.841]</td> \n",
       "    </tr>    <tr> \n",
       "        <th id=\"T_c0ffce4a_c8f4_11e9_8e11_00215cf14861level0_row5\" class=\"row_heading level0 row5\" >5</th> \n",
       "        <td id=\"T_c0ffce4a_c8f4_11e9_8e11_00215cf14861row5_col0\" class=\"data row5 col0\" >0.417</td> \n",
       "        <td id=\"T_c0ffce4a_c8f4_11e9_8e11_00215cf14861row5_col1\" class=\"data row5 col1\" >[5.191 1.302 0.338]</td> \n",
       "    </tr>    <tr> \n",
       "        <th id=\"T_c0ffce4a_c8f4_11e9_8e11_00215cf14861level0_row6\" class=\"row_heading level0 row6\" >6</th> \n",
       "        <td id=\"T_c0ffce4a_c8f4_11e9_8e11_00215cf14861row6_col0\" class=\"data row6 col0\" >0.417</td> \n",
       "        <td id=\"T_c0ffce4a_c8f4_11e9_8e11_00215cf14861row6_col1\" class=\"data row6 col1\" >[24.056  3.36   1.565]</td> \n",
       "    </tr>    <tr> \n",
       "        <th id=\"T_c0ffce4a_c8f4_11e9_8e11_00215cf14861level0_row7\" class=\"row_heading level0 row7\" >7</th> \n",
       "        <td id=\"T_c0ffce4a_c8f4_11e9_8e11_00215cf14861row7_col0\" class=\"data row7 col0\" >0.435</td> \n",
       "        <td id=\"T_c0ffce4a_c8f4_11e9_8e11_00215cf14861row7_col1\" class=\"data row7 col1\" >[11.886  3.45   0.851]</td> \n",
       "    </tr>    <tr> \n",
       "        <th id=\"T_c0ffce4a_c8f4_11e9_8e11_00215cf14861level0_row8\" class=\"row_heading level0 row8\" >8</th> \n",
       "        <td id=\"T_c0ffce4a_c8f4_11e9_8e11_00215cf14861row8_col0\" class=\"data row8 col0\" >0.436</td> \n",
       "        <td id=\"T_c0ffce4a_c8f4_11e9_8e11_00215cf14861row8_col1\" class=\"data row8 col1\" >[6.722 3.326 0.493]</td> \n",
       "    </tr>    <tr> \n",
       "        <th id=\"T_c0ffce4a_c8f4_11e9_8e11_00215cf14861level0_row9\" class=\"row_heading level0 row9\" >9</th> \n",
       "        <td id=\"T_c0ffce4a_c8f4_11e9_8e11_00215cf14861row9_col0\" class=\"data row9 col0\" >0.429</td> \n",
       "        <td id=\"T_c0ffce4a_c8f4_11e9_8e11_00215cf14861row9_col1\" class=\"data row9 col1\" >[7.53  1.379 0.873]</td> \n",
       "    </tr></tbody> \n",
       "</table> "
      ],
      "text/plain": [
       "<pandas.io.formats.style.Styler at 0x7fdb6182dd68>"
      ]
     },
     "execution_count": 14,
     "metadata": {},
     "output_type": "execute_result"
    }
   ],
   "source": [
    "ventral_evals = pd.DataFrame(columns = colnames, index = indnames)\n",
    "\n",
    "for i in np.arange(0,nruns):\n",
    "    h5_path = path.get_file_path('laplacian_networks/Ventral_Attention{}_BH_dice.h5'.format(i))\n",
    "    bh_ventral = path.read_hdf5(h5_path)\n",
    "    ventral_evals.at[i,'Fun'] = bh_ventral['fun']\n",
    "    ventral_evals.at[i,'x'] = np.round(bh_ventral['x'],3)\n",
    "\n",
    "ventral_evals.style.apply(functions.highlight_min, subset=pd.IndexSlice[:,'Fun']) # in case of a draw, take lowest reconstruction error"
   ]
  },
  {
   "cell_type": "code",
   "execution_count": null,
   "metadata": {
    "jupyter": {
     "source_hidden": true
    }
   },
   "outputs": [],
   "source": [
    "# Draw:\n",
    "h5_path = path.get_file_path('Ventral_Attention3_BH_dice.h5')\n",
    "bh_ventral = path.read_hdf5(h5_path)\n",
    "v3 = [bh_ventral['LinRegResults'][i]['r2score'] for i in range(len(bh_ventral['LinRegResults']))]\n",
    "\n",
    "h5_path = path.get_file_path('Ventral_Attention4_BH_dice.h5')\n",
    "bh_ventral = path.read_hdf5(h5_path)\n",
    "v4 = [bh_ventral['LinRegResults'][i]['r2score'] for i in range(len(bh_ventral['LinRegResults']))]\n",
    "\n",
    "print(v3)\n",
    "print(v4) # take v3 because 0.023 vs. 0.025"
   ]
  },
  {
   "cell_type": "markdown",
   "metadata": {},
   "source": [
    "Visual:"
   ]
  },
  {
   "cell_type": "code",
   "execution_count": 15,
   "metadata": {},
   "outputs": [
    {
     "data": {
      "text/html": [
       "<style  type=\"text/css\" >\n",
       "    #T_cd368ef6_c8f4_11e9_8e11_00215cf14861row1_col0 {\n",
       "            background-color:  yellow;\n",
       "        }    #T_cd368ef6_c8f4_11e9_8e11_00215cf14861row2_col0 {\n",
       "            background-color:  yellow;\n",
       "        }    #T_cd368ef6_c8f4_11e9_8e11_00215cf14861row4_col0 {\n",
       "            background-color:  yellow;\n",
       "        }    #T_cd368ef6_c8f4_11e9_8e11_00215cf14861row5_col0 {\n",
       "            background-color:  yellow;\n",
       "        }    #T_cd368ef6_c8f4_11e9_8e11_00215cf14861row6_col0 {\n",
       "            background-color:  yellow;\n",
       "        }    #T_cd368ef6_c8f4_11e9_8e11_00215cf14861row7_col0 {\n",
       "            background-color:  yellow;\n",
       "        }    #T_cd368ef6_c8f4_11e9_8e11_00215cf14861row8_col0 {\n",
       "            background-color:  yellow;\n",
       "        }    #T_cd368ef6_c8f4_11e9_8e11_00215cf14861row9_col0 {\n",
       "            background-color:  yellow;\n",
       "        }</style>  \n",
       "<table id=\"T_cd368ef6_c8f4_11e9_8e11_00215cf14861\" > \n",
       "<thead>    <tr> \n",
       "        <th class=\"blank level0\" ></th> \n",
       "        <th class=\"col_heading level0 col0\" >Fun</th> \n",
       "        <th class=\"col_heading level0 col1\" >x</th> \n",
       "    </tr></thead> \n",
       "<tbody>    <tr> \n",
       "        <th id=\"T_cd368ef6_c8f4_11e9_8e11_00215cf14861level0_row0\" class=\"row_heading level0 row0\" >0</th> \n",
       "        <td id=\"T_cd368ef6_c8f4_11e9_8e11_00215cf14861row0_col0\" class=\"data row0 col0\" >0.333</td> \n",
       "        <td id=\"T_cd368ef6_c8f4_11e9_8e11_00215cf14861row0_col1\" class=\"data row0 col1\" >[ 1.583  1.22  11.489]</td> \n",
       "    </tr>    <tr> \n",
       "        <th id=\"T_cd368ef6_c8f4_11e9_8e11_00215cf14861level0_row1\" class=\"row_heading level0 row1\" >1</th> \n",
       "        <td id=\"T_cd368ef6_c8f4_11e9_8e11_00215cf14861row1_col0\" class=\"data row1 col0\" >0.314</td> \n",
       "        <td id=\"T_cd368ef6_c8f4_11e9_8e11_00215cf14861row1_col1\" class=\"data row1 col1\" >[22.479  1.462  6.619]</td> \n",
       "    </tr>    <tr> \n",
       "        <th id=\"T_cd368ef6_c8f4_11e9_8e11_00215cf14861level0_row2\" class=\"row_heading level0 row2\" >2</th> \n",
       "        <td id=\"T_cd368ef6_c8f4_11e9_8e11_00215cf14861row2_col0\" class=\"data row2 col0\" >0.314</td> \n",
       "        <td id=\"T_cd368ef6_c8f4_11e9_8e11_00215cf14861row2_col1\" class=\"data row2 col1\" >[38.688  0.863 12.404]</td> \n",
       "    </tr>    <tr> \n",
       "        <th id=\"T_cd368ef6_c8f4_11e9_8e11_00215cf14861level0_row3\" class=\"row_heading level0 row3\" >3</th> \n",
       "        <td id=\"T_cd368ef6_c8f4_11e9_8e11_00215cf14861row3_col0\" class=\"data row3 col0\" >0.333</td> \n",
       "        <td id=\"T_cd368ef6_c8f4_11e9_8e11_00215cf14861row3_col1\" class=\"data row3 col1\" >[25.919  2.251  2.564]</td> \n",
       "    </tr>    <tr> \n",
       "        <th id=\"T_cd368ef6_c8f4_11e9_8e11_00215cf14861level0_row4\" class=\"row_heading level0 row4\" >4</th> \n",
       "        <td id=\"T_cd368ef6_c8f4_11e9_8e11_00215cf14861row4_col0\" class=\"data row4 col0\" >0.314</td> \n",
       "        <td id=\"T_cd368ef6_c8f4_11e9_8e11_00215cf14861row4_col1\" class=\"data row4 col1\" >[18.175  2.835  5.382]</td> \n",
       "    </tr>    <tr> \n",
       "        <th id=\"T_cd368ef6_c8f4_11e9_8e11_00215cf14861level0_row5\" class=\"row_heading level0 row5\" >5</th> \n",
       "        <td id=\"T_cd368ef6_c8f4_11e9_8e11_00215cf14861row5_col0\" class=\"data row5 col0\" >0.314</td> \n",
       "        <td id=\"T_cd368ef6_c8f4_11e9_8e11_00215cf14861row5_col1\" class=\"data row5 col1\" >[6.432 2.023 2.001]</td> \n",
       "    </tr>    <tr> \n",
       "        <th id=\"T_cd368ef6_c8f4_11e9_8e11_00215cf14861level0_row6\" class=\"row_heading level0 row6\" >6</th> \n",
       "        <td id=\"T_cd368ef6_c8f4_11e9_8e11_00215cf14861row6_col0\" class=\"data row6 col0\" >0.314</td> \n",
       "        <td id=\"T_cd368ef6_c8f4_11e9_8e11_00215cf14861row6_col1\" class=\"data row6 col1\" >[10.061  4.522  3.167]</td> \n",
       "    </tr>    <tr> \n",
       "        <th id=\"T_cd368ef6_c8f4_11e9_8e11_00215cf14861level0_row7\" class=\"row_heading level0 row7\" >7</th> \n",
       "        <td id=\"T_cd368ef6_c8f4_11e9_8e11_00215cf14861row7_col0\" class=\"data row7 col0\" >0.314</td> \n",
       "        <td id=\"T_cd368ef6_c8f4_11e9_8e11_00215cf14861row7_col1\" class=\"data row7 col1\" >[30.064  2.826  9.025]</td> \n",
       "    </tr>    <tr> \n",
       "        <th id=\"T_cd368ef6_c8f4_11e9_8e11_00215cf14861level0_row8\" class=\"row_heading level0 row8\" >8</th> \n",
       "        <td id=\"T_cd368ef6_c8f4_11e9_8e11_00215cf14861row8_col0\" class=\"data row8 col0\" >0.314</td> \n",
       "        <td id=\"T_cd368ef6_c8f4_11e9_8e11_00215cf14861row8_col1\" class=\"data row8 col1\" >[35.087  0.864 10.346]</td> \n",
       "    </tr>    <tr> \n",
       "        <th id=\"T_cd368ef6_c8f4_11e9_8e11_00215cf14861level0_row9\" class=\"row_heading level0 row9\" >9</th> \n",
       "        <td id=\"T_cd368ef6_c8f4_11e9_8e11_00215cf14861row9_col0\" class=\"data row9 col0\" >0.314</td> \n",
       "        <td id=\"T_cd368ef6_c8f4_11e9_8e11_00215cf14861row9_col1\" class=\"data row9 col1\" >[40.963  2.318 12.989]</td> \n",
       "    </tr></tbody> \n",
       "</table> "
      ],
      "text/plain": [
       "<pandas.io.formats.style.Styler at 0x7fdb61447320>"
      ]
     },
     "execution_count": 15,
     "metadata": {},
     "output_type": "execute_result"
    }
   ],
   "source": [
    "visual_evals = pd.DataFrame(columns = colnames, index = indnames)\n",
    "\n",
    "for i in np.arange(0,nruns):\n",
    "    h5_path = path.get_file_path('laplacian_networks/Visual{}_BH_dice.h5'.format(i))\n",
    "    bh_visual = path.read_hdf5(h5_path)\n",
    "    visual_evals.at[i,'Fun'] = bh_visual['fun']\n",
    "    visual_evals.at[i,'x'] = np.round(bh_visual['x'],3)\n",
    "\n",
    "visual_evals.style.apply(functions.highlight_min, subset=pd.IndexSlice[:,'Fun']) # in case of a draw, take lowest reconstruction error"
   ]
  },
  {
   "cell_type": "markdown",
   "metadata": {},
   "source": [
    "Concatenate reconstruction errors and plot to check for optimal number of sorted eigenmodes:"
   ]
  },
  {
   "cell_type": "code",
   "execution_count": 21,
   "metadata": {},
   "outputs": [
    {
     "data": {
      "text/plain": [
       "Text(0, 0.5, '$r^{2}$ score')"
      ]
     },
     "execution_count": 21,
     "metadata": {},
     "output_type": "execute_result"
    },
    {
     "data": {
      "image/png": "[encoded data removed]",
      "text/plain": [
       "<Figure size 576x432 with 1 Axes>"
      ]
     },
     "metadata": {},
     "output_type": "display_data"
    }
   ],
   "source": [
    "from cycler import cycler\n",
    "\n",
    "r2s = np.zeros([7,10])\n",
    "\n",
    "h5_path = path.get_file_path('laplacian_networks/Default3_BH_dice.h5')\n",
    "bh_default = path.read_hdf5(h5_path)\n",
    "r2s[0,:] = [bh_default['LinRegResults'][i]['r2score'] for i in range(len(bh_default['LinRegResults']))]\n",
    "\n",
    "h5_path = path.get_file_path('laplacian_networks/Dorsal_Attention6_BH_dice.h5')\n",
    "bh_dorsal = path.read_hdf5(h5_path)\n",
    "r2s[1,:] = [bh_dorsal['LinRegResults'][i]['r2score'] for i in range(len(bh_dorsal['LinRegResults']))]\n",
    "\n",
    "h5_path = path.get_file_path('laplacian_networks/Frontoparietal3_BH_dice.h5')\n",
    "bh_front = path.read_hdf5(h5_path)\n",
    "r2s[2,:] = [bh_front['LinRegResults'][i]['r2score'] for i in range(len(bh_front['LinRegResults']))]\n",
    "\n",
    "h5_path = path.get_file_path('laplacian_networks/Limbic2_BH_dice.h5')\n",
    "bh_limbic = path.read_hdf5(h5_path)\n",
    "r2s[3,:] = [bh_limbic['LinRegResults'][i]['r2score'] for i in range(len(bh_limbic['LinRegResults']))]\n",
    "\n",
    "h5_path = path.get_file_path('laplacian_networks/Somatomotor3_BH_dice.h5')\n",
    "bh_motor = path.read_hdf5(h5_path)\n",
    "r2s[4,:] = [bh_motor['LinRegResults'][i]['r2score'] for i in range(len(bh_motor['LinRegResults']))]\n",
    "\n",
    "h5_path = path.get_file_path('laplacian_networks/Ventral_Attention3_BH_dice.h5')\n",
    "bh_ventral = path.read_hdf5(h5_path)\n",
    "r2s[5,:] = [bh_ventral['LinRegResults'][i]['r2score'] for i in range(len(bh_ventral['LinRegResults']))]\n",
    "\n",
    "h5_path = path.get_file_path('laplacian_networks/Visual3_BH_dice.h5')\n",
    "bh_visual = path.read_hdf5(h5_path)\n",
    "r2s[6,:] = [bh_visual['LinRegResults'][i]['r2score'] for i in range(len(bh_visual['LinRegResults']))]\n",
    "\n",
    "# Plot\n",
    "x = np.arange(1,11)\n",
    "plt.figure('Reconstruction Scores', figsize = [8,6])\n",
    "custom_cycler = (cycler(color = ['blue','orange','purple','olive',\n",
    "                          'sienna','black','darkslategray']))\n",
    "plt.gca().set_prop_cycle(custom_cycler)\n",
    "plt.plot(x, r2s.transpose(), linewidth = 4)\n",
    "plt.legend(['Default','Dorsal Attention','Frontoparietal','Limbic','Somatomotor','Ventral Attention','Visual'],\n",
    "          fontsize = 'medium', loc = 'upperright')\n",
    "plt.xlabel('Number of sorted eigenmodes')\n",
    "plt.ylabel('$r^{2}$ score')"
   ]
  },
  {
   "cell_type": "markdown",
   "metadata": {},
   "source": [
    "Expand the above plot to 35 eigenmodes and DICE:"
   ]
  },
  {
   "cell_type": "code",
   "execution_count": null,
   "metadata": {},
   "outputs": [],
   "source": [
    "from scipy.stats import pearsonr\n",
    "from sklearn.linear_model import LinearRegression\n",
    "from sklearn.preprocessing import minmax_scale\n",
    "\n",
    "w = 2*np.pi*bh_default['x'][0]\n",
    "\n",
    "#create brain object:\n",
    "fc_brain = Brain.Brain()\n",
    "fc_brain.add_connectome(hcp_dir)\n",
    "fc_brain.reorder_connectome(fc_brain.connectome, fc_brain.distance_matrix)\n",
    "fc_brain.bi_symmetric_c()\n",
    "fc_brain.reduce_extreme_dir()\n",
    "\n",
    "fc_brain.add_laplacian_eigenmodes(w = w, alpha = bh_default['x'][1], speed = bh_default['x'][2])\n",
    "fc_brain.binary_eigenmodes = np.where(fc_brain.norm_eigenmodes > 0.6, 1, 0)\n",
    "opt_dice = eigenmode.get_dice_df(fc_brain.binary_eigenmodes, DKfc_binarized)\n",
    "ntw_opt_dice = np.round(opt_dice['Default'].values.astype(np.double),3)\n",
    "ordered_dice = np.argsort(ntw_opt_dice)\n",
    "\n",
    "K = 5\n",
    "selected_eigs = fc_brain.norm_eigenmodes[:,ordered_dice[0:K+1]]\n",
    "canon_network = np.nan_to_num(DK_df_normalized.loc['Default'].values).reshape(-1,1)\n",
    "regr = LinearRegression()\n",
    "regr.fit(canon_network, selected_eigs)\n",
    "comb_eigmodes = np.dot(selected_eigs, np.asarray(regr.coef_))\n",
    "comb_eigmodes = np.squeeze(minmax_scale(comb_eigmodes))"
   ]
  },
  {
   "cell_type": "code",
   "execution_count": null,
   "metadata": {},
   "outputs": [],
   "source": [
    "corrs = np.zeros([86,1])\n",
    "for e in np.arange(0,86):\n",
    "    corrs[e] = pearsonr(np.squeeze(canon_network),fc_brain.norm_eigenmodes[:,e])[0]\n",
    "    \n",
    "len(corrs)"
   ]
  },
  {
   "cell_type": "code",
   "execution_count": null,
   "metadata": {},
   "outputs": [],
   "source": [
    "from sklearn.linear_model import LinearRegression\n",
    "from scipy.spatial import distance\n",
    "from sklearn.preprocessing import minmax_scale\n",
    "from scipy.stats import pearsonr\n",
    "\n",
    "def compute_linreg_scores(brain, fnetworks, df_binarized, f, a, s, fc_name, num_em):\n",
    "    w = 2*np.pi*f\n",
    "    \n",
    "    brain.add_laplacian_eigenmodes(w = w, alpha = a, speed = s)\n",
    "    brain.binary_eigenmodes = np.where(brain.norm_eigenmodes > 0.6, 1, 0)\n",
    "    opt_dice = eigenmode.get_dice_df(brain.binary_eigenmodes, df_binarized)\n",
    "    ntw_opt_dice = np.round(opt_dice[fc_name].values.astype(np.double),3)\n",
    "    ordered_dice = np.argsort(ntw_opt_dice)\n",
    "    assert ntw_opt_dice[ordered_dice[1]] > ntw_opt_dice[ordered_dice[0]]\n",
    "    \n",
    "    cumulative_dice = np.zeros([num_em,1])\n",
    "    cumulative_regr = np.zeros([num_em,1])\n",
    "    cumulative_corr = np.zeros([num_em,1])\n",
    "    num_canonical = np.count_nonzero(df_binarized.loc[fc_name].values)\n",
    "    thresh_vec = np.linspace(0.1,0.8,30)\n",
    "    binary_count = np.zeros(thresh_vec.shape)\n",
    "    \n",
    "    for k in np.arange(0,num_em):\n",
    "        selected_eigs = brain.norm_eigenmodes[:,ordered_dice[0:k+1]]\n",
    "        canon_network = np.nan_to_num(fnetworks.loc[fc_name].values).reshape(-1,1)\n",
    "        regr = LinearRegression()\n",
    "        regr.fit(canon_network, selected_eigs)\n",
    "        # regression fit\n",
    "        cumulative_regr[k] = regr.score(canon_network, selected_eigs) #r2 score\n",
    "        # dice:\n",
    "        comb_eigmodes = np.dot(selected_eigs, np.asarray(regr.coef_))\n",
    "        comb_eigmodes = np.squeeze(minmax_scale(comb_eigmodes))\n",
    "        ## binarize each combination differently:\n",
    "        for i in np.arange(0,len(thresh_vec)):\n",
    "            binary_mat = np.where(comb_eigmodes > thresh_vec[i],1,0)\n",
    "            binary_count[i] = np.count_nonzero(binary_mat)\n",
    "        \n",
    "        bin_num = np.abs(binary_count - num_canonical).argmin()\n",
    "        binary_comb = np.where(comb_eigmodes > thresh_vec[bin_num], 1, 0)\n",
    "        print('{} element count: {}, eigenmode element count: {}'.format(fc_name, num_canonical, np.count_nonzero(binary_comb)))\n",
    "        cumulative_dice[k] = 1-distance.dice(binary_comb, df_binarized.loc[fc_name].values)\n",
    "        # spatial correlation\n",
    "        cumulative_corr[k] = pearsonr(np.squeeze(canon_network), comb_eigmodes)[0]\n",
    "        \n",
    "    return np.squeeze(cumulative_regr), np.squeeze(cumulative_dice), np.squeeze(cumulative_corr)"
   ]
  },
  {
   "cell_type": "code",
   "execution_count": null,
   "metadata": {},
   "outputs": [],
   "source": [
    "K = 35 # for number of eigenmodes\n",
    "print(bh_default['x'])\n",
    "\n",
    "#create brain object:\n",
    "fc_brain = Brain.Brain()\n",
    "fc_brain.add_connectome(hcp_dir)\n",
    "fc_brain.reorder_connectome(fc_brain.connectome, fc_brain.distance_matrix)\n",
    "fc_brain.bi_symmetric_c()\n",
    "fc_brain.reduce_extreme_dir()\n",
    "\n",
    "regr_all = np.zeros([K,7]) \n",
    "dice_all = np.zeros([K,7])\n",
    "corr_all = np.zeros([K,7])\n",
    "regr_all[:,0], dice_all[:,0], corr_all[:,0] = compute_linreg_scores(fc_brain, DK_df_normalized, DKfc_binarized, f = bh_default['x'][0], a = bh_default['x'][1], \n",
    "                                           s = bh_default['x'][2], fc_name = 'Default', num_em = K)\n",
    "\n",
    "regr_all[:,1], dice_all[:,1], corr_all[:,1] = compute_linreg_scores(fc_brain, DK_df_normalized, DKfc_binarized, f = bh_dorsal['x'][0], a = bh_dorsal['x'][1], \n",
    "                                           s = bh_dorsal['x'][2], fc_name = 'Dorsal_Attention', num_em = K)\n",
    "\n",
    "regr_all[:,2], dice_all[:,2], corr_all[:,2] = compute_linreg_scores(fc_brain, DK_df_normalized, DKfc_binarized, f = bh_front['x'][0], a = bh_front['x'][1], \n",
    "                                           s = bh_front['x'][2], fc_name = 'Frontoparietal', num_em = K)\n",
    "\n",
    "regr_all[:,3], dice_all[:,3], corr_all[:,3] = compute_linreg_scores(fc_brain, DK_df_normalized, DKfc_binarized, f = bh_limbic['x'][0], a = bh_limbic['x'][1], \n",
    "                                           s = bh_limbic['x'][2], fc_name = 'Limbic', num_em = K)\n",
    "\n",
    "regr_all[:,4], dice_all[:,4], corr_all[:,4] = compute_linreg_scores(fc_brain, DK_df_normalized, DKfc_binarized, f = bh_motor['x'][0], a = bh_motor['x'][1], \n",
    "                                           s = bh_motor['x'][2], fc_name = 'Somatomotor', num_em = K)\n",
    "\n",
    "regr_all[:,5], dice_all[:,5], corr_all[:,5] = compute_linreg_scores(fc_brain, DK_df_normalized, DKfc_binarized, f = bh_ventral['x'][0], a = bh_ventral['x'][1], \n",
    "                                           s = bh_ventral['x'][2], fc_name = 'Ventral_Attention', num_em = K)\n",
    "\n",
    "regr_all[:,6], dice_all[:,6], corr_all[:,6] = compute_linreg_scores(fc_brain, DK_df_normalized, DKfc_binarized, f = bh_visual['x'][0], a = bh_visual['x'][1], \n",
    "                                           s = bh_visual['x'][2], fc_name = 'Visual', num_em = K)\n",
    "# Plot\n",
    "x = np.arange(1,K+1)\n",
    "plt.figure('Reconstruction Scores', figsize = [10,8])\n",
    "plt.subplot(3,1,1)\n",
    "custom_cycler = (cycler(color = ['blue','orange','purple','olive',\n",
    "                          'sienna','black','darkslategray']))\n",
    "plt.gca().set_prop_cycle(custom_cycler)\n",
    "plt.plot(x, regr_all, linewidth = 4)\n",
    "plt.xlabel('Number of sorted eigenmodes')\n",
    "plt.ylabel('$r^{2}$ score')\n",
    "\n",
    "plt.subplot(3,1,2)\n",
    "plt.gca().set_prop_cycle(custom_cycler)\n",
    "plt.plot(x, dice_all, linewidth = 4)\n",
    "plt.xlabel('Number of sorted eigenmodes')\n",
    "plt.ylabel('DICE similarity score')\n",
    "\n",
    "plt.subplot(3,1,3)\n",
    "plt.gca().set_prop_cycle(custom_cycler)\n",
    "plt.plot(x, corr_all, linewidth = 4)\n",
    "plt.xlabel('Number of sorted eigenmodes')\n",
    "plt.ylabel('Pearson R')\n",
    "plt.legend(['Default','Dorsal Attention','Frontoparietal','Limbic','Somatomotor','Ventral Attention','Visual'],\n",
    "          fontsize = 'large', loc = 'center left',  bbox_to_anchor=(1, 0.5))"
   ]
  },
  {
   "cell_type": "code",
   "execution_count": null,
   "metadata": {},
   "outputs": [],
   "source": [
    "# Compute eigenmode dice with Brain:\n",
    "dft_brain = Brain.Brain()\n",
    "dft_brain.add_connectome(hcp_dir)\n",
    "dft_brain.reorder_connectome(dft_brain.connectome, dft_brain.distance_matrix)\n",
    "dft_brain.bi_symmetric_c()\n",
    "dft_brain.reduce_extreme_dir()\n",
    "\n",
    "# complex laplacian and its eigenmodes:\n",
    "w = 2*np.pi*bh_default['x'][0]\n",
    "dft_brain.add_laplacian_eigenmodes(w, alpha = bh_default['x'][1], speed = bh_default['x'][2])\n",
    "\n",
    "# binarize and compute dice:\n",
    "dft_brain.binary_eigenmodes = np.where(dft_brain.norm_eigenmodes > 0.6, 1, 0)\n",
    "dft_dice = eigenmode.get_dice_df(dft_brain.binary_eigenmodes, DKfc_binarized)\n",
    "# Compute mean Dice for chosen network:\n",
    "dice_scores = 1-np.round(dft_dice['Default'].values.astype(np.double),3)\n",
    "mean_dice = np.mean(dice_scores)\n",
    "print(\"mean dice dissimilarity score: \", mean_dice)"
   ]
  },
  {
   "cell_type": "code",
   "execution_count": null,
   "metadata": {},
   "outputs": [],
   "source": [
    "np.min(dice_scores)"
   ]
  },
  {
   "cell_type": "code",
   "execution_count": null,
   "metadata": {},
   "outputs": [],
   "source": [
    "ordered_dice = np.argsort(dice_scores)\n",
    "ordered_dice"
   ]
  },
  {
   "cell_type": "code",
   "execution_count": null,
   "metadata": {},
   "outputs": [],
   "source": [
    "dice_scores[78]"
   ]
  },
  {
   "cell_type": "code",
   "execution_count": null,
   "metadata": {},
   "outputs": [],
   "source": [
    "from nilearn import plotting\n",
    "from matplotlib import cm\n",
    "\n",
    "## Function for plotting with nilearn\n",
    "def plot_glass_brain(coords, scores, cmap_name):\n",
    "    \"\"\" Plot transparent brain renders\n",
    "    Args:\n",
    "        - color (list): Color indices\n",
    "        - coords \n",
    "        - size\n",
    "    Returns:\n",
    "        -matplotlib object\n",
    "    \"\"\"\n",
    "    cmap = cm.get_cmap(cmap_name)\n",
    "    data = np.nan_to_num(scores)\n",
    "    size = data*500\n",
    "    #color = cmap((size/np.max(size)))\n",
    "    color = cmap(data)\n",
    "    connectome_array = np.array([[0]*86]*86)\n",
    "    plotting.plot_connectome(connectome_array, coords, node_size = size, node_color = color, display_mode = 'xz')\n",
    "    plt.gcf().set_size_inches(10, 5)\n",
    "\n",
    "# plot:\n",
    "plt.figure('Default System', figsize = [10,8])\n",
    "plt.hist(dice_scores, bins = 8, density = True, histtype = 'bar')\n",
    "xvals = plt.xticks()[0]\n",
    "xmin, xmax = min(xvals), max(xvals)\n",
    "xbins = np.linspace(xmin, xmax, len(dice_scores))\n",
    "mu, sigma = stats.norm.fit(dice_scores)\n",
    "gaussian_pdf = stats.norm.pdf(xbins, mu, sigma)\n",
    "plt.plot(xbins, gaussian_pdf,'r', label = 'Gaussian Fit')"
   ]
  },
  {
   "cell_type": "code",
   "execution_count": null,
   "metadata": {},
   "outputs": [],
   "source": [
    "np.argmax(dice_scores)"
   ]
  },
  {
   "cell_type": "code",
   "execution_count": null,
   "metadata": {},
   "outputs": [],
   "source": [
    "binarized_eig = np.where(dft_brain.norm_eigenmodes[:,52] > 0.6, 1, 0)\n",
    "np.round(dft_brain.norm_eigenmodes[:,52],2)"
   ]
  },
  {
   "cell_type": "code",
   "execution_count": null,
   "metadata": {},
   "outputs": [],
   "source": [
    "np.round(DK_df_normalized.loc['Default'].values,2)"
   ]
  },
  {
   "cell_type": "code",
   "execution_count": null,
   "metadata": {},
   "outputs": [],
   "source": [
    "from scipy.spatial import distance\n",
    "u = np.mean(np.nan_to_num(DK_df_normalized.loc['Default'].values))\n",
    "s = np.std(np.nan_to_num(DK_df_normalized.loc['Default'].values))\n",
    "threshold = u - s * 0.1\n",
    "distance.dice(np.where(dft_brain.norm_eigenmodes[:,61]>0.6,1,0), np.where(np.nan_to_num(DK_df_normalized.loc['Default'].values)>threshold,1,0))"
   ]
  },
  {
   "cell_type": "code",
   "execution_count": null,
   "metadata": {},
   "outputs": [],
   "source": [
    "coords = np.array([com_dk[region] for region in DK_df_normalized.columns])\n",
    "eigscore = dft_brain.norm_eigenmodes[:,61]\n",
    "plot_glass_brain(coords, eigscore, 'coolwarm')"
   ]
  },
  {
   "cell_type": "code",
   "execution_count": null,
   "metadata": {},
   "outputs": [],
   "source": [
    "np.arange(1,11)"
   ]
  },
  {
   "cell_type": "markdown",
   "metadata": {},
   "source": [
    "Trying linear regression:"
   ]
  },
  {
   "cell_type": "code",
   "execution_count": null,
   "metadata": {},
   "outputs": [],
   "source": [
    "from sklearn.metrics import mean_squared_error, r2_score\n",
    "from sklearn.linear_model import LinearRegression\n",
    "\n",
    "k = 5 # number of top eigen modes to regress:\n",
    "Y = dft_brain.norm_eigenmodes[:,ordered_dice[0:k]]\n",
    "X = np.nan_to_num(DK_df_normalized.loc['Default'].values).reshape(-1,1)\n",
    "regr = LinearRegression()\n",
    "regr.fit(X,Y)\n",
    "print(regr.score(X,Y))"
   ]
  },
  {
   "cell_type": "code",
   "execution_count": null,
   "metadata": {},
   "outputs": [],
   "source": [
    "from sklearn.preprocessing import minmax_scale\n",
    "lin_comb_y = np.dot(Y,np.asarray(regr.coef_))\n",
    "scaled_y = np.squeeze(minmax_scale(lin_comb_y))"
   ]
  },
  {
   "cell_type": "code",
   "execution_count": null,
   "metadata": {},
   "outputs": [],
   "source": [
    "plot_glass_brain(coords, np.asarray(scaled_y), 'coolwarm')"
   ]
  },
  {
   "cell_type": "code",
   "execution_count": null,
   "metadata": {},
   "outputs": [],
   "source": [
    "a = np.array([[[1]*2]*5])\n",
    "b = np.array([1,2])\n",
    "print(a)\n",
    "print(b.shape)\n",
    "np.dot(a,b)"
   ]
  },
  {
   "cell_type": "code",
   "execution_count": null,
   "metadata": {},
   "outputs": [],
   "source": [
    "%gui qt\n",
    "\n",
    "# set up Pysurfer variables\n",
    "subject_id = \"fsaverage\"\n",
    "hemi = \"split\"\n",
    "surf = \"inflated\"\n",
    "\n",
    "\"\"\"\n",
    "Bring up the visualization.\n",
    "\"\"\"\n",
    "#brain = Brain(subject_id, hemi , surf, background=\"white\", views = ['lat','med'])\n",
    "dft_SB = SB(subject_id, hemi, surf, background = \"white\", title = \"Default freq = 4.5, alpha = 5.3, v = 8.2\", views=['lat', 'med'])\n",
    "#limb_SB.add_text(x = 0.5, y = 0.9, text = \"Eig Number , frequency = , speed = \", name = \"eiglabel\")\n",
    "\n",
    "\"\"\"\n",
    "Read in the automatic parcellation of sulci and gyri.\n",
    "\"\"\"\n",
    "\n",
    "# left side:\n",
    "hemi_side = \"lh\"\n",
    "aparc_file = os.path.join(os.environ[\"SUBJECTS_DIR\"],\n",
    "                          subject_id, \"label\",\n",
    "                          hemi_side + \".aparc.annot\")\n",
    "labels, ctab, names = nib.freesurfer.read_annot(aparc_file)\n",
    "lh_norm_eigs = dft_brain.norm_eigenmodes[:,np.argmin(dice_scores)]\n",
    "lh_padded_eigs = np.insert(lh_norm_eigs, [0, 3], [0, 0])\n",
    "dft_lh = lh_padded_eigs[labels]\n",
    "dft_SB.add_data(dft_lh, hemi = 'lh', thresh = 0, colormap = \"jet\", remove_existing = True)\n",
    "\n",
    "hemi_side = \"rh\"\n",
    "aparc_file = os.path.join(os.environ[\"SUBJECTS_DIR\"],\n",
    "                          subject_id, \"label\",\n",
    "                          hemi_side + \".aparc.annot\")\n",
    "labels, ctab, names = nib.freesurfer.read_annot(aparc_file)\n",
    "\n",
    "rh_norm_eigs = dft_brain.norm_eigenmodes[34:68,np.argmin(dice_scores)]\n",
    "rh_padded_eigs = np.insert(rh_norm_eigs, [0,3],[0,0])\n",
    "dft_rh = rh_padded_eigs[labels]\n",
    "dft_SB.add_data(dft_rh, hemi = 'rh', thresh = 0, colormap = \"jet\", remove_existing = True)"
   ]
  },
  {
   "cell_type": "code",
   "execution_count": null,
   "metadata": {},
   "outputs": [],
   "source": [
    "print(np.min(dice_scores))"
   ]
  },
  {
   "cell_type": "markdown",
   "metadata": {},
   "source": [
    "#### Dorsal attention network"
   ]
  },
  {
   "cell_type": "code",
   "execution_count": null,
   "metadata": {
    "scrolled": true
   },
   "outputs": [],
   "source": [
    "# load results:\n",
    "h5_path = path.get_file_path('Dorsal_Attention_BH_dice.h5')\n",
    "bh_dorattn = path.read_hdf5(h5_path)\n",
    "bh_dorattn"
   ]
  },
  {
   "cell_type": "markdown",
   "metadata": {},
   "source": [
    "#### Frontoparietal"
   ]
  },
  {
   "cell_type": "code",
   "execution_count": null,
   "metadata": {},
   "outputs": [],
   "source": [
    "h5_path = path.get_file_path('Frontoparietal_BH_dice.h5')\n",
    "bh_ftpt = path.read_hdf5(h5_path)\n",
    "bh_ftpt"
   ]
  },
  {
   "cell_type": "markdown",
   "metadata": {},
   "source": [
    "#### Limbic"
   ]
  },
  {
   "cell_type": "code",
   "execution_count": null,
   "metadata": {},
   "outputs": [],
   "source": [
    "h5_path = path.get_file_path('Limbic_BH_dice.h5')\n",
    "bh_limb = path.read_hdf5(h5_path)\n",
    "bh_limb"
   ]
  },
  {
   "cell_type": "markdown",
   "metadata": {},
   "source": [
    "Plot eigenmode dice dissimilarity scores:"
   ]
  },
  {
   "cell_type": "code",
   "execution_count": null,
   "metadata": {},
   "outputs": [],
   "source": [
    "# Compute eigenmode dice with Brain:\n",
    "limbic = Brain.Brain()\n",
    "limbic.add_connectome(hcp_dir)\n",
    "limbic.reorder_connectome(limbic.connectome, limbic.distance_matrix)\n",
    "limbic.bi_symmetric_c()\n",
    "limbic.reduce_extreme_dir()\n",
    "\n",
    "# complex laplacian and its eigenmodes:\n",
    "w = 2*np.pi*bh_limb['x'][0]\n",
    "limbic.add_laplacian_eigenmodes(w, alpha = bh_limb['x'][1], speed = bh_limb['x'][2])\n",
    "\n",
    "# binarize and compute dice:\n",
    "limbic.binary_eigenmodes = np.where(limbic.norm_eigenmodes > 0.6, 1, 0)\n",
    "limbic_dice = eigenmode.get_dice_df(limbic.binary_eigenmodes, DKfc_binarized)\n",
    "# Compute mean Dice for chosen network:\n",
    "dice_scores = 1-np.round(limbic_dice['Limbic'].values.astype(np.double),3)\n",
    "mean_dice = np.mean(dice_scores)\n",
    "print(\"mean dice dissimilarity score: \", mean_dice)\n",
    "\n",
    "# plot:\n",
    "plt.figure('Limbic System')\n",
    "plt.hist(dice_scores, bins = 8, density = True, histtype = 'bar')\n",
    "xvals = plt.xticks()[0]\n",
    "xmin, xmax = min(xvals), max(xvals)\n",
    "xbins = np.linspace(xmin, xmax, len(dice_scores))\n",
    "mu, sigma = stats.norm.fit(dice_scores)\n",
    "gaussian_pdf = stats.norm.pdf(xbins, mu, sigma)\n",
    "plt.plot(xbins, gaussian_pdf,'r', label = 'Gaussian Fit')"
   ]
  },
  {
   "cell_type": "code",
   "execution_count": null,
   "metadata": {},
   "outputs": [],
   "source": [
    "np.argmin(dice_scores)"
   ]
  },
  {
   "cell_type": "code",
   "execution_count": null,
   "metadata": {},
   "outputs": [],
   "source": [
    "eigscore = limbic.norm_eigenmodes[:,np.argmin(dice_scores)]\n",
    "plot_glass_brain(coords, eigscore, 'coolwarm')"
   ]
  },
  {
   "cell_type": "markdown",
   "metadata": {},
   "source": [
    "Render brain for best dice score:"
   ]
  },
  {
   "cell_type": "code",
   "execution_count": null,
   "metadata": {},
   "outputs": [],
   "source": [
    "%gui qt\n",
    "\n",
    "# set up Pysurfer variables\n",
    "subject_id = \"fsaverage\"\n",
    "hemi = \"split\"\n",
    "surf = \"inflated\"\n",
    "\n",
    "\"\"\"\n",
    "Bring up the visualization.\n",
    "\"\"\"\n",
    "#brain = Brain(subject_id, hemi , surf, background=\"white\", views = ['lat','med'])\n",
    "limb_SB = SB(subject_id, hemi, surf, background = \"white\", title = \"Limbic freq = 4.5, alpha = 5.3, v = 8.2\", views=['lat', 'med'])\n",
    "#limb_SB.add_text(x = 0.5, y = 0.9, text = \"Eig Number , frequency = , speed = \", name = \"eiglabel\")\n",
    "\n",
    "\"\"\"\n",
    "Read in the automatic parcellation of sulci and gyri.\n",
    "\"\"\"\n",
    "\n",
    "# left side:\n",
    "hemi_side = \"lh\"\n",
    "aparc_file = os.path.join(os.environ[\"SUBJECTS_DIR\"],\n",
    "                          subject_id, \"label\",\n",
    "                          hemi_side + \".aparc.annot\")\n",
    "labels, ctab, names = nib.freesurfer.read_annot(aparc_file)\n",
    "lh_norm_eigs = limbic.norm_eigenmodes[:,np.argmax(dice_scores)]\n",
    "lh_padded_eigs = np.insert(lh_norm_eigs, [0, 3], [0, 0])\n",
    "limb_lh = lh_padded_eigs[labels]\n",
    "limb_SB.add_data(limb_lh, hemi = 'lh', thresh = 0, colormap = \"jet\", remove_existing = True)\n",
    "\n",
    "hemi_side = \"rh\"\n",
    "aparc_file = os.path.join(os.environ[\"SUBJECTS_DIR\"],\n",
    "                          subject_id, \"label\",\n",
    "                          hemi_side + \".aparc.annot\")\n",
    "labels, ctab, names = nib.freesurfer.read_annot(aparc_file)\n",
    "\n",
    "rh_norm_eigs = limbic.norm_eigenmodes[34:68,np.argmax(dice_scores)]\n",
    "rh_padded_eigs = np.insert(rh_norm_eigs, [0,3],[0,0])\n",
    "limb_rh = rh_padded_eigs[labels]\n",
    "limb_SB.add_data(limb_rh, hemi = 'rh', thresh = 0, colormap = \"jet\", remove_existing = True)"
   ]
  },
  {
   "cell_type": "code",
   "execution_count": null,
   "metadata": {},
   "outputs": [],
   "source": []
  }
 ],
 "metadata": {
  "kernelspec": {
   "display_name": "Python (Spectral)",
   "language": "python",
   "name": "spectral"
  },
  "language_info": {
   "codemirror_mode": {
    "name": "ipython",
    "version": 3
   },
   "file_extension": ".py",
   "mimetype": "text/x-python",
   "name": "python",
   "nbconvert_exporter": "python",
   "pygments_lexer": "ipython3",
   "version": "3.6.8"
  }
 },
 "nbformat": 4,
 "nbformat_minor": 4
}
