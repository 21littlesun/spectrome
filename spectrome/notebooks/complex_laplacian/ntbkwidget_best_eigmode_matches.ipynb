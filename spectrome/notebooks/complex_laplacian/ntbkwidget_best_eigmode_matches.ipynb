{
 "cells": [
  {
   "cell_type": "code",
   "execution_count": 1,
   "metadata": {},
   "outputs": [],
   "source": [
    "%%capture --no-display\n",
    "\n",
    "import os\n",
    "import h5py\n",
    "import numpy as np\n",
    "import pandas as pd\n",
    "import matplotlib.pyplot as plt\n",
    "from scipy import stats\n",
    "\n",
    "# spectrome imports\n",
    "from spectrome.brain import Brain\n",
    "from spectrome.utils import functions, path\n",
    "from spectrome.forward import eigenmode, get_complex_laplacian\n",
    "\n",
    "# widget imports:\n",
    "import nibabel as nib\n",
    "from surfer import Brain as SB\n",
    "from ipywidgets import interactive, widgets, fixed"
   ]
  },
  {
   "cell_type": "markdown",
   "metadata": {},
   "source": [
    "## Examing and rendering brains for best eigenmode matches"
   ]
  },
  {
   "cell_type": "code",
   "execution_count": 2,
   "metadata": {},
   "outputs": [],
   "source": [
    "%matplotlib inline\n",
    "\n",
    "# House keeping\n",
    "plt.style.use('seaborn')\n",
    "data_dir = '../../data/'\n",
    "hcp_dir = \"../../data\"\n",
    "\n",
    "\n",
    "# Load Pablo's Yeo 2017 canonical network maps\n",
    "com_dk = np.load(\n",
    "    \"../../data/com_dk.npy\",\n",
    "    allow_pickle = True\n",
    ").item()\n",
    "DK_df_normalized = pd.read_csv(\n",
    "    \"../../data/DK_dictionary_normalized.csv\"\n",
    ").set_index(\"Unnamed: 0\")\n",
    "\n",
    "# binarize:\n",
    "ub, lb = 1, 0 #define binary boundaries\n",
    "\n",
    "DKfc_binarized = pd.DataFrame(\n",
    "    [], index=DK_df_normalized.index, columns=DK_df_normalized.columns\n",
    ")\n",
    "for name in DK_df_normalized.index:\n",
    "    u = np.mean(np.nan_to_num(DK_df_normalized.loc[name].values))\n",
    "    s = np.std(np.nan_to_num(DK_df_normalized.loc[name].values))\n",
    "    threshold = u - s * 0.1\n",
    "    DKfc_binarized.loc[name] = np.where(\n",
    "        DK_df_normalized.loc[name].values > threshold, ub, lb\n",
    "    )"
   ]
  },
  {
   "cell_type": "markdown",
   "metadata": {},
   "source": [
    "#### Default network:"
   ]
  },
  {
   "cell_type": "code",
   "execution_count": 3,
   "metadata": {},
   "outputs": [
    {
     "data": {
      "text/plain": [
       "{'lowest_optimization_result': {'hess_inv': array([[1, 0, 0],\n",
       "         [0, 1, 0],\n",
       "         [0, 0, 1]]),\n",
       "  'jac': array([0., 0., 0.]),\n",
       "  'x': array([ 6.35167642,  7.82469652, -3.46317097]),\n",
       "  'fun': 0.6694186046511628,\n",
       "  'message': 'Optimization terminated successfully.',\n",
       "  'nfev': 5,\n",
       "  'nit': 0,\n",
       "  'njev': 1,\n",
       "  'status': 0,\n",
       "  'success': True},\n",
       " 'message': ['requested number of basinhopping iterations completed successfully'],\n",
       " 'x': array([ 6.35167642,  7.82469652, -3.46317097]),\n",
       " 'fun': 0.6694186046511628,\n",
       " 'minimization_failures': 1,\n",
       " 'nfev': 2887,\n",
       " 'nit': 500,\n",
       " 'njev': 575}"
      ]
     },
     "execution_count": 3,
     "metadata": {},
     "output_type": "execute_result"
    }
   ],
   "source": [
    "# load basin hopping results:\n",
    "h5_path = path.get_file_path('Default_BH_dice.h5')\n",
    "bh_default = path.read_hdf5(h5_path)\n",
    "bh_default"
   ]
  },
  {
   "cell_type": "markdown",
   "metadata": {},
   "source": [
    "#### Dorsal attention network"
   ]
  },
  {
   "cell_type": "code",
   "execution_count": 4,
   "metadata": {},
   "outputs": [
    {
     "data": {
      "text/plain": [
       "{'lowest_optimization_result': {'hess_inv': array([[1, 0, 0],\n",
       "         [0, 1, 0],\n",
       "         [0, 0, 1]]),\n",
       "  'jac': array([0., 0., 0.]),\n",
       "  'x': array([ 2.62753374,  3.09871759, -0.03273678]),\n",
       "  'fun': 0.8203953488372093,\n",
       "  'message': 'Optimization terminated successfully.',\n",
       "  'nfev': 30,\n",
       "  'nit': 1,\n",
       "  'njev': 6,\n",
       "  'status': 0,\n",
       "  'success': True},\n",
       " 'message': ['requested number of basinhopping iterations completed successfully'],\n",
       " 'x': array([ 2.62753374,  3.09871759, -0.03273678]),\n",
       " 'fun': 0.8203953488372093,\n",
       " 'minimization_failures': 0,\n",
       " 'nfev': 2530,\n",
       " 'nit': 500,\n",
       " 'njev': 506}"
      ]
     },
     "execution_count": 4,
     "metadata": {},
     "output_type": "execute_result"
    }
   ],
   "source": [
    "# load results:\n",
    "h5_path = path.get_file_path('Dorsal_Attention_BH_dice.h5')\n",
    "bh_dorattn = path.read_hdf5(h5_path)\n",
    "bh_dorattn"
   ]
  },
  {
   "cell_type": "markdown",
   "metadata": {},
   "source": [
    "#### Frontoparietal"
   ]
  },
  {
   "cell_type": "code",
   "execution_count": 5,
   "metadata": {},
   "outputs": [
    {
     "data": {
      "text/plain": [
       "{'lowest_optimization_result': {'hess_inv': array([[1, 0, 0],\n",
       "         [0, 1, 0],\n",
       "         [0, 0, 1]]),\n",
       "  'jac': array([0., 0., 0.]),\n",
       "  'x': array([-0.47115614, -2.5191787 , 14.14344247]),\n",
       "  'fun': 0.7265465116279068,\n",
       "  'message': 'Optimization terminated successfully.',\n",
       "  'nfev': 5,\n",
       "  'nit': 0,\n",
       "  'njev': 1,\n",
       "  'status': 0,\n",
       "  'success': True},\n",
       " 'message': ['requested number of basinhopping iterations completed successfully'],\n",
       " 'x': array([-0.47115614, -2.5191787 , 14.14344247]),\n",
       " 'fun': 0.7265465116279068,\n",
       " 'minimization_failures': 0,\n",
       " 'nfev': 2505,\n",
       " 'nit': 500,\n",
       " 'njev': 501}"
      ]
     },
     "execution_count": 5,
     "metadata": {},
     "output_type": "execute_result"
    }
   ],
   "source": [
    "h5_path = path.get_file_path('Frontoparietal_BH_dice.h5')\n",
    "bh_ftpt = path.read_hdf5(h5_path)\n",
    "bh_ftpt"
   ]
  },
  {
   "cell_type": "markdown",
   "metadata": {},
   "source": [
    "#### Limbic"
   ]
  },
  {
   "cell_type": "code",
   "execution_count": 6,
   "metadata": {},
   "outputs": [
    {
     "data": {
      "text/plain": [
       "{'lowest_optimization_result': {'hess_inv': array([[1, 0, 0],\n",
       "         [0, 1, 0],\n",
       "         [0, 0, 1]]),\n",
       "  'jac': array([0., 0., 0.]),\n",
       "  'x': array([4.53106719, 5.29513008, 8.17969248]),\n",
       "  'fun': 0.6285348837209302,\n",
       "  'message': 'Optimization terminated successfully.',\n",
       "  'nfev': 5,\n",
       "  'nit': 0,\n",
       "  'njev': 1,\n",
       "  'status': 0,\n",
       "  'success': True},\n",
       " 'message': ['requested number of basinhopping iterations completed successfully'],\n",
       " 'x': array([4.53106719, 5.29513008, 8.17969248]),\n",
       " 'fun': 0.6285348837209302,\n",
       " 'minimization_failures': 0,\n",
       " 'nfev': 2505,\n",
       " 'nit': 500,\n",
       " 'njev': 501}"
      ]
     },
     "execution_count": 6,
     "metadata": {},
     "output_type": "execute_result"
    }
   ],
   "source": [
    "h5_path = path.get_file_path('Limbic_BH_dice.h5')\n",
    "bh_limb = path.read_hdf5(h5_path)\n",
    "bh_limb"
   ]
  },
  {
   "cell_type": "markdown",
   "metadata": {},
   "source": [
    "Plot eigenmode dice dissimilarity scores:"
   ]
  },
  {
   "cell_type": "code",
   "execution_count": 7,
   "metadata": {},
   "outputs": [
    {
     "name": "stdout",
     "output_type": "stream",
     "text": [
      "mean dice dissimilarity score:  0.6285348837209302\n"
     ]
    },
    {
     "data": {
      "text/plain": [
       "[<matplotlib.lines.Line2D at 0x7f3bf8f928d0>]"
      ]
     },
     "execution_count": 7,
     "metadata": {},
     "output_type": "execute_result"
    },
    {
     "data": {
      "image/png": "[encoded data removed]",
      "text/plain": [
       "<Figure size 576x396 with 1 Axes>"
      ]
     },
     "metadata": {},
     "output_type": "display_data"
    }
   ],
   "source": [
    "# Compute eigenmode dice with Brain:\n",
    "limbic = Brain.Brain()\n",
    "limbic.add_connectome(hcp_dir)\n",
    "limbic.reorder_connectome(limbic.connectome, limbic.distance_matrix)\n",
    "limbic.bi_symmetric_c()\n",
    "limbic.reduce_extreme_dir()\n",
    "\n",
    "# complex laplacian and its eigenmodes:\n",
    "w = 2*np.pi*bh_limb['x'][0]\n",
    "limbic.add_laplacian_eigenmodes(w, alpha = bh_limb['x'][1], speed = bh_limb['x'][2])\n",
    "\n",
    "# binarize and compute dice:\n",
    "limbic.binary_eigenmodes = np.where(limbic.norm_eigenmodes > 0.6, 1, 0)\n",
    "limbic_dice = eigenmode.get_dice_df(limbic.binary_eigenmodes, DKfc_binarized)\n",
    "# Compute mean Dice for chosen network:\n",
    "dice_scores = np.round(limbic_dice['Limbic'].values.astype(np.double),3)\n",
    "mean_dice = np.mean(dice_scores)\n",
    "print(\"mean dice dissimilarity score: \", mean_dice)\n",
    "\n",
    "# plot:\n",
    "plt.figure('Limbic System')\n",
    "plt.hist(dice_scores, bins = 8, density = True, histtype = 'bar')\n",
    "xvals = plt.xticks()[0]\n",
    "xmin, xmax = min(xvals), max(xvals)\n",
    "xbins = np.linspace(xmin, xmax, len(dice_scores))\n",
    "mu, sigma = stats.norm.fit(dice_scores)\n",
    "gaussian_pdf = stats.norm.pdf(xbins, mu, sigma)\n",
    "plt.plot(xbins, gaussian_pdf,'r', label = 'Gaussian Fit')"
   ]
  },
  {
   "cell_type": "markdown",
   "metadata": {},
   "source": [
    "Render brain for best dice score:"
   ]
  },
  {
   "cell_type": "code",
   "execution_count": 34,
   "metadata": {},
   "outputs": [
    {
     "name": "stdout",
     "output_type": "stream",
     "text": [
      "colormap sequential: [0.00e+00, 5.00e-01, 1.00e+00] (opaque)\n",
      "colormap sequential: [0.00e+00, 5.00e-01, 1.00e+00] (opaque)\n"
     ]
    }
   ],
   "source": [
    "%gui qt\n",
    "\n",
    "# set up Pysurfer variables\n",
    "subject_id = \"fsaverage\"\n",
    "hemi = \"split\"\n",
    "surf = \"inflated\"\n",
    "\n",
    "\"\"\"\n",
    "Bring up the visualization.\n",
    "\"\"\"\n",
    "#brain = Brain(subject_id, hemi , surf, background=\"white\", views = ['lat','med'])\n",
    "limb_SB = SB(subject_id, hemi, surf, background = \"white\", title = \"Limbic freq = 4.5, alpha = 5.3, v = 8.2\", views=['lat', 'med'])\n",
    "#limb_SB.add_text(x = 0.5, y = 0.9, text = \"Eig Number , frequency = , speed = \", name = \"eiglabel\")\n",
    "\n",
    "\"\"\"\n",
    "Read in the automatic parcellation of sulci and gyri.\n",
    "\"\"\"\n",
    "\n",
    "# left side:\n",
    "hemi_side = \"lh\"\n",
    "aparc_file = os.path.join(os.environ[\"SUBJECTS_DIR\"],\n",
    "                          subject_id, \"label\",\n",
    "                          hemi_side + \".aparc.annot\")\n",
    "labels, ctab, names = nib.freesurfer.read_annot(aparc_file)\n",
    "lh_norm_eigs = limbic.norm_eigenmodes[:,np.argmin(dice_scores)]\n",
    "lh_padded_eigs = np.insert(lh_norm_eigs, [0, 3], [0, 0])\n",
    "limb_lh = lh_padded_eigs[labels]\n",
    "limb_SB.add_data(limb_lh, hemi = 'lh', thresh = 0, colormap = \"jet\", remove_existing = True)\n",
    "\n",
    "hemi_side = \"rh\"\n",
    "aparc_file = os.path.join(os.environ[\"SUBJECTS_DIR\"],\n",
    "                          subject_id, \"label\",\n",
    "                          hemi_side + \".aparc.annot\")\n",
    "labels, ctab, names = nib.freesurfer.read_annot(aparc_file)\n",
    "\n",
    "rh_norm_eigs = limbic.norm_eigenmodes[34:68,np.argmin(dice_scores)]\n",
    "rh_padded_eigs = np.insert(rh_norm_eigs, [0,3],[0,0])\n",
    "limb_rh = rh_padded_eigs[labels]\n",
    "limb_SB.add_data(limb_rh, hemi = 'rh', thresh = 0, colormap = \"jet\", remove_existing = True)"
   ]
  },
  {
   "cell_type": "code",
   "execution_count": null,
   "metadata": {},
   "outputs": [],
   "source": []
  }
 ],
 "metadata": {
  "kernelspec": {
   "display_name": "Python (Spectral)",
   "language": "python",
   "name": "spectral"
  },
  "language_info": {
   "codemirror_mode": {
    "name": "ipython",
    "version": 3
   },
   "file_extension": ".py",
   "mimetype": "text/x-python",
   "name": "python",
   "nbconvert_exporter": "python",
   "pygments_lexer": "ipython3",
   "version": "3.6.8"
  }
 },
 "nbformat": 4,
 "nbformat_minor": 4
}
