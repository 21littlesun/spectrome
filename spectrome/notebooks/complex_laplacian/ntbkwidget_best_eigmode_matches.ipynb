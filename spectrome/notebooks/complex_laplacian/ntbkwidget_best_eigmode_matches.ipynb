{
 "cells": [
  {
   "cell_type": "code",
   "execution_count": 1,
   "metadata": {},
   "outputs": [],
   "source": [
    "%%capture --no-display\n",
    "\n",
    "import os\n",
    "import h5py\n",
    "import numpy as np\n",
    "import pandas as pd\n",
    "import matplotlib.pyplot as plt\n",
    "from scipy import stats\n",
    "\n",
    "# spectrome imports\n",
    "from spectrome.brain import Brain\n",
    "from spectrome.utils import functions, path\n",
    "from spectrome.forward import eigenmode, get_complex_laplacian\n",
    "\n",
    "# widget imports:\n",
    "import nibabel as nib\n",
    "from surfer import Brain as SB\n",
    "from ipywidgets import interactive, widgets, fixed"
   ]
  },
  {
   "cell_type": "markdown",
   "metadata": {},
   "source": [
    "## Examing and rendering brains for best eigenmode matches"
   ]
  },
  {
   "cell_type": "code",
   "execution_count": 2,
   "metadata": {},
   "outputs": [],
   "source": [
    "%matplotlib inline\n",
    "\n",
    "# House keeping\n",
    "plt.style.use('seaborn')\n",
    "data_dir = '../../data/'\n",
    "hcp_dir = \"../../data\"\n",
    "\n",
    "# Load Pablo's Yeo 2017 canonical network maps\n",
    "com_dk = np.load(\n",
    "    \"../../data/com_dk.npy\",\n",
    "    allow_pickle = True\n",
    ").item()\n",
    "DK_df_normalized = pd.read_csv(\n",
    "    \"../../data/DK_dictionary_normalized.csv\"\n",
    ").set_index(\"Unnamed: 0\")\n",
    "\n",
    "# binarize:\n",
    "ub, lb = 1, 0 #define binary boundaries\n",
    "\n",
    "DKfc_binarized = pd.DataFrame(\n",
    "    [], index=DK_df_normalized.index, columns=DK_df_normalized.columns\n",
    ")\n",
    "for name in DK_df_normalized.index:\n",
    "    u = np.mean(np.nan_to_num(DK_df_normalized.loc[name].values))\n",
    "    s = np.std(np.nan_to_num(DK_df_normalized.loc[name].values))\n",
    "    threshold = u - s * 0.1\n",
    "    DKfc_binarized.loc[name] = np.where(\n",
    "        DK_df_normalized.loc[name].values > threshold, ub, lb\n",
    "    )"
   ]
  },
  {
   "cell_type": "markdown",
   "metadata": {},
   "source": [
    "### Loading Basin Hopping results:\n",
    "Start with Default network:"
   ]
  },
  {
   "cell_type": "code",
   "execution_count": 3,
   "metadata": {},
   "outputs": [
    {
     "data": {
      "text/html": [
       "<div>\n",
       "<style scoped>\n",
       "    .dataframe tbody tr th:only-of-type {\n",
       "        vertical-align: middle;\n",
       "    }\n",
       "\n",
       "    .dataframe tbody tr th {\n",
       "        vertical-align: top;\n",
       "    }\n",
       "\n",
       "    .dataframe thead th {\n",
       "        text-align: right;\n",
       "    }\n",
       "</style>\n",
       "<table border=\"1\" class=\"dataframe\">\n",
       "  <thead>\n",
       "    <tr style=\"text-align: right;\">\n",
       "      <th></th>\n",
       "      <th>Fun</th>\n",
       "      <th>x</th>\n",
       "    </tr>\n",
       "  </thead>\n",
       "  <tbody>\n",
       "    <tr>\n",
       "      <th>0</th>\n",
       "      <td>0.375</td>\n",
       "      <td>[1.758, 4.509, 23.95]</td>\n",
       "    </tr>\n",
       "    <tr>\n",
       "      <th>1</th>\n",
       "      <td>0.375</td>\n",
       "      <td>[1.758, 4.509, 23.95]</td>\n",
       "    </tr>\n",
       "    <tr>\n",
       "      <th>2</th>\n",
       "      <td>0.367</td>\n",
       "      <td>[5.91, 4.912, 2.749]</td>\n",
       "    </tr>\n",
       "    <tr>\n",
       "      <th>3</th>\n",
       "      <td>0.375</td>\n",
       "      <td>[27.323, 1.11, 5.578]</td>\n",
       "    </tr>\n",
       "    <tr>\n",
       "      <th>4</th>\n",
       "      <td>0.344</td>\n",
       "      <td>[19.056, 3.227, 1.454]</td>\n",
       "    </tr>\n",
       "  </tbody>\n",
       "</table>\n",
       "</div>"
      ],
      "text/plain": [
       "     Fun                       x\n",
       "0  0.375   [1.758, 4.509, 23.95]\n",
       "1  0.375   [1.758, 4.509, 23.95]\n",
       "2  0.367    [5.91, 4.912, 2.749]\n",
       "3  0.375   [27.323, 1.11, 5.578]\n",
       "4  0.344  [19.056, 3.227, 1.454]"
      ]
     },
     "execution_count": 3,
     "metadata": {},
     "output_type": "execute_result"
    }
   ],
   "source": [
    "colnames = ['Fun','x']\n",
    "indnames = [0,1,2,3,4]\n",
    "default_evals = pd.DataFrame(columns = colnames, index = indnames)\n",
    "\n",
    "for i in np.arange(0,5):\n",
    "    h5_path = path.get_file_path('Default{}_BH_dice.h5'.format(i))\n",
    "    bh_default = path.read_hdf5(h5_path)\n",
    "    default_evals.at[i,'Fun'] = bh_default['fun']\n",
    "    default_evals.at[i,'x'] = np.round(bh_default['x'],3)\n",
    "    \n",
    "default_evals"
   ]
  },
  {
   "cell_type": "markdown",
   "metadata": {},
   "source": [
    "Dorsal Attention:"
   ]
  },
  {
   "cell_type": "code",
   "execution_count": 4,
   "metadata": {},
   "outputs": [
    {
     "data": {
      "text/html": [
       "<div>\n",
       "<style scoped>\n",
       "    .dataframe tbody tr th:only-of-type {\n",
       "        vertical-align: middle;\n",
       "    }\n",
       "\n",
       "    .dataframe tbody tr th {\n",
       "        vertical-align: top;\n",
       "    }\n",
       "\n",
       "    .dataframe thead th {\n",
       "        text-align: right;\n",
       "    }\n",
       "</style>\n",
       "<table border=\"1\" class=\"dataframe\">\n",
       "  <thead>\n",
       "    <tr style=\"text-align: right;\">\n",
       "      <th></th>\n",
       "      <th>Fun</th>\n",
       "      <th>x</th>\n",
       "    </tr>\n",
       "  </thead>\n",
       "  <tbody>\n",
       "    <tr>\n",
       "      <th>0</th>\n",
       "      <td>0.469</td>\n",
       "      <td>[2.0, 0.5, 10.0]</td>\n",
       "    </tr>\n",
       "    <tr>\n",
       "      <th>1</th>\n",
       "      <td>0.469</td>\n",
       "      <td>[2.0, 0.5, 10.0]</td>\n",
       "    </tr>\n",
       "    <tr>\n",
       "      <th>2</th>\n",
       "      <td>0.469</td>\n",
       "      <td>[5.797, 0.563, 28.822]</td>\n",
       "    </tr>\n",
       "    <tr>\n",
       "      <th>3</th>\n",
       "      <td>0.294</td>\n",
       "      <td>[29.034, 3.262, 2.323]</td>\n",
       "    </tr>\n",
       "    <tr>\n",
       "      <th>4</th>\n",
       "      <td>0.294</td>\n",
       "      <td>[18.451, 0.887, 1.472]</td>\n",
       "    </tr>\n",
       "  </tbody>\n",
       "</table>\n",
       "</div>"
      ],
      "text/plain": [
       "     Fun                       x\n",
       "0  0.469        [2.0, 0.5, 10.0]\n",
       "1  0.469        [2.0, 0.5, 10.0]\n",
       "2  0.469  [5.797, 0.563, 28.822]\n",
       "3  0.294  [29.034, 3.262, 2.323]\n",
       "4  0.294  [18.451, 0.887, 1.472]"
      ]
     },
     "execution_count": 4,
     "metadata": {},
     "output_type": "execute_result"
    }
   ],
   "source": [
    "dorsal_evals = pd.DataFrame(columns = colnames, index = indnames)\n",
    "\n",
    "for i in np.arange(0,5):\n",
    "    h5_path = path.get_file_path('Dorsal_Attention{}_BH_dice.h5'.format(i))\n",
    "    bh_dorsal = path.read_hdf5(h5_path)\n",
    "    dorsal_evals.at[i,'Fun'] = bh_dorsal['fun']\n",
    "    dorsal_evals.at[i,'x'] = np.round(bh_dorsal['x'],3)\n",
    "\n",
    "dorsal_evals"
   ]
  },
  {
   "cell_type": "code",
   "execution_count": 19,
   "metadata": {},
   "outputs": [
    {
     "name": "stdout",
     "output_type": "stream",
     "text": [
      "[0.25853579010998207, 0.16190345744993656, 0.15538740576253965, 0.11555917831673615, 0.09131352246149978, 0.07519533839118844, 0.0680968688996643, 0.06236463459924137, 0.05730379498540063, 0.05189627410101256]\n",
      "[0.25863217651509096, 0.16118930607643528, 0.1540273598297941, 0.11473556309315995, 0.09074790681406893, 0.07482353798632872, 0.0678428431442668, 0.06218339886578272, 0.05715616936832282, 0.05134962738665614]\n"
     ]
    }
   ],
   "source": [
    "# Draw:\n",
    "h5_path = path.get_file_path('Dorsal_Attention3_BH_dice.h5')\n",
    "bh_dorsal = path.read_hdf5(h5_path)\n",
    "d3 = [bh_dorsal['LinRegResults'][i]['r2score'] for i in range(len(bh_dorsal['LinRegResults']))]\n",
    "\n",
    "h5_path = path.get_file_path('Dorsal_Attention4_BH_dice.h5')\n",
    "bh_dorsal = path.read_hdf5(h5_path)\n",
    "d4 = [bh_dorsal['LinRegResults'][i]['r2score'] for i in range(len(bh_dorsal['LinRegResults']))]\n",
    "\n",
    "print(d3)\n",
    "print(d4) # pick d4 cuz 0.0513 vs 0.0518"
   ]
  },
  {
   "cell_type": "markdown",
   "metadata": {},
   "source": [
    "Frontoparietal:"
   ]
  },
  {
   "cell_type": "code",
   "execution_count": 6,
   "metadata": {},
   "outputs": [
    {
     "data": {
      "text/html": [
       "<div>\n",
       "<style scoped>\n",
       "    .dataframe tbody tr th:only-of-type {\n",
       "        vertical-align: middle;\n",
       "    }\n",
       "\n",
       "    .dataframe tbody tr th {\n",
       "        vertical-align: top;\n",
       "    }\n",
       "\n",
       "    .dataframe thead th {\n",
       "        text-align: right;\n",
       "    }\n",
       "</style>\n",
       "<table border=\"1\" class=\"dataframe\">\n",
       "  <thead>\n",
       "    <tr style=\"text-align: right;\">\n",
       "      <th></th>\n",
       "      <th>Fun</th>\n",
       "      <th>x</th>\n",
       "    </tr>\n",
       "  </thead>\n",
       "  <tbody>\n",
       "    <tr>\n",
       "      <th>0</th>\n",
       "      <td>0.429</td>\n",
       "      <td>[8.337, 4.838, 15.645]</td>\n",
       "    </tr>\n",
       "    <tr>\n",
       "      <th>1</th>\n",
       "      <td>0.429</td>\n",
       "      <td>[8.337, 4.838, 15.645]</td>\n",
       "    </tr>\n",
       "    <tr>\n",
       "      <th>2</th>\n",
       "      <td>0.429</td>\n",
       "      <td>[11.104, 1.279, 21.2]</td>\n",
       "    </tr>\n",
       "    <tr>\n",
       "      <th>3</th>\n",
       "      <td>0.367</td>\n",
       "      <td>[33.093, 1.629, 3.911]</td>\n",
       "    </tr>\n",
       "    <tr>\n",
       "      <th>4</th>\n",
       "      <td>0.429</td>\n",
       "      <td>[9.581, 2.331, 15.163]</td>\n",
       "    </tr>\n",
       "  </tbody>\n",
       "</table>\n",
       "</div>"
      ],
      "text/plain": [
       "     Fun                       x\n",
       "0  0.429  [8.337, 4.838, 15.645]\n",
       "1  0.429  [8.337, 4.838, 15.645]\n",
       "2  0.429   [11.104, 1.279, 21.2]\n",
       "3  0.367  [33.093, 1.629, 3.911]\n",
       "4  0.429  [9.581, 2.331, 15.163]"
      ]
     },
     "execution_count": 6,
     "metadata": {},
     "output_type": "execute_result"
    }
   ],
   "source": [
    "front_evals = pd.DataFrame(columns = colnames, index = indnames)\n",
    "\n",
    "for i in np.arange(0,5):\n",
    "    h5_path = path.get_file_path('Frontoparietal{}_BH_dice.h5'.format(i))\n",
    "    bh_front = path.read_hdf5(h5_path)\n",
    "    front_evals.at[i,'Fun'] = bh_front['fun']\n",
    "    front_evals.at[i,'x'] = np.round(bh_front['x'],3)\n",
    "\n",
    "front_evals"
   ]
  },
  {
   "cell_type": "code",
   "execution_count": 7,
   "metadata": {},
   "outputs": [
    {
     "data": {
      "text/html": [
       "<div>\n",
       "<style scoped>\n",
       "    .dataframe tbody tr th:only-of-type {\n",
       "        vertical-align: middle;\n",
       "    }\n",
       "\n",
       "    .dataframe tbody tr th {\n",
       "        vertical-align: top;\n",
       "    }\n",
       "\n",
       "    .dataframe thead th {\n",
       "        text-align: right;\n",
       "    }\n",
       "</style>\n",
       "<table border=\"1\" class=\"dataframe\">\n",
       "  <thead>\n",
       "    <tr style=\"text-align: right;\">\n",
       "      <th></th>\n",
       "      <th>Fun</th>\n",
       "      <th>x</th>\n",
       "    </tr>\n",
       "  </thead>\n",
       "  <tbody>\n",
       "    <tr>\n",
       "      <th>0</th>\n",
       "      <td>0.224</td>\n",
       "      <td>[6.565, 3.033, 1.249]</td>\n",
       "    </tr>\n",
       "    <tr>\n",
       "      <th>1</th>\n",
       "      <td>0.25</td>\n",
       "      <td>[28.983, 3.125, 13.267]</td>\n",
       "    </tr>\n",
       "    <tr>\n",
       "      <th>2</th>\n",
       "      <td>0.224</td>\n",
       "      <td>[14.479, 0.794, 2.77]</td>\n",
       "    </tr>\n",
       "    <tr>\n",
       "      <th>3</th>\n",
       "      <td>0.28</td>\n",
       "      <td>[30.724, 4.132, 2.261]</td>\n",
       "    </tr>\n",
       "    <tr>\n",
       "      <th>4</th>\n",
       "      <td>0.24</td>\n",
       "      <td>[8.273, 1.111, 1.611]</td>\n",
       "    </tr>\n",
       "  </tbody>\n",
       "</table>\n",
       "</div>"
      ],
      "text/plain": [
       "     Fun                        x\n",
       "0  0.224    [6.565, 3.033, 1.249]\n",
       "1   0.25  [28.983, 3.125, 13.267]\n",
       "2  0.224    [14.479, 0.794, 2.77]\n",
       "3   0.28   [30.724, 4.132, 2.261]\n",
       "4   0.24    [8.273, 1.111, 1.611]"
      ]
     },
     "execution_count": 7,
     "metadata": {},
     "output_type": "execute_result"
    }
   ],
   "source": [
    "limbic_evals = pd.DataFrame(columns = colnames, index = indnames)\n",
    "\n",
    "for i in np.arange(0,5):\n",
    "    h5_path = path.get_file_path('Limbic{}_BH_dice.h5'.format(i))\n",
    "    bh_limbic = path.read_hdf5(h5_path)\n",
    "    limbic_evals.at[i,'Fun'] = bh_limbic['fun']\n",
    "    limbic_evals.at[i,'x'] = np.round(bh_limbic['x'],3)\n",
    "\n",
    "limbic_evals # in case of a draw, take lowest reconstruction error"
   ]
  },
  {
   "cell_type": "code",
   "execution_count": 13,
   "metadata": {},
   "outputs": [
    {
     "name": "stdout",
     "output_type": "stream",
     "text": [
      "[0.4439489926570859, 0.3765362046316167, 0.36295812156689417, 0.33652042027342316, 0.33150234158583347, 0.3337830687090604, 0.3213634152689387, 0.2914403080127934, 0.29169108432876273, 0.28910619073529015]\n",
      "[0.4444342452543505, 0.3756458087855024, 0.36122044444337637, 0.3349933544821469, 0.32976221334131794, 0.3163742141358954, 0.3192924201303265, 0.29024436850943264, 0.29065003786327837, 0.28822975486206204]\n"
     ]
    }
   ],
   "source": [
    "# Draw:\n",
    "h5_path = path.get_file_path('Limbic0_BH_dice.h5')\n",
    "bh_limbic = path.read_hdf5(h5_path)\n",
    "l0 = [bh_limbic['LinRegResults'][i]['r2score'] for i in range(len(bh_limbic['LinRegResults']))]\n",
    "\n",
    "h5_path = path.get_file_path('Limbic2_BH_dice.h5')\n",
    "bh_limbic = path.read_hdf5(h5_path)\n",
    "l2 = [bh_limbic['LinRegResults'][i]['r2score'] for i in range(len(bh_limbic['LinRegResults']))]\n",
    "\n",
    "print(l0)\n",
    "print(l2) # take l2 because 0.28823 vs. 0.28911"
   ]
  },
  {
   "cell_type": "markdown",
   "metadata": {},
   "source": [
    "Somatomotor:"
   ]
  },
  {
   "cell_type": "code",
   "execution_count": 8,
   "metadata": {},
   "outputs": [
    {
     "data": {
      "text/html": [
       "<div>\n",
       "<style scoped>\n",
       "    .dataframe tbody tr th:only-of-type {\n",
       "        vertical-align: middle;\n",
       "    }\n",
       "\n",
       "    .dataframe tbody tr th {\n",
       "        vertical-align: top;\n",
       "    }\n",
       "\n",
       "    .dataframe thead th {\n",
       "        text-align: right;\n",
       "    }\n",
       "</style>\n",
       "<table border=\"1\" class=\"dataframe\">\n",
       "  <thead>\n",
       "    <tr style=\"text-align: right;\">\n",
       "      <th></th>\n",
       "      <th>Fun</th>\n",
       "      <th>x</th>\n",
       "    </tr>\n",
       "  </thead>\n",
       "  <tbody>\n",
       "    <tr>\n",
       "      <th>0</th>\n",
       "      <td>0.44</td>\n",
       "      <td>[2.0, 0.5, 10.0]</td>\n",
       "    </tr>\n",
       "    <tr>\n",
       "      <th>1</th>\n",
       "      <td>0.44</td>\n",
       "      <td>[8.481, 2.355, 20.758]</td>\n",
       "    </tr>\n",
       "    <tr>\n",
       "      <th>2</th>\n",
       "      <td>0.44</td>\n",
       "      <td>[12.209, 3.296, 29.147]</td>\n",
       "    </tr>\n",
       "    <tr>\n",
       "      <th>3</th>\n",
       "      <td>0.333</td>\n",
       "      <td>[21.316, 1.967, 2.591]</td>\n",
       "    </tr>\n",
       "    <tr>\n",
       "      <th>4</th>\n",
       "      <td>0.346</td>\n",
       "      <td>[14.46, 2.418, 1.669]</td>\n",
       "    </tr>\n",
       "  </tbody>\n",
       "</table>\n",
       "</div>"
      ],
      "text/plain": [
       "     Fun                        x\n",
       "0   0.44         [2.0, 0.5, 10.0]\n",
       "1   0.44   [8.481, 2.355, 20.758]\n",
       "2   0.44  [12.209, 3.296, 29.147]\n",
       "3  0.333   [21.316, 1.967, 2.591]\n",
       "4  0.346    [14.46, 2.418, 1.669]"
      ]
     },
     "execution_count": 8,
     "metadata": {},
     "output_type": "execute_result"
    }
   ],
   "source": [
    "motor_evals = pd.DataFrame(columns = colnames, index = indnames)\n",
    "\n",
    "for i in np.arange(0,5):\n",
    "    h5_path = path.get_file_path('Somatomotor{}_BH_dice.h5'.format(i))\n",
    "    bh_motor = path.read_hdf5(h5_path)\n",
    "    motor_evals.at[i,'Fun'] = bh_motor['fun']\n",
    "    motor_evals.at[i,'x'] = np.round(bh_motor['x'],3)\n",
    "\n",
    "motor_evals # in case of a draw, take lowest reconstruction error"
   ]
  },
  {
   "cell_type": "markdown",
   "metadata": {},
   "source": [
    "Ventral Attention:"
   ]
  },
  {
   "cell_type": "code",
   "execution_count": 10,
   "metadata": {},
   "outputs": [
    {
     "data": {
      "text/html": [
       "<div>\n",
       "<style scoped>\n",
       "    .dataframe tbody tr th:only-of-type {\n",
       "        vertical-align: middle;\n",
       "    }\n",
       "\n",
       "    .dataframe tbody tr th {\n",
       "        vertical-align: top;\n",
       "    }\n",
       "\n",
       "    .dataframe thead th {\n",
       "        text-align: right;\n",
       "    }\n",
       "</style>\n",
       "<table border=\"1\" class=\"dataframe\">\n",
       "  <thead>\n",
       "    <tr style=\"text-align: right;\">\n",
       "      <th></th>\n",
       "      <th>Fun</th>\n",
       "      <th>x</th>\n",
       "    </tr>\n",
       "  </thead>\n",
       "  <tbody>\n",
       "    <tr>\n",
       "      <th>0</th>\n",
       "      <td>0.37</td>\n",
       "      <td>[13.719, 2.715, 0.879]</td>\n",
       "    </tr>\n",
       "    <tr>\n",
       "      <th>1</th>\n",
       "      <td>0.412</td>\n",
       "      <td>[5.268, 1.486, 0.258]</td>\n",
       "    </tr>\n",
       "    <tr>\n",
       "      <th>2</th>\n",
       "      <td>0.37</td>\n",
       "      <td>[9.506, 0.952, 0.608]</td>\n",
       "    </tr>\n",
       "    <tr>\n",
       "      <th>3</th>\n",
       "      <td>0.36</td>\n",
       "      <td>[26.092, 2.677, 1.83]</td>\n",
       "    </tr>\n",
       "    <tr>\n",
       "      <th>4</th>\n",
       "      <td>0.36</td>\n",
       "      <td>[43.973, 4.505, 3.047]</td>\n",
       "    </tr>\n",
       "  </tbody>\n",
       "</table>\n",
       "</div>"
      ],
      "text/plain": [
       "     Fun                       x\n",
       "0   0.37  [13.719, 2.715, 0.879]\n",
       "1  0.412   [5.268, 1.486, 0.258]\n",
       "2   0.37   [9.506, 0.952, 0.608]\n",
       "3   0.36   [26.092, 2.677, 1.83]\n",
       "4   0.36  [43.973, 4.505, 3.047]"
      ]
     },
     "execution_count": 10,
     "metadata": {},
     "output_type": "execute_result"
    }
   ],
   "source": [
    "ventral_evals = pd.DataFrame(columns = colnames, index = indnames)\n",
    "\n",
    "for i in np.arange(0,5):\n",
    "    h5_path = path.get_file_path('Ventral_Attention{}_BH_dice.h5'.format(i))\n",
    "    bh_ventral = path.read_hdf5(h5_path)\n",
    "    ventral_evals.at[i,'Fun'] = bh_ventral['fun']\n",
    "    ventral_evals.at[i,'x'] = np.round(bh_ventral['x'],3)\n",
    "\n",
    "ventral_evals # in case of a draw, take lowest reconstruction error"
   ]
  },
  {
   "cell_type": "code",
   "execution_count": 14,
   "metadata": {},
   "outputs": [
    {
     "name": "stdout",
     "output_type": "stream",
     "text": [
      "[0.09405046448268828, 0.08332434011488513, 0.05511512427154839, 0.05059830927537524, 0.04063771851770018, 0.03546676459713392, 0.031218552989982527, 0.02735597269391221, 0.025507978749578854, 0.023500888091635547]\n",
      "[0.09336107064900145, 0.0832102106179003, 0.06931651856692266, 0.05164613322447021, 0.04174047386381867, 0.037109915592976175, 0.03171251227967936, 0.02899738654070608, 0.02669424795609548, 0.02517793953038179]\n"
     ]
    }
   ],
   "source": [
    "# Draw:\n",
    "h5_path = path.get_file_path('Ventral_Attention3_BH_dice.h5')\n",
    "bh_ventral = path.read_hdf5(h5_path)\n",
    "v3 = [bh_ventral['LinRegResults'][i]['r2score'] for i in range(len(bh_ventral['LinRegResults']))]\n",
    "\n",
    "h5_path = path.get_file_path('Ventral_Attention4_BH_dice.h5')\n",
    "bh_ventral = path.read_hdf5(h5_path)\n",
    "v4 = [bh_ventral['LinRegResults'][i]['r2score'] for i in range(len(bh_ventral['LinRegResults']))]\n",
    "\n",
    "print(v3)\n",
    "print(v4) # take v3 because 0.023 vs. 0.025"
   ]
  },
  {
   "cell_type": "markdown",
   "metadata": {},
   "source": [
    "Visual:"
   ]
  },
  {
   "cell_type": "code",
   "execution_count": 12,
   "metadata": {},
   "outputs": [
    {
     "data": {
      "text/html": [
       "<div>\n",
       "<style scoped>\n",
       "    .dataframe tbody tr th:only-of-type {\n",
       "        vertical-align: middle;\n",
       "    }\n",
       "\n",
       "    .dataframe tbody tr th {\n",
       "        vertical-align: top;\n",
       "    }\n",
       "\n",
       "    .dataframe thead th {\n",
       "        text-align: right;\n",
       "    }\n",
       "</style>\n",
       "<table border=\"1\" class=\"dataframe\">\n",
       "  <thead>\n",
       "    <tr style=\"text-align: right;\">\n",
       "      <th></th>\n",
       "      <th>Fun</th>\n",
       "      <th>x</th>\n",
       "    </tr>\n",
       "  </thead>\n",
       "  <tbody>\n",
       "    <tr>\n",
       "      <th>0</th>\n",
       "      <td>0.302</td>\n",
       "      <td>[20.005, 4.117, 4.959]</td>\n",
       "    </tr>\n",
       "    <tr>\n",
       "      <th>1</th>\n",
       "      <td>0.302</td>\n",
       "      <td>[34.284, 2.228, 8.562]</td>\n",
       "    </tr>\n",
       "    <tr>\n",
       "      <th>2</th>\n",
       "      <td>0.409</td>\n",
       "      <td>[1.531, 2.225, 19.327]</td>\n",
       "    </tr>\n",
       "    <tr>\n",
       "      <th>3</th>\n",
       "      <td>0.273</td>\n",
       "      <td>[27.996, 2.272, 2.391]</td>\n",
       "    </tr>\n",
       "    <tr>\n",
       "      <th>4</th>\n",
       "      <td>0.302</td>\n",
       "      <td>[19.777, 4.484, 4.925]</td>\n",
       "    </tr>\n",
       "  </tbody>\n",
       "</table>\n",
       "</div>"
      ],
      "text/plain": [
       "     Fun                       x\n",
       "0  0.302  [20.005, 4.117, 4.959]\n",
       "1  0.302  [34.284, 2.228, 8.562]\n",
       "2  0.409  [1.531, 2.225, 19.327]\n",
       "3  0.273  [27.996, 2.272, 2.391]\n",
       "4  0.302  [19.777, 4.484, 4.925]"
      ]
     },
     "execution_count": 12,
     "metadata": {},
     "output_type": "execute_result"
    }
   ],
   "source": [
    "visual_evals = pd.DataFrame(columns = colnames, index = indnames)\n",
    "\n",
    "for i in np.arange(0,5):\n",
    "    h5_path = path.get_file_path('Visual{}_BH_dice.h5'.format(i))\n",
    "    bh_visual = path.read_hdf5(h5_path)\n",
    "    visual_evals.at[i,'Fun'] = bh_visual['fun']\n",
    "    visual_evals.at[i,'x'] = np.round(bh_visual['x'],3)\n",
    "\n",
    "visual_evals # in case of a draw, take lowest reconstruction error"
   ]
  },
  {
   "cell_type": "markdown",
   "metadata": {},
   "source": [
    "Concatenate reconstruction errors and plot to check for optimal number of sorted eigenmodes:"
   ]
  },
  {
   "cell_type": "code",
   "execution_count": 3,
   "metadata": {},
   "outputs": [
    {
     "data": {
      "text/plain": [
       "Text(0, 0.5, '$r^{2}$ score')"
      ]
     },
     "execution_count": 3,
     "metadata": {},
     "output_type": "execute_result"
    },
    {
     "data": {
      "image/png": "[encoded data removed]",
      "text/plain": [
       "<Figure size 576x432 with 1 Axes>"
      ]
     },
     "metadata": {},
     "output_type": "display_data"
    }
   ],
   "source": [
    "from cycler import cycler\n",
    "\n",
    "r2s = np.zeros([7,10])\n",
    "\n",
    "h5_path = path.get_file_path('Default4_BH_dice.h5')\n",
    "bh_default = path.read_hdf5(h5_path)\n",
    "r2s[0,:] = [bh_default['LinRegResults'][i]['r2score'] for i in range(len(bh_default['LinRegResults']))]\n",
    "\n",
    "h5_path = path.get_file_path('Dorsal_Attention4_BH_dice.h5')\n",
    "bh_dorsal = path.read_hdf5(h5_path)\n",
    "r2s[1,:] = [bh_dorsal['LinRegResults'][i]['r2score'] for i in range(len(bh_dorsal['LinRegResults']))]\n",
    "\n",
    "h5_path = path.get_file_path('Frontoparietal3_BH_dice.h5')\n",
    "bh_front = path.read_hdf5(h5_path)\n",
    "r2s[2,:] = [bh_front['LinRegResults'][i]['r2score'] for i in range(len(bh_front['LinRegResults']))]\n",
    "\n",
    "h5_path = path.get_file_path('Limbic2_BH_dice.h5')\n",
    "bh_limbic = path.read_hdf5(h5_path)\n",
    "r2s[3,:] = [bh_limbic['LinRegResults'][i]['r2score'] for i in range(len(bh_limbic['LinRegResults']))]\n",
    "\n",
    "h5_path = path.get_file_path('Somatomotor3_BH_dice.h5')\n",
    "bh_motor = path.read_hdf5(h5_path)\n",
    "r2s[4,:] = [bh_motor['LinRegResults'][i]['r2score'] for i in range(len(bh_motor['LinRegResults']))]\n",
    "\n",
    "h5_path = path.get_file_path('Ventral_Attention3_BH_dice.h5')\n",
    "bh_ventral = path.read_hdf5(h5_path)\n",
    "r2s[5,:] = [bh_ventral['LinRegResults'][i]['r2score'] for i in range(len(bh_ventral['LinRegResults']))]\n",
    "\n",
    "h5_path = path.get_file_path('Visual3_BH_dice.h5')\n",
    "bh_visual = path.read_hdf5(h5_path)\n",
    "r2s[6,:] = [bh_visual['LinRegResults'][i]['r2score'] for i in range(len(bh_visual['LinRegResults']))]\n",
    "\n",
    "# Plot\n",
    "x = np.arange(1,11)\n",
    "plt.figure('Reconstruction Scores', figsize = [8,6])\n",
    "custom_cycler = (cycler(color = ['blue','orange','purple','olive',\n",
    "                          'sienna','black','darkslategray']))\n",
    "plt.gca().set_prop_cycle(custom_cycler)\n",
    "plt.plot(x, r2s.transpose(), linewidth = 4)\n",
    "plt.legend(['Default','Dorsal Attention','Frontoparietal','Limbic','Somatomotor','Ventral Attention','Visual'],\n",
    "          fontsize = 'medium', loc = 'upperright')\n",
    "plt.xlabel('Number of sorted eigenmodes')\n",
    "plt.ylabel('$r^{2}$ score')"
   ]
  },
  {
   "cell_type": "markdown",
   "metadata": {},
   "source": [
    "Expand the above plot to 50 eigenmodes and DICE:"
   ]
  },
  {
   "cell_type": "code",
   "execution_count": 22,
   "metadata": {},
   "outputs": [],
   "source": [
    "from scipy.stats import pearsonr\n",
    "from sklearn.linear_model import LinearRegression\n",
    "from sklearn.preprocessing import minmax_scale\n",
    "\n",
    "w = 2*np.pi*bh_default['x'][0]\n",
    "\n",
    "#create brain object:\n",
    "fc_brain = Brain.Brain()\n",
    "fc_brain.add_connectome(hcp_dir)\n",
    "fc_brain.reorder_connectome(fc_brain.connectome, fc_brain.distance_matrix)\n",
    "fc_brain.bi_symmetric_c()\n",
    "fc_brain.reduce_extreme_dir()\n",
    "\n",
    "fc_brain.add_laplacian_eigenmodes(w = w, alpha = bh_default['x'][1], speed = bh_default['x'][2])\n",
    "fc_brain.binary_eigenmodes = np.where(fc_brain.norm_eigenmodes > 0.6, 1, 0)\n",
    "opt_dice = eigenmode.get_dice_df(fc_brain.binary_eigenmodes, DKfc_binarized)\n",
    "ntw_opt_dice = np.round(opt_dice['Default'].values.astype(np.double),3)\n",
    "ordered_dice = np.argsort(ntw_opt_dice)\n",
    "\n",
    "K = 5\n",
    "selected_eigs = fc_brain.norm_eigenmodes[:,ordered_dice[0:K+1]]\n",
    "canon_network = np.nan_to_num(DK_df_normalized.loc['Default'].values).reshape(-1,1)\n",
    "regr = LinearRegression()\n",
    "regr.fit(canon_network, selected_eigs)\n",
    "comb_eigmodes = np.dot(selected_eigs, np.asarray(regr.coef_))\n",
    "comb_eigmodes = np.squeeze(minmax_scale(comb_eigmodes))"
   ]
  },
  {
   "cell_type": "code",
   "execution_count": 35,
   "metadata": {},
   "outputs": [
    {
     "data": {
      "text/plain": [
       "86"
      ]
     },
     "execution_count": 35,
     "metadata": {},
     "output_type": "execute_result"
    }
   ],
   "source": [
    "corrs = np.zeros([86,1])\n",
    "for e in np.arange(0,86):\n",
    "    corrs[e] = pearsonr(np.squeeze(canon_network),fc_brain.norm_eigenmodes[:,e])[0]\n",
    "    \n",
    "len(corrs)"
   ]
  },
  {
   "cell_type": "code",
   "execution_count": 26,
   "metadata": {},
   "outputs": [],
   "source": [
    "from sklearn.linear_model import LinearRegression\n",
    "from scipy.spatial import distance\n",
    "from sklearn.preprocessing import minmax_scale\n",
    "from scipy.stats import pearsonr\n",
    "\n",
    "def compute_linreg_scores(brain, fnetworks, df_binarized, f, a, s, fc_name, num_em):\n",
    "    w = 2*np.pi*f\n",
    "    \n",
    "    brain.add_laplacian_eigenmodes(w = w, alpha = a, speed = s)\n",
    "    brain.binary_eigenmodes = np.where(brain.norm_eigenmodes > 0.6, 1, 0)\n",
    "    opt_dice = eigenmode.get_dice_df(brain.binary_eigenmodes, df_binarized)\n",
    "    ntw_opt_dice = np.round(opt_dice[fc_name].values.astype(np.double),3)\n",
    "    ordered_dice = np.argsort(ntw_opt_dice)\n",
    "    assert ntw_opt_dice[ordered_dice[1]] > ntw_opt_dice[ordered_dice[0]]\n",
    "    \n",
    "    cumulative_dice = np.zeros([num_em,1])\n",
    "    cumulative_regr = np.zeros([num_em,1])\n",
    "    cumulative_corr = np.zeros([num_em,1])\n",
    "    num_canonical = np.count_nonzero(df_binarized.loc[fc_name].values)\n",
    "    thresh_vec = np.linspace(0.1,0.8,30)\n",
    "    binary_count = np.zeros(thresh_vec.shape)\n",
    "    \n",
    "    for k in np.arange(0,num_em):\n",
    "        selected_eigs = brain.norm_eigenmodes[:,ordered_dice[0:k+1]]\n",
    "        canon_network = np.nan_to_num(fnetworks.loc[fc_name].values).reshape(-1,1)\n",
    "        regr = LinearRegression()\n",
    "        regr.fit(canon_network, selected_eigs)\n",
    "        # regression fit\n",
    "        cumulative_regr[k] = regr.score(canon_network, selected_eigs) #r2 score\n",
    "        # dice:\n",
    "        comb_eigmodes = np.dot(selected_eigs, np.asarray(regr.coef_))\n",
    "        comb_eigmodes = np.squeeze(minmax_scale(comb_eigmodes))\n",
    "        ## binarize each combination differently:\n",
    "        for i in np.arange(0,len(thresh_vec)):\n",
    "            binary_mat = np.where(comb_eigmodes > thresh_vec[i],1,0)\n",
    "            binary_count[i] = np.count_nonzero(binary_mat)\n",
    "        \n",
    "        bin_num = np.abs(binary_count - num_canonical).argmin()\n",
    "        binary_comb = np.where(comb_eigmodes > thresh_vec[bin_num], 1, 0)\n",
    "        print('{} element count: {}, eigenmode element count: {}'.format(fc_name, num_canonical, np.count_nonzero(binary_comb)))\n",
    "        cumulative_dice[k] = 1-distance.dice(binary_comb, df_binarized.loc[fc_name].values)\n",
    "        # spatial correlation\n",
    "        cumulative_corr[k] = pearsonr(np.squeeze(canon_network), comb_eigmodes)[0]\n",
    "        \n",
    "    return np.squeeze(cumulative_regr), np.squeeze(cumulative_dice), np.squeeze(cumulative_corr)"
   ]
  },
  {
   "cell_type": "code",
   "execution_count": 27,
   "metadata": {},
   "outputs": [
    {
     "name": "stdout",
     "output_type": "stream",
     "text": [
      "[19.05551991  3.22748412  1.45362257]\n",
      "Default element count: 32, eigenmode element count: 34\n",
      "Default element count: 32, eigenmode element count: 33\n",
      "Default element count: 32, eigenmode element count: 33\n",
      "Default element count: 32, eigenmode element count: 32\n",
      "Default element count: 32, eigenmode element count: 32\n",
      "Default element count: 32, eigenmode element count: 32\n",
      "Default element count: 32, eigenmode element count: 33\n",
      "Default element count: 32, eigenmode element count: 31\n",
      "Default element count: 32, eigenmode element count: 33\n",
      "Default element count: 32, eigenmode element count: 31\n",
      "Default element count: 32, eigenmode element count: 31\n",
      "Default element count: 32, eigenmode element count: 32\n",
      "Default element count: 32, eigenmode element count: 33\n",
      "Default element count: 32, eigenmode element count: 33\n",
      "Default element count: 32, eigenmode element count: 33\n",
      "Default element count: 32, eigenmode element count: 33\n",
      "Default element count: 32, eigenmode element count: 33\n",
      "Default element count: 32, eigenmode element count: 33\n",
      "Default element count: 32, eigenmode element count: 33\n",
      "Default element count: 32, eigenmode element count: 31\n",
      "Default element count: 32, eigenmode element count: 31\n",
      "Default element count: 32, eigenmode element count: 31\n",
      "Default element count: 32, eigenmode element count: 33\n",
      "Default element count: 32, eigenmode element count: 33\n",
      "Default element count: 32, eigenmode element count: 33\n",
      "Default element count: 32, eigenmode element count: 33\n",
      "Default element count: 32, eigenmode element count: 32\n",
      "Default element count: 32, eigenmode element count: 32\n",
      "Default element count: 32, eigenmode element count: 32\n",
      "Default element count: 32, eigenmode element count: 32\n",
      "Default element count: 32, eigenmode element count: 34\n",
      "Default element count: 32, eigenmode element count: 33\n",
      "Default element count: 32, eigenmode element count: 33\n",
      "Default element count: 32, eigenmode element count: 31\n",
      "Default element count: 32, eigenmode element count: 31\n",
      "Dorsal_Attention element count: 22, eigenmode element count: 33\n",
      "Dorsal_Attention element count: 22, eigenmode element count: 33\n",
      "Dorsal_Attention element count: 22, eigenmode element count: 36\n",
      "Dorsal_Attention element count: 22, eigenmode element count: 36\n",
      "Dorsal_Attention element count: 22, eigenmode element count: 37\n",
      "Dorsal_Attention element count: 22, eigenmode element count: 38\n",
      "Dorsal_Attention element count: 22, eigenmode element count: 37\n",
      "Dorsal_Attention element count: 22, eigenmode element count: 38\n",
      "Dorsal_Attention element count: 22, eigenmode element count: 38\n",
      "Dorsal_Attention element count: 22, eigenmode element count: 39\n",
      "Dorsal_Attention element count: 22, eigenmode element count: 37\n",
      "Dorsal_Attention element count: 22, eigenmode element count: 34\n",
      "Dorsal_Attention element count: 22, eigenmode element count: 35\n",
      "Dorsal_Attention element count: 22, eigenmode element count: 35\n",
      "Dorsal_Attention element count: 22, eigenmode element count: 35\n",
      "Dorsal_Attention element count: 22, eigenmode element count: 32\n",
      "Dorsal_Attention element count: 22, eigenmode element count: 32\n",
      "Dorsal_Attention element count: 22, eigenmode element count: 32\n",
      "Dorsal_Attention element count: 22, eigenmode element count: 34\n",
      "Dorsal_Attention element count: 22, eigenmode element count: 32\n",
      "Dorsal_Attention element count: 22, eigenmode element count: 33\n",
      "Dorsal_Attention element count: 22, eigenmode element count: 29\n",
      "Dorsal_Attention element count: 22, eigenmode element count: 29\n",
      "Dorsal_Attention element count: 22, eigenmode element count: 28\n",
      "Dorsal_Attention element count: 22, eigenmode element count: 28\n",
      "Dorsal_Attention element count: 22, eigenmode element count: 25\n",
      "Dorsal_Attention element count: 22, eigenmode element count: 28\n",
      "Dorsal_Attention element count: 22, eigenmode element count: 24\n",
      "Dorsal_Attention element count: 22, eigenmode element count: 24\n",
      "Dorsal_Attention element count: 22, eigenmode element count: 22\n",
      "Dorsal_Attention element count: 22, eigenmode element count: 22\n",
      "Dorsal_Attention element count: 22, eigenmode element count: 22\n",
      "Dorsal_Attention element count: 22, eigenmode element count: 22\n",
      "Dorsal_Attention element count: 22, eigenmode element count: 22\n",
      "Dorsal_Attention element count: 22, eigenmode element count: 23\n",
      "Frontoparietal element count: 29, eigenmode element count: 33\n",
      "Frontoparietal element count: 29, eigenmode element count: 35\n",
      "Frontoparietal element count: 29, eigenmode element count: 35\n",
      "Frontoparietal element count: 29, eigenmode element count: 36\n",
      "Frontoparietal element count: 29, eigenmode element count: 36\n",
      "Frontoparietal element count: 29, eigenmode element count: 36\n",
      "Frontoparietal element count: 29, eigenmode element count: 32\n",
      "Frontoparietal element count: 29, eigenmode element count: 33\n",
      "Frontoparietal element count: 29, eigenmode element count: 33\n",
      "Frontoparietal element count: 29, eigenmode element count: 33\n",
      "Frontoparietal element count: 29, eigenmode element count: 33\n",
      "Frontoparietal element count: 29, eigenmode element count: 34\n",
      "Frontoparietal element count: 29, eigenmode element count: 32\n",
      "Frontoparietal element count: 29, eigenmode element count: 31\n",
      "Frontoparietal element count: 29, eigenmode element count: 31\n",
      "Frontoparietal element count: 29, eigenmode element count: 30\n",
      "Frontoparietal element count: 29, eigenmode element count: 31\n",
      "Frontoparietal element count: 29, eigenmode element count: 31\n",
      "Frontoparietal element count: 29, eigenmode element count: 31\n",
      "Frontoparietal element count: 29, eigenmode element count: 31\n",
      "Frontoparietal element count: 29, eigenmode element count: 30\n",
      "Frontoparietal element count: 29, eigenmode element count: 31\n",
      "Frontoparietal element count: 29, eigenmode element count: 31\n",
      "Frontoparietal element count: 29, eigenmode element count: 31\n",
      "Frontoparietal element count: 29, eigenmode element count: 31\n",
      "Frontoparietal element count: 29, eigenmode element count: 30\n",
      "Frontoparietal element count: 29, eigenmode element count: 30\n",
      "Frontoparietal element count: 29, eigenmode element count: 30\n",
      "Frontoparietal element count: 29, eigenmode element count: 31\n",
      "Frontoparietal element count: 29, eigenmode element count: 30\n",
      "Frontoparietal element count: 29, eigenmode element count: 30\n",
      "Frontoparietal element count: 29, eigenmode element count: 30\n",
      "Frontoparietal element count: 29, eigenmode element count: 30\n",
      "Frontoparietal element count: 29, eigenmode element count: 30\n",
      "Frontoparietal element count: 29, eigenmode element count: 30\n",
      "Limbic element count: 22, eigenmode element count: 33\n",
      "Limbic element count: 22, eigenmode element count: 34\n",
      "Limbic element count: 22, eigenmode element count: 27\n",
      "Limbic element count: 22, eigenmode element count: 26\n",
      "Limbic element count: 22, eigenmode element count: 22\n",
      "Limbic element count: 22, eigenmode element count: 22\n",
      "Limbic element count: 22, eigenmode element count: 23\n",
      "Limbic element count: 22, eigenmode element count: 24\n",
      "Limbic element count: 22, eigenmode element count: 23\n",
      "Limbic element count: 22, eigenmode element count: 21\n",
      "Limbic element count: 22, eigenmode element count: 21\n",
      "Limbic element count: 22, eigenmode element count: 22\n",
      "Limbic element count: 22, eigenmode element count: 21\n",
      "Limbic element count: 22, eigenmode element count: 23\n",
      "Limbic element count: 22, eigenmode element count: 23\n",
      "Limbic element count: 22, eigenmode element count: 21\n",
      "Limbic element count: 22, eigenmode element count: 22\n",
      "Limbic element count: 22, eigenmode element count: 21\n",
      "Limbic element count: 22, eigenmode element count: 21\n",
      "Limbic element count: 22, eigenmode element count: 21\n",
      "Limbic element count: 22, eigenmode element count: 22\n",
      "Limbic element count: 22, eigenmode element count: 22\n",
      "Limbic element count: 22, eigenmode element count: 22\n",
      "Limbic element count: 22, eigenmode element count: 22\n",
      "Limbic element count: 22, eigenmode element count: 22\n",
      "Limbic element count: 22, eigenmode element count: 22\n",
      "Limbic element count: 22, eigenmode element count: 24\n",
      "Limbic element count: 22, eigenmode element count: 23\n",
      "Limbic element count: 22, eigenmode element count: 21\n",
      "Limbic element count: 22, eigenmode element count: 23\n",
      "Limbic element count: 22, eigenmode element count: 23\n",
      "Limbic element count: 22, eigenmode element count: 21\n",
      "Limbic element count: 22, eigenmode element count: 21\n",
      "Limbic element count: 22, eigenmode element count: 23\n",
      "Limbic element count: 22, eigenmode element count: 22\n",
      "Somatomotor element count: 22, eigenmode element count: 40\n",
      "Somatomotor element count: 22, eigenmode element count: 34\n",
      "Somatomotor element count: 22, eigenmode element count: 30\n",
      "Somatomotor element count: 22, eigenmode element count: 33\n",
      "Somatomotor element count: 22, eigenmode element count: 33\n",
      "Somatomotor element count: 22, eigenmode element count: 33\n",
      "Somatomotor element count: 22, eigenmode element count: 34\n",
      "Somatomotor element count: 22, eigenmode element count: 33\n",
      "Somatomotor element count: 22, eigenmode element count: 32\n",
      "Somatomotor element count: 22, eigenmode element count: 31\n",
      "Somatomotor element count: 22, eigenmode element count: 31\n",
      "Somatomotor element count: 22, eigenmode element count: 33\n",
      "Somatomotor element count: 22, eigenmode element count: 30\n",
      "Somatomotor element count: 22, eigenmode element count: 27\n",
      "Somatomotor element count: 22, eigenmode element count: 28\n",
      "Somatomotor element count: 22, eigenmode element count: 28\n",
      "Somatomotor element count: 22, eigenmode element count: 29\n",
      "Somatomotor element count: 22, eigenmode element count: 29\n",
      "Somatomotor element count: 22, eigenmode element count: 27\n",
      "Somatomotor element count: 22, eigenmode element count: 26\n",
      "Somatomotor element count: 22, eigenmode element count: 26\n",
      "Somatomotor element count: 22, eigenmode element count: 28\n",
      "Somatomotor element count: 22, eigenmode element count: 32\n",
      "Somatomotor element count: 22, eigenmode element count: 33\n",
      "Somatomotor element count: 22, eigenmode element count: 32\n",
      "Somatomotor element count: 22, eigenmode element count: 31\n",
      "Somatomotor element count: 22, eigenmode element count: 32\n",
      "Somatomotor element count: 22, eigenmode element count: 31\n",
      "Somatomotor element count: 22, eigenmode element count: 30\n",
      "Somatomotor element count: 22, eigenmode element count: 31\n",
      "Somatomotor element count: 22, eigenmode element count: 29\n",
      "Somatomotor element count: 22, eigenmode element count: 29\n",
      "Somatomotor element count: 22, eigenmode element count: 29\n",
      "Somatomotor element count: 22, eigenmode element count: 28\n",
      "Somatomotor element count: 22, eigenmode element count: 30\n",
      "Ventral_Attention element count: 24, eigenmode element count: 30\n",
      "Ventral_Attention element count: 24, eigenmode element count: 31\n",
      "Ventral_Attention element count: 24, eigenmode element count: 35\n",
      "Ventral_Attention element count: 24, eigenmode element count: 34\n",
      "Ventral_Attention element count: 24, eigenmode element count: 34\n",
      "Ventral_Attention element count: 24, eigenmode element count: 30\n",
      "Ventral_Attention element count: 24, eigenmode element count: 30\n",
      "Ventral_Attention element count: 24, eigenmode element count: 28\n",
      "Ventral_Attention element count: 24, eigenmode element count: 28\n",
      "Ventral_Attention element count: 24, eigenmode element count: 30\n",
      "Ventral_Attention element count: 24, eigenmode element count: 27\n",
      "Ventral_Attention element count: 24, eigenmode element count: 31\n",
      "Ventral_Attention element count: 24, eigenmode element count: 31\n",
      "Ventral_Attention element count: 24, eigenmode element count: 35\n",
      "Ventral_Attention element count: 24, eigenmode element count: 35\n",
      "Ventral_Attention element count: 24, eigenmode element count: 32\n",
      "Ventral_Attention element count: 24, eigenmode element count: 35\n",
      "Ventral_Attention element count: 24, eigenmode element count: 36\n",
      "Ventral_Attention element count: 24, eigenmode element count: 35\n",
      "Ventral_Attention element count: 24, eigenmode element count: 35\n",
      "Ventral_Attention element count: 24, eigenmode element count: 33\n",
      "Ventral_Attention element count: 24, eigenmode element count: 32\n",
      "Ventral_Attention element count: 24, eigenmode element count: 29\n",
      "Ventral_Attention element count: 24, eigenmode element count: 28\n",
      "Ventral_Attention element count: 24, eigenmode element count: 28\n",
      "Ventral_Attention element count: 24, eigenmode element count: 24\n",
      "Ventral_Attention element count: 24, eigenmode element count: 24\n",
      "Ventral_Attention element count: 24, eigenmode element count: 24\n",
      "Ventral_Attention element count: 24, eigenmode element count: 26\n",
      "Ventral_Attention element count: 24, eigenmode element count: 25\n",
      "Ventral_Attention element count: 24, eigenmode element count: 26\n",
      "Ventral_Attention element count: 24, eigenmode element count: 26\n",
      "Ventral_Attention element count: 24, eigenmode element count: 26\n",
      "Ventral_Attention element count: 24, eigenmode element count: 29\n",
      "Ventral_Attention element count: 24, eigenmode element count: 29\n",
      "Visual element count: 20, eigenmode element count: 19\n",
      "Visual element count: 20, eigenmode element count: 28\n",
      "Visual element count: 20, eigenmode element count: 24\n",
      "Visual element count: 20, eigenmode element count: 23\n",
      "Visual element count: 20, eigenmode element count: 24\n",
      "Visual element count: 20, eigenmode element count: 27\n",
      "Visual element count: 20, eigenmode element count: 24\n",
      "Visual element count: 20, eigenmode element count: 22\n",
      "Visual element count: 20, eigenmode element count: 22\n",
      "Visual element count: 20, eigenmode element count: 22\n",
      "Visual element count: 20, eigenmode element count: 25\n",
      "Visual element count: 20, eigenmode element count: 24\n",
      "Visual element count: 20, eigenmode element count: 23\n",
      "Visual element count: 20, eigenmode element count: 24\n",
      "Visual element count: 20, eigenmode element count: 25\n",
      "Visual element count: 20, eigenmode element count: 25\n",
      "Visual element count: 20, eigenmode element count: 26\n",
      "Visual element count: 20, eigenmode element count: 26\n",
      "Visual element count: 20, eigenmode element count: 26\n",
      "Visual element count: 20, eigenmode element count: 26\n",
      "Visual element count: 20, eigenmode element count: 24\n",
      "Visual element count: 20, eigenmode element count: 23\n",
      "Visual element count: 20, eigenmode element count: 24\n",
      "Visual element count: 20, eigenmode element count: 25\n",
      "Visual element count: 20, eigenmode element count: 22\n",
      "Visual element count: 20, eigenmode element count: 23\n",
      "Visual element count: 20, eigenmode element count: 23\n",
      "Visual element count: 20, eigenmode element count: 23\n",
      "Visual element count: 20, eigenmode element count: 23\n",
      "Visual element count: 20, eigenmode element count: 23\n",
      "Visual element count: 20, eigenmode element count: 23\n",
      "Visual element count: 20, eigenmode element count: 23\n",
      "Visual element count: 20, eigenmode element count: 23\n",
      "Visual element count: 20, eigenmode element count: 23\n",
      "Visual element count: 20, eigenmode element count: 23\n"
     ]
    },
    {
     "data": {
      "text/plain": [
       "<matplotlib.legend.Legend at 0x7f8437a272e8>"
      ]
     },
     "execution_count": 27,
     "metadata": {},
     "output_type": "execute_result"
    },
    {
     "data": {
      "image/png": "[encoded data removed]",
      "text/plain": [
       "<Figure size 720x576 with 3 Axes>"
      ]
     },
     "metadata": {},
     "output_type": "display_data"
    }
   ],
   "source": [
    "K = 35 # for number of eigenmodes\n",
    "print(bh_default['x'])\n",
    "\n",
    "#create brain object:\n",
    "fc_brain = Brain.Brain()\n",
    "fc_brain.add_connectome(hcp_dir)\n",
    "fc_brain.reorder_connectome(fc_brain.connectome, fc_brain.distance_matrix)\n",
    "fc_brain.bi_symmetric_c()\n",
    "fc_brain.reduce_extreme_dir()\n",
    "\n",
    "regr_all = np.zeros([K,7]) \n",
    "dice_all = np.zeros([K,7])\n",
    "corr_all = np.zeros([K,7])\n",
    "regr_all[:,0], dice_all[:,0], corr_all[:,0] = compute_linreg_scores(fc_brain, DK_df_normalized, DKfc_binarized, f = bh_default['x'][0], a = bh_default['x'][1], \n",
    "                                           s = bh_default['x'][2], fc_name = 'Default', num_em = K)\n",
    "\n",
    "regr_all[:,1], dice_all[:,1], corr_all[:,1] = compute_linreg_scores(fc_brain, DK_df_normalized, DKfc_binarized, f = bh_dorsal['x'][0], a = bh_dorsal['x'][1], \n",
    "                                           s = bh_dorsal['x'][2], fc_name = 'Dorsal_Attention', num_em = K)\n",
    "\n",
    "regr_all[:,2], dice_all[:,2], corr_all[:,2] = compute_linreg_scores(fc_brain, DK_df_normalized, DKfc_binarized, f = bh_front['x'][0], a = bh_front['x'][1], \n",
    "                                           s = bh_front['x'][2], fc_name = 'Frontoparietal', num_em = K)\n",
    "\n",
    "regr_all[:,3], dice_all[:,3], corr_all[:,3] = compute_linreg_scores(fc_brain, DK_df_normalized, DKfc_binarized, f = bh_limbic['x'][0], a = bh_limbic['x'][1], \n",
    "                                           s = bh_limbic['x'][2], fc_name = 'Limbic', num_em = K)\n",
    "\n",
    "regr_all[:,4], dice_all[:,4], corr_all[:,4] = compute_linreg_scores(fc_brain, DK_df_normalized, DKfc_binarized, f = bh_motor['x'][0], a = bh_motor['x'][1], \n",
    "                                           s = bh_motor['x'][2], fc_name = 'Somatomotor', num_em = K)\n",
    "\n",
    "regr_all[:,5], dice_all[:,5], corr_all[:,5] = compute_linreg_scores(fc_brain, DK_df_normalized, DKfc_binarized, f = bh_ventral['x'][0], a = bh_ventral['x'][1], \n",
    "                                           s = bh_ventral['x'][2], fc_name = 'Ventral_Attention', num_em = K)\n",
    "\n",
    "regr_all[:,6], dice_all[:,6], corr_all[:,6] = compute_linreg_scores(fc_brain, DK_df_normalized, DKfc_binarized, f = bh_visual['x'][0], a = bh_visual['x'][1], \n",
    "                                           s = bh_visual['x'][2], fc_name = 'Visual', num_em = K)\n",
    "# Plot\n",
    "x = np.arange(1,K+1)\n",
    "plt.figure('Reconstruction Scores', figsize = [10,8])\n",
    "plt.subplot(3,1,1)\n",
    "custom_cycler = (cycler(color = ['blue','orange','purple','olive',\n",
    "                          'sienna','black','darkslategray']))\n",
    "plt.gca().set_prop_cycle(custom_cycler)\n",
    "plt.plot(x, regr_all, linewidth = 4)\n",
    "plt.xlabel('Number of sorted eigenmodes')\n",
    "plt.ylabel('$r^{2}$ score')\n",
    "\n",
    "plt.subplot(3,1,2)\n",
    "plt.gca().set_prop_cycle(custom_cycler)\n",
    "plt.plot(x, dice_all, linewidth = 4)\n",
    "plt.xlabel('Number of sorted eigenmodes')\n",
    "plt.ylabel('DICE similarity score')\n",
    "\n",
    "plt.subplot(3,1,3)\n",
    "plt.gca().set_prop_cycle(custom_cycler)\n",
    "plt.plot(x, corr_all, linewidth = 4)\n",
    "plt.xlabel('Number of sorted eigenmodes')\n",
    "plt.ylabel('Pearson R')\n",
    "plt.legend(['Default','Dorsal Attention','Frontoparietal','Limbic','Somatomotor','Ventral Attention','Visual'],\n",
    "          fontsize = 'large', loc = 'center left',  bbox_to_anchor=(1, 0.5))"
   ]
  },
  {
   "cell_type": "code",
   "execution_count": null,
   "metadata": {},
   "outputs": [],
   "source": [
    "# Compute eigenmode dice with Brain:\n",
    "dft_brain = Brain.Brain()\n",
    "dft_brain.add_connectome(hcp_dir)\n",
    "dft_brain.reorder_connectome(dft_brain.connectome, dft_brain.distance_matrix)\n",
    "dft_brain.bi_symmetric_c()\n",
    "dft_brain.reduce_extreme_dir()\n",
    "\n",
    "# complex laplacian and its eigenmodes:\n",
    "w = 2*np.pi*bh_default['x'][0]\n",
    "dft_brain.add_laplacian_eigenmodes(w, alpha = bh_default['x'][1], speed = bh_default['x'][2])\n",
    "\n",
    "# binarize and compute dice:\n",
    "dft_brain.binary_eigenmodes = np.where(dft_brain.norm_eigenmodes > 0.6, 1, 0)\n",
    "dft_dice = eigenmode.get_dice_df(dft_brain.binary_eigenmodes, DKfc_binarized)\n",
    "# Compute mean Dice for chosen network:\n",
    "dice_scores = 1-np.round(dft_dice['Default'].values.astype(np.double),3)\n",
    "mean_dice = np.mean(dice_scores)\n",
    "print(\"mean dice dissimilarity score: \", mean_dice)"
   ]
  },
  {
   "cell_type": "code",
   "execution_count": null,
   "metadata": {},
   "outputs": [],
   "source": [
    "np.min(dice_scores)"
   ]
  },
  {
   "cell_type": "code",
   "execution_count": null,
   "metadata": {},
   "outputs": [],
   "source": [
    "ordered_dice = np.argsort(dice_scores)\n",
    "ordered_dice"
   ]
  },
  {
   "cell_type": "code",
   "execution_count": null,
   "metadata": {},
   "outputs": [],
   "source": [
    "dice_scores[78]"
   ]
  },
  {
   "cell_type": "code",
   "execution_count": null,
   "metadata": {},
   "outputs": [],
   "source": [
    "from nilearn import plotting\n",
    "from matplotlib import cm\n",
    "\n",
    "## Function for plotting with nilearn\n",
    "def plot_glass_brain(coords, scores, cmap_name):\n",
    "    \"\"\" Plot transparent brain renders\n",
    "    Args:\n",
    "        - color (list): Color indices\n",
    "        - coords \n",
    "        - size\n",
    "    Returns:\n",
    "        -matplotlib object\n",
    "    \"\"\"\n",
    "    cmap = cm.get_cmap(cmap_name)\n",
    "    data = np.nan_to_num(scores)\n",
    "    size = data*500\n",
    "    #color = cmap((size/np.max(size)))\n",
    "    color = cmap(data)\n",
    "    connectome_array = np.array([[0]*86]*86)\n",
    "    plotting.plot_connectome(connectome_array, coords, node_size = size, node_color = color, display_mode = 'xz')\n",
    "    plt.gcf().set_size_inches(10, 5)\n",
    "\n",
    "# plot:\n",
    "plt.figure('Default System', figsize = [10,8])\n",
    "plt.hist(dice_scores, bins = 8, density = True, histtype = 'bar')\n",
    "xvals = plt.xticks()[0]\n",
    "xmin, xmax = min(xvals), max(xvals)\n",
    "xbins = np.linspace(xmin, xmax, len(dice_scores))\n",
    "mu, sigma = stats.norm.fit(dice_scores)\n",
    "gaussian_pdf = stats.norm.pdf(xbins, mu, sigma)\n",
    "plt.plot(xbins, gaussian_pdf,'r', label = 'Gaussian Fit')"
   ]
  },
  {
   "cell_type": "code",
   "execution_count": null,
   "metadata": {},
   "outputs": [],
   "source": [
    "np.argmax(dice_scores)"
   ]
  },
  {
   "cell_type": "code",
   "execution_count": null,
   "metadata": {},
   "outputs": [],
   "source": [
    "binarized_eig = np.where(dft_brain.norm_eigenmodes[:,52] > 0.6, 1, 0)\n",
    "np.round(dft_brain.norm_eigenmodes[:,52],2)"
   ]
  },
  {
   "cell_type": "code",
   "execution_count": null,
   "metadata": {},
   "outputs": [],
   "source": [
    "np.round(DK_df_normalized.loc['Default'].values,2)"
   ]
  },
  {
   "cell_type": "code",
   "execution_count": null,
   "metadata": {},
   "outputs": [],
   "source": [
    "from scipy.spatial import distance\n",
    "u = np.mean(np.nan_to_num(DK_df_normalized.loc['Default'].values))\n",
    "s = np.std(np.nan_to_num(DK_df_normalized.loc['Default'].values))\n",
    "threshold = u - s * 0.1\n",
    "distance.dice(np.where(dft_brain.norm_eigenmodes[:,61]>0.6,1,0), np.where(np.nan_to_num(DK_df_normalized.loc['Default'].values)>threshold,1,0))"
   ]
  },
  {
   "cell_type": "code",
   "execution_count": null,
   "metadata": {},
   "outputs": [],
   "source": [
    "coords = np.array([com_dk[region] for region in DK_df_normalized.columns])\n",
    "eigscore = dft_brain.norm_eigenmodes[:,61]\n",
    "plot_glass_brain(coords, eigscore, 'coolwarm')"
   ]
  },
  {
   "cell_type": "code",
   "execution_count": null,
   "metadata": {},
   "outputs": [],
   "source": [
    "np.arange(1,11)"
   ]
  },
  {
   "cell_type": "markdown",
   "metadata": {},
   "source": [
    "Trying linear regression:"
   ]
  },
  {
   "cell_type": "code",
   "execution_count": null,
   "metadata": {},
   "outputs": [],
   "source": [
    "from sklearn.metrics import mean_squared_error, r2_score\n",
    "from sklearn.linear_model import LinearRegression\n",
    "\n",
    "k = 5 # number of top eigen modes to regress:\n",
    "Y = dft_brain.norm_eigenmodes[:,ordered_dice[0:k]]\n",
    "X = np.nan_to_num(DK_df_normalized.loc['Default'].values).reshape(-1,1)\n",
    "regr = LinearRegression()\n",
    "regr.fit(X,Y)\n",
    "print(regr.score(X,Y))"
   ]
  },
  {
   "cell_type": "code",
   "execution_count": null,
   "metadata": {},
   "outputs": [],
   "source": [
    "from sklearn.preprocessing import minmax_scale\n",
    "lin_comb_y = np.dot(Y,np.asarray(regr.coef_))\n",
    "scaled_y = np.squeeze(minmax_scale(lin_comb_y))"
   ]
  },
  {
   "cell_type": "code",
   "execution_count": null,
   "metadata": {},
   "outputs": [],
   "source": [
    "plot_glass_brain(coords, np.asarray(scaled_y), 'coolwarm')"
   ]
  },
  {
   "cell_type": "code",
   "execution_count": null,
   "metadata": {},
   "outputs": [],
   "source": [
    "a = np.array([[[1]*2]*5])\n",
    "b = np.array([1,2])\n",
    "print(a)\n",
    "print(b.shape)\n",
    "np.dot(a,b)"
   ]
  },
  {
   "cell_type": "code",
   "execution_count": null,
   "metadata": {},
   "outputs": [],
   "source": [
    "%gui qt\n",
    "\n",
    "# set up Pysurfer variables\n",
    "subject_id = \"fsaverage\"\n",
    "hemi = \"split\"\n",
    "surf = \"inflated\"\n",
    "\n",
    "\"\"\"\n",
    "Bring up the visualization.\n",
    "\"\"\"\n",
    "#brain = Brain(subject_id, hemi , surf, background=\"white\", views = ['lat','med'])\n",
    "dft_SB = SB(subject_id, hemi, surf, background = \"white\", title = \"Default freq = 4.5, alpha = 5.3, v = 8.2\", views=['lat', 'med'])\n",
    "#limb_SB.add_text(x = 0.5, y = 0.9, text = \"Eig Number , frequency = , speed = \", name = \"eiglabel\")\n",
    "\n",
    "\"\"\"\n",
    "Read in the automatic parcellation of sulci and gyri.\n",
    "\"\"\"\n",
    "\n",
    "# left side:\n",
    "hemi_side = \"lh\"\n",
    "aparc_file = os.path.join(os.environ[\"SUBJECTS_DIR\"],\n",
    "                          subject_id, \"label\",\n",
    "                          hemi_side + \".aparc.annot\")\n",
    "labels, ctab, names = nib.freesurfer.read_annot(aparc_file)\n",
    "lh_norm_eigs = dft_brain.norm_eigenmodes[:,np.argmin(dice_scores)]\n",
    "lh_padded_eigs = np.insert(lh_norm_eigs, [0, 3], [0, 0])\n",
    "dft_lh = lh_padded_eigs[labels]\n",
    "dft_SB.add_data(dft_lh, hemi = 'lh', thresh = 0, colormap = \"jet\", remove_existing = True)\n",
    "\n",
    "hemi_side = \"rh\"\n",
    "aparc_file = os.path.join(os.environ[\"SUBJECTS_DIR\"],\n",
    "                          subject_id, \"label\",\n",
    "                          hemi_side + \".aparc.annot\")\n",
    "labels, ctab, names = nib.freesurfer.read_annot(aparc_file)\n",
    "\n",
    "rh_norm_eigs = dft_brain.norm_eigenmodes[34:68,np.argmin(dice_scores)]\n",
    "rh_padded_eigs = np.insert(rh_norm_eigs, [0,3],[0,0])\n",
    "dft_rh = rh_padded_eigs[labels]\n",
    "dft_SB.add_data(dft_rh, hemi = 'rh', thresh = 0, colormap = \"jet\", remove_existing = True)"
   ]
  },
  {
   "cell_type": "code",
   "execution_count": null,
   "metadata": {},
   "outputs": [],
   "source": [
    "print(np.min(dice_scores))"
   ]
  },
  {
   "cell_type": "markdown",
   "metadata": {},
   "source": [
    "#### Dorsal attention network"
   ]
  },
  {
   "cell_type": "code",
   "execution_count": null,
   "metadata": {
    "scrolled": true
   },
   "outputs": [],
   "source": [
    "# load results:\n",
    "h5_path = path.get_file_path('Dorsal_Attention_BH_dice.h5')\n",
    "bh_dorattn = path.read_hdf5(h5_path)\n",
    "bh_dorattn"
   ]
  },
  {
   "cell_type": "markdown",
   "metadata": {},
   "source": [
    "#### Frontoparietal"
   ]
  },
  {
   "cell_type": "code",
   "execution_count": null,
   "metadata": {},
   "outputs": [],
   "source": [
    "h5_path = path.get_file_path('Frontoparietal_BH_dice.h5')\n",
    "bh_ftpt = path.read_hdf5(h5_path)\n",
    "bh_ftpt"
   ]
  },
  {
   "cell_type": "markdown",
   "metadata": {},
   "source": [
    "#### Limbic"
   ]
  },
  {
   "cell_type": "code",
   "execution_count": null,
   "metadata": {},
   "outputs": [],
   "source": [
    "h5_path = path.get_file_path('Limbic_BH_dice.h5')\n",
    "bh_limb = path.read_hdf5(h5_path)\n",
    "bh_limb"
   ]
  },
  {
   "cell_type": "markdown",
   "metadata": {},
   "source": [
    "Plot eigenmode dice dissimilarity scores:"
   ]
  },
  {
   "cell_type": "code",
   "execution_count": null,
   "metadata": {},
   "outputs": [],
   "source": [
    "# Compute eigenmode dice with Brain:\n",
    "limbic = Brain.Brain()\n",
    "limbic.add_connectome(hcp_dir)\n",
    "limbic.reorder_connectome(limbic.connectome, limbic.distance_matrix)\n",
    "limbic.bi_symmetric_c()\n",
    "limbic.reduce_extreme_dir()\n",
    "\n",
    "# complex laplacian and its eigenmodes:\n",
    "w = 2*np.pi*bh_limb['x'][0]\n",
    "limbic.add_laplacian_eigenmodes(w, alpha = bh_limb['x'][1], speed = bh_limb['x'][2])\n",
    "\n",
    "# binarize and compute dice:\n",
    "limbic.binary_eigenmodes = np.where(limbic.norm_eigenmodes > 0.6, 1, 0)\n",
    "limbic_dice = eigenmode.get_dice_df(limbic.binary_eigenmodes, DKfc_binarized)\n",
    "# Compute mean Dice for chosen network:\n",
    "dice_scores = 1-np.round(limbic_dice['Limbic'].values.astype(np.double),3)\n",
    "mean_dice = np.mean(dice_scores)\n",
    "print(\"mean dice dissimilarity score: \", mean_dice)\n",
    "\n",
    "# plot:\n",
    "plt.figure('Limbic System')\n",
    "plt.hist(dice_scores, bins = 8, density = True, histtype = 'bar')\n",
    "xvals = plt.xticks()[0]\n",
    "xmin, xmax = min(xvals), max(xvals)\n",
    "xbins = np.linspace(xmin, xmax, len(dice_scores))\n",
    "mu, sigma = stats.norm.fit(dice_scores)\n",
    "gaussian_pdf = stats.norm.pdf(xbins, mu, sigma)\n",
    "plt.plot(xbins, gaussian_pdf,'r', label = 'Gaussian Fit')"
   ]
  },
  {
   "cell_type": "code",
   "execution_count": null,
   "metadata": {},
   "outputs": [],
   "source": [
    "np.argmin(dice_scores)"
   ]
  },
  {
   "cell_type": "code",
   "execution_count": null,
   "metadata": {},
   "outputs": [],
   "source": [
    "eigscore = limbic.norm_eigenmodes[:,np.argmin(dice_scores)]\n",
    "plot_glass_brain(coords, eigscore, 'coolwarm')"
   ]
  },
  {
   "cell_type": "markdown",
   "metadata": {},
   "source": [
    "Render brain for best dice score:"
   ]
  },
  {
   "cell_type": "code",
   "execution_count": null,
   "metadata": {},
   "outputs": [],
   "source": [
    "%gui qt\n",
    "\n",
    "# set up Pysurfer variables\n",
    "subject_id = \"fsaverage\"\n",
    "hemi = \"split\"\n",
    "surf = \"inflated\"\n",
    "\n",
    "\"\"\"\n",
    "Bring up the visualization.\n",
    "\"\"\"\n",
    "#brain = Brain(subject_id, hemi , surf, background=\"white\", views = ['lat','med'])\n",
    "limb_SB = SB(subject_id, hemi, surf, background = \"white\", title = \"Limbic freq = 4.5, alpha = 5.3, v = 8.2\", views=['lat', 'med'])\n",
    "#limb_SB.add_text(x = 0.5, y = 0.9, text = \"Eig Number , frequency = , speed = \", name = \"eiglabel\")\n",
    "\n",
    "\"\"\"\n",
    "Read in the automatic parcellation of sulci and gyri.\n",
    "\"\"\"\n",
    "\n",
    "# left side:\n",
    "hemi_side = \"lh\"\n",
    "aparc_file = os.path.join(os.environ[\"SUBJECTS_DIR\"],\n",
    "                          subject_id, \"label\",\n",
    "                          hemi_side + \".aparc.annot\")\n",
    "labels, ctab, names = nib.freesurfer.read_annot(aparc_file)\n",
    "lh_norm_eigs = limbic.norm_eigenmodes[:,np.argmax(dice_scores)]\n",
    "lh_padded_eigs = np.insert(lh_norm_eigs, [0, 3], [0, 0])\n",
    "limb_lh = lh_padded_eigs[labels]\n",
    "limb_SB.add_data(limb_lh, hemi = 'lh', thresh = 0, colormap = \"jet\", remove_existing = True)\n",
    "\n",
    "hemi_side = \"rh\"\n",
    "aparc_file = os.path.join(os.environ[\"SUBJECTS_DIR\"],\n",
    "                          subject_id, \"label\",\n",
    "                          hemi_side + \".aparc.annot\")\n",
    "labels, ctab, names = nib.freesurfer.read_annot(aparc_file)\n",
    "\n",
    "rh_norm_eigs = limbic.norm_eigenmodes[34:68,np.argmax(dice_scores)]\n",
    "rh_padded_eigs = np.insert(rh_norm_eigs, [0,3],[0,0])\n",
    "limb_rh = rh_padded_eigs[labels]\n",
    "limb_SB.add_data(limb_rh, hemi = 'rh', thresh = 0, colormap = \"jet\", remove_existing = True)"
   ]
  },
  {
   "cell_type": "code",
   "execution_count": null,
   "metadata": {},
   "outputs": [],
   "source": []
  }
 ],
 "metadata": {
  "kernelspec": {
   "display_name": "Python (Spectral)",
   "language": "python",
   "name": "spectral"
  },
  "language_info": {
   "codemirror_mode": {
    "name": "ipython",
    "version": 3
   },
   "file_extension": ".py",
   "mimetype": "text/x-python",
   "name": "python",
   "nbconvert_exporter": "python",
   "pygments_lexer": "ipython3",
   "version": "3.6.8"
  }
 },
 "nbformat": 4,
 "nbformat_minor": 4
}
