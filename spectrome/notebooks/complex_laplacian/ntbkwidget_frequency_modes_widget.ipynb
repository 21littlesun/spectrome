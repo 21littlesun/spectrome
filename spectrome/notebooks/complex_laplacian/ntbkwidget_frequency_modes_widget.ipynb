{
 "cells": [
  {
   "cell_type": "markdown",
   "metadata": {},
   "source": [
    "## Using ipywidgets to visualize:\n",
    " - eigenmodes of the complex laplacian\n",
    " - effects of alpha parameter on eigenmodes\n",
    " - effects of frequency on eigenmodes"
   ]
  },
  {
   "cell_type": "code",
   "execution_count": 1,
   "metadata": {},
   "outputs": [],
   "source": [
    "# for the widget\n",
    "from ipywidgets import interactive, widgets, fixed\n",
    "from surfer import Brain as brainsurface\n",
    "import os\n",
    "import nibabel as nib\n",
    "\n",
    "# number things\n",
    "import numpy as np\n",
    "import pandas as pd\n",
    "import h5py\n",
    "import matplotlib.pyplot as plt\n",
    "\n",
    "# spectrome imports\n",
    "from spectrome.brain import Brain\n",
    "from spectrome.utils import functions, path\n",
    "from spectrome.forward import eigenmode, get_complex_laplacian, runforward"
   ]
  },
  {
   "cell_type": "code",
   "execution_count": 2,
   "metadata": {},
   "outputs": [],
   "source": [
    "# Some house keeping\n",
    "hcp_dir = \"/home/axiezai/lab/brain-scfc/spectrome/spectrome/data\"\n",
    "\n",
    "# Define frequency range of interest\n",
    "fmin = 2 # 2Hz - 45Hz signal range, filter for this with hbp\n",
    "fmax = 45\n",
    "fvec = np.linspace(fmin,fmax,44)\n",
    "\n",
    "# create HCP brain object:\n",
    "HCP_brain = Brain.Brain()\n",
    "HCP_brain.add_connectome(hcp_dir)\n",
    "HCP_brain.reorder_connectome(HCP_brain.connectome, HCP_brain.distance_matrix)\n",
    "HCP_brain.bi_symmetric_c()\n",
    "HCP_brain.reduce_extreme_dir()"
   ]
  },
  {
   "cell_type": "code",
   "execution_count": 3,
   "metadata": {},
   "outputs": [],
   "source": [
    "%gui qt\n",
    "\n",
    "# set up Pysurfer variables\n",
    "subject_id = \"fsaverage\"\n",
    "hemi = \"lh\"\n",
    "surf = \"inflated\"\n",
    "\"\"\"\n",
    "Bring up the visualization.\n",
    "\"\"\"\n",
    "\n",
    "surfacebrain = brainsurface(subject_id, hemi, surf, background = \"white\", title = \"Eigenmodes of complex Laplacian\")\n",
    "surfacebrain.add_text(x = 0.5, y=0.9, text = \"Eig Number , frequency = , alpha = \", name = \"eiglabel\")\n",
    "\n",
    "\"\"\"\n",
    "Read in the automatic parcellation of sulci and gyri.\n",
    "\"\"\"\n",
    "\n",
    "hemi_side = \"lh\"\n",
    "aparc_file = os.path.join(os.environ[\"SUBJECTS_DIR\"],\n",
    "                          subject_id, \"label\",\n",
    "                          hemi_side + \".aparc.annot\")\n",
    "labels, ctab, names = nib.freesurfer.read_annot(aparc_file)"
   ]
  },
  {
   "cell_type": "code",
   "execution_count": 4,
   "metadata": {},
   "outputs": [],
   "source": [
    "def em_widget(brain, fvec, labels, f_in, alpha, em_num):\n",
    "    freq_index = np.abs(fvec-f_in).argmin()\n",
    "    omega = 2*np.pi*fvec[freq_index]\n",
    "    brain.add_laplacian_eigenmodes(w = omega, alpha = alpha, speed = 10, num_ev = 86)\n",
    "    \n",
    "    # get cortical eigenmodes\n",
    "    cortical_eigs = brain.norm_eigenmodes[0:68,:]\n",
    "    lh_cortical_eigs = cortical_eigs[0:34, em_num-1]\n",
    "    # we need to pad our eigenmode so that len(em) = len(names) for ipywidget and pysurf\n",
    "    lh_cortical_padded = np.insert(lh_cortical_eigs, [0,3],[0,0])\n",
    "    \n",
    "    lh_cort_surface = lh_cortical_padded[labels] # transform the padded eigenmode into appropriate surface plot labels\n",
    "    surfacebrain.add_data(lh_cort_surface, hemi=\"lh\", thresh=0, colormap=\"jet\", remove_existing = True)\n",
    "    surfacebrain.update_text(text = \"Eig Number %s, frequency = %s, alpha = %s\" %(em_num, f_in, alpha), name = \"eiglabel\")\n",
    "    return cortical_eigs"
   ]
  },
  {
   "cell_type": "code",
   "execution_count": 6,
   "metadata": {},
   "outputs": [
    {
     "data": {
      "application/vnd.jupyter.widget-view+json": {
       "model_id": "3080271fdf6947599818554e362af18a",
       "version_major": 2,
       "version_minor": 0
      },
      "text/plain": [
       "interactive(children=(IntSlider(value=10, continuous_update=False, description='Frequency', max=40, min=2), Fl…"
      ]
     },
     "metadata": {},
     "output_type": "display_data"
    }
   ],
   "source": [
    "interactive(em_widget, brain = fixed(HCP_brain), fvec = fixed(fvec), labels = fixed(labels),\n",
    "           f_in = widgets.IntSlider(min=2, max = 40, step = 1, value = 10, description = \"Frequency\", continuous_update = False),\n",
    "           alpha = widgets.FloatSlider(min = 0.1, max = 1, step = 0.1, value = 0.5, description = \"Alpha\", continuous_update = False),\n",
    "            em_num = widgets.BoundedIntText(value = 1, min = 1, max = 86, step = 1, description = \"Eigenmode\", continuous_update = False, disabled = False)\n",
    "           )"
   ]
  },
  {
   "cell_type": "code",
   "execution_count": 14,
   "metadata": {},
   "outputs": [],
   "source": [
    "def em_alpha_plot(brain,fvec,labels,alpha):\n",
    "    freq_index = np.abs(fvec-10).argmin()\n",
    "    omega = 2*np.pi*fvec[freq_index]\n",
    "    brain.add_laplacian_eigenmodes(w = omega, alpha = alpha, speed = 10, num_ev = 86)\n",
    "    #threshold\n",
    "    brain.binary_eigenmodes = np.where(\n",
    "    brain.norm_eigenmodes > 0.6, 1, 0\n",
    "    )\n",
    "    \n",
    "    # plot the eigenmodes\n",
    "    plt.imshow(brain.binary_eigenmodes,cmap=plt.cm.Blues)\n",
    "    plt.xlabel('Eigenmodes')\n",
    "    plt.colorbar()"
   ]
  },
  {
   "cell_type": "code",
   "execution_count": 15,
   "metadata": {},
   "outputs": [
    {
     "data": {
      "application/vnd.jupyter.widget-view+json": {
       "model_id": "df666388d9f04f75a16e64a1229cf246",
       "version_major": 2,
       "version_minor": 0
      },
      "text/plain": [
       "interactive(children=(FloatSlider(value=1.0, continuous_update=False, description='Alpha', max=15.0, min=0.5, …"
      ]
     },
     "metadata": {},
     "output_type": "display_data"
    }
   ],
   "source": [
    "interactive(em_alpha_plot, brain = fixed(HCP_brain), fvec = fixed(fvec), labels = fixed(labels),\n",
    "           alpha = widgets.FloatSlider(min=0.5, max = 15, step = 0.5, value = 1, description = \"Alpha\", continuous_update = False))"
   ]
  },
  {
   "cell_type": "code",
   "execution_count": null,
   "metadata": {},
   "outputs": [],
   "source": []
  }
 ],
 "metadata": {
  "kernelspec": {
   "display_name": "Python (Spectral)",
   "language": "python",
   "name": "spectral"
  },
  "language_info": {
   "codemirror_mode": {
    "name": "ipython",
    "version": 3
   },
   "file_extension": ".py",
   "mimetype": "text/x-python",
   "name": "python",
   "nbconvert_exporter": "python",
   "pygments_lexer": "ipython3",
   "version": "3.6.8"
  }
 },
 "nbformat": 4,
 "nbformat_minor": 2
}
