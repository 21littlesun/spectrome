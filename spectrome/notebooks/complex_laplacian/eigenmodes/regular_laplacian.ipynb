{
 "cells": [
  {
   "cell_type": "markdown",
   "metadata": {},
   "source": [
    "## Regular Laplacian"
   ]
  },
  {
   "cell_type": "code",
   "execution_count": 1,
   "metadata": {},
   "outputs": [],
   "source": [
    "%%capture --no-display\n",
    "import warnings\n",
    "warnings.filterwarnings('ignore')\n",
    "\n",
    "import numpy as np\n",
    "import pandas as pd\n",
    "import matplotlib.pyplot as plt\n",
    "import h5py\n",
    "from scipy.stats import pearsonr\n",
    "from scipy.linalg import lstsq\n",
    "from sklearn.preprocessing import minmax_scale\n",
    "\n",
    "# spectrome\n",
    "from spectrome.brain import Brain\n",
    "from spectrome.utils import functions, path\n",
    "from spectrome.forward import eigenmode, laplacian"
   ]
  },
  {
   "cell_type": "code",
   "execution_count": 2,
   "metadata": {},
   "outputs": [],
   "source": [
    "# house keeping here\n",
    "plt.style.use('seaborn-paper')\n",
    "data_dir ='../../data/'\n",
    "hcp_dir = '../../data'\n",
    "\n",
    "# Load Pablo's Yeo 2017 canonical network maps\n",
    "com_dk = np.load(\n",
    "    \"../../data/com_dk.npy\",\n",
    "    allow_pickle = True\n",
    ").item()\n",
    "DK_df_normalized = pd.read_csv(\n",
    "    \"../../data/DK_dictionary_normalized.csv\"\n",
    ").set_index(\"Unnamed: 0\")"
   ]
  },
  {
   "cell_type": "markdown",
   "metadata": {},
   "source": [
    "### Get regular laplacian, no speed or frequency, and then obtain eigenmodes:"
   ]
  },
  {
   "cell_type": "code",
   "execution_count": 3,
   "metadata": {},
   "outputs": [],
   "source": [
    "# create brain object\n",
    "fc_brain = Brain.Brain()\n",
    "fc_brain.add_connectome(hcp_dir)\n",
    "fc_brain.reorder_connectome(fc_brain.connectome, fc_brain.distance_matrix)\n",
    "fc_brain.bi_symmetric_c()\n",
    "fc_brain.reduce_extreme_dir()"
   ]
  },
  {
   "cell_type": "code",
   "execution_count": null,
   "metadata": {
    "jupyter": {
     "source_hidden": true
    }
   },
   "outputs": [],
   "source": [
    "# laplacian eigen decomposition math check:\n",
    "C = fc_brain.reducedConnectome\n",
    "nroi = fc_brain.reducedConnectome.shape[0]\n",
    "\n",
    "rowdegree = np.transpose(np.sum(C, axis = 1))\n",
    "coldegree = np.sum(C, axis = 0)\n",
    "qind = rowdegree + coldegree < 0.2 * np.mean(rowdegree + coldegree)\n",
    "rowdegree[qind] = np.inf\n",
    "coldegree[qind] = np.inf\n",
    "\n",
    "L1 = np.identity(nroi)\n",
    "L2 = np.divide(1, np.sqrt(np.multiply(rowdegree, coldegree)) + np.spacing(1))"
   ]
  },
  {
   "cell_type": "code",
   "execution_count": null,
   "metadata": {
    "jupyter": {
     "source_hidden": true
    }
   },
   "outputs": [],
   "source": [
    "L3 = np.matmul(np.diag(L2), C)"
   ]
  },
  {
   "cell_type": "code",
   "execution_count": null,
   "metadata": {
    "jupyter": {
     "source_hidden": true
    }
   },
   "outputs": [],
   "source": [
    "a = 0.9\n",
    "L = L1 - a*L3\n",
    "d, v = np.linalg.eig(L)\n",
    "eig_ind = np.argsort(d)\n",
    "eig_ind"
   ]
  },
  {
   "cell_type": "markdown",
   "metadata": {
    "jupyter": {
     "source_hidden": true
    }
   },
   "source": [
    "#### Check both eigen modes and eigen values"
   ]
  },
  {
   "cell_type": "code",
   "execution_count": null,
   "metadata": {
    "jupyter": {
     "source_hidden": true
    }
   },
   "outputs": [],
   "source": [
    "# get regular laplacian eigenmodes:\n",
    "fc_brain.add_regular_laplacian_eigenmodes(alpha = 1, num_ev = 86, vis = False)\n",
    "fc_brain.norm_regular_eigenmodes[:,0]"
   ]
  },
  {
   "cell_type": "code",
   "execution_count": null,
   "metadata": {
    "jupyter": {
     "source_hidden": true
    }
   },
   "outputs": [],
   "source": [
    "fc_brain.regular_eigenvalues"
   ]
  },
  {
   "cell_type": "markdown",
   "metadata": {
    "jupyter": {
     "source_hidden": true
    }
   },
   "source": [
    "### find optimal alpha"
   ]
  },
  {
   "cell_type": "code",
   "execution_count": null,
   "metadata": {
    "jupyter": {
     "source_hidden": true
    }
   },
   "outputs": [],
   "source": [
    "def search_alpha(fnetworks, fc_name):\n",
    "    brain = Brain.Brain()\n",
    "    brain.add_connectome(hcp_dir)\n",
    "    brain.reorder_connectome(fc_brain.connectome, fc_brain.distance_matrix)\n",
    "    brain.bi_symmetric_c()\n",
    "    brain.reduce_extreme_dir()\n",
    "    alpha_vec = np.linspace(1,5, 5)\n",
    "    corr_vec = np.zeros(alpha_vec.shape)\n",
    "    canon_network = np.squeeze(np.nan_to_num(fnetworks.loc[fc_name].values))\n",
    "    for i in np.arange(0,len(alpha_vec)):\n",
    "        brain.add_regular_laplacian_eigenmodes(alpha = alpha_vec[i], num_ev = 86, vis = False)\n",
    "        eig_corrs = np.zeros(86)\n",
    "        for e in np.arange(0, brain.norm_regular_eigenmodes.shape[1]):\n",
    "            eig_corrs[e] = pearsonr(canon_network, brain.norm_regular_eigenmodes[:,e])[0]\n",
    "            \n",
    "        #alpha_vec[i] = np.mean(eig_corrs)\n",
    "        alpha_vec[i] = np.amax(eig_corrs)\n",
    "        print(eig_corrs)\n",
    "        print(np.argmax(eig_corrs))\n",
    "        \n",
    "    highest_index = np.argmax(alpha_vec)\n",
    "    best_alpha = alpha_vec[highest_index]\n",
    "    return alpha_vec, best_alpha, eig_corrs"
   ]
  },
  {
   "cell_type": "code",
   "execution_count": null,
   "metadata": {
    "jupyter": {
     "source_hidden": true
    }
   },
   "outputs": [],
   "source": [
    "alpha_vec, best_alpha, eig_corrs = search_alpha(DK_df_normalized, fc_name = 'Default')"
   ]
  },
  {
   "cell_type": "code",
   "execution_count": null,
   "metadata": {
    "jupyter": {
     "source_hidden": true
    }
   },
   "outputs": [],
   "source": [
    "alpha_vec"
   ]
  },
  {
   "cell_type": "code",
   "execution_count": null,
   "metadata": {
    "jupyter": {
     "source_hidden": true
    }
   },
   "outputs": [],
   "source": [
    "alpha_vec = np.linspace(1,5,5)\n",
    "corr_vec = np.zeros(alpha_vec.shape)\n",
    "canon_network = np.squeeze(np.nan_to_num(DK_df_normalized.loc['Default'].values))\n",
    "\n",
    "# try alpha:\n",
    "fc_brain.add_regular_laplacian_eigenmodes(alpha = alpha_vec[1], num_ev = 86, vis = False)\n",
    "pearsonr(canon_network, fc_brain.norm_regular_eigenmodes[:,2])"
   ]
  },
  {
   "cell_type": "code",
   "execution_count": null,
   "metadata": {
    "jupyter": {
     "source_hidden": true
    }
   },
   "outputs": [],
   "source": [
    "print(np.mean(fc_brain.norm_regular_eigenmodes, axis = 1))\n",
    "print(fc_brain.norm_regular_eigenmodes[:,0])"
   ]
  },
  {
   "cell_type": "code",
   "execution_count": null,
   "metadata": {
    "jupyter": {
     "source_hidden": true
    }
   },
   "outputs": [],
   "source": [
    "fc_brain.add_regular_laplacian_eigenmodes(alpha = alpha_vec[3], num_ev = 86, vis = False)\n",
    "print(np.mean(fc_brain.norm_regular_eigenmodes, axis = 1))\n",
    "print(fc_brain.norm_regular_eigenmodes[:,0])"
   ]
  },
  {
   "cell_type": "markdown",
   "metadata": {},
   "source": [
    "### Calculate similarity:\n",
    "\n",
    "For some reason, `numpy`'s linear least squares and `scipy`'s default linear least square settings have crashes due to SVD convergencem most likely caused by maximum iteration limits in c-compiled code. "
   ]
  },
  {
   "cell_type": "code",
   "execution_count": 4,
   "metadata": {},
   "outputs": [],
   "source": [
    "def compute_residual_corrs(fnetworks, fc_name, num_em = 86):\n",
    "    brain = Brain.Brain()\n",
    "    brain.add_connectome(hcp_dir)\n",
    "    brain.reorder_connectome(fc_brain.connectome, fc_brain.distance_matrix)\n",
    "    brain.bi_symmetric_c()\n",
    "    brain.reduce_extreme_dir()\n",
    "    brain.add_regular_laplacian_eigenmodes(alpha = 1, num_ev = num_em, vis = False)\n",
    "    \n",
    "    eig_corrs = np.zeros(num_em)\n",
    "    canon_network = np.squeeze(np.nan_to_num(fnetworks.loc[fc_name].values))\n",
    "\n",
    "    for e in np.arange(0, num_em):\n",
    "        eig_corrs[e] = pearsonr(canon_network, brain.norm_regular_eigenmodes[:,e])[0]\n",
    "    \n",
    "    ordered_corr = np.argsort(-np.round(eig_corrs, 3))\n",
    "    cumulative_res = np.zeros(num_em)\n",
    "    cumulative_cor = np.zeros(num_em)\n",
    "    \n",
    "    #print(fc_name)\n",
    "    for k in np.arange(0, num_em):\n",
    "        selected_eigs = brain.norm_regular_eigenmodes[:,ordered_corr[0:k+1]]\n",
    "        #print(selected_eigs.size)\n",
    "        coef, _, _, _ = lstsq(selected_eigs, canon_network, lapack_driver = 'gelsy')\n",
    "        #print(coef)\n",
    "        #print(res)\n",
    "        dp = (np.dot(selected_eigs, np.asarray(coef))**2)\n",
    "        comp_res = np.sum(canon_network - dp)\n",
    "        #print(dp)\n",
    "        #print(np.sum(comp_res))\n",
    "        comb_corr = np.matmul(selected_eigs, np.asarray(coef))\n",
    "        comb_corr = np.squeeze(minmax_scale(comb_corr))\n",
    "        #if res.size == 0:\n",
    "        #    res = 0\n",
    "        cumulative_res[k] = np.squeeze(np.asarray(comp_res))\n",
    "        cumulative_cor[k] = pearsonr(np.squeeze(canon_network), comb_corr)[0]\n",
    "    \n",
    "    return cumulative_res, cumulative_cor"
   ]
  },
  {
   "cell_type": "code",
   "execution_count": 5,
   "metadata": {
    "jupyter": {
     "source_hidden": true
    }
   },
   "outputs": [
    {
     "ename": "IndentationError",
     "evalue": "expected an indented block (<ipython-input-5-6675cfaa8f7c>, line 15)",
     "output_type": "error",
     "traceback": [
      "\u001b[0;36m  File \u001b[0;32m\"<ipython-input-5-6675cfaa8f7c>\"\u001b[0;36m, line \u001b[0;32m15\u001b[0m\n\u001b[0;31m    coef, res, _, _ = lstsq(selected_eigs, canon_network, lapack_driver = 'gelsy')\u001b[0m\n\u001b[0m       ^\u001b[0m\n\u001b[0;31mIndentationError\u001b[0m\u001b[0;31m:\u001b[0m expected an indented block\n"
     ]
    }
   ],
   "source": [
    "K = 58\n",
    "\n",
    "canon_network = np.squeeze(np.nan_to_num(DK_df_normalized.loc['Frontoparietal'].values))\n",
    "fc_brain.add_regular_laplacian_eigenmodes(alpha = 3, num_ev = K, vis = False)\n",
    "eig_corrs = np.zeros(K)\n",
    "for e in np.arange(0, K):\n",
    "    eig_corrs[e] = pearsonr(canon_network, fc_brain.norm_regular_eigenmodes[:,e])[0]\n",
    "        \n",
    "ordered_corr = np.argsort(-np.round(eig_corrs,3))\n",
    "#print(ordered_corr)\n",
    "for k in np.arange(0, K):\n",
    "    selected_eigs = fc_brain.norm_regular_eigenmodes[:,ordered_corr[0:k+1]]\n",
    "    if k == 56:\n",
    "        #print(selected_eigs)\n",
    "    coef, res, _, _ = lstsq(selected_eigs, canon_network, lapack_driver = 'gelsy')\n",
    "\n",
    "#print(coef)\n",
    "#print(res)"
   ]
  },
  {
   "cell_type": "code",
   "execution_count": 5,
   "metadata": {},
   "outputs": [],
   "source": [
    "reg_res = np.zeros([86,7])\n",
    "reg_cor = np.zeros([86,7])\n",
    "\n",
    "reg_res[:,1], reg_cor[:,1] = compute_residual_corrs(DK_df_normalized, 'Default')\n",
    "\n",
    "reg_res[:,3], reg_cor[:,3] = compute_residual_corrs(DK_df_normalized, 'Frontoparietal')\n",
    "\n",
    "reg_res[:,5], reg_cor[:,5] = compute_residual_corrs(DK_df_normalized, 'Dorsal_Attention')\n",
    "\n",
    "reg_res[:,0], reg_cor[:,0] = compute_residual_corrs(DK_df_normalized, 'Limbic')\n",
    "\n",
    "reg_res[:,4], reg_cor[:,4] = compute_residual_corrs(DK_df_normalized, 'Somatomotor')\n",
    "\n",
    "reg_res[:,6], reg_cor[:,6] = compute_residual_corrs(DK_df_normalized, 'Ventral_Attention')\n",
    "\n",
    "reg_res[:,2], reg_cor[:,2] = compute_residual_corrs(DK_df_normalized, 'Visual')"
   ]
  },
  {
   "cell_type": "markdown",
   "metadata": {},
   "source": [
    "#### Load optimal results for complex laplacian:"
   ]
  },
  {
   "cell_type": "code",
   "execution_count": 6,
   "metadata": {},
   "outputs": [],
   "source": [
    "r2s = np.zeros([7,10])\n",
    "\n",
    "h5_path = path.get_file_path('laplacian_networks/Default9_BH_corr.h5')\n",
    "bh_default = path.read_hdf5(h5_path)\n",
    "r2s[0,:] = [bh_default['LinRegResults'][i]['r2score'] for i in range(len(bh_default['LinRegResults']))]\n",
    "\n",
    "h5_path = path.get_file_path('laplacian_networks/Dorsal_Attention4_BH_corr.h5')\n",
    "bh_dorsal = path.read_hdf5(h5_path)\n",
    "r2s[1,:] = [bh_dorsal['LinRegResults'][i]['r2score'] for i in range(len(bh_dorsal['LinRegResults']))]\n",
    "\n",
    "h5_path = path.get_file_path('laplacian_networks/Frontoparietal6_BH_corr.h5')\n",
    "bh_front = path.read_hdf5(h5_path)\n",
    "r2s[2,:] = [bh_front['LinRegResults'][i]['r2score'] for i in range(len(bh_front['LinRegResults']))]\n",
    "\n",
    "h5_path = path.get_file_path('laplacian_networks/Limbic9_BH_corr.h5')\n",
    "bh_limbic = path.read_hdf5(h5_path)\n",
    "r2s[3,:] = [bh_limbic['LinRegResults'][i]['r2score'] for i in range(len(bh_limbic['LinRegResults']))]\n",
    "\n",
    "h5_path = path.get_file_path('laplacian_networks/Somatomotor6_BH_corr.h5')\n",
    "bh_motor = path.read_hdf5(h5_path)\n",
    "r2s[4,:] = [bh_motor['LinRegResults'][i]['r2score'] for i in range(len(bh_motor['LinRegResults']))]\n",
    "\n",
    "h5_path = path.get_file_path('laplacian_networks/Ventral_Attention8_BH_corr.h5')\n",
    "bh_ventral = path.read_hdf5(h5_path)\n",
    "r2s[5,:] = [bh_ventral['LinRegResults'][i]['r2score'] for i in range(len(bh_ventral['LinRegResults']))]\n",
    "\n",
    "h5_path = path.get_file_path('laplacian_networks/Visual2_BH_corr.h5')\n",
    "bh_visual = path.read_hdf5(h5_path)\n",
    "r2s[6,:] = [bh_visual['LinRegResults'][i]['r2score'] for i in range(len(bh_visual['LinRegResults']))]"
   ]
  },
  {
   "cell_type": "markdown",
   "metadata": {},
   "source": [
    "function for computing correlation and residuals"
   ]
  },
  {
   "cell_type": "code",
   "execution_count": 7,
   "metadata": {},
   "outputs": [],
   "source": [
    "def compute_linreg_scores(brain, fnetworks, f, a, s, fc_name, num_em):\n",
    "    w = 2*np.pi*f\n",
    "    # for complex laplacian:\n",
    "    brain.add_laplacian_eigenmodes(w = w, alpha = a, speed = s, vis = False)\n",
    "    canon_network = np.nan_to_num(fnetworks.loc[fc_name].values)\n",
    "    corrs = np.squeeze(np.zeros([brain.norm_eigenmodes.shape[1],1]))\n",
    "    for e in np.arange(0, len(corrs)):\n",
    "        prcorr = pearsonr(np.squeeze(canon_network), brain.norm_eigenmodes[:,e])[0]\n",
    "        corrs[e] = prcorr\n",
    "\n",
    "    ntw_opt_corr = np.round(corrs,3)\n",
    "    ordered_corr = np.argsort(-ntw_opt_corr)\n",
    "    #assert ntw_opt_dice[ordered_dice[1]] > ntw_opt_dice[ordered_dice[0]]\n",
    "\n",
    "    cumulative_regr = np.zeros([num_em,1])\n",
    "    cumulative_corr = np.zeros([num_em,1])\n",
    "\n",
    "    # for each eigenmode, compute:\n",
    "    for k in np.arange(0, num_em):\n",
    "        selected_eigs = brain.norm_eigenmodes[:,ordered_corr[0:k+1]]\n",
    "        coef, _, _, _ = lstsq(selected_eigs, canon_network, lapack_driver = 'gelsy')\n",
    "\n",
    "        comb_corr = np.squeeze(np.matmul(selected_eigs, np.asarray(coef)))\n",
    "        dp = (np.dot(selected_eigs, np.asarray(coef))**2)\n",
    "        residual = np.sum(canon_network - dp)\n",
    "        \n",
    "        cumulative_corr[k] = pearsonr(np.squeeze(canon_network), comb_corr)[0]\n",
    "        cumulative_regr[k] = residual\n",
    "    return np.squeeze(cumulative_regr), np.squeeze(cumulative_corr)\n"
   ]
  },
  {
   "cell_type": "code",
   "execution_count": 8,
   "metadata": {},
   "outputs": [],
   "source": [
    "warnings.filterwarnings('ignore')\n",
    "\n",
    "K = 30\n",
    "\n",
    "comp_brain = Brain.Brain()\n",
    "comp_brain.add_connectome(hcp_dir)\n",
    "comp_brain.reorder_connectome(comp_brain.connectome, comp_brain.distance_matrix)\n",
    "comp_brain.bi_symmetric_c()\n",
    "comp_brain.reduce_extreme_dir()\n",
    "\n",
    "regr_all = np.zeros([K,7]) \n",
    "corr_all = np.zeros([K,7])\n",
    "regr_all[:,0], corr_all[:,0] = compute_linreg_scores(comp_brain, DK_df_normalized, f = bh_limbic['x'][0], a = bh_limbic['x'][1], \n",
    "                                           s = bh_limbic['x'][2], fc_name = 'Limbic', num_em = K)\n",
    "\n",
    "regr_all[:,1], corr_all[:,1] = compute_linreg_scores(comp_brain, DK_df_normalized, f = bh_default['x'][0], a = bh_default['x'][1], \n",
    "                                           s = bh_default['x'][2], fc_name = 'Default', num_em = K)\n",
    "\n",
    "regr_all[:,2], corr_all[:,2] = compute_linreg_scores(comp_brain, DK_df_normalized, f = bh_visual['x'][0], a = bh_visual['x'][1], \n",
    "                                           s = bh_visual['x'][2], fc_name = 'Visual', num_em = K)\n",
    "\n",
    "regr_all[:,3], corr_all[:,3] = compute_linreg_scores(comp_brain, DK_df_normalized, f = bh_front['x'][0], a = bh_front['x'][1], \n",
    "                                           s = bh_front['x'][2], fc_name = 'Frontoparietal', num_em = K)\n",
    "\n",
    "regr_all[:,4], corr_all[:,4] = compute_linreg_scores(comp_brain, DK_df_normalized, f = bh_motor['x'][0], a = bh_motor['x'][1], \n",
    "                                           s = bh_motor['x'][2], fc_name = 'Somatomotor', num_em = K)\n",
    "\n",
    "regr_all[:,5], corr_all[:,5] = compute_linreg_scores(comp_brain, DK_df_normalized, f = bh_dorsal['x'][0], a = bh_dorsal['x'][1], \n",
    "                                           s = bh_dorsal['x'][2], fc_name = 'Dorsal_Attention', num_em = K)\n",
    "\n",
    "regr_all[:,6], corr_all[:,6] = compute_linreg_scores(comp_brain, DK_df_normalized, f = bh_ventral['x'][0], a = bh_ventral['x'][1], \n",
    "                                           s = bh_ventral['x'][2], fc_name = 'Ventral_Attention', num_em = K)\n",
    "\n"
   ]
  },
  {
   "cell_type": "markdown",
   "metadata": {},
   "source": [
    "### Random connectome based on distance:"
   ]
  },
  {
   "cell_type": "code",
   "execution_count": 10,
   "metadata": {},
   "outputs": [
    {
     "name": "stdout",
     "output_type": "stream",
     "text": [
      "(86, 86)\n"
     ]
    }
   ],
   "source": [
    "from rajutils.utils import generate\n",
    "\n",
    "C = generate.exp_neg_dist_Cij(fc_brain.distance_matrix)\n",
    "print(C.shape)"
   ]
  },
  {
   "cell_type": "code",
   "execution_count": 44,
   "metadata": {
    "jupyter": {
     "source_hidden": true
    }
   },
   "outputs": [],
   "source": [
    "rd_brain = Brain.Brain()\n",
    "rd_brain.add_connectome(hcp_dir)\n",
    "rd_brain.reorder_connectome(rd_brain.connectome, rd_brain.distance_matrix)\n",
    "rd_brain.bi_symmetric_c()\n",
    "rd_brain.reduce_extreme_dir()\n",
    "rd_brain.reducedConnectome = C\n",
    "\n",
    "rng_runs = 1000\n",
    "\n",
    "dft_rdnr = np.zeros([K,rng_runs]) \n",
    "dft_rdnc = np.zeros([K,rng_runs])\n",
    "\n",
    "limbic_rdnr = np.zeros([K,rng_runs]) \n",
    "limbic_rdnc = np.zeros([K,rng_runs])\n",
    "\n",
    "visual_rdnr = np.zeros([K,rng_runs]) \n",
    "visual_rdnc = np.zeros([K,rng_runs])\n",
    "\n",
    "front_rdnr = np.zeros([K,rng_runs]) \n",
    "front_rdnc = np.zeros([K,rng_runs])\n",
    "\n",
    "motor_rdnr = np.zeros([K,rng_runs]) \n",
    "motor_rdnc = np.zeros([K,rng_runs])\n",
    "\n",
    "ventral_rdnr = np.zeros([K,rng_runs]) \n",
    "ventral_rdnc = np.zeros([K,rng_runs])\n",
    "\n",
    "dorsal_rdnr = np.zeros([K,rng_runs]) \n",
    "dorsal_rdnc = np.zeros([K,rng_runs])\n",
    "\n",
    "for n in np.arange(0, rng_runs):\n",
    "    C = generate.exp_neg_dist_Cij(fc_brain.distance_matrix)\n",
    "    rd_brain.reducedConnectome = C\n",
    "    limbic_rdnr[:,n], limbic_rdnc[:,n] = compute_linreg_scores(rd_brain, DK_df_normalized, f = bh_limbic['x'][0], a = bh_limbic['x'][1], \n",
    "                                           s = bh_limbic['x'][2], fc_name = 'Limbic', num_em = K)\n",
    "\n",
    "    dft_rdnr[:,n], dft_rdnc[:,n] = compute_linreg_scores(rd_brain, DK_df_normalized, f = bh_default['x'][0], a = bh_default['x'][1], \n",
    "                                           s = bh_default['x'][2], fc_name = 'Default', num_em = K)\n",
    "\n",
    "    visual_rdnr[:,n], visual_rdnc[:,n] = compute_linreg_scores(rd_brain, DK_df_normalized, f = bh_visual['x'][0], a = bh_visual['x'][1], \n",
    "                                           s = bh_visual['x'][2], fc_name = 'Visual', num_em = K)\n",
    "\n",
    "    front_rdnr[:,n], front_rdnc[:,n] = compute_linreg_scores(rd_brain, DK_df_normalized, f = bh_front['x'][0], a = bh_front['x'][1], \n",
    "                                           s = bh_front['x'][2], fc_name = 'Frontoparietal', num_em = K)\n",
    "\n",
    "    motor_rdnr[:,n], motor_rdnc[:,n] = compute_linreg_scores(rd_brain, DK_df_normalized, f = bh_motor['x'][0], a = bh_motor['x'][1], \n",
    "                                           s = bh_motor['x'][2], fc_name = 'Somatomotor', num_em = K)\n",
    "\n",
    "    dorsal_rdnr[:,n], dorsal_rdnc[:,n] = compute_linreg_scores(rd_brain, DK_df_normalized, f = bh_dorsal['x'][0], a = bh_dorsal['x'][1], \n",
    "                                           s = bh_dorsal['x'][2], fc_name = 'Dorsal_Attention', num_em = K)\n",
    "\n",
    "    ventral_rdnr[:,n], ventral_rdnc[:,n] = compute_linreg_scores(rd_brain, DK_df_normalized, f = bh_ventral['x'][0], a = bh_ventral['x'][1], \n",
    "                                           s = bh_ventral['x'][2], fc_name = 'Ventral_Attention', num_em = K)\n"
   ]
  },
  {
   "cell_type": "code",
   "execution_count": 45,
   "metadata": {},
   "outputs": [],
   "source": [
    "#save the intermediate results:\n",
    "np.savez('data/distance_connectome_30eigs_rr.npz', limbic_regr = limbic_rdnr, limbic_corr = limbic_rdnc,\n",
    "        default_regr = dft_rdnr, default_corr = dft_rdnc,\n",
    "        visual_regr = visual_rdnr, visual_corr = visual_rdnc,\n",
    "        front_regr = front_rdnr, front_corr = front_rdnc,\n",
    "        motor_regr = motor_rdnr, motor_corr = motor_rdnc,\n",
    "        dorsal_regr = dorsal_rdnr, dorsal_corr = dorsal_rdnc,\n",
    "        ventral_regr = ventral_rdnr, ventral_corr = ventral_rdnc)"
   ]
  },
  {
   "cell_type": "code",
   "execution_count": 9,
   "metadata": {},
   "outputs": [],
   "source": [
    "# load the npz file:\n",
    "cdist = np.load('data/distance_connectome_30eigs_rr.npz')"
   ]
  },
  {
   "cell_type": "code",
   "execution_count": 10,
   "metadata": {},
   "outputs": [
    {
     "data": {
      "text/plain": [
       "(30, 1000)"
      ]
     },
     "execution_count": 10,
     "metadata": {},
     "output_type": "execute_result"
    }
   ],
   "source": [
    "cdist['front_regr'].shape"
   ]
  },
  {
   "cell_type": "markdown",
   "metadata": {},
   "source": [
    "#### Compute 95% confidence interval for error bars:"
   ]
  },
  {
   "cell_type": "code",
   "execution_count": 18,
   "metadata": {
    "jupyter": {
     "source_hidden": true
    }
   },
   "outputs": [],
   "source": [
    "in_data = cdist['front_corr']\n",
    "ss = cdist['front_corr'].shape[1]\n",
    "neig = cdist['front_corr'].shape[0]\n",
    "\n",
    "z = np.arctanh(in_data[0,:])\n",
    "SDz = np.std(z)\n",
    "cfstat = 1.96*SDz\n",
    "\n",
    "upper = np.tanh(z + cfstat)\n",
    "lower = np.tanh(z - cfstat)"
   ]
  },
  {
   "cell_type": "code",
   "execution_count": 11,
   "metadata": {},
   "outputs": [],
   "source": [
    "import scipy.stats\n",
    "\n",
    "def get_zscore(in_data):\n",
    "    sample_size = in_data.shape[1]\n",
    "    num_eig = in_data.shape[0]\n",
    "    confint = np.zeros([2,num_eig])\n",
    "    r2z_values = np.zeros([num_eig, sample_size])\n",
    "    \n",
    "    for eig in np.arange(0,num_eig):\n",
    "        z = np.arctanh(in_data[eig,:])\n",
    "        SDz = np.std(z)\n",
    "        cfstat = scipy.stats.norm.ppf(0.95)*SDz\n",
    "        confint[0,eig] = np.mean(in_data[eig,:]) - np.tanh(np.mean(in_data[eig,:])-cfstat) #lower\n",
    "        confint[1,eig] = np.tanh(np.mean(in_data[eig,:])+cfstat) - np.mean(in_data[eig,:]) #upper\n",
    "        r2z_values[eig,:] = z\n",
    "        #confint[0,eig] = np.tanh(np.mean(in_data[eig,:])-cfstat)-np.mean(in_data[eig,:]) #lower\n",
    "        #confint[1,eig] = np.tanh(np.mean(in_data[eig,:])+cfstat)-np.mean(in_data[eig,:]) #upper\n",
    "    return confint, r2z_values\n",
    "\n",
    "def get_errorbar(in_data):\n",
    "    n = len(in_data)\n",
    "    xbar = np.mean(in_data)\n",
    "    s = np.std(in_data)\n",
    "    z = 1.96\n",
    "    \n",
    "    confint = np.zeros([2, n])\n",
    "    confint[0,:] = xbar - (xbar - (z * (s/np.sqrt(n))))\n",
    "    confint[1,:] = (xbar + (z * (s/np.sqrt(n)))) - xbar\n",
    "    \n",
    "    return confint"
   ]
  },
  {
   "cell_type": "code",
   "execution_count": 12,
   "metadata": {},
   "outputs": [],
   "source": [
    "#from scipy.stats import norm\n",
    "cf = 0.95\n",
    "\n",
    "#llimbic:\n",
    "limbic_fisher_int, r2z_limbic = get_zscore(cdist['limbic_corr'])\n",
    "limbic_cfint = get_errorbar(cdist['limbic_corr'])\n",
    "\n",
    "# default:\n",
    "default_fisher_int, r2z_default = get_zscore(cdist['default_corr'])\n",
    "default_cfint = get_errorbar(cdist['default_corr'])\n",
    "\n",
    "# visual:\n",
    "visual_fisher_int, r2z_visual = get_zscore(cdist['visual_corr'])\n",
    "visual_cfint = get_errorbar(cdist['visual_corr'])\n",
    "\n",
    "# frontalparietal:\n",
    "front_fisher_int, r2z_front = get_zscore(cdist['front_corr'])\n",
    "front_cfint = get_errorbar(cdist['front_corr'])\n",
    "\n",
    "# somatomotor:\n",
    "motor_fisher_int, r2z_motor = get_zscore(cdist['motor_corr'])\n",
    "motor_cfint = get_errorbar(cdist['motor_corr'])\n",
    "\n",
    "# dorsal attention:\n",
    "dorsal_fisher_int, r2z_dorsal = get_zscore(cdist['dorsal_corr'])\n",
    "dorsal_cfint = get_errorbar(cdist['dorsal_corr'])\n",
    "\n",
    "# ventral attention:\n",
    "ventral_fisher_int, r2z_ventral = get_zscore(cdist['ventral_corr'])\n",
    "ventral_cfint = get_errorbar(cdist['ventral_corr'])"
   ]
  },
  {
   "cell_type": "markdown",
   "metadata": {},
   "source": [
    "#### Convert to z-scores and do statistics:"
   ]
  },
  {
   "cell_type": "markdown",
   "metadata": {},
   "source": [
    "### Make figure:"
   ]
  },
  {
   "cell_type": "code",
   "execution_count": 14,
   "metadata": {},
   "outputs": [
    {
     "ename": "NameError",
     "evalue": "name 'regr_rd' is not defined",
     "output_type": "error",
     "traceback": [
      "\u001b[0;31m---------------------------------------------------------------------------\u001b[0m",
      "\u001b[0;31mNameError\u001b[0m                                 Traceback (most recent call last)",
      "\u001b[0;32m<ipython-input-14-e94a08e1cb4a>\u001b[0m in \u001b[0;36m<module>\u001b[0;34m\u001b[0m\n\u001b[1;32m     27\u001b[0m \u001b[0;34m\u001b[0m\u001b[0m\n\u001b[1;32m     28\u001b[0m     \u001b[0mm3\u001b[0m\u001b[0;34m.\u001b[0m\u001b[0mplot\u001b[0m\u001b[0;34m(\u001b[0m\u001b[0mx\u001b[0m\u001b[0;34m,\u001b[0m \u001b[0mreg_res\u001b[0m\u001b[0;34m[\u001b[0m\u001b[0;36m0\u001b[0m\u001b[0;34m:\u001b[0m\u001b[0mK\u001b[0m\u001b[0;34m,\u001b[0m\u001b[0;36m2\u001b[0m\u001b[0;34m]\u001b[0m\u001b[0;34m,\u001b[0m \u001b[0mlinewidth\u001b[0m \u001b[0;34m=\u001b[0m \u001b[0;36m3\u001b[0m\u001b[0;34m)\u001b[0m\u001b[0;34m\u001b[0m\u001b[0;34m\u001b[0m\u001b[0m\n\u001b[0;32m---> 29\u001b[0;31m     \u001b[0mm3\u001b[0m\u001b[0;34m.\u001b[0m\u001b[0mplot\u001b[0m\u001b[0;34m(\u001b[0m\u001b[0mx\u001b[0m\u001b[0;34m,\u001b[0m \u001b[0mregr_rd\u001b[0m\u001b[0;34m[\u001b[0m\u001b[0;36m0\u001b[0m\u001b[0;34m:\u001b[0m\u001b[0mK\u001b[0m\u001b[0;34m,\u001b[0m\u001b[0;36m2\u001b[0m\u001b[0;34m]\u001b[0m\u001b[0;34m,\u001b[0m \u001b[0mlinewidth\u001b[0m \u001b[0;34m=\u001b[0m \u001b[0;36m3\u001b[0m\u001b[0;34m)\u001b[0m\u001b[0;34m\u001b[0m\u001b[0;34m\u001b[0m\u001b[0m\n\u001b[0m\u001b[1;32m     30\u001b[0m     \u001b[0mm3\u001b[0m\u001b[0;34m.\u001b[0m\u001b[0mplot\u001b[0m\u001b[0;34m(\u001b[0m\u001b[0mx\u001b[0m\u001b[0;34m,\u001b[0m \u001b[0mregr_all\u001b[0m\u001b[0;34m[\u001b[0m\u001b[0;36m0\u001b[0m\u001b[0;34m:\u001b[0m\u001b[0mK\u001b[0m\u001b[0;34m,\u001b[0m\u001b[0;36m2\u001b[0m\u001b[0;34m]\u001b[0m\u001b[0;34m,\u001b[0m \u001b[0mlinewidth\u001b[0m \u001b[0;34m=\u001b[0m \u001b[0;36m3\u001b[0m\u001b[0;34m)\u001b[0m\u001b[0;34m\u001b[0m\u001b[0;34m\u001b[0m\u001b[0m\n\u001b[1;32m     31\u001b[0m     \u001b[0mm3\u001b[0m\u001b[0;34m.\u001b[0m\u001b[0mxaxis\u001b[0m\u001b[0;34m.\u001b[0m\u001b[0mset_major_locator\u001b[0m\u001b[0;34m(\u001b[0m\u001b[0mplt\u001b[0m\u001b[0;34m.\u001b[0m\u001b[0mMultipleLocator\u001b[0m\u001b[0;34m(\u001b[0m\u001b[0;36m10\u001b[0m\u001b[0;34m)\u001b[0m\u001b[0;34m)\u001b[0m\u001b[0;34m\u001b[0m\u001b[0;34m\u001b[0m\u001b[0m\n",
      "\u001b[0;31mNameError\u001b[0m: name 'regr_rd' is not defined"
     ]
    },
    {
     "data": {
      "image/png": "[encoded data removed]",
      "text/plain": [
       "<Figure size 1008x576 with 7 Axes>"
      ]
     },
     "metadata": {
      "needs_background": "light"
     },
     "output_type": "display_data"
    }
   ],
   "source": [
    "from cycler import cycler\n",
    "\n",
    "custom_cycler = (cycler(color = ['blue','orange','purple','olive',\n",
    "                          'sienna','black','darkslategray']))\n",
    "x = np.arange(1,K+1)\n",
    "ntwk_names = ['Limbic','Default','Visual','Frontoparietal','Somatomotor','Ventral Attention','Dorsal Attention']\n",
    "\n",
    "with plt.style.context('seaborn-paper'):\n",
    "    limbic_rmean = np.mean(cdist['limbic_regr'], axis = 1)\n",
    "    fig, (m1,m2,m3,m4,m5,m6,m7) = plt.subplots(ncols = 7, figsize = [14, 8])\n",
    "    m1.plot(x, reg_res[0:K,0], linewidth = 3)\n",
    "    m1.plot(x, limbic_rmean, linewidth = 3)\n",
    "    m1.plot(x, regr_all[0:K,0], linewidth = 3)\n",
    "    m1.xaxis.set_major_locator(plt.MultipleLocator(10))\n",
    "    #m1.set_xticklabels([0,1,25,50,75])\n",
    "    m1.title.set_text(ntwk_names[0])\n",
    "    m1.errorbar(x, limbic_rmean, yerr = limbic_cfint)\n",
    "    \n",
    "    default_rmean = np.mean(cdist['default_regr'], axis = 1)\n",
    "    m2.plot(x, reg_res[0:K,1], linewidth = 3)\n",
    "    m2.plot(x, default_rmean, linewidth = 3)\n",
    "    m2.plot(x, regr_all[0:K,1], linewidth = 3)\n",
    "    m2.xaxis.set_major_locator(plt.MultipleLocator(10))\n",
    "    #m2.set_xticklabels([0,1,25,50,75])\n",
    "    m2.errorbar(x, default_rmean, yerr = default_cfint)\n",
    "    m2.title.set_text(ntwk_names[1])\n",
    "    \n",
    "    m3.plot(x, reg_res[0:K,2], linewidth = 3)\n",
    "    m3.plot(x, regr_rd[0:K,2], linewidth = 3)\n",
    "    m3.plot(x, regr_all[0:K,2], linewidth = 3)\n",
    "    m3.xaxis.set_major_locator(plt.MultipleLocator(10))\n",
    "    #m3.set_xticklabels([0,1,25,50,75])\n",
    "    m3.title.set_text(ntwk_names[2])\n",
    "    \n",
    "    m4.plot(x, reg_res[0:K,3], linewidth = 3)\n",
    "    m4.plot(x, regr_rd[0:K,3], linewidth = 3)\n",
    "    m4.plot(x, regr_all[0:K,3], linewidth = 3)\n",
    "    m4.xaxis.set_major_locator(plt.MultipleLocator(10))\n",
    "    #m4.set_xticklabels([0,1,25,50,75])\n",
    "    m4.title.set_text(ntwk_names[3])\n",
    "    \n",
    "    m5.plot(x, reg_res[0:K,4], linewidth = 3)\n",
    "    m5.plot(x, regr_rd[0:K,4], linewidth = 3)\n",
    "    m5.plot(x, regr_all[0:K,4], linewidth = 3)\n",
    "    m5.xaxis.set_major_locator(plt.MultipleLocator(10))\n",
    "    #m5.set_xticklabels([0,1,25,50,75])\n",
    "    m5.title.set_text(ntwk_names[4])\n",
    "    \n",
    "    m6.plot(x, reg_res[0:K,5], linewidth = 3)\n",
    "    m6.plot(x, regr_rd[0:K,5], linewidth = 3)\n",
    "    m6.plot(x, regr_all[0:K,5], linewidth = 3)\n",
    "    m6.xaxis.set_major_locator(plt.MultipleLocator(10))\n",
    "    #m6.set_xticklabels([0,1,25,50,75])\n",
    "    m6.title.set_text(ntwk_names[5])\n",
    "    \n",
    "    m7.plot(x, reg_res[0:K,6], linewidth = 3)\n",
    "    m7.plot(x, regr_rd[0:K,6], linewidth = 3)\n",
    "    m7.plot(x, regr_all[0:K,6], linewidth = 3)\n",
    "    m7.xaxis.set_major_locator(plt.MultipleLocator(10))\n",
    "    #m7.set_xticklabels([0,1,25,50,75])\n",
    "    m7.title.set_text(ntwk_names[6])\n",
    "    \n",
    "    plt.legend(['Regular Laplacian', r'$C_{dist}$', 'Complex Laplacian'],\n",
    "              loc = 'center left', bbox_to_anchor = (1, 0.5))\n",
    "    \n",
    "    fig.add_subplot(1,1,1, frameon = False)\n",
    "    plt.tick_params(labelcolor='none', top='off', bottom='off', left='off', right='off')\n",
    "    plt.grid(False)\n",
    "    plt.ylabel('Residual', fontsize = 13)\n",
    "    plt.xlabel('Eigenmode Number', fontsize = 13)\n"
   ]
  },
  {
   "cell_type": "code",
   "execution_count": null,
   "metadata": {},
   "outputs": [],
   "source": [
    "import string\n",
    "LW = 4\n",
    "\n",
    "with plt.style.context('seaborn-paper'):\n",
    "    limbic_cmean = np.mean(cdist['limbic_corr'], axis = 1)\n",
    "    fig, (i1,i2,i3,i4,i5,i6,i7) = plt.subplots(ncols = 7, figsize = [12, 7], sharey = True)\n",
    "    i1.plot(x, corr_all[0:K,0], color = 'orange', linewidth = LW)\n",
    "    i1.plot(x, reg_cor[0:K,0], color = 'blue', linewidth = LW)\n",
    "    i1.plot(x, limbic_cmean, color = 'green', linewidth = LW)\n",
    "    i1.fill_between(x, limbic_cmean - limbic_fisher_int[0,:], limbic_cmean + limbic_fisher_int[1,:],\n",
    "                    color = 'darkslategray', alpha = 0.3)\n",
    "    i1.xaxis.set_major_locator(plt.MultipleLocator(10))\n",
    "    #i1.set_xticklabels([0,1,25,50,75])\n",
    "    i1.title.set_text(ntwk_names[0])\n",
    "    \n",
    "    default_rmean = np.mean(cdist['default_corr'], axis = 1)\n",
    "    i2.plot(x, corr_all[0:K,1], color = 'orange', linewidth = LW)\n",
    "    i2.plot(x, reg_cor[0:K,1], color = 'blue', linewidth = LW)\n",
    "    i2.plot(x, default_rmean, color = 'green', linewidth = LW)\n",
    "    i2.fill_between(x, default_rmean - default_fisher_int[0,:], default_rmean + default_fisher_int[1,:],\n",
    "                   color = 'darkslategray', alpha = 0.3)\n",
    "    i2.xaxis.set_major_locator(plt.MultipleLocator(10))\n",
    "    #i2.set_xticklabels([0,1,25,50,75])\n",
    "    i2.title.set_text(ntwk_names[1])\n",
    "    \n",
    "    visual_rmean = np.mean(cdist['visual_corr'], axis = 1)\n",
    "    i3.plot(x, corr_all[0:K,2], color = 'orange', linewidth = LW)\n",
    "    i3.plot(x, reg_cor[0:K,2], color = 'blue', linewidth = LW)\n",
    "    i3.plot(x, visual_rmean, color = 'green', linewidth = LW)\n",
    "    i3.fill_between(x, visual_rmean - visual_fisher_int[0,:], visual_rmean + visual_fisher_int[1,:],\n",
    "                    color = 'darkslategray', alpha = 0.3)\n",
    "    i3.xaxis.set_major_locator(plt.MultipleLocator(10))\n",
    "    #i3.set_xticklabels([0,1,25,50,75])\n",
    "    i3.title.set_text(ntwk_names[2])\n",
    "    \n",
    "    front_rmean = np.mean(cdist['front_corr'], axis = 1)\n",
    "    i4.plot(x, corr_all[0:K,3], color = 'orange', linewidth = LW)\n",
    "    i4.plot(x, reg_cor[0:K,3], color = 'blue', linewidth = LW)\n",
    "    i4.plot(x, front_rmean, color = 'green', linewidth = LW)\n",
    "    i4.xaxis.set_major_locator(plt.MultipleLocator(10))\n",
    "    i4.fill_between(x, visual_rmean - visual_fisher_int[0,:], visual_rmean + visual_fisher_int[1,:],\n",
    "                   color = 'darkslategray', alpha = 0.3)\n",
    "    #i4.set_xticklabels([0,1,25,50,75])\n",
    "    i4.title.set_text(ntwk_names[3])\n",
    "    \n",
    "    motor_rmean = np.mean(cdist['motor_corr'], axis = 1)\n",
    "    i5.plot(x, corr_all[0:K,4], color = 'orange', linewidth = LW)\n",
    "    i5.plot(x, reg_cor[0:K,4], color = 'blue', linewidth = LW)\n",
    "    i5.plot(x, motor_rmean, color = 'green', linewidth = LW)\n",
    "    i5.fill_between(x, motor_rmean - motor_fisher_int[0,:], motor_rmean + motor_fisher_int[1,:],\n",
    "               color = 'darkslategray', alpha = 0.3)\n",
    "    i5.xaxis.set_major_locator(plt.MultipleLocator(10))\n",
    "    #i5.set_xticklabels([0,1,25,50,75])\n",
    "    i5.title.set_text(ntwk_names[4])\n",
    "    \n",
    "    dorsal_rmean = np.mean(cdist['dorsal_corr'], axis = 1)\n",
    "    i6.plot(x, corr_all[0:K,5], color = 'orange', linewidth = LW)\n",
    "    i6.plot(x, reg_cor[0:K,5], color = 'blue', linewidth = LW)\n",
    "    i6.plot(x, dorsal_rmean, color = 'green', linewidth = LW)\n",
    "    i6.fill_between(x, dorsal_rmean - dorsal_fisher_int[0,:], dorsal_rmean + dorsal_fisher_int[1,:],\n",
    "               color = 'darkslategray', alpha = 0.3)\n",
    "    i6.xaxis.set_major_locator(plt.MultipleLocator(10))\n",
    "    #i6.set_xticklabels([0,1,25,50,75])\n",
    "    i6.title.set_text(ntwk_names[5])\n",
    "    \n",
    "    ventral_rmean = np.mean(cdist['ventral_corr'], axis = 1)\n",
    "    i7.plot(x, corr_all[0:K,6], color = 'orange', linewidth = LW)\n",
    "    i7.plot(x, reg_cor[0:K,6], color = 'blue',linewidth = LW)\n",
    "    i7.plot(x, ventral_rmean,color = 'green', linewidth = LW)\n",
    "    i7.fill_between(x, ventral_rmean - ventral_fisher_int[0,:], ventral_rmean + ventral_fisher_int[1,:],\n",
    "               color = 'darkslategray', alpha = 0.3)\n",
    "    i7.xaxis.set_major_locator(plt.MultipleLocator(10))\n",
    "    #i7.set_xticklabels([0,1,25,50,75])\n",
    "    i7.title.set_text(ntwk_names[6])\n",
    "    \n",
    "    plt.legend(['Complex Laplacian', 'Real Laplacian', 'Random Laplacian'],\n",
    "              loc = 'center left', bbox_to_anchor = (1, 0.5))\n",
    "    \n",
    "    fig.add_subplot(1,1,1, frameon = False)\n",
    "    plt.tick_params(labelcolor='none', top='off', bottom='off', left='off', right='off')\n",
    "    plt.grid(False)\n",
    "    plt.ylabel(string.capwords(\"Pearson's Correlation\"), fontsize = 13)\n",
    "    plt.xlabel('Eigenmode Number', fontsize = 13)\n",
    "\n",
    "    plt.savefig('figures/fig6/pearsonr.png', dpi = 300, bbox_inches = 'tight')"
   ]
  },
  {
   "cell_type": "markdown",
   "metadata": {},
   "source": [
    "### Create null distribution and compare.\n",
    "\n",
    "For each of the 7 canonical networks, obtain P-values for each of the eigenmodes shown in figure."
   ]
  },
  {
   "cell_type": "code",
   "execution_count": 27,
   "metadata": {},
   "outputs": [],
   "source": [
    "from statsmodels.stats.multitest import multipletests\n",
    "\n",
    "def null_distribution_pvalue(nulldist, reg_lap, com_lap):\n",
    "    K = nulldist.shape[0]\n",
    "    r_pval = np.zeros(K)\n",
    "    c_pval = np.zeros(K)\n",
    "    for i in np.arange(0,K):\n",
    "        #print(i)\n",
    "        z_dist = nulldist[i,:]\n",
    "        r = reg_lap[i]\n",
    "        c = com_lap[i]\n",
    "        gkde = scipy.stats.gaussian_kde(dataset = z_dist)\n",
    "        r_pval[i] = gkde.integrate_box_1d(r,1)\n",
    "        c_pval[i] = gkde.integrate_box_1d(c,1)\n",
    "        #print(r_pval)\n",
    "        #print(c_pval[i])\n",
    "    \n",
    "    #_,adjusted_rp,_,bfc_ralpha = multipletests(r_pval)\n",
    "    #_,adjusted_cp,_,bfc_calpha = multipletests(c_pval)\n",
    "    return r_pval, c_pval #adjusted_rp, adjusted_cp"
   ]
  },
  {
   "cell_type": "code",
   "execution_count": 28,
   "metadata": {},
   "outputs": [],
   "source": [
    "# computing bonferroni corrected p-values\n",
    "reg_pvals = np.zeros([7, K])\n",
    "com_pvals = np.zeros([7, K])\n",
    "\n",
    "# limbic\n",
    "reg_z = np.arctanh(reg_cor[0:K,0])\n",
    "com_z = np.arctanh(corr_all[0:K,0])\n",
    "reg_pvals[0,:], com_pvals[0,:] = null_distribution_pvalue(r2z_limbic, reg_z, com_z)\n",
    "\n",
    "#default\n",
    "reg_z = np.arctanh(reg_cor[0:K,1])\n",
    "com_z = np.arctanh(corr_all[0:K,1])\n",
    "reg_pvals[1,:], com_pvals[1,:] = null_distribution_pvalue(r2z_default, reg_z, com_z)\n",
    "\n",
    "# visual\n",
    "reg_z = np.arctanh(reg_cor[0:K,2])\n",
    "com_z = np.arctanh(corr_all[0:K,2])\n",
    "reg_pvals[2,:], com_pvals[2,:] = null_distribution_pvalue(r2z_visual, reg_z, com_z)\n",
    "\n",
    "# frontoparietal\n",
    "reg_z = np.arctanh(reg_cor[0:K,3])\n",
    "com_z = np.arctanh(corr_all[0:K,3])\n",
    "reg_pvals[3,:], com_pvals[3,:] = null_distribution_pvalue(r2z_front, reg_z, com_z)\n",
    "\n",
    "# somatomotor\n",
    "reg_z = np.arctanh(reg_cor[0:K,4])\n",
    "com_z = np.arctanh(corr_all[0:K,4])\n",
    "reg_pvals[4,:], com_pvals[4,:] = null_distribution_pvalue(r2z_motor, reg_z, com_z)\n",
    "\n",
    "# dorsal\n",
    "reg_z = np.arctanh(reg_cor[0:K,5])\n",
    "com_z = np.arctanh(corr_all[0:K,5])\n",
    "reg_pvals[5,:], com_pvals[5,:] = null_distribution_pvalue(r2z_dorsal, reg_z, com_z)\n",
    "\n",
    "# ventral\n",
    "reg_z = np.arctanh(reg_cor[0:K,6])\n",
    "com_z = np.arctanh(corr_all[0:K,6])\n",
    "reg_pvals[6,:], com_pvals[6,:] = null_distribution_pvalue(r2z_ventral, reg_z, com_z)"
   ]
  },
  {
   "cell_type": "code",
   "execution_count": 29,
   "metadata": {},
   "outputs": [
    {
     "data": {
      "text/plain": [
       "array([0.4746279 , 0.01239344, 0.00814814, 0.01282516, 0.00142533,\n",
       "       0.07982844, 0.00454975])"
      ]
     },
     "execution_count": 29,
     "metadata": {},
     "output_type": "execute_result"
    }
   ],
   "source": [
    "reg_pvals[:,0]"
   ]
  },
  {
   "cell_type": "code",
   "execution_count": 30,
   "metadata": {},
   "outputs": [
    {
     "data": {
      "text/plain": [
       "array([1.57173375e-08, 5.98038230e-04, 0.00000000e+00, 1.11022302e-19,\n",
       "       1.11659306e-03, 3.91999766e-14, 1.46626449e-02])"
      ]
     },
     "execution_count": 30,
     "metadata": {},
     "output_type": "execute_result"
    }
   ],
   "source": [
    "com_pvals[:,0]"
   ]
  },
  {
   "cell_type": "markdown",
   "metadata": {},
   "source": [
    "#### Best eigenmode p-value:"
   ]
  },
  {
   "cell_type": "code",
   "execution_count": 33,
   "metadata": {},
   "outputs": [
    {
     "name": "stdout",
     "output_type": "stream",
     "text": [
      "[6.28693487e-08 1.79304196e-03 0.00000000e+00 0.00000000e+00\n",
      " 2.23193933e-03 1.95954364e-13 1.46626449e-02]\n",
      "0.0071428571428571435\n"
     ]
    }
   ],
   "source": [
    "_,adjusted_cp,_,bfc_calpha = multipletests(com_pvals[:,0])\n",
    "print(adjusted_cp)\n",
    "print(bfc_calpha)"
   ]
  },
  {
   "cell_type": "code",
   "execution_count": 34,
   "metadata": {},
   "outputs": [
    {
     "name": "stdout",
     "output_type": "stream",
     "text": [
      "[0.4746279  0.04865975 0.04008216 0.04865975 0.00993478 0.1532843\n",
      " 0.02698986]\n",
      "0.0071428571428571435\n"
     ]
    }
   ],
   "source": [
    "_,adjusted_rp,_,bfc_ralpha = multipletests(reg_pvals[:,0])\n",
    "print(adjusted_rp)\n",
    "print(bfc_ralpha)"
   ]
  },
  {
   "cell_type": "markdown",
   "metadata": {},
   "source": [
    "#### Top 10 combined p-values:"
   ]
  },
  {
   "cell_type": "code",
   "execution_count": 35,
   "metadata": {},
   "outputs": [
    {
     "name": "stdout",
     "output_type": "stream",
     "text": [
      "[0.00000000e+00 4.27924650e-03 0.00000000e+00 2.66940015e-05\n",
      " 4.27924650e-03 0.00000000e+00 1.80845242e-02]\n",
      "0.0071428571428571435\n"
     ]
    }
   ],
   "source": [
    "_,adjusted_cp,_,bfc_calpha = multipletests(com_pvals[:,9])\n",
    "print(adjusted_cp)\n",
    "print(bfc_calpha)"
   ]
  },
  {
   "cell_type": "code",
   "execution_count": 36,
   "metadata": {},
   "outputs": [
    {
     "name": "stdout",
     "output_type": "stream",
     "text": [
      "[0.07627452 0.00875155 0.07627452 0.02637107 0.00875155 0.0095584\n",
      " 0.07627452]\n",
      "0.0071428571428571435\n"
     ]
    }
   ],
   "source": [
    "_,adjusted_rp,_,bfc_ralpha = multipletests(reg_pvals[:,9])\n",
    "print(adjusted_rp)\n",
    "print(bfc_ralpha)"
   ]
  },
  {
   "cell_type": "code",
   "execution_count": 91,
   "metadata": {},
   "outputs": [
    {
     "data": {
      "image/png": "[encoded data removed]",
      "text/plain": [
       "<Figure size 720x432 with 3 Axes>"
      ]
     },
     "metadata": {
      "needs_background": "light"
     },
     "output_type": "display_data"
    }
   ],
   "source": [
    "#plot:\n",
    "eigs = np.arange(1,31)\n",
    "\n",
    "pfig, (img1, img2) = plt.subplots(ncols = 2, figsize = [10,6])\n",
    "img1.plot(eigs, np.transpose(reg_pvals), linewidth = LW)\n",
    "img1.title.set_text('Real Laplacian')\n",
    "img1.axhline(y = 0.05, alpha = 0.5, color = 'black', ls = '--')\n",
    "img2.plot(eigs, np.transpose(com_pvals), linewidth = LW)\n",
    "img2.axhline(y = 0.05, alpha = 0.5, color = 'black', ls = '--')\n",
    "img2.title.set_text('Complex Laplacian')\n",
    "\n",
    "plt.legend(ntwk_names, loc = 'center left', bbox_to_anchor = (1, 0.5))\n",
    "pfig.add_subplot(1,1,1, frameon = False)\n",
    "plt.tick_params(labelcolor='none', top='off', bottom='off', left='off', right='off')\n",
    "plt.ylabel('Bonferroni Corrected P-values')\n",
    "plt.savefig('figures/fig6/nullpvalues.png', dpi = 300, bbox_inches = 'tight')"
   ]
  },
  {
   "cell_type": "code",
   "execution_count": 50,
   "metadata": {},
   "outputs": [
    {
     "data": {
      "text/plain": [
       "[<matplotlib.lines.Line2D at 0x7f5d5e1d9198>]"
      ]
     },
     "execution_count": 50,
     "metadata": {},
     "output_type": "execute_result"
    },
    {
     "data": {
      "image/png": "[encoded data removed]",
      "text/plain": [
       "<Figure size 460.8x316.8 with 1 Axes>"
      ]
     },
     "metadata": {
      "needs_background": "light"
     },
     "output_type": "display_data"
    }
   ],
   "source": [
    "e = stat_dist[0,:]\n",
    "x = np.linspace(e.min()-0.1, e.max()+0.1, 100)\n",
    "gkde = scipy.stats.gaussian_kde(dataset = e)\n",
    "plt.plot(x,gkde.evaluate(x))"
   ]
  },
  {
   "cell_type": "code",
   "execution_count": 51,
   "metadata": {},
   "outputs": [
    {
     "data": {
      "text/plain": [
       "1.5902647358034818e-07"
      ]
     },
     "execution_count": 51,
     "metadata": {},
     "output_type": "execute_result"
    }
   ],
   "source": [
    "gkde.integrate_box_1d(0.64, 1)"
   ]
  },
  {
   "cell_type": "code",
   "execution_count": null,
   "metadata": {},
   "outputs": [],
   "source": []
  }
 ],
 "metadata": {
  "kernelspec": {
   "display_name": "Python (Spectral)",
   "language": "python",
   "name": "spectral"
  },
  "language_info": {
   "codemirror_mode": {
    "name": "ipython",
    "version": 3
   },
   "file_extension": ".py",
   "mimetype": "text/x-python",
   "name": "python",
   "nbconvert_exporter": "python",
   "pygments_lexer": "ipython3",
   "version": "3.6.8"
  }
 },
 "nbformat": 4,
 "nbformat_minor": 4
}
