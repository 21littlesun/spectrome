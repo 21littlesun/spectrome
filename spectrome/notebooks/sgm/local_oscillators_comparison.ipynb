{
 "cells": [
  {
   "cell_type": "markdown",
   "metadata": {},
   "source": [
    "## Comparing local oscillators, original vs. HM's implementation\n",
    "\n",
    "Original first, show frequency responses"
   ]
  },
  {
   "cell_type": "code",
   "execution_count": 1,
   "metadata": {},
   "outputs": [],
   "source": [
    "import numpy as np\n",
    "import matplotlib.pyplot as plt\n",
    "\n",
    "# spectrome imports\n",
    "from spectrome.brain import Brain\n",
    "from spectrome.utils import functions, path\n",
    "from spectrome.forward import eigenmode, runforward"
   ]
  },
  {
   "cell_type": "code",
   "execution_count": 2,
   "metadata": {},
   "outputs": [],
   "source": [
    "# House keeping cell:\n",
    "\n",
    "# directory for HCP template connectomes\n",
    "hcp_dir = './../../data'\n",
    "\n",
    "# define frequency range of interest\n",
    "fmin = 2\n",
    "fmax = 45\n",
    "fvec = np.linspace(fmin, fmax, 40)\n",
    "\n",
    "# Initialize Brain object\n",
    "HCP_brain = Brain.Brain()\n",
    "HCP_brain.add_connectome(hcp_dir)\n",
    "HCP_brain.reorder_connectome(HCP_brain.connectome, HCP_brain.distance_matrix)\n",
    "HCP_brain.bi_symmetric_c()\n",
    "HCP_brain.reduce_extreme_dir()"
   ]
  },
  {
   "cell_type": "code",
   "execution_count": null,
   "metadata": {},
   "outputs": [],
   "source": []
  }
 ],
 "metadata": {
  "kernelspec": {
   "display_name": "Python (Spectral)",
   "language": "python",
   "name": "spectral"
  },
  "language_info": {
   "codemirror_mode": {
    "name": "ipython",
    "version": 3
   },
   "file_extension": ".py",
   "mimetype": "text/x-python",
   "name": "python",
   "nbconvert_exporter": "python",
   "pygments_lexer": "ipython3",
   "version": "3.6.8"
  }
 },
 "nbformat": 4,
 "nbformat_minor": 2
}
