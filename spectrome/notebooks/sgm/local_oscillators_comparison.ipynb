{
 "cells": [
  {
   "cell_type": "markdown",
   "metadata": {},
   "source": [
    "## Comparing local oscillators, original vs. HM's implementation"
   ]
  },
  {
   "cell_type": "code",
   "execution_count": 1,
   "metadata": {},
   "outputs": [],
   "source": [
    "import numpy as np\n",
    "import matplotlib.pyplot as plt\n",
    "\n",
    "# spectrome imports\n",
    "from spectrome.brain import Brain\n",
    "from spectrome.utils import functions, path\n",
    "from spectrome.forward import eigenmode, runforward"
   ]
  },
  {
   "cell_type": "code",
   "execution_count": 2,
   "metadata": {},
   "outputs": [],
   "source": [
    "# House keeping cell:\n",
    "\n",
    "# directory for HCP template connectomes\n",
    "hcp_dir = './../../data'\n",
    "\n",
    "# define frequency range of interest\n",
    "fmin = 2\n",
    "fmax = 45\n",
    "fvec = np.linspace(fmin, fmax, 40)\n",
    "\n",
    "# Initialize Brain object\n",
    "HCP_brain = Brain.Brain()\n",
    "HCP_brain.add_connectome(hcp_dir)\n",
    "HCP_brain.reorder_connectome(HCP_brain.connectome, HCP_brain.distance_matrix)\n",
    "HCP_brain.bi_symmetric_c()\n",
    "HCP_brain.reduce_extreme_dir()"
   ]
  },
  {
   "cell_type": "code",
   "execution_count": 3,
   "metadata": {},
   "outputs": [
    {
     "name": "stdout",
     "output_type": "stream",
     "text": [
      "{'tau_e': 0.012, 'tau_i': 0.003, 'alpha': 1.0, 'speed': 5.0, 'gei': 4.0, 'gii': 1.0, 'tauC': 0.006}\n"
     ]
    }
   ],
   "source": [
    "default_params = HCP_brain.ntf_params # default parameters for the spectral graph model\n",
    "print(default_params)"
   ]
  },
  {
   "cell_type": "code",
   "execution_count": 20,
   "metadata": {},
   "outputs": [
    {
     "data": {
      "text/plain": [
       "<matplotlib.legend.Legend at 0x7f0aad52afd0>"
      ]
     },
     "execution_count": 20,
     "metadata": {},
     "output_type": "execute_result"
    },
    {
     "data": {
      "image/png": "[encoded data removed]",
      "text/plain": [
       "<Figure size 432x288 with 1 Axes>"
      ]
     },
     "metadata": {
      "needs_background": "light"
     },
     "output_type": "display_data"
    }
   ],
   "source": [
    "%matplotlib inline\n",
    "# Plot out the frequency responses:\n",
    "plt.figure('Frequency Responses')\n",
    "\n",
    "# changing gei: \n",
    "default_params[\"gei\"] = 1\n",
    "freq_model, frequency_response, evec, Vvec = runforward.run_forward(\n",
    "HCP_brain, default_params, fvec\n",
    ")\n",
    "\n",
    "freq_HM, fr_HM, _, _, Htotal_out = runforward.run_HM_forward(\n",
    "HCP_brain, default_params, fvec\n",
    ")\n",
    "HM_region = freq_HM[0,:]\n",
    "plt.plot(fvec,np.transpose(np.abs(HM_region)), label = 'HM Gei=1')\n",
    "plot_region = freq_model[0,:]\n",
    "plt.plot(fvec,np.transpose(np.abs(plot_region)),label = 'Orig Gei=1');\n",
    "\n",
    "default_params[\"gei\"] = 2\n",
    "freq_model, frequency_response, evec, Vvec = runforward.run_forward(\n",
    "HCP_brain, default_params, fvec\n",
    ")\n",
    "freq_HM, fr_HM, _, _, Htotal_out = runforward.run_HM_forward(\n",
    "HCP_brain, default_params, fvec\n",
    ")\n",
    "HM_region = freq_HM[0,:]\n",
    "plot_region = freq_model[0,:]\n",
    "plt.plot(fvec,np.transpose(np.abs(plot_region)), label = 'Orig Gei=2');\n",
    "plt.plot(fvec,np.transpose(np.abs(HM_region)), label = 'HM Gei=2')\n",
    "plt.xlabel('Frequency')\n",
    "plt.ylabel('Magnitude')\n",
    "plt.gca().legend(loc = 'upper right')"
   ]
  },
  {
   "cell_type": "code",
   "execution_count": 22,
   "metadata": {},
   "outputs": [
    {
     "data": {
      "text/plain": [
       "(86, 40)"
      ]
     },
     "execution_count": 22,
     "metadata": {},
     "output_type": "execute_result"
    }
   ],
   "source": [
    "freq_model.shape"
   ]
  },
  {
   "cell_type": "code",
   "execution_count": 23,
   "metadata": {},
   "outputs": [
    {
     "data": {
      "text/plain": [
       "(40, 86)"
      ]
     },
     "execution_count": 23,
     "metadata": {},
     "output_type": "execute_result"
    }
   ],
   "source": [
    "frequency_response.shape"
   ]
  },
  {
   "cell_type": "code",
   "execution_count": null,
   "metadata": {},
   "outputs": [],
   "source": []
  }
 ],
 "metadata": {
  "kernelspec": {
   "display_name": "Python (Spectral)",
   "language": "python",
   "name": "spectral"
  },
  "language_info": {
   "codemirror_mode": {
    "name": "ipython",
    "version": 3
   },
   "file_extension": ".py",
   "mimetype": "text/x-python",
   "name": "python",
   "nbconvert_exporter": "python",
   "pygments_lexer": "ipython3",
   "version": "3.6.8"
  }
 },
 "nbformat": 4,
 "nbformat_minor": 2
}
