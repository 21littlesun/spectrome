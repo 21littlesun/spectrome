{
 "cells": [
  {
   "cell_type": "markdown",
   "metadata": {},
   "source": [
    "## Comparing local oscillators, original vs. HM's implementation"
   ]
  },
  {
   "cell_type": "code",
   "execution_count": 1,
   "metadata": {},
   "outputs": [],
   "source": [
    "import numpy as np\n",
    "import matplotlib.pyplot as plt\n",
    "\n",
    "# spectrome imports\n",
    "from spectrome.brain import Brain\n",
    "from spectrome.utils import functions, path\n",
    "from spectrome.forward import eigenmode, runforward"
   ]
  },
  {
   "cell_type": "code",
   "execution_count": 2,
   "metadata": {},
   "outputs": [],
   "source": [
    "# House keeping cell:\n",
    "\n",
    "# directory for HCP template connectomes\n",
    "hcp_dir = './../../data'\n",
    "\n",
    "# define frequency range of interest\n",
    "fmin = 2\n",
    "fmax = 45\n",
    "fvec = np.linspace(fmin, fmax, 40)\n",
    "\n",
    "# Initialize Brain object\n",
    "HCP_brain = Brain.Brain()\n",
    "HCP_brain.add_connectome(hcp_dir)\n",
    "HCP_brain.reorder_connectome(HCP_brain.connectome, HCP_brain.distance_matrix)\n",
    "HCP_brain.bi_symmetric_c()\n",
    "HCP_brain.reduce_extreme_dir()"
   ]
  },
  {
   "cell_type": "code",
   "execution_count": 3,
   "metadata": {},
   "outputs": [
    {
     "name": "stdout",
     "output_type": "stream",
     "text": [
      "{'tau_e': 0.012, 'tau_i': 0.003, 'alpha': 1.0, 'speed': 5.0, 'gei': 4.0, 'gii': 1.0, 'tauC': 0.006}\n"
     ]
    }
   ],
   "source": [
    "default_params = HCP_brain.ntf_params # default parameters for the spectral graph model\n",
    "print(default_params)"
   ]
  },
  {
   "cell_type": "code",
   "execution_count": 4,
   "metadata": {},
   "outputs": [
    {
     "ename": "NameError",
     "evalue": "name 'eigenvalues' is not defined",
     "output_type": "error",
     "traceback": [
      "\u001b[0;31m---------------------------------------------------------------------------\u001b[0m",
      "\u001b[0;31mNameError\u001b[0m                                 Traceback (most recent call last)",
      "\u001b[0;32m<ipython-input-4-cb8d34abf415>\u001b[0m in \u001b[0;36m<module>\u001b[0;34m()\u001b[0m\n\u001b[1;32m      6\u001b[0m \u001b[0mdefault_params\u001b[0m\u001b[0;34m[\u001b[0m\u001b[0;34m\"gei\"\u001b[0m\u001b[0;34m]\u001b[0m \u001b[0;34m=\u001b[0m \u001b[0;36m1\u001b[0m\u001b[0;34m\u001b[0m\u001b[0;34m\u001b[0m\u001b[0m\n\u001b[1;32m      7\u001b[0m freq_model, frequency_response, evec, Vvec = runforward.run_forward(\n\u001b[0;32m----> 8\u001b[0;31m \u001b[0mHCP_brain\u001b[0m\u001b[0;34m,\u001b[0m \u001b[0mdefault_params\u001b[0m\u001b[0;34m,\u001b[0m \u001b[0mfvec\u001b[0m\u001b[0;34m\u001b[0m\u001b[0;34m\u001b[0m\u001b[0m\n\u001b[0m\u001b[1;32m      9\u001b[0m )\n\u001b[1;32m     10\u001b[0m \u001b[0;34m\u001b[0m\u001b[0m\n",
      "\u001b[0;32m~/lab/brain-scfc/spectrome/spectrome/forward/runforward.py\u001b[0m in \u001b[0;36mrun_forward\u001b[0;34m(brain, params, freqs)\u001b[0m\n\u001b[1;32m     28\u001b[0m     \u001b[0;32mfor\u001b[0m \u001b[0mfreq\u001b[0m \u001b[0;32min\u001b[0m \u001b[0mfreqs\u001b[0m\u001b[0;34m:\u001b[0m\u001b[0;34m\u001b[0m\u001b[0;34m\u001b[0m\u001b[0m\n\u001b[1;32m     29\u001b[0m         \u001b[0mw\u001b[0m \u001b[0;34m=\u001b[0m \u001b[0;36m2\u001b[0m \u001b[0;34m*\u001b[0m \u001b[0mnp\u001b[0m\u001b[0;34m.\u001b[0m\u001b[0mpi\u001b[0m \u001b[0;34m*\u001b[0m \u001b[0mfreq\u001b[0m\u001b[0;34m\u001b[0m\u001b[0;34m\u001b[0m\u001b[0m\n\u001b[0;32m---> 30\u001b[0;31m         \u001b[0mfreq_resp\u001b[0m\u001b[0;34m,\u001b[0m \u001b[0mev\u001b[0m\u001b[0;34m,\u001b[0m \u001b[0mVv\u001b[0m\u001b[0;34m,\u001b[0m \u001b[0mmodel_out\u001b[0m\u001b[0;34m,\u001b[0m \u001b[0m_\u001b[0m \u001b[0;34m=\u001b[0m \u001b[0mnt\u001b[0m\u001b[0;34m.\u001b[0m\u001b[0mnetwork_transfer_function\u001b[0m\u001b[0;34m(\u001b[0m\u001b[0mbrain\u001b[0m\u001b[0;34m,\u001b[0m \u001b[0mparams\u001b[0m\u001b[0;34m,\u001b[0m \u001b[0mw\u001b[0m\u001b[0;34m)\u001b[0m\u001b[0;34m\u001b[0m\u001b[0;34m\u001b[0m\u001b[0m\n\u001b[0m\u001b[1;32m     31\u001b[0m         \u001b[0mfqall\u001b[0m\u001b[0;34m.\u001b[0m\u001b[0mappend\u001b[0m\u001b[0;34m(\u001b[0m\u001b[0mfreq_resp\u001b[0m\u001b[0;34m)\u001b[0m\u001b[0;34m\u001b[0m\u001b[0;34m\u001b[0m\u001b[0m\n\u001b[1;32m     32\u001b[0m         \u001b[0mevec\u001b[0m\u001b[0;34m.\u001b[0m\u001b[0mappend\u001b[0m\u001b[0;34m(\u001b[0m\u001b[0mev\u001b[0m\u001b[0;34m)\u001b[0m\u001b[0;34m\u001b[0m\u001b[0;34m\u001b[0m\u001b[0m\n",
      "\u001b[0;32m~/lab/brain-scfc/spectrome/spectrome/forward/network_transfer.py\u001b[0m in \u001b[0;36mnetwork_transfer_function\u001b[0;34m(brain, parameters, w, use_smalleigs)\u001b[0m\n\u001b[1;32m    106\u001b[0m     \u001b[0mden\u001b[0m \u001b[0;34m=\u001b[0m \u001b[0mnp\u001b[0m\u001b[0;34m.\u001b[0m\u001b[0msqrt\u001b[0m\u001b[0;34m(\u001b[0m\u001b[0mnp\u001b[0m\u001b[0;34m.\u001b[0m\u001b[0mabs\u001b[0m\u001b[0;34m(\u001b[0m\u001b[0mmodel_out\u001b[0m\u001b[0;34m)\u001b[0m\u001b[0;34m)\u001b[0m\u001b[0;34m\u001b[0m\u001b[0;34m\u001b[0m\u001b[0m\n\u001b[1;32m    107\u001b[0m     \u001b[0mFCmodel\u001b[0m \u001b[0;34m=\u001b[0m \u001b[0mnp\u001b[0m\u001b[0;34m.\u001b[0m\u001b[0mmatmul\u001b[0m\u001b[0;34m(\u001b[0m\u001b[0mnp\u001b[0m\u001b[0;34m.\u001b[0m\u001b[0mmatmul\u001b[0m\u001b[0;34m(\u001b[0m\u001b[0mnp\u001b[0m\u001b[0;34m.\u001b[0m\u001b[0mdiag\u001b[0m\u001b[0;34m(\u001b[0m\u001b[0;36m1\u001b[0m \u001b[0;34m/\u001b[0m \u001b[0mden\u001b[0m\u001b[0;34m)\u001b[0m\u001b[0;34m,\u001b[0m \u001b[0mFCmodel\u001b[0m\u001b[0;34m)\u001b[0m\u001b[0;34m,\u001b[0m \u001b[0mnp\u001b[0m\u001b[0;34m.\u001b[0m\u001b[0mdiag\u001b[0m\u001b[0;34m(\u001b[0m\u001b[0;36m1\u001b[0m \u001b[0;34m/\u001b[0m \u001b[0mden\u001b[0m\u001b[0;34m)\u001b[0m\u001b[0;34m)\u001b[0m\u001b[0;34m\u001b[0m\u001b[0;34m\u001b[0m\u001b[0m\n\u001b[0;32m--> 108\u001b[0;31m     \u001b[0;32mreturn\u001b[0m \u001b[0mfrequency_response\u001b[0m\u001b[0;34m,\u001b[0m \u001b[0meigenvalues\u001b[0m\u001b[0;34m,\u001b[0m \u001b[0meigenvectors\u001b[0m\u001b[0;34m,\u001b[0m \u001b[0mmodel_out\u001b[0m\u001b[0;34m,\u001b[0m \u001b[0mFCmodel\u001b[0m\u001b[0;34m\u001b[0m\u001b[0;34m\u001b[0m\u001b[0m\n\u001b[0m\u001b[1;32m    109\u001b[0m \u001b[0;34m\u001b[0m\u001b[0m\n\u001b[1;32m    110\u001b[0m \u001b[0;34m\u001b[0m\u001b[0m\n",
      "\u001b[0;31mNameError\u001b[0m: name 'eigenvalues' is not defined"
     ]
    },
    {
     "data": {
      "text/plain": [
       "<Figure size 432x288 with 0 Axes>"
      ]
     },
     "metadata": {},
     "output_type": "display_data"
    }
   ],
   "source": [
    "%matplotlib inline\n",
    "# Plot out the frequency responses:\n",
    "plt.figure('Frequency Responses')\n",
    "\n",
    "# changing gei: \n",
    "default_params[\"gei\"] = 1\n",
    "freq_model, frequency_response, evec, Vvec = runforward.run_forward(\n",
    "HCP_brain, default_params, fvec\n",
    ")\n",
    "\n",
    "freq_HM, fr_HM, _, _, Htotal_out = runforward.run_HM_forward(\n",
    "HCP_brain, default_params, fvec\n",
    ")\n",
    "HM_region = freq_HM[0,:]\n",
    "plt.plot(fvec,np.transpose(np.abs(HM_region)), label = 'HM Gei=1')\n",
    "plot_region = freq_model[0,:]\n",
    "plt.plot(fvec,np.transpose(np.abs(plot_region)),label = 'Orig Gei=1');\n",
    "\n",
    "default_params[\"gei\"] = 2\n",
    "freq_model, frequency_response, evec, Vvec = runforward.run_forward(\n",
    "HCP_brain, default_params, fvec\n",
    ")\n",
    "freq_HM, fr_HM, _, _, Htotal_out = runforward.run_HM_forward(\n",
    "HCP_brain, default_params, fvec\n",
    ")\n",
    "HM_region = freq_HM[0,:]\n",
    "plot_region = freq_model[0,:]\n",
    "plt.plot(fvec,np.transpose(np.abs(plot_region)), label = 'Orig Gei=2');\n",
    "plt.plot(fvec,np.transpose(np.abs(HM_region)), label = 'HM Gei=2')\n",
    "plt.xlabel('Frequency')\n",
    "plt.ylabel('Magnitude')\n",
    "plt.gca().legend(loc = 'upper right')"
   ]
  },
  {
   "cell_type": "code",
   "execution_count": null,
   "metadata": {},
   "outputs": [],
   "source": [
    "freq_model.shape"
   ]
  },
  {
   "cell_type": "code",
   "execution_count": null,
   "metadata": {},
   "outputs": [],
   "source": [
    "frequency_response.shape"
   ]
  },
  {
   "cell_type": "code",
   "execution_count": null,
   "metadata": {},
   "outputs": [],
   "source": []
  }
 ],
 "metadata": {
  "kernelspec": {
   "display_name": "Python (Spectral)",
   "language": "python",
   "name": "spectral"
  },
  "language_info": {
   "codemirror_mode": {
    "name": "ipython",
    "version": 3
   },
   "file_extension": ".py",
   "mimetype": "text/x-python",
   "name": "python",
   "nbconvert_exporter": "python",
   "pygments_lexer": "ipython3",
   "version": "3.6.8"
  }
 },
 "nbformat": 4,
 "nbformat_minor": 2
}
