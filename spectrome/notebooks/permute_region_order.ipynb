{
 "cells": [
  {
   "cell_type": "markdown",
   "metadata": {},
   "source": [
    "## Notebook for permuting and double checking brain region orders"
   ]
  },
  {
   "cell_type": "code",
   "execution_count": 22,
   "metadata": {},
   "outputs": [],
   "source": [
    "from scipy.io import loadmat\n",
    "import numpy as np\n",
    "import pandas as pd\n",
    "import matplotlib.pyplot as plt\n",
    "import h5py\n",
    "import csv\n",
    "\n",
    "# Spectrome imports\n",
    "from spectrome.preprocess import permute\n",
    "from spectrome.utils import path"
   ]
  },
  {
   "cell_type": "markdown",
   "metadata": {},
   "source": [
    "Import `.mat` file and check shape, the mat file is important as a dictionary with keys as variable names"
   ]
  },
  {
   "cell_type": "code",
   "execution_count": 2,
   "metadata": {},
   "outputs": [
    {
     "data": {
      "text/plain": [
       "(82, 82)"
      ]
     },
     "execution_count": 2,
     "metadata": {},
     "output_type": "execute_result"
    }
   ],
   "source": [
    "Cdk82 = loadmat('/home/axiezai/lab/spectral/data/changcai_controls.mat')\n",
    "Cdk82['A_all_subjs_final'][:,:,0].shape"
   ]
  },
  {
   "cell_type": "markdown",
   "metadata": {},
   "source": [
    "Load region ordering.... sometimes txt file some times csv file T_T, need both target ordering and original ordering"
   ]
  },
  {
   "cell_type": "code",
   "execution_count": 3,
   "metadata": {},
   "outputs": [],
   "source": [
    "# Load the ordering for the 82 regions first\n",
    "julia_order_path = '/home/axiezai/lab/brain-scfc/regions_compare.xlsx'\n",
    "Cdk86_order_path = '/home/axiezai/lab/brain-scfc/dk_RLLR.csv'\n",
    "C82_order = pd.read_excel(julia_order_path, header = 0)\n",
    "C82_order = C82_order.loc[:,'Julia82'].dropna(axis = 0, how = 'any')\n",
    "# Of course the text doesn't match from people to people -________________-\n",
    "#ctx = 'ctx-'\n",
    "#for i in np.arange(0,82):\n",
    "    #text = C82_order[i][1:-1-1]\n",
    "    #C82_order[i] = ctx+text"
   ]
  },
  {
   "cell_type": "code",
   "execution_count": 4,
   "metadata": {},
   "outputs": [
    {
     "data": {
      "text/plain": [
       "0                     lh-bankssts\n",
       "1      lh-caudalanteriorcingulate\n",
       "2          lh-caudalmiddlefrontal\n",
       "3                       lh-cuneus\n",
       "4                   lh-entorhinal\n",
       "5                  lh-frontalpole\n",
       "6                     lh-fusiform\n",
       "7             lh-inferiorparietal\n",
       "8             lh-inferiortemporal\n",
       "9                       lh-insula\n",
       "10            lh-isthmuscingulate\n",
       "11            lh-lateraloccipital\n",
       "12        lh-lateralorbitofrontal\n",
       "13                     lh-lingual\n",
       "14         lh-medialorbitofrontal\n",
       "15              lh-middletemporal\n",
       "16                 lh-paracentral\n",
       "17             lh-parahippocampal\n",
       "18             lh-parsopercularis\n",
       "19               lh-parsorbitalis\n",
       "20            lh-parstriangularis\n",
       "21               lh-pericalcarine\n",
       "22                 lh-postcentral\n",
       "23          lh-posteriorcingulate\n",
       "24                  lh-precentral\n",
       "25                   lh-precuneus\n",
       "26    lh-rostralanteriorcingulate\n",
       "27        lh-rostralmiddlefrontal\n",
       "28             lh-superiorfrontal\n",
       "29            lh-superiorparietal\n",
       "                 ...             \n",
       "52            rh-lateraloccipital\n",
       "53        rh-lateralorbitofrontal\n",
       "54                     rh-lingual\n",
       "55         rh-medialorbitofrontal\n",
       "56              rh-middletemporal\n",
       "57                 rh-paracentral\n",
       "58             rh-parahippocampal\n",
       "59             rh-parsopercularis\n",
       "60               rh-parsorbitalis\n",
       "61            rh-parstriangularis\n",
       "62               rh-pericalcarine\n",
       "63                 rh-postcentral\n",
       "64          rh-posteriorcingulate\n",
       "65                  rh-precentral\n",
       "66                   rh-precuneus\n",
       "67    rh-rostralanteriorcingulate\n",
       "68        rh-rostralmiddlefrontal\n",
       "69             rh-superiorfrontal\n",
       "70            rh-superiorparietal\n",
       "71            rh-superiortemporal\n",
       "72               rh-supramarginal\n",
       "73                rh-temporalpole\n",
       "74          rh-transversetemporal\n",
       "75                   rh-accumbens\n",
       "76                    rh-amygdala\n",
       "77                     rh-caudate\n",
       "78                 rh-hippocampus\n",
       "79                    rh-pallidum\n",
       "80                     rh-putamen\n",
       "81              rh-thalamusproper\n",
       "Name: Julia82, Length: 82, dtype: object"
      ]
     },
     "execution_count": 4,
     "metadata": {},
     "output_type": "execute_result"
    }
   ],
   "source": [
    "C82_order"
   ]
  },
  {
   "cell_type": "code",
   "execution_count": 5,
   "metadata": {},
   "outputs": [
    {
     "data": {
      "text/plain": [
       "0                     rh-bankssts\n",
       "1      rh-caudalanteriorcingulate\n",
       "2          rh-caudalmiddlefrontal\n",
       "3                       rh-cuneus\n",
       "4                   rh-entorhinal\n",
       "5                     rh-fusiform\n",
       "6             rh-inferiorparietal\n",
       "7             rh-inferiortemporal\n",
       "8             rh-isthmuscingulate\n",
       "9             rh-lateraloccipital\n",
       "10        rh-lateralorbitofrontal\n",
       "11                     rh-lingual\n",
       "12         rh-medialorbitofrontal\n",
       "13              rh-middletemporal\n",
       "14             rh-parahippocampal\n",
       "15                 rh-paracentral\n",
       "16             rh-parsopercularis\n",
       "17               rh-parsorbitalis\n",
       "18            rh-parstriangularis\n",
       "19               rh-pericalcarine\n",
       "20                 rh-postcentral\n",
       "21          rh-posteriorcingulate\n",
       "22                  rh-precentral\n",
       "23                   rh-precuneus\n",
       "24    rh-rostralanteriorcingulate\n",
       "25        rh-rostralmiddlefrontal\n",
       "26             rh-superiorfrontal\n",
       "27            rh-superiorparietal\n",
       "28            rh-superiortemporal\n",
       "29               rh-supramarginal\n",
       "                 ...             \n",
       "56                  lh-precentral\n",
       "57                   lh-precuneus\n",
       "58    lh-rostralanteriorcingulate\n",
       "59        lh-rostralmiddlefrontal\n",
       "60             lh-superiorfrontal\n",
       "61            lh-superiorparietal\n",
       "62            lh-superiortemporal\n",
       "63               lh-supramarginal\n",
       "64                 lh-frontalpole\n",
       "65                lh-temporalpole\n",
       "66          lh-transversetemporal\n",
       "67                      lh-insula\n",
       "68            lh-cerebellumcortex\n",
       "69              lh-thalamusproper\n",
       "70                     lh-caudate\n",
       "71                     lh-putamen\n",
       "72                    lh-pallidum\n",
       "73                 lh-hippocampus\n",
       "74                    lh-amygdala\n",
       "75                   lh-accumbens\n",
       "76                   lh-ventraldc\n",
       "77            rh-cerebellumcortex\n",
       "78              rh-thalamusproper\n",
       "79                     rh-caudate\n",
       "80                     rh-putamen\n",
       "81                    rh-pallidum\n",
       "82                 rh-hippocampus\n",
       "83                    rh-amygdala\n",
       "84                   rh-accumbens\n",
       "85                   rh-ventraldc\n",
       "Name: DK86, Length: 86, dtype: object"
      ]
     },
     "execution_count": 5,
     "metadata": {},
     "output_type": "execute_result"
    }
   ],
   "source": [
    "Cdk86_order = pd.read_csv(Cdk86_order_path, header = 0)\n",
    "Cdk86_order['DK86']"
   ]
  },
  {
   "cell_type": "markdown",
   "metadata": {},
   "source": [
    "Change connectome data into Pandas Dataframe"
   ]
  },
  {
   "cell_type": "code",
   "execution_count": 6,
   "metadata": {},
   "outputs": [],
   "source": [
    "empty_cdk = np.zeros([86,86])\n",
    "Cdk86_df = pd.DataFrame(empty_cdk, index = Cdk86_order['DK86'],columns = Cdk86_order['DK86'])\n",
    "Cjulia82_df = pd.DataFrame(Cdk82['A_all_subjs_final'][:,:,0], index = C82_order, columns = C82_order)"
   ]
  },
  {
   "cell_type": "code",
   "execution_count": 7,
   "metadata": {},
   "outputs": [],
   "source": [
    "# restack Cjulia82_df to populate Cdk86\n",
    "Cjulia82_sdf = Cjulia82_df.stack()\n",
    "for index, data in Cjulia82_sdf.iteritems():\n",
    "    #Cdk86_df[index[0]][index[1]] = data\n",
    "    ctx_str1 = index[0]\n",
    "    ctx_str2 = index[1]\n",
    "    Cdk86_df[ctx_str1][ctx_str2] = data"
   ]
  },
  {
   "cell_type": "code",
   "execution_count": 14,
   "metadata": {},
   "outputs": [
    {
     "data": {
      "text/plain": [
       "(86, 86)"
      ]
     },
     "execution_count": 14,
     "metadata": {},
     "output_type": "execute_result"
    }
   ],
   "source": [
    "Cdk86_df.values.shape"
   ]
  },
  {
   "cell_type": "markdown",
   "metadata": {},
   "source": [
    "Convert all subject's connectivity matrices into 86x86"
   ]
  },
  {
   "cell_type": "code",
   "execution_count": 16,
   "metadata": {},
   "outputs": [],
   "source": [
    "n_subject = Cdk82['A_all_subjs_final'].shape[2]\n",
    "Cdk86_individual = np.zeros([86,86,n_subject])\n",
    "for i in np.arange(0,n_subject):\n",
    "    cJulia_82 = Cdk82['A_all_subjs_final'][:,:,i]\n",
    "    empty_cdk = np.zeros([86,86])\n",
    "    Cdk86_df = pd.DataFrame(empty_cdk, index = Cdk86_order['DK86'], columns = Cdk86_order['DK86'])\n",
    "    Cjulia82_df = pd.DataFrame(cJulia_82, index = C82_order, columns = C82_order)\n",
    "    # Stack Cjulia82_df so we can populate Cdk86_individual\n",
    "    Cjulia82_sdf = Cjulia82_df.stack()\n",
    "    for index, data in Cjulia82_sdf.iteritems():\n",
    "        Cdk86_df[index[0]][index[1]] = data\n",
    "        \n",
    "    Cdk86_individual[:,:,i] = Cdk86_df.values    "
   ]
  },
  {
   "cell_type": "code",
   "execution_count": 17,
   "metadata": {},
   "outputs": [
    {
     "data": {
      "text/plain": [
       "(86, 86, 39)"
      ]
     },
     "execution_count": 17,
     "metadata": {},
     "output_type": "execute_result"
    }
   ],
   "source": [
    "Cdk86_individual.shape"
   ]
  },
  {
   "cell_type": "code",
   "execution_count": 21,
   "metadata": {},
   "outputs": [
    {
     "data": {
      "text/plain": [
       "<matplotlib.colorbar.Colorbar at 0x7f85d8487080>"
      ]
     },
     "execution_count": 21,
     "metadata": {},
     "output_type": "execute_result"
    },
    {
     "data": {
      "image/png": "[encoded data removed]",
      "text/plain": [
       "<Figure size 432x288 with 2 Axes>"
      ]
     },
     "metadata": {
      "needs_background": "light"
     },
     "output_type": "display_data"
    }
   ],
   "source": [
    "plt.imshow(Cdk86_individual[:,:,0], cmap = plt.cm.Blues_r)\n",
    "plt.colorbar()"
   ]
  },
  {
   "cell_type": "markdown",
   "metadata": {},
   "source": [
    "Save the connectivity matrices as h5 files:"
   ]
  },
  {
   "cell_type": "code",
   "execution_count": 28,
   "metadata": {},
   "outputs": [],
   "source": [
    "# initialize h5 writing\n",
    "hf = h5py.File('/home/axiezai/lab/spectral/data/spectrome/CDK86_individual.h5','w')\n",
    "hf.create_dataset('CDK86_individual', data = Cdk86_individual)\n",
    "#hf.create_dataset('CDK86_order', data = Cdk86_order)\n",
    "hf.close()\n",
    "\n",
    "# to read the h5 file:\n",
    "# hf = h5py.File('CDK86_individual.h5', 'r')\n",
    "\n",
    "# to see what's in the dataset, call keys:\n",
    "# hf.keys()\n",
    "\n",
    "# grab the dataset with the get method:\n",
    "# cdk86_individual = hf.get('CDK86_individual')\n",
    "\n",
    "# convert the returned h5 object to numpy array:\n",
    "# cdk86_individual.array(cdk86_individual)\n",
    "# hf.close()"
   ]
  }
 ],
 "metadata": {
  "kernelspec": {
   "display_name": "Python (Spectral)",
   "language": "python",
   "name": "spectral"
  },
  "language_info": {
   "codemirror_mode": {
    "name": "ipython",
    "version": 3
   },
   "file_extension": ".py",
   "mimetype": "text/x-python",
   "name": "python",
   "nbconvert_exporter": "python",
   "pygments_lexer": "ipython3",
   "version": "3.6.8"
  }
 },
 "nbformat": 4,
 "nbformat_minor": 2
}
