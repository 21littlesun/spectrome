{
 "cells": [
  {
   "cell_type": "markdown",
   "metadata": {},
   "source": [
    "# 8. Setting up scripts to run MCMC \n",
    "\n",
    "This is just a notebook for testing various bits of functionality in the functions included in the SCFC functions, and for documenting what everything does. "
   ]
  },
  {
   "cell_type": "code",
   "execution_count": 1,
   "metadata": {
    "collapsed": true
   },
   "outputs": [],
   "source": [
    "datafile = '/Users/Megan/RajLab/BRAIN/SCFC-spectral-python/SCFC/data/downsampled_patients/freqMEGdata_8002-101.h5'"
   ]
  },
  {
   "cell_type": "markdown",
   "metadata": {},
   "source": [
    "OK, let's try to put together a functioning complete script to run MCMC in a parallel way, and then add in functionality.\n",
    "\n",
    "The script needs to include following steps:\n",
    "\n",
    "- import the necessary modules\n",
    "- load the patient data\n",
    "- include the parameters of the prior distributions (which can be altered) in the prior param_dict\n",
    "- create an instance of the Brain class on which the simulation can be run\n",
    "- set up a starting position for the sampler, and the sampler variables: number of walkers and run steps\n",
    "- set up the sampler object itself\n",
    "- run \n",
    "- save out the data\n",
    "\n",
    "Ideally, we want to build in functionality to run this in a parallelized way, and to save out data as we go. This script is in **scripts/runMCMC.py**.\n",
    "\n",
    "Import generic modules and the required parts of the SCFC:"
   ]
  },
  {
   "cell_type": "code",
   "execution_count": 20,
   "metadata": {},
   "outputs": [],
   "source": [
    "#generic modules\n",
    "import sys, os\n",
    "sys.path.append(\"..\")\n",
    "import matplotlib.pyplot as mpl\n",
    "%matplotlib inline\n",
    "from scipy.io import loadmat\n",
    "import numpy as np\n",
    "import emcee\n",
    "from multiprocessing import Pool"
   ]
  },
  {
   "cell_type": "code",
   "execution_count": 9,
   "metadata": {
    "collapsed": true
   },
   "outputs": [],
   "source": [
    "from utils import path \n",
    "from brain import Brain"
   ]
  },
  {
   "cell_type": "markdown",
   "metadata": {},
   "source": [
    "Import the data"
   ]
  },
  {
   "cell_type": "code",
   "execution_count": 8,
   "metadata": {},
   "outputs": [],
   "source": [
    "FMEGdownsample = path.read_hdf5(datafile)"
   ]
  },
  {
   "cell_type": "markdown",
   "metadata": {},
   "source": [
    "Create an instance of Brain class, and set up the correct corresponding frequency vector."
   ]
  },
  {
   "cell_type": "code",
   "execution_count": 10,
   "metadata": {
    "collapsed": true
   },
   "outputs": [],
   "source": [
    "fmin = 2 # 2Hz - 45Hz signal range\n",
    "fmax = 45\n",
    "fvec = np.linspace(fmin,fmax,40)"
   ]
  },
  {
   "cell_type": "code",
   "execution_count": 12,
   "metadata": {},
   "outputs": [],
   "source": [
    "thisbrain = Brain.Brain()\n",
    "hcp_dir = path.get_sibling_path('data') # connectome information is in /data/ dir\n",
    "thisbrain.add_connectome(hcp_dir) # Use default files in /data/\n",
    "thisbrain.reorder_connectome(thisbrain.connectome, thisbrain.distance_matrix)\n",
    "thisbrain.bi_symmetric_c()\n",
    "thisbrain.reduce_extreme_dir()"
   ]
  },
  {
   "cell_type": "markdown",
   "metadata": {},
   "source": [
    "Set up a starting array of the parameters. Remember they are ordered according to the list in 'debug-MCMC' and 'prior-distributions': \n",
    "\n",
    "- tau_e\n",
    "- tau_i\n",
    "- alpha\n",
    "- speed\n",
    "- gei\n",
    "- gii\n",
    "- tauC\n",
    "\n",
    "These starting positions are at the discretion of the user. Here, I used fitted simulated annealing parameters for one of the patients from the healthy cohort, but deliberately set the time constant parameters to be very high so that a burn-in period can be observed."
   ]
  },
  {
   "cell_type": "code",
   "execution_count": 13,
   "metadata": {
    "collapsed": true
   },
   "outputs": [],
   "source": [
    "param_start = [0.2,\n",
    " 0.2,\n",
    " 0.9670233044667013,\n",
    " 14.479055812222878,\n",
    " 3.9552727546221096,\n",
    " 1.7950301129315296,\n",
    " 0.2]"
   ]
  },
  {
   "cell_type": "markdown",
   "metadata": {},
   "source": [
    "Set up the number of dimensions and number of walkers (nwalkers is a variable that needs to be adjusted to optimise MCMC).\n",
    "\n",
    "Set up a starting position in the 7-dimensional space."
   ]
  },
  {
   "cell_type": "code",
   "execution_count": 14,
   "metadata": {
    "collapsed": true
   },
   "outputs": [],
   "source": [
    "ndim, nwalkers = 7, 20"
   ]
  },
  {
   "cell_type": "code",
   "execution_count": 15,
   "metadata": {
    "collapsed": true
   },
   "outputs": [],
   "source": [
    "pos = [np.transpose(param_start) + 0.5e-3*np.random.randn(ndim) for i in range(nwalkers)] #starting position in parameter space."
   ]
  },
  {
   "cell_type": "markdown",
   "metadata": {},
   "source": [
    "Set up the parallelizer pool. "
   ]
  },
  {
   "cell_type": "code",
   "execution_count": null,
   "metadata": {
    "collapsed": true
   },
   "outputs": [],
   "source": []
  }
 ],
 "metadata": {
  "kernelspec": {
   "display_name": "Python 3",
   "language": "python",
   "name": "python3"
  },
  "language_info": {
   "codemirror_mode": {
    "name": "ipython",
    "version": 3
   },
   "file_extension": ".py",
   "mimetype": "text/x-python",
   "name": "python",
   "nbconvert_exporter": "python",
   "pygments_lexer": "ipython3",
   "version": "3.6.5"
  }
 },
 "nbformat": 4,
 "nbformat_minor": 2
}
